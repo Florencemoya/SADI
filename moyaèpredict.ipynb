{
 "cells": [
  {
   "cell_type": "markdown",
   "id": "7267ebc0",
   "metadata": {},
   "source": [
    "# Importing Libraries and Dataste"
   ]
  },
  {
   "cell_type": "code",
   "execution_count": 1,
   "id": "50ebbdee",
   "metadata": {},
   "outputs": [],
   "source": [
    "# Importing libraries\n",
    "import pandas as pd\n",
    "import numpy as np\n",
    "import matplotlib.pyplot as plt\n",
    "from sklearn.linear_model import LogisticRegression\n",
    "from sklearn.metrics import accuracy_score, confusion_matrix, recall_score, precision_score, f1_score\n",
    "from sklearn.model_selection import train_test_split\n",
    "import seaborn as sns\n",
    "from sklearn.tree import DecisionTreeClassifier\n",
    "from sklearn.ensemble import GradientBoostingClassifier\n",
    "from sklearn.model_selection import KFold\n",
    "from sklearn.preprocessing import LabelEncoder\n",
    "from sklearn import metrics\n",
    "from sklearn.svm import SVC\n",
    "from IPython.display import display\n",
    "from imblearn.over_sampling import SMOTE\n",
    "from collections import Counter"
   ]
  },
  {
   "cell_type": "code",
   "execution_count": 2,
   "id": "ce428501",
   "metadata": {},
   "outputs": [],
   "source": [
    "# Importing dataset\n",
    "df = pd.read_excel(\"dataset.xlsx\")"
   ]
  },
  {
   "cell_type": "code",
   "execution_count": 3,
   "id": "927f630f",
   "metadata": {},
   "outputs": [
    {
     "data": {
      "text/html": [
       "<div>\n",
       "<style scoped>\n",
       "    .dataframe tbody tr th:only-of-type {\n",
       "        vertical-align: middle;\n",
       "    }\n",
       "\n",
       "    .dataframe tbody tr th {\n",
       "        vertical-align: top;\n",
       "    }\n",
       "\n",
       "    .dataframe thead th {\n",
       "        text-align: right;\n",
       "    }\n",
       "</style>\n",
       "<table border=\"1\" class=\"dataframe\">\n",
       "  <thead>\n",
       "    <tr style=\"text-align: right;\">\n",
       "      <th></th>\n",
       "      <th>Sexe</th>\n",
       "      <th>Decision</th>\n",
       "      <th>Age</th>\n",
       "      <th>Etio</th>\n",
       "      <th>CV</th>\n",
       "      <th>Esterman</th>\n",
       "      <th>ST</th>\n",
       "      <th>DT_centrale</th>\n",
       "      <th>DT_laterales</th>\n",
       "      <th>DT_quadsupg</th>\n",
       "      <th>...</th>\n",
       "      <th>DT_dis_quadsupd</th>\n",
       "      <th>DT_dis_quadinfg</th>\n",
       "      <th>DT_dis_quadinfd</th>\n",
       "      <th>DT_dis_Gauche</th>\n",
       "      <th>DT_dis_Droite</th>\n",
       "      <th>Resultat ST</th>\n",
       "      <th>Resultat DT Central</th>\n",
       "      <th>Résultat DT latéral</th>\n",
       "      <th>Resultat Dis_Centrale</th>\n",
       "      <th>Resultat dis_laterales</th>\n",
       "    </tr>\n",
       "  </thead>\n",
       "  <tbody>\n",
       "    <tr>\n",
       "      <th>0</th>\n",
       "      <td>F</td>\n",
       "      <td>Non</td>\n",
       "      <td>33</td>\n",
       "      <td>Vas</td>\n",
       "      <td>HLH_D</td>\n",
       "      <td>45</td>\n",
       "      <td>0</td>\n",
       "      <td>3</td>\n",
       "      <td>36</td>\n",
       "      <td>3</td>\n",
       "      <td>...</td>\n",
       "      <td>12</td>\n",
       "      <td>10</td>\n",
       "      <td>17.0</td>\n",
       "      <td>20</td>\n",
       "      <td>29</td>\n",
       "      <td>1</td>\n",
       "      <td>1</td>\n",
       "      <td>0</td>\n",
       "      <td>1</td>\n",
       "      <td>0</td>\n",
       "    </tr>\n",
       "    <tr>\n",
       "      <th>1</th>\n",
       "      <td>F</td>\n",
       "      <td>Oui</td>\n",
       "      <td>40</td>\n",
       "      <td>Vas</td>\n",
       "      <td>HLH_D</td>\n",
       "      <td>48</td>\n",
       "      <td>1</td>\n",
       "      <td>3</td>\n",
       "      <td>2</td>\n",
       "      <td>0</td>\n",
       "      <td>...</td>\n",
       "      <td>2</td>\n",
       "      <td>4</td>\n",
       "      <td>5.0</td>\n",
       "      <td>5</td>\n",
       "      <td>7</td>\n",
       "      <td>1</td>\n",
       "      <td>1</td>\n",
       "      <td>1</td>\n",
       "      <td>0</td>\n",
       "      <td>1</td>\n",
       "    </tr>\n",
       "    <tr>\n",
       "      <th>2</th>\n",
       "      <td>H</td>\n",
       "      <td>Simulateur</td>\n",
       "      <td>52</td>\n",
       "      <td>Tum</td>\n",
       "      <td>HLH_D</td>\n",
       "      <td>42</td>\n",
       "      <td>0</td>\n",
       "      <td>3</td>\n",
       "      <td>14</td>\n",
       "      <td>1</td>\n",
       "      <td>...</td>\n",
       "      <td>3</td>\n",
       "      <td>5</td>\n",
       "      <td>10.0</td>\n",
       "      <td>8</td>\n",
       "      <td>13</td>\n",
       "      <td>1</td>\n",
       "      <td>1</td>\n",
       "      <td>0</td>\n",
       "      <td>1</td>\n",
       "      <td>0</td>\n",
       "    </tr>\n",
       "    <tr>\n",
       "      <th>3</th>\n",
       "      <td>H</td>\n",
       "      <td>Non</td>\n",
       "      <td>37</td>\n",
       "      <td>Vas</td>\n",
       "      <td>HLH_D</td>\n",
       "      <td>40</td>\n",
       "      <td>1</td>\n",
       "      <td>1</td>\n",
       "      <td>19</td>\n",
       "      <td>1</td>\n",
       "      <td>...</td>\n",
       "      <td>11</td>\n",
       "      <td>6</td>\n",
       "      <td>10.0</td>\n",
       "      <td>8</td>\n",
       "      <td>21</td>\n",
       "      <td>1</td>\n",
       "      <td>1</td>\n",
       "      <td>0</td>\n",
       "      <td>1</td>\n",
       "      <td>0</td>\n",
       "    </tr>\n",
       "    <tr>\n",
       "      <th>4</th>\n",
       "      <td>H</td>\n",
       "      <td>Non</td>\n",
       "      <td>39</td>\n",
       "      <td>TC</td>\n",
       "      <td>HLH_G</td>\n",
       "      <td>47</td>\n",
       "      <td>0</td>\n",
       "      <td>1</td>\n",
       "      <td>23</td>\n",
       "      <td>13</td>\n",
       "      <td>...</td>\n",
       "      <td>1</td>\n",
       "      <td>10</td>\n",
       "      <td>1.0</td>\n",
       "      <td>17</td>\n",
       "      <td>2</td>\n",
       "      <td>1</td>\n",
       "      <td>1</td>\n",
       "      <td>0</td>\n",
       "      <td>1</td>\n",
       "      <td>0</td>\n",
       "    </tr>\n",
       "    <tr>\n",
       "      <th>...</th>\n",
       "      <td>...</td>\n",
       "      <td>...</td>\n",
       "      <td>...</td>\n",
       "      <td>...</td>\n",
       "      <td>...</td>\n",
       "      <td>...</td>\n",
       "      <td>...</td>\n",
       "      <td>...</td>\n",
       "      <td>...</td>\n",
       "      <td>...</td>\n",
       "      <td>...</td>\n",
       "      <td>...</td>\n",
       "      <td>...</td>\n",
       "      <td>...</td>\n",
       "      <td>...</td>\n",
       "      <td>...</td>\n",
       "      <td>...</td>\n",
       "      <td>...</td>\n",
       "      <td>...</td>\n",
       "      <td>...</td>\n",
       "      <td>...</td>\n",
       "    </tr>\n",
       "    <tr>\n",
       "      <th>249</th>\n",
       "      <td>H</td>\n",
       "      <td>Oui</td>\n",
       "      <td>55</td>\n",
       "      <td>Vas</td>\n",
       "      <td>Scotome_D</td>\n",
       "      <td>1</td>\n",
       "      <td>1</td>\n",
       "      <td>4</td>\n",
       "      <td>1</td>\n",
       "      <td>1</td>\n",
       "      <td>...</td>\n",
       "      <td>0</td>\n",
       "      <td>1</td>\n",
       "      <td>1.0</td>\n",
       "      <td>1</td>\n",
       "      <td>1</td>\n",
       "      <td>1</td>\n",
       "      <td>1</td>\n",
       "      <td>1</td>\n",
       "      <td>1</td>\n",
       "      <td>1</td>\n",
       "    </tr>\n",
       "    <tr>\n",
       "      <th>250</th>\n",
       "      <td>F</td>\n",
       "      <td>Non</td>\n",
       "      <td>66</td>\n",
       "      <td>Tum</td>\n",
       "      <td>Scotome_G</td>\n",
       "      <td>0</td>\n",
       "      <td>0</td>\n",
       "      <td>1</td>\n",
       "      <td>3</td>\n",
       "      <td>1</td>\n",
       "      <td>...</td>\n",
       "      <td>4</td>\n",
       "      <td>6</td>\n",
       "      <td>6.0</td>\n",
       "      <td>10</td>\n",
       "      <td>10</td>\n",
       "      <td>1</td>\n",
       "      <td>1</td>\n",
       "      <td>1</td>\n",
       "      <td>1</td>\n",
       "      <td>0</td>\n",
       "    </tr>\n",
       "    <tr>\n",
       "      <th>251</th>\n",
       "      <td>H</td>\n",
       "      <td>Oui</td>\n",
       "      <td>46</td>\n",
       "      <td>Vas</td>\n",
       "      <td>Scotome_G</td>\n",
       "      <td>1</td>\n",
       "      <td>0</td>\n",
       "      <td>2</td>\n",
       "      <td>3</td>\n",
       "      <td>2</td>\n",
       "      <td>...</td>\n",
       "      <td>0</td>\n",
       "      <td>1</td>\n",
       "      <td>0.0</td>\n",
       "      <td>2</td>\n",
       "      <td>0</td>\n",
       "      <td>1</td>\n",
       "      <td>1</td>\n",
       "      <td>1</td>\n",
       "      <td>1</td>\n",
       "      <td>1</td>\n",
       "    </tr>\n",
       "    <tr>\n",
       "      <th>252</th>\n",
       "      <td>F</td>\n",
       "      <td>Non</td>\n",
       "      <td>63</td>\n",
       "      <td>Vas</td>\n",
       "      <td>Scotome_G</td>\n",
       "      <td>27</td>\n",
       "      <td>1</td>\n",
       "      <td>2</td>\n",
       "      <td>8</td>\n",
       "      <td>8</td>\n",
       "      <td>...</td>\n",
       "      <td>1</td>\n",
       "      <td>4</td>\n",
       "      <td>3.0</td>\n",
       "      <td>9</td>\n",
       "      <td>4</td>\n",
       "      <td>1</td>\n",
       "      <td>1</td>\n",
       "      <td>0</td>\n",
       "      <td>1</td>\n",
       "      <td>0</td>\n",
       "    </tr>\n",
       "    <tr>\n",
       "      <th>253</th>\n",
       "      <td>H</td>\n",
       "      <td>Non</td>\n",
       "      <td>58</td>\n",
       "      <td>Vas</td>\n",
       "      <td>Scotome_G</td>\n",
       "      <td>15</td>\n",
       "      <td>5</td>\n",
       "      <td>19</td>\n",
       "      <td>16</td>\n",
       "      <td>6</td>\n",
       "      <td>...</td>\n",
       "      <td>2</td>\n",
       "      <td>3</td>\n",
       "      <td>5.0</td>\n",
       "      <td>15</td>\n",
       "      <td>7</td>\n",
       "      <td>0</td>\n",
       "      <td>0</td>\n",
       "      <td>0</td>\n",
       "      <td>0</td>\n",
       "      <td>0</td>\n",
       "    </tr>\n",
       "  </tbody>\n",
       "</table>\n",
       "<p>254 rows × 28 columns</p>\n",
       "</div>"
      ],
      "text/plain": [
       "    Sexe    Decision  Age Etio         CV  Esterman  ST  DT_centrale  \\\n",
       "0      F         Non   33  Vas      HLH_D        45   0            3   \n",
       "1      F         Oui   40  Vas      HLH_D        48   1            3   \n",
       "2      H  Simulateur   52  Tum      HLH_D        42   0            3   \n",
       "3      H         Non   37  Vas      HLH_D        40   1            1   \n",
       "4      H         Non   39   TC      HLH_G        47   0            1   \n",
       "..   ...         ...  ...  ...        ...       ...  ..          ...   \n",
       "249    H         Oui   55  Vas  Scotome_D         1   1            4   \n",
       "250    F         Non   66  Tum  Scotome_G         0   0            1   \n",
       "251    H         Oui   46  Vas  Scotome_G         1   0            2   \n",
       "252    F         Non   63  Vas  Scotome_G        27   1            2   \n",
       "253    H         Non   58  Vas  Scotome_G        15   5           19   \n",
       "\n",
       "     DT_laterales  DT_quadsupg  ...  DT_dis_quadsupd  DT_dis_quadinfg  \\\n",
       "0              36            3  ...               12               10   \n",
       "1               2            0  ...                2                4   \n",
       "2              14            1  ...                3                5   \n",
       "3              19            1  ...               11                6   \n",
       "4              23           13  ...                1               10   \n",
       "..            ...          ...  ...              ...              ...   \n",
       "249             1            1  ...                0                1   \n",
       "250             3            1  ...                4                6   \n",
       "251             3            2  ...                0                1   \n",
       "252             8            8  ...                1                4   \n",
       "253            16            6  ...                2                3   \n",
       "\n",
       "     DT_dis_quadinfd  DT_dis_Gauche  DT_dis_Droite  Resultat ST  \\\n",
       "0               17.0             20             29            1   \n",
       "1                5.0              5              7            1   \n",
       "2               10.0              8             13            1   \n",
       "3               10.0              8             21            1   \n",
       "4                1.0             17              2            1   \n",
       "..               ...            ...            ...          ...   \n",
       "249              1.0              1              1            1   \n",
       "250              6.0             10             10            1   \n",
       "251              0.0              2              0            1   \n",
       "252              3.0              9              4            1   \n",
       "253              5.0             15              7            0   \n",
       "\n",
       "     Resultat DT Central  Résultat DT latéral  Resultat Dis_Centrale  \\\n",
       "0                      1                    0                      1   \n",
       "1                      1                    1                      0   \n",
       "2                      1                    0                      1   \n",
       "3                      1                    0                      1   \n",
       "4                      1                    0                      1   \n",
       "..                   ...                  ...                    ...   \n",
       "249                    1                    1                      1   \n",
       "250                    1                    1                      1   \n",
       "251                    1                    1                      1   \n",
       "252                    1                    0                      1   \n",
       "253                    0                    0                      0   \n",
       "\n",
       "     Resultat dis_laterales  \n",
       "0                         0  \n",
       "1                         1  \n",
       "2                         0  \n",
       "3                         0  \n",
       "4                         0  \n",
       "..                      ...  \n",
       "249                       1  \n",
       "250                       0  \n",
       "251                       1  \n",
       "252                       0  \n",
       "253                       0  \n",
       "\n",
       "[254 rows x 28 columns]"
      ]
     },
     "execution_count": 3,
     "metadata": {},
     "output_type": "execute_result"
    }
   ],
   "source": [
    "df"
   ]
  },
  {
   "cell_type": "code",
   "execution_count": 4,
   "id": "2ce03389",
   "metadata": {},
   "outputs": [
    {
     "data": {
      "text/plain": [
       "Index(['Sexe', 'Decision', 'Age', 'Etio', 'CV', 'Esterman', 'ST',\n",
       "       'DT_centrale', 'DT_laterales', 'DT_quadsupg', 'DT_quadsupd',\n",
       "       'DT_quadinfg', 'DT_quadinfd', 'DT_Gauche', 'DT_Droite',\n",
       "       'DT_dis_Centrale', 'DT_dis_laterales', 'DT_dis_quadsupg',\n",
       "       'DT_dis_quadsupd', 'DT_dis_quadinfg', 'DT_dis_quadinfd',\n",
       "       'DT_dis_Gauche', 'DT_dis_Droite', 'Resultat ST', 'Resultat DT Central',\n",
       "       'Résultat DT latéral', 'Resultat Dis_Centrale',\n",
       "       'Resultat dis_laterales'],\n",
       "      dtype='object')"
      ]
     },
     "execution_count": 4,
     "metadata": {},
     "output_type": "execute_result"
    }
   ],
   "source": [
    "df.columns"
   ]
  },
  {
   "cell_type": "markdown",
   "id": "1087b75f",
   "metadata": {},
   "source": [
    "# Data Pre-processing"
   ]
  },
  {
   "cell_type": "code",
   "execution_count": 5,
   "id": "fcba8aa5",
   "metadata": {},
   "outputs": [
    {
     "data": {
      "text/html": [
       "<div>\n",
       "<style scoped>\n",
       "    .dataframe tbody tr th:only-of-type {\n",
       "        vertical-align: middle;\n",
       "    }\n",
       "\n",
       "    .dataframe tbody tr th {\n",
       "        vertical-align: top;\n",
       "    }\n",
       "\n",
       "    .dataframe thead th {\n",
       "        text-align: right;\n",
       "    }\n",
       "</style>\n",
       "<table border=\"1\" class=\"dataframe\">\n",
       "  <thead>\n",
       "    <tr style=\"text-align: right;\">\n",
       "      <th></th>\n",
       "      <th>Age</th>\n",
       "      <th>Esterman</th>\n",
       "      <th>ST</th>\n",
       "      <th>DT_centrale</th>\n",
       "      <th>DT_laterales</th>\n",
       "      <th>DT_quadsupg</th>\n",
       "      <th>DT_quadsupd</th>\n",
       "      <th>DT_quadinfg</th>\n",
       "      <th>DT_quadinfd</th>\n",
       "      <th>DT_Gauche</th>\n",
       "      <th>...</th>\n",
       "      <th>DT_dis_quadsupd</th>\n",
       "      <th>DT_dis_quadinfg</th>\n",
       "      <th>DT_dis_quadinfd</th>\n",
       "      <th>DT_dis_Gauche</th>\n",
       "      <th>DT_dis_Droite</th>\n",
       "      <th>Resultat ST</th>\n",
       "      <th>Resultat DT Central</th>\n",
       "      <th>Résultat DT latéral</th>\n",
       "      <th>Resultat Dis_Centrale</th>\n",
       "      <th>Resultat dis_laterales</th>\n",
       "    </tr>\n",
       "  </thead>\n",
       "  <tbody>\n",
       "    <tr>\n",
       "      <th>count</th>\n",
       "      <td>254.000000</td>\n",
       "      <td>254.000000</td>\n",
       "      <td>254.000000</td>\n",
       "      <td>254.000000</td>\n",
       "      <td>254.000000</td>\n",
       "      <td>254.000000</td>\n",
       "      <td>254.000000</td>\n",
       "      <td>254.000000</td>\n",
       "      <td>254.000000</td>\n",
       "      <td>254.000000</td>\n",
       "      <td>...</td>\n",
       "      <td>254.000000</td>\n",
       "      <td>254.000000</td>\n",
       "      <td>253.000000</td>\n",
       "      <td>254.000000</td>\n",
       "      <td>254.000000</td>\n",
       "      <td>254.000000</td>\n",
       "      <td>254.000000</td>\n",
       "      <td>254.000000</td>\n",
       "      <td>254.000000</td>\n",
       "      <td>254.000000</td>\n",
       "    </tr>\n",
       "    <tr>\n",
       "      <th>mean</th>\n",
       "      <td>50.031496</td>\n",
       "      <td>13.854331</td>\n",
       "      <td>0.688976</td>\n",
       "      <td>4.039370</td>\n",
       "      <td>10.023622</td>\n",
       "      <td>2.649606</td>\n",
       "      <td>2.488189</td>\n",
       "      <td>2.492126</td>\n",
       "      <td>2.330709</td>\n",
       "      <td>5.141732</td>\n",
       "      <td>...</td>\n",
       "      <td>4.318898</td>\n",
       "      <td>5.173228</td>\n",
       "      <td>5.102767</td>\n",
       "      <td>9.842520</td>\n",
       "      <td>9.401575</td>\n",
       "      <td>0.944882</td>\n",
       "      <td>0.913386</td>\n",
       "      <td>0.535433</td>\n",
       "      <td>0.783465</td>\n",
       "      <td>0.460630</td>\n",
       "    </tr>\n",
       "    <tr>\n",
       "      <th>std</th>\n",
       "      <td>15.629068</td>\n",
       "      <td>15.932864</td>\n",
       "      <td>0.941845</td>\n",
       "      <td>3.655959</td>\n",
       "      <td>10.472599</td>\n",
       "      <td>4.010764</td>\n",
       "      <td>3.704214</td>\n",
       "      <td>4.198383</td>\n",
       "      <td>4.349467</td>\n",
       "      <td>7.232693</td>\n",
       "      <td>...</td>\n",
       "      <td>4.428246</td>\n",
       "      <td>4.584894</td>\n",
       "      <td>5.041624</td>\n",
       "      <td>8.450671</td>\n",
       "      <td>8.665282</td>\n",
       "      <td>0.228661</td>\n",
       "      <td>0.281824</td>\n",
       "      <td>0.499728</td>\n",
       "      <td>0.412696</td>\n",
       "      <td>0.499432</td>\n",
       "    </tr>\n",
       "    <tr>\n",
       "      <th>min</th>\n",
       "      <td>18.000000</td>\n",
       "      <td>0.000000</td>\n",
       "      <td>0.000000</td>\n",
       "      <td>0.000000</td>\n",
       "      <td>0.000000</td>\n",
       "      <td>0.000000</td>\n",
       "      <td>0.000000</td>\n",
       "      <td>0.000000</td>\n",
       "      <td>0.000000</td>\n",
       "      <td>0.000000</td>\n",
       "      <td>...</td>\n",
       "      <td>0.000000</td>\n",
       "      <td>0.000000</td>\n",
       "      <td>0.000000</td>\n",
       "      <td>0.000000</td>\n",
       "      <td>0.000000</td>\n",
       "      <td>0.000000</td>\n",
       "      <td>0.000000</td>\n",
       "      <td>0.000000</td>\n",
       "      <td>0.000000</td>\n",
       "      <td>0.000000</td>\n",
       "    </tr>\n",
       "    <tr>\n",
       "      <th>25%</th>\n",
       "      <td>38.000000</td>\n",
       "      <td>1.000000</td>\n",
       "      <td>0.000000</td>\n",
       "      <td>2.000000</td>\n",
       "      <td>2.000000</td>\n",
       "      <td>0.000000</td>\n",
       "      <td>0.000000</td>\n",
       "      <td>0.000000</td>\n",
       "      <td>0.000000</td>\n",
       "      <td>1.000000</td>\n",
       "      <td>...</td>\n",
       "      <td>1.000000</td>\n",
       "      <td>2.000000</td>\n",
       "      <td>1.000000</td>\n",
       "      <td>3.000000</td>\n",
       "      <td>2.000000</td>\n",
       "      <td>1.000000</td>\n",
       "      <td>1.000000</td>\n",
       "      <td>0.000000</td>\n",
       "      <td>1.000000</td>\n",
       "      <td>0.000000</td>\n",
       "    </tr>\n",
       "    <tr>\n",
       "      <th>50%</th>\n",
       "      <td>50.000000</td>\n",
       "      <td>8.000000</td>\n",
       "      <td>0.000000</td>\n",
       "      <td>3.000000</td>\n",
       "      <td>6.500000</td>\n",
       "      <td>1.000000</td>\n",
       "      <td>1.000000</td>\n",
       "      <td>1.000000</td>\n",
       "      <td>0.000000</td>\n",
       "      <td>2.500000</td>\n",
       "      <td>...</td>\n",
       "      <td>2.500000</td>\n",
       "      <td>4.000000</td>\n",
       "      <td>3.000000</td>\n",
       "      <td>7.000000</td>\n",
       "      <td>7.000000</td>\n",
       "      <td>1.000000</td>\n",
       "      <td>1.000000</td>\n",
       "      <td>1.000000</td>\n",
       "      <td>1.000000</td>\n",
       "      <td>0.000000</td>\n",
       "    </tr>\n",
       "    <tr>\n",
       "      <th>75%</th>\n",
       "      <td>62.000000</td>\n",
       "      <td>23.000000</td>\n",
       "      <td>1.000000</td>\n",
       "      <td>5.000000</td>\n",
       "      <td>14.000000</td>\n",
       "      <td>3.000000</td>\n",
       "      <td>3.000000</td>\n",
       "      <td>3.000000</td>\n",
       "      <td>2.000000</td>\n",
       "      <td>6.000000</td>\n",
       "      <td>...</td>\n",
       "      <td>7.000000</td>\n",
       "      <td>8.000000</td>\n",
       "      <td>8.000000</td>\n",
       "      <td>16.000000</td>\n",
       "      <td>14.000000</td>\n",
       "      <td>1.000000</td>\n",
       "      <td>1.000000</td>\n",
       "      <td>1.000000</td>\n",
       "      <td>1.000000</td>\n",
       "      <td>1.000000</td>\n",
       "    </tr>\n",
       "    <tr>\n",
       "      <th>max</th>\n",
       "      <td>85.000000</td>\n",
       "      <td>71.000000</td>\n",
       "      <td>5.000000</td>\n",
       "      <td>23.000000</td>\n",
       "      <td>52.000000</td>\n",
       "      <td>18.000000</td>\n",
       "      <td>17.000000</td>\n",
       "      <td>18.000000</td>\n",
       "      <td>18.000000</td>\n",
       "      <td>36.000000</td>\n",
       "      <td>...</td>\n",
       "      <td>18.000000</td>\n",
       "      <td>18.000000</td>\n",
       "      <td>18.000000</td>\n",
       "      <td>36.000000</td>\n",
       "      <td>36.000000</td>\n",
       "      <td>1.000000</td>\n",
       "      <td>1.000000</td>\n",
       "      <td>1.000000</td>\n",
       "      <td>1.000000</td>\n",
       "      <td>1.000000</td>\n",
       "    </tr>\n",
       "  </tbody>\n",
       "</table>\n",
       "<p>8 rows × 24 columns</p>\n",
       "</div>"
      ],
      "text/plain": [
       "              Age    Esterman          ST  DT_centrale  DT_laterales  \\\n",
       "count  254.000000  254.000000  254.000000   254.000000    254.000000   \n",
       "mean    50.031496   13.854331    0.688976     4.039370     10.023622   \n",
       "std     15.629068   15.932864    0.941845     3.655959     10.472599   \n",
       "min     18.000000    0.000000    0.000000     0.000000      0.000000   \n",
       "25%     38.000000    1.000000    0.000000     2.000000      2.000000   \n",
       "50%     50.000000    8.000000    0.000000     3.000000      6.500000   \n",
       "75%     62.000000   23.000000    1.000000     5.000000     14.000000   \n",
       "max     85.000000   71.000000    5.000000    23.000000     52.000000   \n",
       "\n",
       "       DT_quadsupg  DT_quadsupd  DT_quadinfg  DT_quadinfd   DT_Gauche  ...  \\\n",
       "count   254.000000   254.000000   254.000000   254.000000  254.000000  ...   \n",
       "mean      2.649606     2.488189     2.492126     2.330709    5.141732  ...   \n",
       "std       4.010764     3.704214     4.198383     4.349467    7.232693  ...   \n",
       "min       0.000000     0.000000     0.000000     0.000000    0.000000  ...   \n",
       "25%       0.000000     0.000000     0.000000     0.000000    1.000000  ...   \n",
       "50%       1.000000     1.000000     1.000000     0.000000    2.500000  ...   \n",
       "75%       3.000000     3.000000     3.000000     2.000000    6.000000  ...   \n",
       "max      18.000000    17.000000    18.000000    18.000000   36.000000  ...   \n",
       "\n",
       "       DT_dis_quadsupd  DT_dis_quadinfg  DT_dis_quadinfd  DT_dis_Gauche  \\\n",
       "count       254.000000       254.000000       253.000000     254.000000   \n",
       "mean          4.318898         5.173228         5.102767       9.842520   \n",
       "std           4.428246         4.584894         5.041624       8.450671   \n",
       "min           0.000000         0.000000         0.000000       0.000000   \n",
       "25%           1.000000         2.000000         1.000000       3.000000   \n",
       "50%           2.500000         4.000000         3.000000       7.000000   \n",
       "75%           7.000000         8.000000         8.000000      16.000000   \n",
       "max          18.000000        18.000000        18.000000      36.000000   \n",
       "\n",
       "       DT_dis_Droite  Resultat ST  Resultat DT Central  Résultat DT latéral  \\\n",
       "count     254.000000   254.000000           254.000000           254.000000   \n",
       "mean        9.401575     0.944882             0.913386             0.535433   \n",
       "std         8.665282     0.228661             0.281824             0.499728   \n",
       "min         0.000000     0.000000             0.000000             0.000000   \n",
       "25%         2.000000     1.000000             1.000000             0.000000   \n",
       "50%         7.000000     1.000000             1.000000             1.000000   \n",
       "75%        14.000000     1.000000             1.000000             1.000000   \n",
       "max        36.000000     1.000000             1.000000             1.000000   \n",
       "\n",
       "       Resultat Dis_Centrale  Resultat dis_laterales  \n",
       "count             254.000000              254.000000  \n",
       "mean                0.783465                0.460630  \n",
       "std                 0.412696                0.499432  \n",
       "min                 0.000000                0.000000  \n",
       "25%                 1.000000                0.000000  \n",
       "50%                 1.000000                0.000000  \n",
       "75%                 1.000000                1.000000  \n",
       "max                 1.000000                1.000000  \n",
       "\n",
       "[8 rows x 24 columns]"
      ]
     },
     "execution_count": 5,
     "metadata": {},
     "output_type": "execute_result"
    }
   ],
   "source": [
    "df.describe()"
   ]
  },
  {
   "cell_type": "code",
   "execution_count": 6,
   "id": "80e363ff",
   "metadata": {
    "scrolled": true
   },
   "outputs": [
    {
     "name": "stdout",
     "output_type": "stream",
     "text": [
      "<class 'pandas.core.frame.DataFrame'>\n",
      "RangeIndex: 254 entries, 0 to 253\n",
      "Data columns (total 28 columns):\n",
      " #   Column                  Non-Null Count  Dtype  \n",
      "---  ------                  --------------  -----  \n",
      " 0   Sexe                    254 non-null    object \n",
      " 1   Decision                244 non-null    object \n",
      " 2   Age                     254 non-null    int64  \n",
      " 3   Etio                    254 non-null    object \n",
      " 4   CV                      254 non-null    object \n",
      " 5   Esterman                254 non-null    int64  \n",
      " 6   ST                      254 non-null    int64  \n",
      " 7   DT_centrale             254 non-null    int64  \n",
      " 8   DT_laterales            254 non-null    int64  \n",
      " 9   DT_quadsupg             254 non-null    int64  \n",
      " 10  DT_quadsupd             254 non-null    int64  \n",
      " 11  DT_quadinfg             254 non-null    int64  \n",
      " 12  DT_quadinfd             254 non-null    int64  \n",
      " 13  DT_Gauche               254 non-null    int64  \n",
      " 14  DT_Droite               254 non-null    int64  \n",
      " 15  DT_dis_Centrale         254 non-null    int64  \n",
      " 16  DT_dis_laterales        254 non-null    int64  \n",
      " 17  DT_dis_quadsupg         254 non-null    int64  \n",
      " 18  DT_dis_quadsupd         254 non-null    int64  \n",
      " 19  DT_dis_quadinfg         254 non-null    int64  \n",
      " 20  DT_dis_quadinfd         253 non-null    float64\n",
      " 21  DT_dis_Gauche           254 non-null    int64  \n",
      " 22  DT_dis_Droite           254 non-null    int64  \n",
      " 23  Resultat ST             254 non-null    int64  \n",
      " 24  Resultat DT Central     254 non-null    int64  \n",
      " 25  Résultat DT latéral     254 non-null    int64  \n",
      " 26  Resultat Dis_Centrale   254 non-null    int64  \n",
      " 27  Resultat dis_laterales  254 non-null    int64  \n",
      "dtypes: float64(1), int64(23), object(4)\n",
      "memory usage: 55.7+ KB\n"
     ]
    }
   ],
   "source": [
    "df.info()"
   ]
  },
  {
   "cell_type": "code",
   "execution_count": 7,
   "id": "d79f0109",
   "metadata": {},
   "outputs": [
    {
     "data": {
      "text/plain": [
       "Non           128\n",
       "Oui            91\n",
       "Simulateur     25\n",
       "Name: Decision, dtype: int64"
      ]
     },
     "execution_count": 7,
     "metadata": {},
     "output_type": "execute_result"
    }
   ],
   "source": [
    "df.Decision.value_counts()"
   ]
  },
  {
   "cell_type": "code",
   "execution_count": 8,
   "id": "f62da8db",
   "metadata": {},
   "outputs": [],
   "source": [
    "## Checking for NaN or Null values in the dataset\n",
    "nan_col_vals = df.isnull().sum()"
   ]
  },
  {
   "cell_type": "code",
   "execution_count": 9,
   "id": "102c27de",
   "metadata": {
    "scrolled": true
   },
   "outputs": [
    {
     "data": {
      "text/plain": [
       "Sexe                       0\n",
       "Decision                  10\n",
       "Age                        0\n",
       "Etio                       0\n",
       "CV                         0\n",
       "Esterman                   0\n",
       "ST                         0\n",
       "DT_centrale                0\n",
       "DT_laterales               0\n",
       "DT_quadsupg                0\n",
       "DT_quadsupd                0\n",
       "DT_quadinfg                0\n",
       "DT_quadinfd                0\n",
       "DT_Gauche                  0\n",
       "DT_Droite                  0\n",
       "DT_dis_Centrale            0\n",
       "DT_dis_laterales           0\n",
       "DT_dis_quadsupg            0\n",
       "DT_dis_quadsupd            0\n",
       "DT_dis_quadinfg            0\n",
       "DT_dis_quadinfd            1\n",
       "DT_dis_Gauche              0\n",
       "DT_dis_Droite              0\n",
       "Resultat ST                0\n",
       "Resultat DT Central        0\n",
       "Résultat DT latéral        0\n",
       "Resultat Dis_Centrale      0\n",
       "Resultat dis_laterales     0\n",
       "dtype: int64"
      ]
     },
     "execution_count": 9,
     "metadata": {},
     "output_type": "execute_result"
    }
   ],
   "source": [
    "# Counting NaN values for each column\n",
    "nan_col_vals"
   ]
  },
  {
   "cell_type": "code",
   "execution_count": 10,
   "id": "8dc247f0",
   "metadata": {},
   "outputs": [
    {
     "data": {
      "text/html": [
       "<div>\n",
       "<style scoped>\n",
       "    .dataframe tbody tr th:only-of-type {\n",
       "        vertical-align: middle;\n",
       "    }\n",
       "\n",
       "    .dataframe tbody tr th {\n",
       "        vertical-align: top;\n",
       "    }\n",
       "\n",
       "    .dataframe thead th {\n",
       "        text-align: right;\n",
       "    }\n",
       "</style>\n",
       "<table border=\"1\" class=\"dataframe\">\n",
       "  <thead>\n",
       "    <tr style=\"text-align: right;\">\n",
       "      <th></th>\n",
       "      <th>Sexe</th>\n",
       "      <th>Decision</th>\n",
       "      <th>Age</th>\n",
       "      <th>Etio</th>\n",
       "      <th>CV</th>\n",
       "      <th>Esterman</th>\n",
       "      <th>ST</th>\n",
       "      <th>DT_centrale</th>\n",
       "      <th>DT_laterales</th>\n",
       "      <th>DT_quadsupg</th>\n",
       "      <th>...</th>\n",
       "      <th>DT_dis_quadsupd</th>\n",
       "      <th>DT_dis_quadinfg</th>\n",
       "      <th>DT_dis_quadinfd</th>\n",
       "      <th>DT_dis_Gauche</th>\n",
       "      <th>DT_dis_Droite</th>\n",
       "      <th>Resultat ST</th>\n",
       "      <th>Resultat DT Central</th>\n",
       "      <th>Résultat DT latéral</th>\n",
       "      <th>Resultat Dis_Centrale</th>\n",
       "      <th>Resultat dis_laterales</th>\n",
       "    </tr>\n",
       "  </thead>\n",
       "  <tbody>\n",
       "    <tr>\n",
       "      <th>119</th>\n",
       "      <td>F</td>\n",
       "      <td>Oui</td>\n",
       "      <td>68</td>\n",
       "      <td>Vas</td>\n",
       "      <td>N</td>\n",
       "      <td>0</td>\n",
       "      <td>0</td>\n",
       "      <td>4</td>\n",
       "      <td>1</td>\n",
       "      <td>0</td>\n",
       "      <td>...</td>\n",
       "      <td>1</td>\n",
       "      <td>2</td>\n",
       "      <td>NaN</td>\n",
       "      <td>4</td>\n",
       "      <td>1</td>\n",
       "      <td>1</td>\n",
       "      <td>1</td>\n",
       "      <td>1</td>\n",
       "      <td>1</td>\n",
       "      <td>1</td>\n",
       "    </tr>\n",
       "  </tbody>\n",
       "</table>\n",
       "<p>1 rows × 28 columns</p>\n",
       "</div>"
      ],
      "text/plain": [
       "    Sexe Decision  Age Etio CV  Esterman  ST  DT_centrale  DT_laterales  \\\n",
       "119    F      Oui   68  Vas  N         0   0            4             1   \n",
       "\n",
       "     DT_quadsupg  ...  DT_dis_quadsupd  DT_dis_quadinfg  DT_dis_quadinfd  \\\n",
       "119            0  ...                1                2              NaN   \n",
       "\n",
       "     DT_dis_Gauche  DT_dis_Droite  Resultat ST  Resultat DT Central  \\\n",
       "119              4              1            1                    1   \n",
       "\n",
       "     Résultat DT latéral  Resultat Dis_Centrale  Resultat dis_laterales  \n",
       "119                    1                      1                       1  \n",
       "\n",
       "[1 rows x 28 columns]"
      ]
     },
     "execution_count": 10,
     "metadata": {},
     "output_type": "execute_result"
    }
   ],
   "source": [
    "df.loc[ df.DT_dis_quadinfd.isna() ]"
   ]
  },
  {
   "cell_type": "code",
   "execution_count": 11,
   "id": "a28bfed6",
   "metadata": {},
   "outputs": [],
   "source": [
    "# At the moment, let's consider dropping all the lines with NaN vals\n",
    "df.dropna(inplace = True)\n",
    "df.reset_index(drop=True, inplace=True)"
   ]
  },
  {
   "cell_type": "code",
   "execution_count": 12,
   "id": "c22c2476",
   "metadata": {
    "scrolled": true
   },
   "outputs": [
    {
     "data": {
      "text/plain": [
       "Sexe                      0\n",
       "Decision                  0\n",
       "Age                       0\n",
       "Etio                      0\n",
       "CV                        0\n",
       "Esterman                  0\n",
       "ST                        0\n",
       "DT_centrale               0\n",
       "DT_laterales              0\n",
       "DT_quadsupg               0\n",
       "DT_quadsupd               0\n",
       "DT_quadinfg               0\n",
       "DT_quadinfd               0\n",
       "DT_Gauche                 0\n",
       "DT_Droite                 0\n",
       "DT_dis_Centrale           0\n",
       "DT_dis_laterales          0\n",
       "DT_dis_quadsupg           0\n",
       "DT_dis_quadsupd           0\n",
       "DT_dis_quadinfg           0\n",
       "DT_dis_quadinfd           0\n",
       "DT_dis_Gauche             0\n",
       "DT_dis_Droite             0\n",
       "Resultat ST               0\n",
       "Resultat DT Central       0\n",
       "Résultat DT latéral       0\n",
       "Resultat Dis_Centrale     0\n",
       "Resultat dis_laterales    0\n",
       "dtype: int64"
      ]
     },
     "execution_count": 12,
     "metadata": {},
     "output_type": "execute_result"
    }
   ],
   "source": [
    "df.isna().sum()"
   ]
  },
  {
   "cell_type": "code",
   "execution_count": 13,
   "id": "cf1c60c1",
   "metadata": {},
   "outputs": [
    {
     "data": {
      "text/plain": [
       "Index(['Sexe', 'Decision', 'Age', 'Etio', 'CV', 'Esterman', 'ST',\n",
       "       'DT_centrale', 'DT_laterales', 'DT_quadsupg', 'DT_quadsupd',\n",
       "       'DT_quadinfg', 'DT_quadinfd', 'DT_Gauche', 'DT_Droite',\n",
       "       'DT_dis_Centrale', 'DT_dis_laterales', 'DT_dis_quadsupg',\n",
       "       'DT_dis_quadsupd', 'DT_dis_quadinfg', 'DT_dis_quadinfd',\n",
       "       'DT_dis_Gauche', 'DT_dis_Droite', 'Resultat ST', 'Resultat DT Central',\n",
       "       'Résultat DT latéral', 'Resultat Dis_Centrale',\n",
       "       'Resultat dis_laterales'],\n",
       "      dtype='object')"
      ]
     },
     "execution_count": 13,
     "metadata": {},
     "output_type": "execute_result"
    }
   ],
   "source": [
    "# Listing all the columns in the dataframe\n",
    "df.columns"
   ]
  },
  {
   "cell_type": "code",
   "execution_count": 14,
   "id": "66ba23b0",
   "metadata": {},
   "outputs": [
    {
     "data": {
      "text/plain": [
       "Vas        160\n",
       "TC          41\n",
       "Tum         27\n",
       "Vas          6\n",
       "TC_Vas       4\n",
       "TC           3\n",
       "Tum          1\n",
       "Vas_Tum      1\n",
       "Name: Etio, dtype: int64"
      ]
     },
     "execution_count": 14,
     "metadata": {},
     "output_type": "execute_result"
    }
   ],
   "source": [
    "'''\n",
    "    There is a problem with the values of some categorical features where a charcter '\\xa0' is added to the end of them!\n",
    "    Example: Etio column\n",
    "'''\n",
    "# Etio column\n",
    "df.Etio.value_counts()"
   ]
  },
  {
   "cell_type": "code",
   "execution_count": 15,
   "id": "a51ea6fb",
   "metadata": {},
   "outputs": [],
   "source": [
    "'''\n",
    "    We solve this for all the values in the columns of the dataset as follows:\n",
    "'''\n",
    "df.replace(u'\\xa0', u'', regex=True, inplace = True)"
   ]
  },
  {
   "cell_type": "code",
   "execution_count": 16,
   "id": "720865e0",
   "metadata": {},
   "outputs": [
    {
     "data": {
      "text/plain": [
       "Vas        166\n",
       "TC          44\n",
       "Tum         28\n",
       "TC_Vas       4\n",
       "Vas_Tum      1\n",
       "Name: Etio, dtype: int64"
      ]
     },
     "execution_count": 16,
     "metadata": {},
     "output_type": "execute_result"
    }
   ],
   "source": [
    "# Etio Column after removing the character '\\xa0'\n",
    "df.Etio.value_counts()"
   ]
  },
  {
   "cell_type": "code",
   "execution_count": 17,
   "id": "4b7ed9a2",
   "metadata": {},
   "outputs": [
    {
     "data": {
      "text/plain": [
       "N               111\n",
       "HLH_D            21\n",
       "HLH_G            21\n",
       "Quadra_inf_D     20\n",
       "Quadra_sup_D     19\n",
       "Quadra_sup_G     17\n",
       "Scotome_D        12\n",
       "Quadra_inf_G     11\n",
       "Scotome_G         9\n",
       "Quadra sup D      1\n",
       "Scotomel_G        1\n",
       "Name: CV, dtype: int64"
      ]
     },
     "execution_count": 17,
     "metadata": {},
     "output_type": "execute_result"
    }
   ],
   "source": [
    "# CV Column\n",
    "df.CV.value_counts()"
   ]
  },
  {
   "cell_type": "code",
   "execution_count": 18,
   "id": "239f4bc9",
   "metadata": {},
   "outputs": [],
   "source": [
    "# Fixing the problem with some categories of CV column\n",
    "df.loc[ (df.CV == 'Scotomel_G'), 'CV'] = 'Scotome_G'\n",
    "df.loc[ (df.CV == 'Quadra sup D'), 'CV'] = 'Quadra_sup_D'"
   ]
  },
  {
   "cell_type": "code",
   "execution_count": 19,
   "id": "7af40246",
   "metadata": {},
   "outputs": [
    {
     "data": {
      "text/plain": [
       "Series([], Name: CV, dtype: object)"
      ]
     },
     "execution_count": 19,
     "metadata": {},
     "output_type": "execute_result"
    }
   ],
   "source": [
    "df.loc[ df.CV == 'Quadra sup D' ].CV"
   ]
  },
  {
   "cell_type": "code",
   "execution_count": 20,
   "id": "cc087152",
   "metadata": {},
   "outputs": [
    {
     "data": {
      "text/plain": [
       "N               111\n",
       "HLH_D            21\n",
       "HLH_G            21\n",
       "Quadra_inf_D     20\n",
       "Quadra_sup_D     20\n",
       "Quadra_sup_G     17\n",
       "Scotome_D        12\n",
       "Quadra_inf_G     11\n",
       "Scotome_G        10\n",
       "Name: CV, dtype: int64"
      ]
     },
     "execution_count": 20,
     "metadata": {},
     "output_type": "execute_result"
    }
   ],
   "source": [
    "# CV Column\n",
    "df.CV.value_counts()"
   ]
  },
  {
   "cell_type": "code",
   "execution_count": 21,
   "id": "9de52fed",
   "metadata": {},
   "outputs": [
    {
     "data": {
      "text/plain": [
       "H    145\n",
       "F     98\n",
       "Name: Sexe, dtype: int64"
      ]
     },
     "execution_count": 21,
     "metadata": {},
     "output_type": "execute_result"
    }
   ],
   "source": [
    "# Sexe Column\n",
    "df.Sexe.value_counts()"
   ]
  },
  {
   "cell_type": "code",
   "execution_count": 22,
   "id": "356e03b7",
   "metadata": {},
   "outputs": [
    {
     "data": {
      "text/plain": [
       "array([<Axes: title={'center': 'F'}>, <Axes: title={'center': 'H'}>],\n",
       "      dtype=object)"
      ]
     },
     "execution_count": 22,
     "metadata": {},
     "output_type": "execute_result"
    },
    {
     "data": {
      "image/png": "[encoded data removed]",
      "text/plain": [
       "<Figure size 640x480 with 2 Axes>"
      ]
     },
     "metadata": {},
     "output_type": "display_data"
    }
   ],
   "source": [
    "df.Decision.hist(by = df.Sexe)"
   ]
  },
  {
   "cell_type": "code",
   "execution_count": 23,
   "id": "3c4952ae",
   "metadata": {},
   "outputs": [
    {
     "data": {
      "text/plain": [
       "Non           128\n",
       "Oui            90\n",
       "Simulateur     25\n",
       "Name: Decision, dtype: int64"
      ]
     },
     "execution_count": 23,
     "metadata": {},
     "output_type": "execute_result"
    }
   ],
   "source": [
    "# Decision Column\n",
    "df.Decision.value_counts()"
   ]
  },
  {
   "cell_type": "code",
   "execution_count": 24,
   "id": "c5b9ab91",
   "metadata": {
    "scrolled": true
   },
   "outputs": [
    {
     "data": {
      "image/png": "[encoded data removed]",
      "text/plain": [
       "<Figure size 640x480 with 1 Axes>"
      ]
     },
     "metadata": {},
     "output_type": "display_data"
    },
    {
     "data": {
      "image/png": "[encoded data removed]",
      "text/plain": [
       "<Figure size 640x480 with 1 Axes>"
      ]
     },
     "metadata": {},
     "output_type": "display_data"
    }
   ],
   "source": [
    "# Age Column\n",
    "df.Age.hist()\n",
    "plt.show()\n",
    "sns.boxplot(x = df.Age)\n",
    "plt.show()"
   ]
  },
  {
   "cell_type": "code",
   "execution_count": 25,
   "id": "963ddfb7",
   "metadata": {
    "scrolled": true
   },
   "outputs": [
    {
     "data": {
      "image/png": "[encoded data removed]",
      "text/plain": [
       "<Figure size 640x480 with 1 Axes>"
      ]
     },
     "metadata": {},
     "output_type": "display_data"
    },
    {
     "data": {
      "image/png": "[encoded data removed]",
      "text/plain": [
       "<Figure size 640x480 with 1 Axes>"
      ]
     },
     "metadata": {},
     "output_type": "display_data"
    }
   ],
   "source": [
    "# Esterman Column\n",
    "df.Esterman.hist()\n",
    "plt.show()\n",
    "sns.boxplot(x = df.Esterman)\n",
    "plt.show()"
   ]
  },
  {
   "cell_type": "code",
   "execution_count": 26,
   "id": "1e166a4f",
   "metadata": {},
   "outputs": [
    {
     "data": {
      "text/plain": [
       "0    131\n",
       "1     77\n",
       "2     22\n",
       "3     10\n",
       "5      2\n",
       "4      1\n",
       "Name: ST, dtype: int64"
      ]
     },
     "execution_count": 26,
     "metadata": {},
     "output_type": "execute_result"
    }
   ],
   "source": [
    "# ST Column\n",
    "df.ST.value_counts()"
   ]
  },
  {
   "cell_type": "code",
   "execution_count": 27,
   "id": "d4908aad",
   "metadata": {},
   "outputs": [
    {
     "data": {
      "text/plain": [
       "<Axes: >"
      ]
     },
     "execution_count": 27,
     "metadata": {},
     "output_type": "execute_result"
    },
    {
     "data": {
      "image/png": "[encoded data removed]",
      "text/plain": [
       "<Figure size 640x480 with 1 Axes>"
      ]
     },
     "metadata": {},
     "output_type": "display_data"
    }
   ],
   "source": [
    "# ST Column\n",
    "sns.barplot(x = df.ST.value_counts().index, y = df.ST.value_counts().values)"
   ]
  },
  {
   "cell_type": "code",
   "execution_count": 28,
   "id": "727a6217",
   "metadata": {},
   "outputs": [
    {
     "data": {
      "text/plain": [
       "<Axes: >"
      ]
     },
     "execution_count": 28,
     "metadata": {},
     "output_type": "execute_result"
    },
    {
     "data": {
      "image/png": "[encoded data removed]",
      "text/plain": [
       "<Figure size 640x480 with 1 Axes>"
      ]
     },
     "metadata": {},
     "output_type": "display_data"
    }
   ],
   "source": [
    "# DT_centrale Column\n",
    "sns.barplot(x = df.DT_centrale.value_counts().index, y = df.DT_centrale.value_counts().values)"
   ]
  },
  {
   "cell_type": "code",
   "execution_count": 29,
   "id": "2cc0475c",
   "metadata": {},
   "outputs": [
    {
     "data": {
      "image/png": "[encoded data removed]",
      "text/plain": [
       "<Figure size 640x480 with 1 Axes>"
      ]
     },
     "metadata": {},
     "output_type": "display_data"
    }
   ],
   "source": [
    "# DT_laterales Column\n",
    "sns.histplot(df.DT_laterales)\n",
    "plt.show()"
   ]
  },
  {
   "cell_type": "code",
   "execution_count": 30,
   "id": "4fddfa59",
   "metadata": {},
   "outputs": [
    {
     "name": "stdout",
     "output_type": "stream",
     "text": [
      "Histogram plot:  DT_quadsupg\n"
     ]
    },
    {
     "data": {
      "image/png": "[encoded data removed]",
      "text/plain": [
       "<Figure size 640x480 with 1 Axes>"
      ]
     },
     "metadata": {},
     "output_type": "display_data"
    },
    {
     "name": "stdout",
     "output_type": "stream",
     "text": [
      "Histogram plot:  DT_quadsupd\n"
     ]
    },
    {
     "data": {
      "image/png": "[encoded data removed]",
      "text/plain": [
       "<Figure size 640x480 with 1 Axes>"
      ]
     },
     "metadata": {},
     "output_type": "display_data"
    },
    {
     "name": "stdout",
     "output_type": "stream",
     "text": [
      "Histogram plot:  DT_quadinfg\n"
     ]
    },
    {
     "data": {
      "image/png": "[encoded data removed]",
      "text/plain": [
       "<Figure size 640x480 with 1 Axes>"
      ]
     },
     "metadata": {},
     "output_type": "display_data"
    },
    {
     "name": "stdout",
     "output_type": "stream",
     "text": [
      "Histogram plot:  DT_quadinfd\n"
     ]
    },
    {
     "data": {
      "image/png": "[encoded data removed]",
      "text/plain": [
       "<Figure size 640x480 with 1 Axes>"
      ]
     },
     "metadata": {},
     "output_type": "display_data"
    },
    {
     "name": "stdout",
     "output_type": "stream",
     "text": [
      "Histogram plot:  DT_Gauche\n"
     ]
    },
    {
     "data": {
      "image/png": "[encoded data removed]",
      "text/plain": [
       "<Figure size 640x480 with 1 Axes>"
      ]
     },
     "metadata": {},
     "output_type": "display_data"
    },
    {
     "name": "stdout",
     "output_type": "stream",
     "text": [
      "Histogram plot:  DT_Droite\n"
     ]
    },
    {
     "data": {
      "image/png": "[encoded data removed]",
      "text/plain": [
       "<Figure size 640x480 with 1 Axes>"
      ]
     },
     "metadata": {},
     "output_type": "display_data"
    },
    {
     "name": "stdout",
     "output_type": "stream",
     "text": [
      "Histogram plot:  DT_dis_Centrale\n"
     ]
    },
    {
     "data": {
      "image/png": "[encoded data removed]",
      "text/plain": [
       "<Figure size 640x480 with 1 Axes>"
      ]
     },
     "metadata": {},
     "output_type": "display_data"
    },
    {
     "name": "stdout",
     "output_type": "stream",
     "text": [
      "Histogram plot:  DT_dis_laterales\n"
     ]
    },
    {
     "data": {
      "image/png": "[encoded data removed]",
      "text/plain": [
       "<Figure size 640x480 with 1 Axes>"
      ]
     },
     "metadata": {},
     "output_type": "display_data"
    },
    {
     "name": "stdout",
     "output_type": "stream",
     "text": [
      "Histogram plot:  DT_dis_quadsupg\n"
     ]
    },
    {
     "data": {
      "image/png": "[encoded data removed]",
      "text/plain": [
       "<Figure size 640x480 with 1 Axes>"
      ]
     },
     "metadata": {},
     "output_type": "display_data"
    },
    {
     "name": "stdout",
     "output_type": "stream",
     "text": [
      "Histogram plot:  DT_dis_quadsupd\n"
     ]
    },
    {
     "data": {
      "image/png": "[encoded data removed]",
      "text/plain": [
       "<Figure size 640x480 with 1 Axes>"
      ]
     },
     "metadata": {},
     "output_type": "display_data"
    },
    {
     "name": "stdout",
     "output_type": "stream",
     "text": [
      "Histogram plot:  DT_dis_quadinfg\n"
     ]
    },
    {
     "data": {
      "image/png": "[encoded data removed]",
      "text/plain": [
       "<Figure size 640x480 with 1 Axes>"
      ]
     },
     "metadata": {},
     "output_type": "display_data"
    },
    {
     "name": "stdout",
     "output_type": "stream",
     "text": [
      "Histogram plot:  DT_dis_quadinfd\n"
     ]
    },
    {
     "data": {
      "image/png": "[encoded data removed]",
      "text/plain": [
       "<Figure size 640x480 with 1 Axes>"
      ]
     },
     "metadata": {},
     "output_type": "display_data"
    },
    {
     "name": "stdout",
     "output_type": "stream",
     "text": [
      "Histogram plot:  DT_dis_Gauche\n"
     ]
    },
    {
     "data": {
      "image/png": "[encoded data removed]",
      "text/plain": [
       "<Figure size 640x480 with 1 Axes>"
      ]
     },
     "metadata": {},
     "output_type": "display_data"
    },
    {
     "name": "stdout",
     "output_type": "stream",
     "text": [
      "Histogram plot:  DT_dis_Droite\n"
     ]
    },
    {
     "data": {
      "image/png": "[encoded data removed]",
      "text/plain": [
       "<Figure size 640x480 with 1 Axes>"
      ]
     },
     "metadata": {},
     "output_type": "display_data"
    },
    {
     "name": "stdout",
     "output_type": "stream",
     "text": [
      "Histogram plot:  Resultat ST\n"
     ]
    },
    {
     "data": {
      "image/png": "[encoded data removed]",
      "text/plain": [
       "<Figure size 640x480 with 1 Axes>"
      ]
     },
     "metadata": {},
     "output_type": "display_data"
    },
    {
     "name": "stdout",
     "output_type": "stream",
     "text": [
      "Histogram plot:  Resultat DT Central\n"
     ]
    },
    {
     "data": {
      "image/png": "[encoded data removed]",
      "text/plain": [
       "<Figure size 640x480 with 1 Axes>"
      ]
     },
     "metadata": {},
     "output_type": "display_data"
    },
    {
     "name": "stdout",
     "output_type": "stream",
     "text": [
      "Histogram plot:  Résultat DT latéral\n"
     ]
    },
    {
     "data": {
      "image/png": "[encoded data removed]",
      "text/plain": [
       "<Figure size 640x480 with 1 Axes>"
      ]
     },
     "metadata": {},
     "output_type": "display_data"
    },
    {
     "name": "stdout",
     "output_type": "stream",
     "text": [
      "Histogram plot:  Resultat Dis_Centrale\n"
     ]
    },
    {
     "data": {
      "image/png": "[encoded data removed]",
      "text/plain": [
       "<Figure size 640x480 with 1 Axes>"
      ]
     },
     "metadata": {},
     "output_type": "display_data"
    },
    {
     "name": "stdout",
     "output_type": "stream",
     "text": [
      "Histogram plot:  Resultat dis_laterales\n"
     ]
    },
    {
     "data": {
      "image/png": "[encoded data removed]",
      "text/plain": [
       "<Figure size 640x480 with 1 Axes>"
      ]
     },
     "metadata": {},
     "output_type": "display_data"
    }
   ],
   "source": [
    "# Remaining Columns\n",
    "rem_cols = ['DT_quadsupg', 'DT_quadsupd',\n",
    "       'DT_quadinfg', 'DT_quadinfd', 'DT_Gauche', 'DT_Droite',\n",
    "       'DT_dis_Centrale', 'DT_dis_laterales', 'DT_dis_quadsupg',\n",
    "       'DT_dis_quadsupd', 'DT_dis_quadinfg', 'DT_dis_quadinfd',\n",
    "       'DT_dis_Gauche', 'DT_dis_Droite', 'Resultat ST', 'Resultat DT Central',\n",
    "       'Résultat DT latéral', 'Resultat Dis_Centrale',\n",
    "       'Resultat dis_laterales']\n",
    "for col in rem_cols:\n",
    "    print(\"Histogram plot: \", col)\n",
    "    sns.histplot(df[col], bins = 15)\n",
    "    plt.show()"
   ]
  },
  {
   "cell_type": "markdown",
   "id": "74db5a45",
   "metadata": {},
   "source": [
    "## Features Engineering"
   ]
  },
  {
   "cell_type": "code",
   "execution_count": 31,
   "id": "e63f5f10",
   "metadata": {},
   "outputs": [],
   "source": [
    "# Creating new dataframe called \"cleaned_df\" to included the cleaned version of the main dataframe/dataset\n",
    "cleaned_df = pd.DataFrame()"
   ]
  },
  {
   "cell_type": "code",
   "execution_count": 32,
   "id": "489785da",
   "metadata": {},
   "outputs": [],
   "source": [
    "# Encoding the categorical column 'Sexe' where 'F' = 0 and 'H' = 1\n",
    "cleaned_df['Sexe'] = pd.get_dummies(df.Sexe, drop_first = True)"
   ]
  },
  {
   "cell_type": "code",
   "execution_count": 33,
   "id": "0f4e6e35",
   "metadata": {},
   "outputs": [],
   "source": [
    "# Encoding the categorical column 'Etio'\n",
    "le = LabelEncoder()\n",
    "cleaned_df['Etio'] = le.fit_transform(df.Etio)"
   ]
  },
  {
   "cell_type": "code",
   "execution_count": 34,
   "id": "67476b78",
   "metadata": {},
   "outputs": [],
   "source": [
    "# Encoding the categorical column 'CV'\n",
    "le = LabelEncoder()\n",
    "cleaned_df['CV'] = le.fit_transform(df.CV)"
   ]
  },
  {
   "cell_type": "code",
   "execution_count": 35,
   "id": "ec4c73de",
   "metadata": {},
   "outputs": [],
   "source": [
    "# Adding other columns from df dataframe to cleaned_df dataframe\n",
    "cleaned_df['Age'] = df['Age']\n",
    "cleaned_df['Esterman'] = df['Esterman']\n",
    "cleaned_df['ST'] = df['ST']\n",
    "cleaned_df[['DT_centrale','DT_quadsupd','DT_quadsupg','DT_quadinfg',\n",
    "            'DT_quadinfd','DT_dis_Centrale','DT_dis_quadinfg',\n",
    "            'DT_dis_quadinfd','DT_dis_quadsupg','DT_dis_quadsupd']] = df[['DT_centrale','DT_quadsupd','DT_quadsupg','DT_quadinfg',\n",
    "            'DT_quadinfd','DT_dis_Centrale','DT_dis_quadinfg',\n",
    "            'DT_dis_quadinfd','DT_dis_quadsupg','DT_dis_quadsupd']]\n",
    "cleaned_df['Decision'] = df['Decision']"
   ]
  },
  {
   "cell_type": "code",
   "execution_count": 36,
   "id": "23bf1b49",
   "metadata": {},
   "outputs": [
    {
     "data": {
      "text/plain": [
       "Index(['Sexe', 'Etio', 'CV', 'Age', 'Esterman', 'ST', 'DT_centrale',\n",
       "       'DT_quadsupd', 'DT_quadsupg', 'DT_quadinfg', 'DT_quadinfd',\n",
       "       'DT_dis_Centrale', 'DT_dis_quadinfg', 'DT_dis_quadinfd',\n",
       "       'DT_dis_quadsupg', 'DT_dis_quadsupd', 'Decision'],\n",
       "      dtype='object')"
      ]
     },
     "execution_count": 36,
     "metadata": {},
     "output_type": "execute_result"
    }
   ],
   "source": [
    "cleaned_df.columns"
   ]
  },
  {
   "cell_type": "code",
   "execution_count": 37,
   "id": "1a8563be",
   "metadata": {},
   "outputs": [
    {
     "data": {
      "text/plain": [
       "17"
      ]
     },
     "execution_count": 37,
     "metadata": {},
     "output_type": "execute_result"
    }
   ],
   "source": [
    "len(cleaned_df.columns)"
   ]
  },
  {
   "cell_type": "code",
   "execution_count": 38,
   "id": "c9c50841",
   "metadata": {},
   "outputs": [
    {
     "data": {
      "text/html": [
       "<div>\n",
       "<style scoped>\n",
       "    .dataframe tbody tr th:only-of-type {\n",
       "        vertical-align: middle;\n",
       "    }\n",
       "\n",
       "    .dataframe tbody tr th {\n",
       "        vertical-align: top;\n",
       "    }\n",
       "\n",
       "    .dataframe thead th {\n",
       "        text-align: right;\n",
       "    }\n",
       "</style>\n",
       "<table border=\"1\" class=\"dataframe\">\n",
       "  <thead>\n",
       "    <tr style=\"text-align: right;\">\n",
       "      <th></th>\n",
       "      <th>Sexe</th>\n",
       "      <th>Etio</th>\n",
       "      <th>CV</th>\n",
       "      <th>Age</th>\n",
       "      <th>Esterman</th>\n",
       "      <th>ST</th>\n",
       "      <th>DT_centrale</th>\n",
       "      <th>DT_quadsupd</th>\n",
       "      <th>DT_quadsupg</th>\n",
       "      <th>DT_quadinfg</th>\n",
       "      <th>DT_quadinfd</th>\n",
       "      <th>DT_dis_Centrale</th>\n",
       "      <th>DT_dis_quadinfg</th>\n",
       "      <th>DT_dis_quadinfd</th>\n",
       "      <th>DT_dis_quadsupg</th>\n",
       "      <th>DT_dis_quadsupd</th>\n",
       "      <th>Decision</th>\n",
       "    </tr>\n",
       "  </thead>\n",
       "  <tbody>\n",
       "    <tr>\n",
       "      <th>227</th>\n",
       "      <td>0</td>\n",
       "      <td>3</td>\n",
       "      <td>7</td>\n",
       "      <td>73</td>\n",
       "      <td>8</td>\n",
       "      <td>0</td>\n",
       "      <td>3</td>\n",
       "      <td>0</td>\n",
       "      <td>2</td>\n",
       "      <td>0</td>\n",
       "      <td>2</td>\n",
       "      <td>3</td>\n",
       "      <td>5</td>\n",
       "      <td>3.0</td>\n",
       "      <td>3</td>\n",
       "      <td>10</td>\n",
       "      <td>Non</td>\n",
       "    </tr>\n",
       "    <tr>\n",
       "      <th>232</th>\n",
       "      <td>1</td>\n",
       "      <td>3</td>\n",
       "      <td>8</td>\n",
       "      <td>66</td>\n",
       "      <td>9</td>\n",
       "      <td>1</td>\n",
       "      <td>3</td>\n",
       "      <td>5</td>\n",
       "      <td>3</td>\n",
       "      <td>14</td>\n",
       "      <td>2</td>\n",
       "      <td>1</td>\n",
       "      <td>16</td>\n",
       "      <td>5.0</td>\n",
       "      <td>8</td>\n",
       "      <td>6</td>\n",
       "      <td>Simulateur</td>\n",
       "    </tr>\n",
       "    <tr>\n",
       "      <th>165</th>\n",
       "      <td>1</td>\n",
       "      <td>3</td>\n",
       "      <td>3</td>\n",
       "      <td>35</td>\n",
       "      <td>24</td>\n",
       "      <td>0</td>\n",
       "      <td>1</td>\n",
       "      <td>6</td>\n",
       "      <td>0</td>\n",
       "      <td>0</td>\n",
       "      <td>3</td>\n",
       "      <td>2</td>\n",
       "      <td>0</td>\n",
       "      <td>5.0</td>\n",
       "      <td>0</td>\n",
       "      <td>6</td>\n",
       "      <td>Non</td>\n",
       "    </tr>\n",
       "    <tr>\n",
       "      <th>89</th>\n",
       "      <td>0</td>\n",
       "      <td>3</td>\n",
       "      <td>2</td>\n",
       "      <td>52</td>\n",
       "      <td>16</td>\n",
       "      <td>0</td>\n",
       "      <td>3</td>\n",
       "      <td>4</td>\n",
       "      <td>3</td>\n",
       "      <td>1</td>\n",
       "      <td>2</td>\n",
       "      <td>7</td>\n",
       "      <td>6</td>\n",
       "      <td>6.0</td>\n",
       "      <td>7</td>\n",
       "      <td>7</td>\n",
       "      <td>Non</td>\n",
       "    </tr>\n",
       "    <tr>\n",
       "      <th>223</th>\n",
       "      <td>0</td>\n",
       "      <td>3</td>\n",
       "      <td>7</td>\n",
       "      <td>72</td>\n",
       "      <td>7</td>\n",
       "      <td>0</td>\n",
       "      <td>5</td>\n",
       "      <td>5</td>\n",
       "      <td>2</td>\n",
       "      <td>1</td>\n",
       "      <td>2</td>\n",
       "      <td>3</td>\n",
       "      <td>14</td>\n",
       "      <td>2.0</td>\n",
       "      <td>14</td>\n",
       "      <td>13</td>\n",
       "      <td>Non</td>\n",
       "    </tr>\n",
       "    <tr>\n",
       "      <th>44</th>\n",
       "      <td>1</td>\n",
       "      <td>3</td>\n",
       "      <td>2</td>\n",
       "      <td>46</td>\n",
       "      <td>0</td>\n",
       "      <td>1</td>\n",
       "      <td>0</td>\n",
       "      <td>0</td>\n",
       "      <td>0</td>\n",
       "      <td>0</td>\n",
       "      <td>0</td>\n",
       "      <td>1</td>\n",
       "      <td>4</td>\n",
       "      <td>4.0</td>\n",
       "      <td>1</td>\n",
       "      <td>0</td>\n",
       "      <td>Oui</td>\n",
       "    </tr>\n",
       "    <tr>\n",
       "      <th>212</th>\n",
       "      <td>0</td>\n",
       "      <td>3</td>\n",
       "      <td>6</td>\n",
       "      <td>29</td>\n",
       "      <td>14</td>\n",
       "      <td>0</td>\n",
       "      <td>2</td>\n",
       "      <td>0</td>\n",
       "      <td>6</td>\n",
       "      <td>0</td>\n",
       "      <td>0</td>\n",
       "      <td>5</td>\n",
       "      <td>3</td>\n",
       "      <td>3.0</td>\n",
       "      <td>2</td>\n",
       "      <td>2</td>\n",
       "      <td>Simulateur</td>\n",
       "    </tr>\n",
       "    <tr>\n",
       "      <th>137</th>\n",
       "      <td>1</td>\n",
       "      <td>3</td>\n",
       "      <td>2</td>\n",
       "      <td>48</td>\n",
       "      <td>0</td>\n",
       "      <td>0</td>\n",
       "      <td>0</td>\n",
       "      <td>0</td>\n",
       "      <td>0</td>\n",
       "      <td>2</td>\n",
       "      <td>0</td>\n",
       "      <td>3</td>\n",
       "      <td>2</td>\n",
       "      <td>2.0</td>\n",
       "      <td>2</td>\n",
       "      <td>2</td>\n",
       "      <td>Oui</td>\n",
       "    </tr>\n",
       "    <tr>\n",
       "      <th>112</th>\n",
       "      <td>0</td>\n",
       "      <td>0</td>\n",
       "      <td>2</td>\n",
       "      <td>30</td>\n",
       "      <td>17</td>\n",
       "      <td>0</td>\n",
       "      <td>2</td>\n",
       "      <td>1</td>\n",
       "      <td>2</td>\n",
       "      <td>0</td>\n",
       "      <td>0</td>\n",
       "      <td>5</td>\n",
       "      <td>4</td>\n",
       "      <td>2.0</td>\n",
       "      <td>4</td>\n",
       "      <td>6</td>\n",
       "      <td>Oui</td>\n",
       "    </tr>\n",
       "    <tr>\n",
       "      <th>200</th>\n",
       "      <td>0</td>\n",
       "      <td>3</td>\n",
       "      <td>5</td>\n",
       "      <td>78</td>\n",
       "      <td>12</td>\n",
       "      <td>3</td>\n",
       "      <td>3</td>\n",
       "      <td>15</td>\n",
       "      <td>4</td>\n",
       "      <td>1</td>\n",
       "      <td>3</td>\n",
       "      <td>3</td>\n",
       "      <td>3</td>\n",
       "      <td>2.0</td>\n",
       "      <td>3</td>\n",
       "      <td>17</td>\n",
       "      <td>Non</td>\n",
       "    </tr>\n",
       "  </tbody>\n",
       "</table>\n",
       "</div>"
      ],
      "text/plain": [
       "     Sexe  Etio  CV  Age  Esterman  ST  DT_centrale  DT_quadsupd  DT_quadsupg  \\\n",
       "227     0     3   7   73         8   0            3            0            2   \n",
       "232     1     3   8   66         9   1            3            5            3   \n",
       "165     1     3   3   35        24   0            1            6            0   \n",
       "89      0     3   2   52        16   0            3            4            3   \n",
       "223     0     3   7   72         7   0            5            5            2   \n",
       "44      1     3   2   46         0   1            0            0            0   \n",
       "212     0     3   6   29        14   0            2            0            6   \n",
       "137     1     3   2   48         0   0            0            0            0   \n",
       "112     0     0   2   30        17   0            2            1            2   \n",
       "200     0     3   5   78        12   3            3           15            4   \n",
       "\n",
       "     DT_quadinfg  DT_quadinfd  DT_dis_Centrale  DT_dis_quadinfg  \\\n",
       "227            0            2                3                5   \n",
       "232           14            2                1               16   \n",
       "165            0            3                2                0   \n",
       "89             1            2                7                6   \n",
       "223            1            2                3               14   \n",
       "44             0            0                1                4   \n",
       "212            0            0                5                3   \n",
       "137            2            0                3                2   \n",
       "112            0            0                5                4   \n",
       "200            1            3                3                3   \n",
       "\n",
       "     DT_dis_quadinfd  DT_dis_quadsupg  DT_dis_quadsupd    Decision  \n",
       "227              3.0                3               10         Non  \n",
       "232              5.0                8                6  Simulateur  \n",
       "165              5.0                0                6         Non  \n",
       "89               6.0                7                7         Non  \n",
       "223              2.0               14               13         Non  \n",
       "44               4.0                1                0         Oui  \n",
       "212              3.0                2                2  Simulateur  \n",
       "137              2.0                2                2         Oui  \n",
       "112              2.0                4                6         Oui  \n",
       "200              2.0                3               17         Non  "
      ]
     },
     "execution_count": 38,
     "metadata": {},
     "output_type": "execute_result"
    }
   ],
   "source": [
    "# Printing the cleaned_df dataframe\n",
    "cleaned_df.sample(10)"
   ]
  },
  {
   "cell_type": "code",
   "execution_count": 39,
   "id": "21a51b9f",
   "metadata": {},
   "outputs": [
    {
     "data": {
      "text/html": [
       "<div>\n",
       "<style scoped>\n",
       "    .dataframe tbody tr th:only-of-type {\n",
       "        vertical-align: middle;\n",
       "    }\n",
       "\n",
       "    .dataframe tbody tr th {\n",
       "        vertical-align: top;\n",
       "    }\n",
       "\n",
       "    .dataframe thead th {\n",
       "        text-align: right;\n",
       "    }\n",
       "</style>\n",
       "<table border=\"1\" class=\"dataframe\">\n",
       "  <thead>\n",
       "    <tr style=\"text-align: right;\">\n",
       "      <th></th>\n",
       "      <th>Sexe</th>\n",
       "      <th>Etio</th>\n",
       "      <th>CV</th>\n",
       "      <th>Age</th>\n",
       "      <th>Esterman</th>\n",
       "      <th>ST</th>\n",
       "      <th>DT_centrale</th>\n",
       "      <th>DT_quadsupd</th>\n",
       "      <th>DT_quadsupg</th>\n",
       "      <th>DT_quadinfg</th>\n",
       "      <th>DT_quadinfd</th>\n",
       "      <th>DT_dis_Centrale</th>\n",
       "      <th>DT_dis_quadinfg</th>\n",
       "      <th>DT_dis_quadinfd</th>\n",
       "      <th>DT_dis_quadsupg</th>\n",
       "      <th>DT_dis_quadsupd</th>\n",
       "    </tr>\n",
       "  </thead>\n",
       "  <tbody>\n",
       "    <tr>\n",
       "      <th>count</th>\n",
       "      <td>243.000000</td>\n",
       "      <td>243.000000</td>\n",
       "      <td>243.000000</td>\n",
       "      <td>243.000000</td>\n",
       "      <td>243.000000</td>\n",
       "      <td>243.000000</td>\n",
       "      <td>243.000000</td>\n",
       "      <td>243.000000</td>\n",
       "      <td>243.000000</td>\n",
       "      <td>243.000000</td>\n",
       "      <td>243.000000</td>\n",
       "      <td>243.000000</td>\n",
       "      <td>243.000000</td>\n",
       "      <td>243.000000</td>\n",
       "      <td>243.000000</td>\n",
       "      <td>243.000000</td>\n",
       "    </tr>\n",
       "    <tr>\n",
       "      <th>mean</th>\n",
       "      <td>0.596708</td>\n",
       "      <td>2.312757</td>\n",
       "      <td>2.934156</td>\n",
       "      <td>49.806584</td>\n",
       "      <td>13.736626</td>\n",
       "      <td>0.679012</td>\n",
       "      <td>3.975309</td>\n",
       "      <td>2.423868</td>\n",
       "      <td>2.617284</td>\n",
       "      <td>2.473251</td>\n",
       "      <td>2.267490</td>\n",
       "      <td>4.691358</td>\n",
       "      <td>5.102881</td>\n",
       "      <td>5.028807</td>\n",
       "      <td>4.637860</td>\n",
       "      <td>4.259259</td>\n",
       "    </tr>\n",
       "    <tr>\n",
       "      <th>std</th>\n",
       "      <td>0.491571</td>\n",
       "      <td>1.161060</td>\n",
       "      <td>2.101698</td>\n",
       "      <td>15.575451</td>\n",
       "      <td>15.952039</td>\n",
       "      <td>0.929238</td>\n",
       "      <td>3.689303</td>\n",
       "      <td>3.602881</td>\n",
       "      <td>3.963369</td>\n",
       "      <td>4.253621</td>\n",
       "      <td>4.211168</td>\n",
       "      <td>4.356932</td>\n",
       "      <td>4.589076</td>\n",
       "      <td>4.974646</td>\n",
       "      <td>4.540967</td>\n",
       "      <td>4.315390</td>\n",
       "    </tr>\n",
       "    <tr>\n",
       "      <th>min</th>\n",
       "      <td>0.000000</td>\n",
       "      <td>0.000000</td>\n",
       "      <td>0.000000</td>\n",
       "      <td>18.000000</td>\n",
       "      <td>0.000000</td>\n",
       "      <td>0.000000</td>\n",
       "      <td>0.000000</td>\n",
       "      <td>0.000000</td>\n",
       "      <td>0.000000</td>\n",
       "      <td>0.000000</td>\n",
       "      <td>0.000000</td>\n",
       "      <td>0.000000</td>\n",
       "      <td>0.000000</td>\n",
       "      <td>0.000000</td>\n",
       "      <td>0.000000</td>\n",
       "      <td>0.000000</td>\n",
       "    </tr>\n",
       "    <tr>\n",
       "      <th>25%</th>\n",
       "      <td>0.000000</td>\n",
       "      <td>2.000000</td>\n",
       "      <td>2.000000</td>\n",
       "      <td>38.000000</td>\n",
       "      <td>1.000000</td>\n",
       "      <td>0.000000</td>\n",
       "      <td>2.000000</td>\n",
       "      <td>0.000000</td>\n",
       "      <td>0.000000</td>\n",
       "      <td>0.000000</td>\n",
       "      <td>0.000000</td>\n",
       "      <td>2.000000</td>\n",
       "      <td>2.000000</td>\n",
       "      <td>1.000000</td>\n",
       "      <td>1.000000</td>\n",
       "      <td>1.000000</td>\n",
       "    </tr>\n",
       "    <tr>\n",
       "      <th>50%</th>\n",
       "      <td>1.000000</td>\n",
       "      <td>3.000000</td>\n",
       "      <td>2.000000</td>\n",
       "      <td>50.000000</td>\n",
       "      <td>8.000000</td>\n",
       "      <td>0.000000</td>\n",
       "      <td>3.000000</td>\n",
       "      <td>1.000000</td>\n",
       "      <td>1.000000</td>\n",
       "      <td>1.000000</td>\n",
       "      <td>0.000000</td>\n",
       "      <td>3.000000</td>\n",
       "      <td>4.000000</td>\n",
       "      <td>3.000000</td>\n",
       "      <td>3.000000</td>\n",
       "      <td>2.000000</td>\n",
       "    </tr>\n",
       "    <tr>\n",
       "      <th>75%</th>\n",
       "      <td>1.000000</td>\n",
       "      <td>3.000000</td>\n",
       "      <td>4.000000</td>\n",
       "      <td>62.000000</td>\n",
       "      <td>23.000000</td>\n",
       "      <td>1.000000</td>\n",
       "      <td>5.000000</td>\n",
       "      <td>3.000000</td>\n",
       "      <td>3.000000</td>\n",
       "      <td>2.500000</td>\n",
       "      <td>2.000000</td>\n",
       "      <td>6.000000</td>\n",
       "      <td>8.000000</td>\n",
       "      <td>8.000000</td>\n",
       "      <td>7.000000</td>\n",
       "      <td>7.000000</td>\n",
       "    </tr>\n",
       "    <tr>\n",
       "      <th>max</th>\n",
       "      <td>1.000000</td>\n",
       "      <td>4.000000</td>\n",
       "      <td>8.000000</td>\n",
       "      <td>85.000000</td>\n",
       "      <td>71.000000</td>\n",
       "      <td>5.000000</td>\n",
       "      <td>23.000000</td>\n",
       "      <td>17.000000</td>\n",
       "      <td>18.000000</td>\n",
       "      <td>18.000000</td>\n",
       "      <td>18.000000</td>\n",
       "      <td>35.000000</td>\n",
       "      <td>18.000000</td>\n",
       "      <td>18.000000</td>\n",
       "      <td>18.000000</td>\n",
       "      <td>18.000000</td>\n",
       "    </tr>\n",
       "  </tbody>\n",
       "</table>\n",
       "</div>"
      ],
      "text/plain": [
       "             Sexe        Etio          CV         Age    Esterman          ST  \\\n",
       "count  243.000000  243.000000  243.000000  243.000000  243.000000  243.000000   \n",
       "mean     0.596708    2.312757    2.934156   49.806584   13.736626    0.679012   \n",
       "std      0.491571    1.161060    2.101698   15.575451   15.952039    0.929238   \n",
       "min      0.000000    0.000000    0.000000   18.000000    0.000000    0.000000   \n",
       "25%      0.000000    2.000000    2.000000   38.000000    1.000000    0.000000   \n",
       "50%      1.000000    3.000000    2.000000   50.000000    8.000000    0.000000   \n",
       "75%      1.000000    3.000000    4.000000   62.000000   23.000000    1.000000   \n",
       "max      1.000000    4.000000    8.000000   85.000000   71.000000    5.000000   \n",
       "\n",
       "       DT_centrale  DT_quadsupd  DT_quadsupg  DT_quadinfg  DT_quadinfd  \\\n",
       "count   243.000000   243.000000   243.000000   243.000000   243.000000   \n",
       "mean      3.975309     2.423868     2.617284     2.473251     2.267490   \n",
       "std       3.689303     3.602881     3.963369     4.253621     4.211168   \n",
       "min       0.000000     0.000000     0.000000     0.000000     0.000000   \n",
       "25%       2.000000     0.000000     0.000000     0.000000     0.000000   \n",
       "50%       3.000000     1.000000     1.000000     1.000000     0.000000   \n",
       "75%       5.000000     3.000000     3.000000     2.500000     2.000000   \n",
       "max      23.000000    17.000000    18.000000    18.000000    18.000000   \n",
       "\n",
       "       DT_dis_Centrale  DT_dis_quadinfg  DT_dis_quadinfd  DT_dis_quadsupg  \\\n",
       "count       243.000000       243.000000       243.000000       243.000000   \n",
       "mean          4.691358         5.102881         5.028807         4.637860   \n",
       "std           4.356932         4.589076         4.974646         4.540967   \n",
       "min           0.000000         0.000000         0.000000         0.000000   \n",
       "25%           2.000000         2.000000         1.000000         1.000000   \n",
       "50%           3.000000         4.000000         3.000000         3.000000   \n",
       "75%           6.000000         8.000000         8.000000         7.000000   \n",
       "max          35.000000        18.000000        18.000000        18.000000   \n",
       "\n",
       "       DT_dis_quadsupd  \n",
       "count       243.000000  \n",
       "mean          4.259259  \n",
       "std           4.315390  \n",
       "min           0.000000  \n",
       "25%           1.000000  \n",
       "50%           2.000000  \n",
       "75%           7.000000  \n",
       "max          18.000000  "
      ]
     },
     "execution_count": 39,
     "metadata": {},
     "output_type": "execute_result"
    }
   ],
   "source": [
    "cleaned_df.describe()"
   ]
  },
  {
   "cell_type": "code",
   "execution_count": 40,
   "id": "8a2d4a16",
   "metadata": {},
   "outputs": [
    {
     "data": {
      "text/plain": [
       "Non           128\n",
       "Oui            90\n",
       "Simulateur     25\n",
       "Name: Decision, dtype: int64"
      ]
     },
     "execution_count": 40,
     "metadata": {},
     "output_type": "execute_result"
    }
   ],
   "source": [
    "# Checking the output column 'Decision' values\n",
    "cleaned_df.Decision.value_counts()"
   ]
  },
  {
   "cell_type": "code",
   "execution_count": 41,
   "id": "851cc722",
   "metadata": {},
   "outputs": [
    {
     "data": {
      "image/png": "[encoded data removed]",
      "text/plain": [
       "<Figure size 640x480 with 1 Axes>"
      ]
     },
     "metadata": {},
     "output_type": "display_data"
    }
   ],
   "source": [
    "# Plotting target column 'Effect' percentage per class\n",
    "ax = sns.barplot(x = cleaned_df['Decision'].value_counts().index, y = list(cleaned_df['Decision'].value_counts()/len(df.Decision)))\n",
    "ax.bar_label(ax.containers[0])\n",
    "plt.title('Decision Classes')\n",
    "plt.xlabel('Classes')\n",
    "plt.ylabel('Frequency')\n",
    "plt.show()"
   ]
  },
  {
   "cell_type": "code",
   "execution_count": 42,
   "id": "43498662",
   "metadata": {},
   "outputs": [],
   "source": [
    "# Encoding the output column 'Decision' as follows:\n",
    "cleaned_df['Decision'] = cleaned_df['Decision'].replace({'Non': 0, 'Oui': 1, 'Simulateur': 2})"
   ]
  },
  {
   "cell_type": "code",
   "execution_count": 43,
   "id": "1fda078d",
   "metadata": {},
   "outputs": [
    {
     "data": {
      "text/plain": [
       "<Axes: >"
      ]
     },
     "execution_count": 43,
     "metadata": {},
     "output_type": "execute_result"
    },
    {
     "data": {
      "image/png": "[encoded data removed]",
      "text/plain": [
       "<Figure size 2000x1000 with 2 Axes>"
      ]
     },
     "metadata": {},
     "output_type": "display_data"
    }
   ],
   "source": [
    "# Checking the correlation of the columns \n",
    "plt.figure(figsize=(20,10))\n",
    "sns.heatmap(cleaned_df.corr().abs()[['Decision']].sort_values(by = 'Decision'), annot = True)"
   ]
  },
  {
   "cell_type": "markdown",
   "id": "31a119b6",
   "metadata": {},
   "source": [
    "# Building ML Classifcation Models without considering oversampling techniques"
   ]
  },
  {
   "cell_type": "code",
   "execution_count": 44,
   "id": "c24b3904",
   "metadata": {},
   "outputs": [],
   "source": [
    "# Defining the features and target\n",
    "features = cleaned_df.drop(columns = ['Decision'])\n",
    "target = cleaned_df['Decision']"
   ]
  },
  {
   "cell_type": "code",
   "execution_count": 45,
   "id": "caa1ae16",
   "metadata": {},
   "outputs": [],
   "source": [
    "# Splitting the data to training and test sets\n",
    "X_train, X_test, y_train, y_test = train_test_split(features, target, test_size = 0.4)"
   ]
  },
  {
   "cell_type": "markdown",
   "id": "6621884c",
   "metadata": {},
   "source": [
    "## Logistic Regression"
   ]
  },
  {
   "cell_type": "code",
   "execution_count": 46,
   "id": "2098c7a0",
   "metadata": {},
   "outputs": [],
   "source": [
    "# Initializing the model LR\n",
    "mdl_LR = LogisticRegression(max_iter = 3000)"
   ]
  },
  {
   "cell_type": "code",
   "execution_count": 47,
   "id": "50f04f16",
   "metadata": {},
   "outputs": [
    {
     "data": {
      "text/html": [
       "<style>#sk-container-id-1 {color: black;}#sk-container-id-1 pre{padding: 0;}#sk-container-id-1 div.sk-toggleable {background-color: white;}#sk-container-id-1 label.sk-toggleable__label {cursor: pointer;display: block;width: 100%;margin-bottom: 0;padding: 0.3em;box-sizing: border-box;text-align: center;}#sk-container-id-1 label.sk-toggleable__label-arrow:before {content: \"▸\";float: left;margin-right: 0.25em;color: #696969;}#sk-container-id-1 label.sk-toggleable__label-arrow:hover:before {color: black;}#sk-container-id-1 div.sk-estimator:hover label.sk-toggleable__label-arrow:before {color: black;}#sk-container-id-1 div.sk-toggleable__content {max-height: 0;max-width: 0;overflow: hidden;text-align: left;background-color: #f0f8ff;}#sk-container-id-1 div.sk-toggleable__content pre {margin: 0.2em;color: black;border-radius: 0.25em;background-color: #f0f8ff;}#sk-container-id-1 input.sk-toggleable__control:checked~div.sk-toggleable__content {max-height: 200px;max-width: 100%;overflow: auto;}#sk-container-id-1 input.sk-toggleable__control:checked~label.sk-toggleable__label-arrow:before {content: \"▾\";}#sk-container-id-1 div.sk-estimator input.sk-toggleable__control:checked~label.sk-toggleable__label {background-color: #d4ebff;}#sk-container-id-1 div.sk-label input.sk-toggleable__control:checked~label.sk-toggleable__label {background-color: #d4ebff;}#sk-container-id-1 input.sk-hidden--visually {border: 0;clip: rect(1px 1px 1px 1px);clip: rect(1px, 1px, 1px, 1px);height: 1px;margin: -1px;overflow: hidden;padding: 0;position: absolute;width: 1px;}#sk-container-id-1 div.sk-estimator {font-family: monospace;background-color: #f0f8ff;border: 1px dotted black;border-radius: 0.25em;box-sizing: border-box;margin-bottom: 0.5em;}#sk-container-id-1 div.sk-estimator:hover {background-color: #d4ebff;}#sk-container-id-1 div.sk-parallel-item::after {content: \"\";width: 100%;border-bottom: 1px solid gray;flex-grow: 1;}#sk-container-id-1 div.sk-label:hover label.sk-toggleable__label {background-color: #d4ebff;}#sk-container-id-1 div.sk-serial::before {content: \"\";position: absolute;border-left: 1px solid gray;box-sizing: border-box;top: 0;bottom: 0;left: 50%;z-index: 0;}#sk-container-id-1 div.sk-serial {display: flex;flex-direction: column;align-items: center;background-color: white;padding-right: 0.2em;padding-left: 0.2em;position: relative;}#sk-container-id-1 div.sk-item {position: relative;z-index: 1;}#sk-container-id-1 div.sk-parallel {display: flex;align-items: stretch;justify-content: center;background-color: white;position: relative;}#sk-container-id-1 div.sk-item::before, #sk-container-id-1 div.sk-parallel-item::before {content: \"\";position: absolute;border-left: 1px solid gray;box-sizing: border-box;top: 0;bottom: 0;left: 50%;z-index: -1;}#sk-container-id-1 div.sk-parallel-item {display: flex;flex-direction: column;z-index: 1;position: relative;background-color: white;}#sk-container-id-1 div.sk-parallel-item:first-child::after {align-self: flex-end;width: 50%;}#sk-container-id-1 div.sk-parallel-item:last-child::after {align-self: flex-start;width: 50%;}#sk-container-id-1 div.sk-parallel-item:only-child::after {width: 0;}#sk-container-id-1 div.sk-dashed-wrapped {border: 1px dashed gray;margin: 0 0.4em 0.5em 0.4em;box-sizing: border-box;padding-bottom: 0.4em;background-color: white;}#sk-container-id-1 div.sk-label label {font-family: monospace;font-weight: bold;display: inline-block;line-height: 1.2em;}#sk-container-id-1 div.sk-label-container {text-align: center;}#sk-container-id-1 div.sk-container {/* jupyter's `normalize.less` sets `[hidden] { display: none; }` but bootstrap.min.css set `[hidden] { display: none !important; }` so we also need the `!important` here to be able to override the default hidden behavior on the sphinx rendered scikit-learn.org. See: https://github.com/scikit-learn/scikit-learn/issues/21755 */display: inline-block !important;position: relative;}#sk-container-id-1 div.sk-text-repr-fallback {display: none;}</style><div id=\"sk-container-id-1\" class=\"sk-top-container\"><div class=\"sk-text-repr-fallback\"><pre>LogisticRegression(max_iter=3000)</pre><b>In a Jupyter environment, please rerun this cell to show the HTML representation or trust the notebook. <br />On GitHub, the HTML representation is unable to render, please try loading this page with nbviewer.org.</b></div><div class=\"sk-container\" hidden><div class=\"sk-item\"><div class=\"sk-estimator sk-toggleable\"><input class=\"sk-toggleable__control sk-hidden--visually\" id=\"sk-estimator-id-1\" type=\"checkbox\" checked><label for=\"sk-estimator-id-1\" class=\"sk-toggleable__label sk-toggleable__label-arrow\">LogisticRegression</label><div class=\"sk-toggleable__content\"><pre>LogisticRegression(max_iter=3000)</pre></div></div></div></div></div>"
      ],
      "text/plain": [
       "LogisticRegression(max_iter=3000)"
      ]
     },
     "execution_count": 47,
     "metadata": {},
     "output_type": "execute_result"
    }
   ],
   "source": [
    "# Fitting the training data to the LR model\n",
    "mdl_LR.fit(X_train, y_train)"
   ]
  },
  {
   "cell_type": "code",
   "execution_count": 48,
   "id": "8ceaa6a3",
   "metadata": {},
   "outputs": [
    {
     "data": {
      "text/plain": [
       "(array([-1.72624845,  2.74737766, -1.02112921]),\n",
       " array([[ 0.01442298, -0.05507977, -0.00689346, -0.00503929,  0.05626046,\n",
       "          0.1277641 ,  0.15067553,  0.11764081,  0.05785746, -0.05474546,\n",
       "         -0.01149582,  0.0444364 ,  0.30483761,  0.08649891, -0.11154948,\n",
       "          0.03162168],\n",
       "        [-0.36490212, -0.14263959, -0.18232292,  0.02406256,  0.00105836,\n",
       "         -0.15080987, -0.04093581, -0.22314541, -0.01138094, -0.05984132,\n",
       "          0.0154151 , -0.09172105, -0.13620102, -0.14798652, -0.0882278 ,\n",
       "          0.00699973],\n",
       "        [ 0.35047914,  0.19771936,  0.18921639, -0.01902327, -0.05731882,\n",
       "          0.02304577, -0.10973972,  0.10550461, -0.04647652,  0.11458679,\n",
       "         -0.00391928,  0.04728465, -0.16863659,  0.06148761,  0.19977728,\n",
       "         -0.03862141]]))"
      ]
     },
     "execution_count": 48,
     "metadata": {},
     "output_type": "execute_result"
    }
   ],
   "source": [
    "# Getting the intercept and coeffecients values of the LR model\n",
    "mdl_LR.intercept_, mdl_LR.coef_"
   ]
  },
  {
   "cell_type": "code",
   "execution_count": 49,
   "id": "ae8bf6a4",
   "metadata": {},
   "outputs": [],
   "source": [
    "# Testing the LR model on unseen data (test data)\n",
    "pred_LR = mdl_LR.predict(X_test)"
   ]
  },
  {
   "cell_type": "code",
   "execution_count": 50,
   "id": "15b1363f",
   "metadata": {},
   "outputs": [
    {
     "data": {
      "text/plain": [
       "0.7040816326530612"
      ]
     },
     "execution_count": 50,
     "metadata": {},
     "output_type": "execute_result"
    }
   ],
   "source": [
    "# Accuracy score of LR model\n",
    "accuracy_score(y_test, pred_LR)"
   ]
  },
  {
   "cell_type": "code",
   "execution_count": 51,
   "id": "353941df",
   "metadata": {},
   "outputs": [
    {
     "data": {
      "text/plain": [
       "<Axes: >"
      ]
     },
     "execution_count": 51,
     "metadata": {},
     "output_type": "execute_result"
    },
    {
     "data": {
      "image/png": "[encoded data removed]",
      "text/plain": [
       "<Figure size 640x480 with 2 Axes>"
      ]
     },
     "metadata": {},
     "output_type": "display_data"
    }
   ],
   "source": [
    "# Confusion matirx of the LR predictions\n",
    "sns.heatmap(confusion_matrix(y_test, pred_LR), annot = True)"
   ]
  },
  {
   "cell_type": "code",
   "execution_count": 52,
   "id": "a8d2bda6",
   "metadata": {},
   "outputs": [
    {
     "name": "stdout",
     "output_type": "stream",
     "text": [
      "              precision    recall  f1-score   support\n",
      "\n",
      "           0       0.70      0.87      0.78        52\n",
      "           1       0.80      0.75      0.77        32\n",
      "           2       0.00      0.00      0.00        14\n",
      "\n",
      "    accuracy                           0.70        98\n",
      "   macro avg       0.50      0.54      0.52        98\n",
      "weighted avg       0.63      0.70      0.66        98\n",
      "\n"
     ]
    }
   ],
   "source": [
    "print(metrics.classification_report(y_test, pred_LR))"
   ]
  },
  {
   "cell_type": "markdown",
   "id": "f47ccfa1",
   "metadata": {},
   "source": [
    "## Decision Tree Classifier"
   ]
  },
  {
   "cell_type": "code",
   "execution_count": 53,
   "id": "1aaab21b",
   "metadata": {},
   "outputs": [],
   "source": [
    "# Intializing the decision tree classifier model\n",
    "mdl_DT = DecisionTreeClassifier(criterion='entropy')"
   ]
  },
  {
   "cell_type": "code",
   "execution_count": 54,
   "id": "229fb3d4",
   "metadata": {},
   "outputs": [
    {
     "data": {
      "text/html": [
       "<style>#sk-container-id-2 {color: black;}#sk-container-id-2 pre{padding: 0;}#sk-container-id-2 div.sk-toggleable {background-color: white;}#sk-container-id-2 label.sk-toggleable__label {cursor: pointer;display: block;width: 100%;margin-bottom: 0;padding: 0.3em;box-sizing: border-box;text-align: center;}#sk-container-id-2 label.sk-toggleable__label-arrow:before {content: \"▸\";float: left;margin-right: 0.25em;color: #696969;}#sk-container-id-2 label.sk-toggleable__label-arrow:hover:before {color: black;}#sk-container-id-2 div.sk-estimator:hover label.sk-toggleable__label-arrow:before {color: black;}#sk-container-id-2 div.sk-toggleable__content {max-height: 0;max-width: 0;overflow: hidden;text-align: left;background-color: #f0f8ff;}#sk-container-id-2 div.sk-toggleable__content pre {margin: 0.2em;color: black;border-radius: 0.25em;background-color: #f0f8ff;}#sk-container-id-2 input.sk-toggleable__control:checked~div.sk-toggleable__content {max-height: 200px;max-width: 100%;overflow: auto;}#sk-container-id-2 input.sk-toggleable__control:checked~label.sk-toggleable__label-arrow:before {content: \"▾\";}#sk-container-id-2 div.sk-estimator input.sk-toggleable__control:checked~label.sk-toggleable__label {background-color: #d4ebff;}#sk-container-id-2 div.sk-label input.sk-toggleable__control:checked~label.sk-toggleable__label {background-color: #d4ebff;}#sk-container-id-2 input.sk-hidden--visually {border: 0;clip: rect(1px 1px 1px 1px);clip: rect(1px, 1px, 1px, 1px);height: 1px;margin: -1px;overflow: hidden;padding: 0;position: absolute;width: 1px;}#sk-container-id-2 div.sk-estimator {font-family: monospace;background-color: #f0f8ff;border: 1px dotted black;border-radius: 0.25em;box-sizing: border-box;margin-bottom: 0.5em;}#sk-container-id-2 div.sk-estimator:hover {background-color: #d4ebff;}#sk-container-id-2 div.sk-parallel-item::after {content: \"\";width: 100%;border-bottom: 1px solid gray;flex-grow: 1;}#sk-container-id-2 div.sk-label:hover label.sk-toggleable__label {background-color: #d4ebff;}#sk-container-id-2 div.sk-serial::before {content: \"\";position: absolute;border-left: 1px solid gray;box-sizing: border-box;top: 0;bottom: 0;left: 50%;z-index: 0;}#sk-container-id-2 div.sk-serial {display: flex;flex-direction: column;align-items: center;background-color: white;padding-right: 0.2em;padding-left: 0.2em;position: relative;}#sk-container-id-2 div.sk-item {position: relative;z-index: 1;}#sk-container-id-2 div.sk-parallel {display: flex;align-items: stretch;justify-content: center;background-color: white;position: relative;}#sk-container-id-2 div.sk-item::before, #sk-container-id-2 div.sk-parallel-item::before {content: \"\";position: absolute;border-left: 1px solid gray;box-sizing: border-box;top: 0;bottom: 0;left: 50%;z-index: -1;}#sk-container-id-2 div.sk-parallel-item {display: flex;flex-direction: column;z-index: 1;position: relative;background-color: white;}#sk-container-id-2 div.sk-parallel-item:first-child::after {align-self: flex-end;width: 50%;}#sk-container-id-2 div.sk-parallel-item:last-child::after {align-self: flex-start;width: 50%;}#sk-container-id-2 div.sk-parallel-item:only-child::after {width: 0;}#sk-container-id-2 div.sk-dashed-wrapped {border: 1px dashed gray;margin: 0 0.4em 0.5em 0.4em;box-sizing: border-box;padding-bottom: 0.4em;background-color: white;}#sk-container-id-2 div.sk-label label {font-family: monospace;font-weight: bold;display: inline-block;line-height: 1.2em;}#sk-container-id-2 div.sk-label-container {text-align: center;}#sk-container-id-2 div.sk-container {/* jupyter's `normalize.less` sets `[hidden] { display: none; }` but bootstrap.min.css set `[hidden] { display: none !important; }` so we also need the `!important` here to be able to override the default hidden behavior on the sphinx rendered scikit-learn.org. See: https://github.com/scikit-learn/scikit-learn/issues/21755 */display: inline-block !important;position: relative;}#sk-container-id-2 div.sk-text-repr-fallback {display: none;}</style><div id=\"sk-container-id-2\" class=\"sk-top-container\"><div class=\"sk-text-repr-fallback\"><pre>DecisionTreeClassifier(criterion=&#x27;entropy&#x27;)</pre><b>In a Jupyter environment, please rerun this cell to show the HTML representation or trust the notebook. <br />On GitHub, the HTML representation is unable to render, please try loading this page with nbviewer.org.</b></div><div class=\"sk-container\" hidden><div class=\"sk-item\"><div class=\"sk-estimator sk-toggleable\"><input class=\"sk-toggleable__control sk-hidden--visually\" id=\"sk-estimator-id-2\" type=\"checkbox\" checked><label for=\"sk-estimator-id-2\" class=\"sk-toggleable__label sk-toggleable__label-arrow\">DecisionTreeClassifier</label><div class=\"sk-toggleable__content\"><pre>DecisionTreeClassifier(criterion=&#x27;entropy&#x27;)</pre></div></div></div></div></div>"
      ],
      "text/plain": [
       "DecisionTreeClassifier(criterion='entropy')"
      ]
     },
     "execution_count": 54,
     "metadata": {},
     "output_type": "execute_result"
    }
   ],
   "source": [
    "# Fitting the training data to the DT model\n",
    "mdl_DT.fit(X_train, y_train)"
   ]
  },
  {
   "cell_type": "code",
   "execution_count": 55,
   "id": "0257fee0",
   "metadata": {},
   "outputs": [],
   "source": [
    "# Testing the DT model on unseen data (test data)\n",
    "pred_DT = mdl_DT.predict(X_test)"
   ]
  },
  {
   "cell_type": "code",
   "execution_count": 56,
   "id": "5109cd1d",
   "metadata": {},
   "outputs": [
    {
     "data": {
      "text/plain": [
       "0.6122448979591837"
      ]
     },
     "execution_count": 56,
     "metadata": {},
     "output_type": "execute_result"
    }
   ],
   "source": [
    "# Accuracy score of DT model\n",
    "accuracy_score(y_test, pred_DT)"
   ]
  },
  {
   "cell_type": "code",
   "execution_count": 57,
   "id": "e05d4747",
   "metadata": {},
   "outputs": [
    {
     "data": {
      "text/plain": [
       "<Axes: >"
      ]
     },
     "execution_count": 57,
     "metadata": {},
     "output_type": "execute_result"
    },
    {
     "data": {
      "image/png": "[encoded data removed]",
      "text/plain": [
       "<Figure size 640x480 with 2 Axes>"
      ]
     },
     "metadata": {},
     "output_type": "display_data"
    }
   ],
   "source": [
    "# Confusion matirx of the DT predictions\n",
    "sns.heatmap(confusion_matrix(y_test, pred_DT), annot = True)"
   ]
  },
  {
   "cell_type": "code",
   "execution_count": 58,
   "id": "d7c86cb6",
   "metadata": {},
   "outputs": [
    {
     "name": "stdout",
     "output_type": "stream",
     "text": [
      "              precision    recall  f1-score   support\n",
      "\n",
      "           0       0.68      0.81      0.74        52\n",
      "           1       0.65      0.53      0.59        32\n",
      "           2       0.10      0.07      0.08        14\n",
      "\n",
      "    accuracy                           0.61        98\n",
      "   macro avg       0.48      0.47      0.47        98\n",
      "weighted avg       0.59      0.61      0.59        98\n",
      "\n"
     ]
    }
   ],
   "source": [
    "print(metrics.classification_report(y_test, pred_DT))"
   ]
  },
  {
   "cell_type": "code",
   "execution_count": 59,
   "id": "40acdd48",
   "metadata": {},
   "outputs": [
    {
     "data": {
      "image/png": "[encoded data removed]",
      "text/plain": [
       "<Figure size 640x480 with 1 Axes>"
      ]
     },
     "metadata": {},
     "output_type": "display_data"
    }
   ],
   "source": [
    "# Getting and plotting feature importance\n",
    "features_importance = pd.DataFrame(data = mdl_DT.feature_importances_,\n",
    "             index = mdl_DT.feature_names_in_,\n",
    "             columns = ['importance'])\n",
    "features_importance.sort_values('importance').plot(kind='barh', title='Feature Importance')\n",
    "plt.show()"
   ]
  },
  {
   "cell_type": "markdown",
   "id": "e13bdf81",
   "metadata": {},
   "source": [
    "## XGBOOST"
   ]
  },
  {
   "cell_type": "code",
   "execution_count": 60,
   "id": "7f8766a0",
   "metadata": {},
   "outputs": [],
   "source": [
    "clf_xgb = GradientBoostingClassifier(n_estimators=100, learning_rate=0.1,max_depth=3, random_state=0)"
   ]
  },
  {
   "cell_type": "code",
   "execution_count": 61,
   "id": "091e2d0c",
   "metadata": {},
   "outputs": [
    {
     "data": {
      "text/html": [
       "<style>#sk-container-id-3 {color: black;}#sk-container-id-3 pre{padding: 0;}#sk-container-id-3 div.sk-toggleable {background-color: white;}#sk-container-id-3 label.sk-toggleable__label {cursor: pointer;display: block;width: 100%;margin-bottom: 0;padding: 0.3em;box-sizing: border-box;text-align: center;}#sk-container-id-3 label.sk-toggleable__label-arrow:before {content: \"▸\";float: left;margin-right: 0.25em;color: #696969;}#sk-container-id-3 label.sk-toggleable__label-arrow:hover:before {color: black;}#sk-container-id-3 div.sk-estimator:hover label.sk-toggleable__label-arrow:before {color: black;}#sk-container-id-3 div.sk-toggleable__content {max-height: 0;max-width: 0;overflow: hidden;text-align: left;background-color: #f0f8ff;}#sk-container-id-3 div.sk-toggleable__content pre {margin: 0.2em;color: black;border-radius: 0.25em;background-color: #f0f8ff;}#sk-container-id-3 input.sk-toggleable__control:checked~div.sk-toggleable__content {max-height: 200px;max-width: 100%;overflow: auto;}#sk-container-id-3 input.sk-toggleable__control:checked~label.sk-toggleable__label-arrow:before {content: \"▾\";}#sk-container-id-3 div.sk-estimator input.sk-toggleable__control:checked~label.sk-toggleable__label {background-color: #d4ebff;}#sk-container-id-3 div.sk-label input.sk-toggleable__control:checked~label.sk-toggleable__label {background-color: #d4ebff;}#sk-container-id-3 input.sk-hidden--visually {border: 0;clip: rect(1px 1px 1px 1px);clip: rect(1px, 1px, 1px, 1px);height: 1px;margin: -1px;overflow: hidden;padding: 0;position: absolute;width: 1px;}#sk-container-id-3 div.sk-estimator {font-family: monospace;background-color: #f0f8ff;border: 1px dotted black;border-radius: 0.25em;box-sizing: border-box;margin-bottom: 0.5em;}#sk-container-id-3 div.sk-estimator:hover {background-color: #d4ebff;}#sk-container-id-3 div.sk-parallel-item::after {content: \"\";width: 100%;border-bottom: 1px solid gray;flex-grow: 1;}#sk-container-id-3 div.sk-label:hover label.sk-toggleable__label {background-color: #d4ebff;}#sk-container-id-3 div.sk-serial::before {content: \"\";position: absolute;border-left: 1px solid gray;box-sizing: border-box;top: 0;bottom: 0;left: 50%;z-index: 0;}#sk-container-id-3 div.sk-serial {display: flex;flex-direction: column;align-items: center;background-color: white;padding-right: 0.2em;padding-left: 0.2em;position: relative;}#sk-container-id-3 div.sk-item {position: relative;z-index: 1;}#sk-container-id-3 div.sk-parallel {display: flex;align-items: stretch;justify-content: center;background-color: white;position: relative;}#sk-container-id-3 div.sk-item::before, #sk-container-id-3 div.sk-parallel-item::before {content: \"\";position: absolute;border-left: 1px solid gray;box-sizing: border-box;top: 0;bottom: 0;left: 50%;z-index: -1;}#sk-container-id-3 div.sk-parallel-item {display: flex;flex-direction: column;z-index: 1;position: relative;background-color: white;}#sk-container-id-3 div.sk-parallel-item:first-child::after {align-self: flex-end;width: 50%;}#sk-container-id-3 div.sk-parallel-item:last-child::after {align-self: flex-start;width: 50%;}#sk-container-id-3 div.sk-parallel-item:only-child::after {width: 0;}#sk-container-id-3 div.sk-dashed-wrapped {border: 1px dashed gray;margin: 0 0.4em 0.5em 0.4em;box-sizing: border-box;padding-bottom: 0.4em;background-color: white;}#sk-container-id-3 div.sk-label label {font-family: monospace;font-weight: bold;display: inline-block;line-height: 1.2em;}#sk-container-id-3 div.sk-label-container {text-align: center;}#sk-container-id-3 div.sk-container {/* jupyter's `normalize.less` sets `[hidden] { display: none; }` but bootstrap.min.css set `[hidden] { display: none !important; }` so we also need the `!important` here to be able to override the default hidden behavior on the sphinx rendered scikit-learn.org. See: https://github.com/scikit-learn/scikit-learn/issues/21755 */display: inline-block !important;position: relative;}#sk-container-id-3 div.sk-text-repr-fallback {display: none;}</style><div id=\"sk-container-id-3\" class=\"sk-top-container\"><div class=\"sk-text-repr-fallback\"><pre>GradientBoostingClassifier(random_state=0)</pre><b>In a Jupyter environment, please rerun this cell to show the HTML representation or trust the notebook. <br />On GitHub, the HTML representation is unable to render, please try loading this page with nbviewer.org.</b></div><div class=\"sk-container\" hidden><div class=\"sk-item\"><div class=\"sk-estimator sk-toggleable\"><input class=\"sk-toggleable__control sk-hidden--visually\" id=\"sk-estimator-id-3\" type=\"checkbox\" checked><label for=\"sk-estimator-id-3\" class=\"sk-toggleable__label sk-toggleable__label-arrow\">GradientBoostingClassifier</label><div class=\"sk-toggleable__content\"><pre>GradientBoostingClassifier(random_state=0)</pre></div></div></div></div></div>"
      ],
      "text/plain": [
       "GradientBoostingClassifier(random_state=0)"
      ]
     },
     "execution_count": 61,
     "metadata": {},
     "output_type": "execute_result"
    }
   ],
   "source": [
    "clf_xgb.fit(X_train, y_train)"
   ]
  },
  {
   "cell_type": "code",
   "execution_count": 62,
   "id": "a540a5b2",
   "metadata": {},
   "outputs": [],
   "source": [
    "y_pred_xgb = clf_xgb.predict(X_test)"
   ]
  },
  {
   "cell_type": "code",
   "execution_count": 63,
   "id": "d2b14ec9",
   "metadata": {},
   "outputs": [
    {
     "data": {
      "text/plain": [
       "0.7142857142857143"
      ]
     },
     "execution_count": 63,
     "metadata": {},
     "output_type": "execute_result"
    }
   ],
   "source": [
    "accuracy_score(y_test, y_pred_xgb)"
   ]
  },
  {
   "cell_type": "code",
   "execution_count": 64,
   "id": "8241b764",
   "metadata": {},
   "outputs": [
    {
     "data": {
      "text/plain": [
       "<Axes: >"
      ]
     },
     "execution_count": 64,
     "metadata": {},
     "output_type": "execute_result"
    },
    {
     "data": {
      "image/png": "[encoded data removed]",
      "text/plain": [
       "<Figure size 640x480 with 2 Axes>"
      ]
     },
     "metadata": {},
     "output_type": "display_data"
    }
   ],
   "source": [
    "# Confusion matirx of the XGB predictions\n",
    "sns.heatmap(confusion_matrix(y_test, y_pred_xgb), annot = True)"
   ]
  },
  {
   "cell_type": "code",
   "execution_count": 65,
   "id": "21ce376d",
   "metadata": {},
   "outputs": [
    {
     "name": "stdout",
     "output_type": "stream",
     "text": [
      "              precision    recall  f1-score   support\n",
      "\n",
      "           0       0.71      0.90      0.80        52\n",
      "           1       0.77      0.72      0.74        32\n",
      "           2       0.00      0.00      0.00        14\n",
      "\n",
      "    accuracy                           0.71        98\n",
      "   macro avg       0.49      0.54      0.51        98\n",
      "weighted avg       0.63      0.71      0.66        98\n",
      "\n"
     ]
    }
   ],
   "source": [
    "print(metrics.classification_report(y_test, y_pred_xgb))"
   ]
  },
  {
   "cell_type": "code",
   "execution_count": 66,
   "id": "623398cc",
   "metadata": {},
   "outputs": [
    {
     "data": {
      "image/png": "[encoded data removed]",
      "text/plain": [
       "<Figure size 640x480 with 1 Axes>"
      ]
     },
     "metadata": {},
     "output_type": "display_data"
    }
   ],
   "source": [
    "# Getting and plotting feature importance\n",
    "features_importance = pd.DataFrame(data = clf_xgb.feature_importances_,\n",
    "             index = clf_xgb.feature_names_in_,\n",
    "             columns = ['importance'])\n",
    "features_importance.sort_values('importance').plot(kind='barh', title='Feature Importance')\n",
    "plt.show()"
   ]
  },
  {
   "cell_type": "markdown",
   "id": "c036cdf3",
   "metadata": {},
   "source": [
    "## SVM"
   ]
  },
  {
   "cell_type": "code",
   "execution_count": 67,
   "id": "8d6dbf17",
   "metadata": {},
   "outputs": [
    {
     "data": {
      "text/html": [
       "<style>#sk-container-id-4 {color: black;}#sk-container-id-4 pre{padding: 0;}#sk-container-id-4 div.sk-toggleable {background-color: white;}#sk-container-id-4 label.sk-toggleable__label {cursor: pointer;display: block;width: 100%;margin-bottom: 0;padding: 0.3em;box-sizing: border-box;text-align: center;}#sk-container-id-4 label.sk-toggleable__label-arrow:before {content: \"▸\";float: left;margin-right: 0.25em;color: #696969;}#sk-container-id-4 label.sk-toggleable__label-arrow:hover:before {color: black;}#sk-container-id-4 div.sk-estimator:hover label.sk-toggleable__label-arrow:before {color: black;}#sk-container-id-4 div.sk-toggleable__content {max-height: 0;max-width: 0;overflow: hidden;text-align: left;background-color: #f0f8ff;}#sk-container-id-4 div.sk-toggleable__content pre {margin: 0.2em;color: black;border-radius: 0.25em;background-color: #f0f8ff;}#sk-container-id-4 input.sk-toggleable__control:checked~div.sk-toggleable__content {max-height: 200px;max-width: 100%;overflow: auto;}#sk-container-id-4 input.sk-toggleable__control:checked~label.sk-toggleable__label-arrow:before {content: \"▾\";}#sk-container-id-4 div.sk-estimator input.sk-toggleable__control:checked~label.sk-toggleable__label {background-color: #d4ebff;}#sk-container-id-4 div.sk-label input.sk-toggleable__control:checked~label.sk-toggleable__label {background-color: #d4ebff;}#sk-container-id-4 input.sk-hidden--visually {border: 0;clip: rect(1px 1px 1px 1px);clip: rect(1px, 1px, 1px, 1px);height: 1px;margin: -1px;overflow: hidden;padding: 0;position: absolute;width: 1px;}#sk-container-id-4 div.sk-estimator {font-family: monospace;background-color: #f0f8ff;border: 1px dotted black;border-radius: 0.25em;box-sizing: border-box;margin-bottom: 0.5em;}#sk-container-id-4 div.sk-estimator:hover {background-color: #d4ebff;}#sk-container-id-4 div.sk-parallel-item::after {content: \"\";width: 100%;border-bottom: 1px solid gray;flex-grow: 1;}#sk-container-id-4 div.sk-label:hover label.sk-toggleable__label {background-color: #d4ebff;}#sk-container-id-4 div.sk-serial::before {content: \"\";position: absolute;border-left: 1px solid gray;box-sizing: border-box;top: 0;bottom: 0;left: 50%;z-index: 0;}#sk-container-id-4 div.sk-serial {display: flex;flex-direction: column;align-items: center;background-color: white;padding-right: 0.2em;padding-left: 0.2em;position: relative;}#sk-container-id-4 div.sk-item {position: relative;z-index: 1;}#sk-container-id-4 div.sk-parallel {display: flex;align-items: stretch;justify-content: center;background-color: white;position: relative;}#sk-container-id-4 div.sk-item::before, #sk-container-id-4 div.sk-parallel-item::before {content: \"\";position: absolute;border-left: 1px solid gray;box-sizing: border-box;top: 0;bottom: 0;left: 50%;z-index: -1;}#sk-container-id-4 div.sk-parallel-item {display: flex;flex-direction: column;z-index: 1;position: relative;background-color: white;}#sk-container-id-4 div.sk-parallel-item:first-child::after {align-self: flex-end;width: 50%;}#sk-container-id-4 div.sk-parallel-item:last-child::after {align-self: flex-start;width: 50%;}#sk-container-id-4 div.sk-parallel-item:only-child::after {width: 0;}#sk-container-id-4 div.sk-dashed-wrapped {border: 1px dashed gray;margin: 0 0.4em 0.5em 0.4em;box-sizing: border-box;padding-bottom: 0.4em;background-color: white;}#sk-container-id-4 div.sk-label label {font-family: monospace;font-weight: bold;display: inline-block;line-height: 1.2em;}#sk-container-id-4 div.sk-label-container {text-align: center;}#sk-container-id-4 div.sk-container {/* jupyter's `normalize.less` sets `[hidden] { display: none; }` but bootstrap.min.css set `[hidden] { display: none !important; }` so we also need the `!important` here to be able to override the default hidden behavior on the sphinx rendered scikit-learn.org. See: https://github.com/scikit-learn/scikit-learn/issues/21755 */display: inline-block !important;position: relative;}#sk-container-id-4 div.sk-text-repr-fallback {display: none;}</style><div id=\"sk-container-id-4\" class=\"sk-top-container\"><div class=\"sk-text-repr-fallback\"><pre>SVC()</pre><b>In a Jupyter environment, please rerun this cell to show the HTML representation or trust the notebook. <br />On GitHub, the HTML representation is unable to render, please try loading this page with nbviewer.org.</b></div><div class=\"sk-container\" hidden><div class=\"sk-item\"><div class=\"sk-estimator sk-toggleable\"><input class=\"sk-toggleable__control sk-hidden--visually\" id=\"sk-estimator-id-4\" type=\"checkbox\" checked><label for=\"sk-estimator-id-4\" class=\"sk-toggleable__label sk-toggleable__label-arrow\">SVC</label><div class=\"sk-toggleable__content\"><pre>SVC()</pre></div></div></div></div></div>"
      ],
      "text/plain": [
       "SVC()"
      ]
     },
     "execution_count": 67,
     "metadata": {},
     "output_type": "execute_result"
    }
   ],
   "source": [
    "# Create and train the SVM classifier\n",
    "svm_classifier = SVC(kernel='rbf', C=1.0)\n",
    "svm_classifier.fit(X_train, y_train)"
   ]
  },
  {
   "cell_type": "code",
   "execution_count": 68,
   "id": "82299abc",
   "metadata": {},
   "outputs": [],
   "source": [
    "# Testing the SVM model on unseen data (test data)\n",
    "pred_SVM = svm_classifier.predict(X_test)"
   ]
  },
  {
   "cell_type": "code",
   "execution_count": 69,
   "id": "8e331055",
   "metadata": {},
   "outputs": [
    {
     "data": {
      "text/plain": [
       "0.7244897959183674"
      ]
     },
     "execution_count": 69,
     "metadata": {},
     "output_type": "execute_result"
    }
   ],
   "source": [
    "accuracy_score(y_test, pred_SVM)"
   ]
  },
  {
   "cell_type": "code",
   "execution_count": 70,
   "id": "ea4304c6",
   "metadata": {},
   "outputs": [
    {
     "data": {
      "text/plain": [
       "<Axes: >"
      ]
     },
     "execution_count": 70,
     "metadata": {},
     "output_type": "execute_result"
    },
    {
     "data": {
      "image/png": "[encoded data removed]",
      "text/plain": [
       "<Figure size 640x480 with 2 Axes>"
      ]
     },
     "metadata": {},
     "output_type": "display_data"
    }
   ],
   "source": [
    "# Confusion matirx of the XGB predictions\n",
    "sns.heatmap(confusion_matrix(y_test, pred_SVM), annot = True)"
   ]
  },
  {
   "cell_type": "code",
   "execution_count": 71,
   "id": "09b9a59e",
   "metadata": {},
   "outputs": [
    {
     "name": "stdout",
     "output_type": "stream",
     "text": [
      "              precision    recall  f1-score   support\n",
      "\n",
      "           0       0.75      0.87      0.80        52\n",
      "           1       0.68      0.81      0.74        32\n",
      "           2       0.00      0.00      0.00        14\n",
      "\n",
      "    accuracy                           0.72        98\n",
      "   macro avg       0.48      0.56      0.52        98\n",
      "weighted avg       0.62      0.72      0.67        98\n",
      "\n"
     ]
    }
   ],
   "source": [
    "print(metrics.classification_report(y_test, pred_SVM, zero_division=0))"
   ]
  },
  {
   "cell_type": "code",
   "execution_count": null,
   "id": "d20a4bd3",
   "metadata": {},
   "outputs": [],
   "source": []
  },
  {
   "cell_type": "markdown",
   "id": "8fdd7066",
   "metadata": {},
   "source": [
    "## KFOLD CROSS VALIDATION"
   ]
  },
  {
   "cell_type": "code",
   "execution_count": 72,
   "id": "d11eede5",
   "metadata": {},
   "outputs": [],
   "source": [
    "def KFold_cv(model_):\n",
    "    \n",
    "    kf = KFold(n_splits = 5, shuffle = True)\n",
    "    \n",
    "    for train, test in kf.split(cleaned_df):\n",
    "\n",
    "        train_df = cleaned_df.loc[train]\n",
    "        test_df = cleaned_df.loc[test]\n",
    "        \n",
    "\n",
    "        model_.fit(train_df[list(features.columns)], train_df['Decision'])\n",
    "\n",
    "\n",
    "        y_predictions = model_.predict(test_df[list(features.columns)])\n",
    "\n",
    "        print(metrics.classification_report(test_df['Decision'], y_predictions, zero_division=0))"
   ]
  },
  {
   "cell_type": "code",
   "execution_count": 73,
   "id": "740a237d",
   "metadata": {},
   "outputs": [
    {
     "name": "stdout",
     "output_type": "stream",
     "text": [
      "========================================\n",
      "MODEL == >  LogisticRegression(max_iter=3000)\n"
     ]
    },
    {
     "name": "stdout",
     "output_type": "stream",
     "text": [
      "              precision    recall  f1-score   support\n",
      "\n",
      "           0       0.74      0.87      0.80        23\n",
      "           1       0.86      0.86      0.86        21\n",
      "           2       0.00      0.00      0.00         5\n",
      "\n",
      "    accuracy                           0.78        49\n",
      "   macro avg       0.53      0.58      0.55        49\n",
      "weighted avg       0.72      0.78      0.74        49\n",
      "\n",
      "              precision    recall  f1-score   support\n",
      "\n",
      "           0       0.80      0.83      0.82        24\n",
      "           1       0.74      0.81      0.77        21\n",
      "           2       1.00      0.25      0.40         4\n",
      "\n",
      "    accuracy                           0.78        49\n",
      "   macro avg       0.85      0.63      0.66        49\n",
      "weighted avg       0.79      0.78      0.76        49\n",
      "\n",
      "              precision    recall  f1-score   support\n",
      "\n",
      "           0       0.85      0.81      0.83        27\n",
      "           1       0.75      0.88      0.81        17\n",
      "           2       0.33      0.20      0.25         5\n",
      "\n",
      "    accuracy                           0.78        49\n",
      "   macro avg       0.64      0.63      0.63        49\n",
      "weighted avg       0.76      0.78      0.76        49\n",
      "\n",
      "              precision    recall  f1-score   support\n",
      "\n",
      "           0       0.84      0.96      0.90        27\n",
      "           1       0.75      0.80      0.77        15\n",
      "           2       0.00      0.00      0.00         6\n",
      "\n",
      "    accuracy                           0.79        48\n",
      "   macro avg       0.53      0.59      0.56        48\n",
      "weighted avg       0.71      0.79      0.75        48\n",
      "\n",
      "              precision    recall  f1-score   support\n",
      "\n",
      "           0       0.75      0.67      0.71        27\n",
      "           1       0.57      0.81      0.67        16\n",
      "           2       0.00      0.00      0.00         5\n",
      "\n",
      "    accuracy                           0.65        48\n",
      "   macro avg       0.44      0.49      0.46        48\n",
      "weighted avg       0.61      0.65      0.62        48\n",
      "\n",
      "========================================\n",
      "========================================\n",
      "MODEL == >  DecisionTreeClassifier(criterion='entropy')\n",
      "              precision    recall  f1-score   support\n",
      "\n",
      "           0       0.89      0.59      0.71        29\n",
      "           1       0.65      0.76      0.70        17\n",
      "           2       0.10      0.33      0.15         3\n",
      "\n",
      "    accuracy                           0.63        49\n",
      "   macro avg       0.55      0.56      0.52        49\n",
      "weighted avg       0.76      0.63      0.67        49\n",
      "\n",
      "              precision    recall  f1-score   support\n",
      "\n",
      "           0       0.92      0.82      0.87        28\n",
      "           1       1.00      0.67      0.80        18\n",
      "           2       0.25      1.00      0.40         3\n",
      "\n",
      "    accuracy                           0.78        49\n",
      "   macro avg       0.72      0.83      0.69        49\n",
      "weighted avg       0.91      0.78      0.81        49\n",
      "\n",
      "              precision    recall  f1-score   support\n",
      "\n",
      "           0       0.76      0.76      0.76        25\n",
      "           1       0.63      0.60      0.62        20\n",
      "           2       0.00      0.00      0.00         4\n",
      "\n",
      "    accuracy                           0.63        49\n",
      "   macro avg       0.46      0.45      0.46        49\n",
      "weighted avg       0.65      0.63      0.64        49\n",
      "\n",
      "              precision    recall  f1-score   support\n",
      "\n",
      "           0       0.77      0.74      0.76        23\n",
      "           1       0.71      0.94      0.81        16\n",
      "           2       0.40      0.22      0.29         9\n",
      "\n",
      "    accuracy                           0.71        48\n",
      "   macro avg       0.63      0.63      0.62        48\n",
      "weighted avg       0.68      0.71      0.69        48\n",
      "\n",
      "              precision    recall  f1-score   support\n",
      "\n",
      "           0       0.67      0.61      0.64        23\n",
      "           1       0.65      0.79      0.71        19\n",
      "           2       0.00      0.00      0.00         6\n",
      "\n",
      "    accuracy                           0.60        48\n",
      "   macro avg       0.44      0.47      0.45        48\n",
      "weighted avg       0.58      0.60      0.59        48\n",
      "\n",
      "========================================\n",
      "========================================\n",
      "MODEL == >  GradientBoostingClassifier(random_state=0)\n",
      "              precision    recall  f1-score   support\n",
      "\n",
      "           0       0.55      0.81      0.65        21\n",
      "           1       0.82      0.61      0.70        23\n",
      "           2       0.00      0.00      0.00         5\n",
      "\n",
      "    accuracy                           0.63        49\n",
      "   macro avg       0.46      0.47      0.45        49\n",
      "weighted avg       0.62      0.63      0.61        49\n",
      "\n",
      "              precision    recall  f1-score   support\n",
      "\n",
      "           0       0.82      0.72      0.77        25\n",
      "           1       0.79      0.86      0.83        22\n",
      "           2       0.00      0.00      0.00         2\n",
      "\n",
      "    accuracy                           0.76        49\n",
      "   macro avg       0.54      0.53      0.53        49\n",
      "weighted avg       0.77      0.76      0.76        49\n",
      "\n",
      "              precision    recall  f1-score   support\n",
      "\n",
      "           0       0.82      0.79      0.81        29\n",
      "           1       0.58      0.85      0.69        13\n",
      "           2       0.00      0.00      0.00         7\n",
      "\n",
      "    accuracy                           0.69        49\n",
      "   macro avg       0.47      0.55      0.50        49\n",
      "weighted avg       0.64      0.69      0.66        49\n",
      "\n",
      "              precision    recall  f1-score   support\n",
      "\n",
      "           0       0.81      0.84      0.82        25\n",
      "           1       0.70      0.78      0.74        18\n",
      "           2       0.00      0.00      0.00         5\n",
      "\n",
      "    accuracy                           0.73        48\n",
      "   macro avg       0.50      0.54      0.52        48\n",
      "weighted avg       0.68      0.73      0.71        48\n",
      "\n",
      "              precision    recall  f1-score   support\n",
      "\n",
      "           0       0.75      0.86      0.80        28\n",
      "           1       0.75      0.64      0.69        14\n",
      "           2       0.25      0.17      0.20         6\n",
      "\n",
      "    accuracy                           0.71        48\n",
      "   macro avg       0.58      0.56      0.56        48\n",
      "weighted avg       0.69      0.71      0.69        48\n",
      "\n",
      "========================================\n",
      "========================================\n",
      "MODEL == >  SVC()\n",
      "              precision    recall  f1-score   support\n",
      "\n",
      "           0       0.85      0.88      0.87        26\n",
      "           1       0.86      0.90      0.88        21\n",
      "           2       0.00      0.00      0.00         2\n",
      "\n",
      "    accuracy                           0.86        49\n",
      "   macro avg       0.57      0.60      0.58        49\n",
      "weighted avg       0.82      0.86      0.84        49\n",
      "\n",
      "              precision    recall  f1-score   support\n",
      "\n",
      "           0       0.70      0.76      0.73        25\n",
      "           1       0.68      0.88      0.77        17\n",
      "           2       0.00      0.00      0.00         7\n",
      "\n",
      "    accuracy                           0.69        49\n",
      "   macro avg       0.46      0.55      0.50        49\n",
      "weighted avg       0.60      0.69      0.64        49\n",
      "\n",
      "              precision    recall  f1-score   support\n",
      "\n",
      "           0       0.83      0.73      0.78        26\n",
      "           1       0.62      0.94      0.74        17\n",
      "           2       0.00      0.00      0.00         6\n",
      "\n",
      "    accuracy                           0.71        49\n",
      "   macro avg       0.48      0.56      0.51        49\n",
      "weighted avg       0.65      0.71      0.67        49\n",
      "\n",
      "              precision    recall  f1-score   support\n",
      "\n",
      "           0       0.75      0.96      0.84        28\n",
      "           1       0.67      0.67      0.67        12\n",
      "           2       0.00      0.00      0.00         8\n",
      "\n",
      "    accuracy                           0.73        48\n",
      "   macro avg       0.47      0.54      0.50        48\n",
      "weighted avg       0.60      0.73      0.66        48\n",
      "\n",
      "              precision    recall  f1-score   support\n",
      "\n",
      "           0       0.82      1.00      0.90        23\n",
      "           1       0.95      0.83      0.88        23\n",
      "           2       0.00      0.00      0.00         2\n",
      "\n",
      "    accuracy                           0.88        48\n",
      "   macro avg       0.59      0.61      0.60        48\n",
      "weighted avg       0.85      0.88      0.86        48\n",
      "\n",
      "========================================\n"
     ]
    }
   ],
   "source": [
    "#Cross Validation Score\n",
    "\n",
    "# Initializing the model LR\n",
    "mdl_LR = LogisticRegression(max_iter = 3000)\n",
    "\n",
    "# Intializing the decision tree classifier model\n",
    "mdl_DT = DecisionTreeClassifier(criterion='entropy')\n",
    "\n",
    "# Intializing the XGBoost classifier model\n",
    "clf_xgb = GradientBoostingClassifier(n_estimators=100, learning_rate=0.1,max_depth=3, random_state=0)\n",
    "\n",
    "# Create and train the SVM classifier\n",
    "svm_classifier = SVC(kernel='rbf', C=1.0)\n",
    "\n",
    "list_models = [mdl_LR, mdl_DT, clf_xgb, svm_classifier]\n",
    "\n",
    "for mdl in list_models:\n",
    "    print(\"========================================\")\n",
    "    print(\"MODEL == > \", mdl )\n",
    "    KFold_cv(mdl)\n",
    "    print(\"========================================\")"
   ]
  },
  {
   "cell_type": "markdown",
   "id": "c6e8672d",
   "metadata": {},
   "source": [
    "# Building ML Classifcation Models with SMOTE technique"
   ]
  },
  {
   "cell_type": "code",
   "execution_count": 74,
   "id": "7fb2ce94",
   "metadata": {},
   "outputs": [
    {
     "data": {
      "text/plain": [
       "(145, 145, 98, 98)"
      ]
     },
     "execution_count": 74,
     "metadata": {},
     "output_type": "execute_result"
    }
   ],
   "source": [
    "len(X_train), len(y_train), len(X_test), len(y_test)"
   ]
  },
  {
   "cell_type": "code",
   "execution_count": 75,
   "id": "f921b35b",
   "metadata": {
    "scrolled": true
   },
   "outputs": [
    {
     "name": "stdout",
     "output_type": "stream",
     "text": [
      "Resampled class distribution: Counter({0: 128, 1: 128, 2: 128})\n"
     ]
    }
   ],
   "source": [
    "\n",
    "# Apply SMOTE to the training data\n",
    "smote = SMOTE(random_state=42)\n",
    "X_resampled, y_resampled = smote.fit_resample(features, target)\n",
    "\n",
    "print(\"Resampled class distribution:\", Counter(y_resampled))"
   ]
  },
  {
   "cell_type": "code",
   "execution_count": 76,
   "id": "70b52df7",
   "metadata": {},
   "outputs": [
    {
     "data": {
      "text/html": [
       "<div>\n",
       "<style scoped>\n",
       "    .dataframe tbody tr th:only-of-type {\n",
       "        vertical-align: middle;\n",
       "    }\n",
       "\n",
       "    .dataframe tbody tr th {\n",
       "        vertical-align: top;\n",
       "    }\n",
       "\n",
       "    .dataframe thead th {\n",
       "        text-align: right;\n",
       "    }\n",
       "</style>\n",
       "<table border=\"1\" class=\"dataframe\">\n",
       "  <thead>\n",
       "    <tr style=\"text-align: right;\">\n",
       "      <th></th>\n",
       "      <th>Sexe</th>\n",
       "      <th>Etio</th>\n",
       "      <th>CV</th>\n",
       "      <th>Age</th>\n",
       "      <th>Esterman</th>\n",
       "      <th>ST</th>\n",
       "      <th>DT_centrale</th>\n",
       "      <th>DT_quadsupd</th>\n",
       "      <th>DT_quadsupg</th>\n",
       "      <th>DT_quadinfg</th>\n",
       "      <th>DT_quadinfd</th>\n",
       "      <th>DT_dis_Centrale</th>\n",
       "      <th>DT_dis_quadinfg</th>\n",
       "      <th>DT_dis_quadinfd</th>\n",
       "      <th>DT_dis_quadsupg</th>\n",
       "      <th>DT_dis_quadsupd</th>\n",
       "    </tr>\n",
       "  </thead>\n",
       "  <tbody>\n",
       "    <tr>\n",
       "      <th>0</th>\n",
       "      <td>0</td>\n",
       "      <td>3</td>\n",
       "      <td>0</td>\n",
       "      <td>33</td>\n",
       "      <td>45</td>\n",
       "      <td>0</td>\n",
       "      <td>3</td>\n",
       "      <td>15</td>\n",
       "      <td>3</td>\n",
       "      <td>4</td>\n",
       "      <td>14</td>\n",
       "      <td>6</td>\n",
       "      <td>10</td>\n",
       "      <td>17.000000</td>\n",
       "      <td>10</td>\n",
       "      <td>12</td>\n",
       "    </tr>\n",
       "    <tr>\n",
       "      <th>1</th>\n",
       "      <td>0</td>\n",
       "      <td>3</td>\n",
       "      <td>0</td>\n",
       "      <td>40</td>\n",
       "      <td>48</td>\n",
       "      <td>1</td>\n",
       "      <td>3</td>\n",
       "      <td>2</td>\n",
       "      <td>0</td>\n",
       "      <td>0</td>\n",
       "      <td>0</td>\n",
       "      <td>8</td>\n",
       "      <td>4</td>\n",
       "      <td>5.000000</td>\n",
       "      <td>1</td>\n",
       "      <td>2</td>\n",
       "    </tr>\n",
       "    <tr>\n",
       "      <th>2</th>\n",
       "      <td>1</td>\n",
       "      <td>2</td>\n",
       "      <td>0</td>\n",
       "      <td>52</td>\n",
       "      <td>42</td>\n",
       "      <td>0</td>\n",
       "      <td>3</td>\n",
       "      <td>4</td>\n",
       "      <td>1</td>\n",
       "      <td>2</td>\n",
       "      <td>7</td>\n",
       "      <td>6</td>\n",
       "      <td>5</td>\n",
       "      <td>10.000000</td>\n",
       "      <td>3</td>\n",
       "      <td>3</td>\n",
       "    </tr>\n",
       "    <tr>\n",
       "      <th>3</th>\n",
       "      <td>1</td>\n",
       "      <td>3</td>\n",
       "      <td>0</td>\n",
       "      <td>37</td>\n",
       "      <td>40</td>\n",
       "      <td>1</td>\n",
       "      <td>1</td>\n",
       "      <td>8</td>\n",
       "      <td>1</td>\n",
       "      <td>0</td>\n",
       "      <td>10</td>\n",
       "      <td>3</td>\n",
       "      <td>6</td>\n",
       "      <td>10.000000</td>\n",
       "      <td>2</td>\n",
       "      <td>11</td>\n",
       "    </tr>\n",
       "    <tr>\n",
       "      <th>4</th>\n",
       "      <td>1</td>\n",
       "      <td>0</td>\n",
       "      <td>1</td>\n",
       "      <td>39</td>\n",
       "      <td>47</td>\n",
       "      <td>0</td>\n",
       "      <td>1</td>\n",
       "      <td>0</td>\n",
       "      <td>13</td>\n",
       "      <td>9</td>\n",
       "      <td>1</td>\n",
       "      <td>6</td>\n",
       "      <td>10</td>\n",
       "      <td>1.000000</td>\n",
       "      <td>7</td>\n",
       "      <td>1</td>\n",
       "    </tr>\n",
       "    <tr>\n",
       "      <th>...</th>\n",
       "      <td>...</td>\n",
       "      <td>...</td>\n",
       "      <td>...</td>\n",
       "      <td>...</td>\n",
       "      <td>...</td>\n",
       "      <td>...</td>\n",
       "      <td>...</td>\n",
       "      <td>...</td>\n",
       "      <td>...</td>\n",
       "      <td>...</td>\n",
       "      <td>...</td>\n",
       "      <td>...</td>\n",
       "      <td>...</td>\n",
       "      <td>...</td>\n",
       "      <td>...</td>\n",
       "      <td>...</td>\n",
       "    </tr>\n",
       "    <tr>\n",
       "      <th>379</th>\n",
       "      <td>0</td>\n",
       "      <td>3</td>\n",
       "      <td>3</td>\n",
       "      <td>61</td>\n",
       "      <td>0</td>\n",
       "      <td>1</td>\n",
       "      <td>3</td>\n",
       "      <td>1</td>\n",
       "      <td>0</td>\n",
       "      <td>0</td>\n",
       "      <td>0</td>\n",
       "      <td>2</td>\n",
       "      <td>2</td>\n",
       "      <td>2.718686</td>\n",
       "      <td>0</td>\n",
       "      <td>1</td>\n",
       "    </tr>\n",
       "    <tr>\n",
       "      <th>380</th>\n",
       "      <td>1</td>\n",
       "      <td>3</td>\n",
       "      <td>5</td>\n",
       "      <td>47</td>\n",
       "      <td>18</td>\n",
       "      <td>1</td>\n",
       "      <td>2</td>\n",
       "      <td>0</td>\n",
       "      <td>4</td>\n",
       "      <td>2</td>\n",
       "      <td>1</td>\n",
       "      <td>1</td>\n",
       "      <td>3</td>\n",
       "      <td>2.710210</td>\n",
       "      <td>8</td>\n",
       "      <td>1</td>\n",
       "    </tr>\n",
       "    <tr>\n",
       "      <th>381</th>\n",
       "      <td>1</td>\n",
       "      <td>1</td>\n",
       "      <td>3</td>\n",
       "      <td>50</td>\n",
       "      <td>6</td>\n",
       "      <td>1</td>\n",
       "      <td>5</td>\n",
       "      <td>0</td>\n",
       "      <td>3</td>\n",
       "      <td>0</td>\n",
       "      <td>0</td>\n",
       "      <td>3</td>\n",
       "      <td>3</td>\n",
       "      <td>6.042189</td>\n",
       "      <td>5</td>\n",
       "      <td>2</td>\n",
       "    </tr>\n",
       "    <tr>\n",
       "      <th>382</th>\n",
       "      <td>0</td>\n",
       "      <td>2</td>\n",
       "      <td>2</td>\n",
       "      <td>32</td>\n",
       "      <td>1</td>\n",
       "      <td>1</td>\n",
       "      <td>5</td>\n",
       "      <td>0</td>\n",
       "      <td>0</td>\n",
       "      <td>0</td>\n",
       "      <td>0</td>\n",
       "      <td>9</td>\n",
       "      <td>6</td>\n",
       "      <td>3.014350</td>\n",
       "      <td>3</td>\n",
       "      <td>2</td>\n",
       "    </tr>\n",
       "    <tr>\n",
       "      <th>383</th>\n",
       "      <td>0</td>\n",
       "      <td>3</td>\n",
       "      <td>5</td>\n",
       "      <td>69</td>\n",
       "      <td>5</td>\n",
       "      <td>0</td>\n",
       "      <td>3</td>\n",
       "      <td>4</td>\n",
       "      <td>2</td>\n",
       "      <td>0</td>\n",
       "      <td>0</td>\n",
       "      <td>2</td>\n",
       "      <td>1</td>\n",
       "      <td>1.000000</td>\n",
       "      <td>2</td>\n",
       "      <td>6</td>\n",
       "    </tr>\n",
       "  </tbody>\n",
       "</table>\n",
       "<p>384 rows × 16 columns</p>\n",
       "</div>"
      ],
      "text/plain": [
       "     Sexe  Etio  CV  Age  Esterman  ST  DT_centrale  DT_quadsupd  DT_quadsupg  \\\n",
       "0       0     3   0   33        45   0            3           15            3   \n",
       "1       0     3   0   40        48   1            3            2            0   \n",
       "2       1     2   0   52        42   0            3            4            1   \n",
       "3       1     3   0   37        40   1            1            8            1   \n",
       "4       1     0   1   39        47   0            1            0           13   \n",
       "..    ...   ...  ..  ...       ...  ..          ...          ...          ...   \n",
       "379     0     3   3   61         0   1            3            1            0   \n",
       "380     1     3   5   47        18   1            2            0            4   \n",
       "381     1     1   3   50         6   1            5            0            3   \n",
       "382     0     2   2   32         1   1            5            0            0   \n",
       "383     0     3   5   69         5   0            3            4            2   \n",
       "\n",
       "     DT_quadinfg  DT_quadinfd  DT_dis_Centrale  DT_dis_quadinfg  \\\n",
       "0              4           14                6               10   \n",
       "1              0            0                8                4   \n",
       "2              2            7                6                5   \n",
       "3              0           10                3                6   \n",
       "4              9            1                6               10   \n",
       "..           ...          ...              ...              ...   \n",
       "379            0            0                2                2   \n",
       "380            2            1                1                3   \n",
       "381            0            0                3                3   \n",
       "382            0            0                9                6   \n",
       "383            0            0                2                1   \n",
       "\n",
       "     DT_dis_quadinfd  DT_dis_quadsupg  DT_dis_quadsupd  \n",
       "0          17.000000               10               12  \n",
       "1           5.000000                1                2  \n",
       "2          10.000000                3                3  \n",
       "3          10.000000                2               11  \n",
       "4           1.000000                7                1  \n",
       "..               ...              ...              ...  \n",
       "379         2.718686                0                1  \n",
       "380         2.710210                8                1  \n",
       "381         6.042189                5                2  \n",
       "382         3.014350                3                2  \n",
       "383         1.000000                2                6  \n",
       "\n",
       "[384 rows x 16 columns]"
      ]
     },
     "execution_count": 76,
     "metadata": {},
     "output_type": "execute_result"
    }
   ],
   "source": [
    "X_resampled"
   ]
  },
  {
   "cell_type": "code",
   "execution_count": 77,
   "id": "8ccf7e53",
   "metadata": {},
   "outputs": [],
   "source": [
    "# Splitting the data to training and test sets\n",
    "X_train, X_test, y_train, y_test = train_test_split(X_resampled, y_resampled, test_size = 0.4)"
   ]
  },
  {
   "cell_type": "markdown",
   "id": "1af3f965",
   "metadata": {},
   "source": [
    "## Logistic Regression"
   ]
  },
  {
   "cell_type": "code",
   "execution_count": 78,
   "id": "319e638f",
   "metadata": {},
   "outputs": [],
   "source": [
    "# Initializing the model LR\n",
    "mdl_LR_2 = LogisticRegression(max_iter = 3000)"
   ]
  },
  {
   "cell_type": "code",
   "execution_count": 79,
   "id": "a3b9a810",
   "metadata": {},
   "outputs": [
    {
     "data": {
      "text/html": [
       "<style>#sk-container-id-5 {color: black;}#sk-container-id-5 pre{padding: 0;}#sk-container-id-5 div.sk-toggleable {background-color: white;}#sk-container-id-5 label.sk-toggleable__label {cursor: pointer;display: block;width: 100%;margin-bottom: 0;padding: 0.3em;box-sizing: border-box;text-align: center;}#sk-container-id-5 label.sk-toggleable__label-arrow:before {content: \"▸\";float: left;margin-right: 0.25em;color: #696969;}#sk-container-id-5 label.sk-toggleable__label-arrow:hover:before {color: black;}#sk-container-id-5 div.sk-estimator:hover label.sk-toggleable__label-arrow:before {color: black;}#sk-container-id-5 div.sk-toggleable__content {max-height: 0;max-width: 0;overflow: hidden;text-align: left;background-color: #f0f8ff;}#sk-container-id-5 div.sk-toggleable__content pre {margin: 0.2em;color: black;border-radius: 0.25em;background-color: #f0f8ff;}#sk-container-id-5 input.sk-toggleable__control:checked~div.sk-toggleable__content {max-height: 200px;max-width: 100%;overflow: auto;}#sk-container-id-5 input.sk-toggleable__control:checked~label.sk-toggleable__label-arrow:before {content: \"▾\";}#sk-container-id-5 div.sk-estimator input.sk-toggleable__control:checked~label.sk-toggleable__label {background-color: #d4ebff;}#sk-container-id-5 div.sk-label input.sk-toggleable__control:checked~label.sk-toggleable__label {background-color: #d4ebff;}#sk-container-id-5 input.sk-hidden--visually {border: 0;clip: rect(1px 1px 1px 1px);clip: rect(1px, 1px, 1px, 1px);height: 1px;margin: -1px;overflow: hidden;padding: 0;position: absolute;width: 1px;}#sk-container-id-5 div.sk-estimator {font-family: monospace;background-color: #f0f8ff;border: 1px dotted black;border-radius: 0.25em;box-sizing: border-box;margin-bottom: 0.5em;}#sk-container-id-5 div.sk-estimator:hover {background-color: #d4ebff;}#sk-container-id-5 div.sk-parallel-item::after {content: \"\";width: 100%;border-bottom: 1px solid gray;flex-grow: 1;}#sk-container-id-5 div.sk-label:hover label.sk-toggleable__label {background-color: #d4ebff;}#sk-container-id-5 div.sk-serial::before {content: \"\";position: absolute;border-left: 1px solid gray;box-sizing: border-box;top: 0;bottom: 0;left: 50%;z-index: 0;}#sk-container-id-5 div.sk-serial {display: flex;flex-direction: column;align-items: center;background-color: white;padding-right: 0.2em;padding-left: 0.2em;position: relative;}#sk-container-id-5 div.sk-item {position: relative;z-index: 1;}#sk-container-id-5 div.sk-parallel {display: flex;align-items: stretch;justify-content: center;background-color: white;position: relative;}#sk-container-id-5 div.sk-item::before, #sk-container-id-5 div.sk-parallel-item::before {content: \"\";position: absolute;border-left: 1px solid gray;box-sizing: border-box;top: 0;bottom: 0;left: 50%;z-index: -1;}#sk-container-id-5 div.sk-parallel-item {display: flex;flex-direction: column;z-index: 1;position: relative;background-color: white;}#sk-container-id-5 div.sk-parallel-item:first-child::after {align-self: flex-end;width: 50%;}#sk-container-id-5 div.sk-parallel-item:last-child::after {align-self: flex-start;width: 50%;}#sk-container-id-5 div.sk-parallel-item:only-child::after {width: 0;}#sk-container-id-5 div.sk-dashed-wrapped {border: 1px dashed gray;margin: 0 0.4em 0.5em 0.4em;box-sizing: border-box;padding-bottom: 0.4em;background-color: white;}#sk-container-id-5 div.sk-label label {font-family: monospace;font-weight: bold;display: inline-block;line-height: 1.2em;}#sk-container-id-5 div.sk-label-container {text-align: center;}#sk-container-id-5 div.sk-container {/* jupyter's `normalize.less` sets `[hidden] { display: none; }` but bootstrap.min.css set `[hidden] { display: none !important; }` so we also need the `!important` here to be able to override the default hidden behavior on the sphinx rendered scikit-learn.org. See: https://github.com/scikit-learn/scikit-learn/issues/21755 */display: inline-block !important;position: relative;}#sk-container-id-5 div.sk-text-repr-fallback {display: none;}</style><div id=\"sk-container-id-5\" class=\"sk-top-container\"><div class=\"sk-text-repr-fallback\"><pre>LogisticRegression(max_iter=3000)</pre><b>In a Jupyter environment, please rerun this cell to show the HTML representation or trust the notebook. <br />On GitHub, the HTML representation is unable to render, please try loading this page with nbviewer.org.</b></div><div class=\"sk-container\" hidden><div class=\"sk-item\"><div class=\"sk-estimator sk-toggleable\"><input class=\"sk-toggleable__control sk-hidden--visually\" id=\"sk-estimator-id-5\" type=\"checkbox\" checked><label for=\"sk-estimator-id-5\" class=\"sk-toggleable__label sk-toggleable__label-arrow\">LogisticRegression</label><div class=\"sk-toggleable__content\"><pre>LogisticRegression(max_iter=3000)</pre></div></div></div></div></div>"
      ],
      "text/plain": [
       "LogisticRegression(max_iter=3000)"
      ]
     },
     "execution_count": 79,
     "metadata": {},
     "output_type": "execute_result"
    }
   ],
   "source": [
    "# Fitting the training data to the LR model\n",
    "mdl_LR_2.fit(X_train, y_train)"
   ]
  },
  {
   "cell_type": "code",
   "execution_count": 80,
   "id": "5666325f",
   "metadata": {},
   "outputs": [
    {
     "data": {
      "text/plain": [
       "(array([-2.42764065,  2.98711571, -0.55947506]),\n",
       " array([[ 0.53531163,  0.18358375, -0.05214625, -0.01500251, -0.00321256,\n",
       "          0.21372049,  0.03207061,  0.18508256,  0.22251112,  0.02891091,\n",
       "          0.07531431,  0.0737756 ,  0.23076103,  0.07220524, -0.07604933,\n",
       "          0.08230038],\n",
       "        [-0.3155565 , -0.00857342, -0.21854137,  0.00544256,  0.00130434,\n",
       "         -0.20679769,  0.0086148 , -0.27297679, -0.05614973, -0.17298609,\n",
       "          0.05812237, -0.08144713, -0.01531217, -0.22310565, -0.08342414,\n",
       "         -0.06637422],\n",
       "        [-0.21975513, -0.17501034,  0.27068762,  0.00955995,  0.00190823,\n",
       "         -0.0069228 , -0.04068541,  0.08789422, -0.1663614 ,  0.14407517,\n",
       "         -0.13343668,  0.00767154, -0.21544886,  0.15090041,  0.15947347,\n",
       "         -0.01592617]]))"
      ]
     },
     "execution_count": 80,
     "metadata": {},
     "output_type": "execute_result"
    }
   ],
   "source": [
    "# Getting the intercept and coeffecients values of the LR model\n",
    "mdl_LR_2.intercept_, mdl_LR_2.coef_"
   ]
  },
  {
   "cell_type": "code",
   "execution_count": 81,
   "id": "7cf846c2",
   "metadata": {},
   "outputs": [],
   "source": [
    "# Testing the LR model on unseen data (test data)\n",
    "pred_LR = mdl_LR_2.predict(X_test)"
   ]
  },
  {
   "cell_type": "code",
   "execution_count": 82,
   "id": "e8145a0c",
   "metadata": {},
   "outputs": [
    {
     "data": {
      "text/plain": [
       "0.6818181818181818"
      ]
     },
     "execution_count": 82,
     "metadata": {},
     "output_type": "execute_result"
    }
   ],
   "source": [
    "# Accuracy score of LR model\n",
    "accuracy_score(y_test, pred_LR)"
   ]
  },
  {
   "cell_type": "code",
   "execution_count": 83,
   "id": "01a32392",
   "metadata": {},
   "outputs": [
    {
     "data": {
      "text/plain": [
       "(154, 154)"
      ]
     },
     "execution_count": 83,
     "metadata": {},
     "output_type": "execute_result"
    }
   ],
   "source": [
    "len(y_test), len(pred_LR)"
   ]
  },
  {
   "cell_type": "code",
   "execution_count": 84,
   "id": "eb47da56",
   "metadata": {},
   "outputs": [
    {
     "data": {
      "text/plain": [
       "<Axes: >"
      ]
     },
     "execution_count": 84,
     "metadata": {},
     "output_type": "execute_result"
    },
    {
     "data": {
      "image/png": "[encoded data removed]",
      "text/plain": [
       "<Figure size 640x480 with 2 Axes>"
      ]
     },
     "metadata": {},
     "output_type": "display_data"
    }
   ],
   "source": [
    "# Confusion matirx of the LR predictions\n",
    "sns.heatmap(confusion_matrix(y_test, pred_LR), annot = True)"
   ]
  },
  {
   "cell_type": "code",
   "execution_count": 85,
   "id": "4728fbcf",
   "metadata": {},
   "outputs": [
    {
     "name": "stdout",
     "output_type": "stream",
     "text": [
      "              precision    recall  f1-score   support\n",
      "\n",
      "           0       0.83      0.70      0.76        54\n",
      "           1       0.64      0.70      0.67        46\n",
      "           2       0.60      0.65      0.62        54\n",
      "\n",
      "    accuracy                           0.68       154\n",
      "   macro avg       0.69      0.68      0.68       154\n",
      "weighted avg       0.69      0.68      0.68       154\n",
      "\n"
     ]
    }
   ],
   "source": [
    "print(metrics.classification_report(y_test, pred_LR))"
   ]
  },
  {
   "cell_type": "markdown",
   "id": "86794888",
   "metadata": {},
   "source": [
    "## SVM"
   ]
  },
  {
   "cell_type": "code",
   "execution_count": 86,
   "id": "f7c9bda5",
   "metadata": {},
   "outputs": [
    {
     "data": {
      "text/html": [
       "<style>#sk-container-id-6 {color: black;}#sk-container-id-6 pre{padding: 0;}#sk-container-id-6 div.sk-toggleable {background-color: white;}#sk-container-id-6 label.sk-toggleable__label {cursor: pointer;display: block;width: 100%;margin-bottom: 0;padding: 0.3em;box-sizing: border-box;text-align: center;}#sk-container-id-6 label.sk-toggleable__label-arrow:before {content: \"▸\";float: left;margin-right: 0.25em;color: #696969;}#sk-container-id-6 label.sk-toggleable__label-arrow:hover:before {color: black;}#sk-container-id-6 div.sk-estimator:hover label.sk-toggleable__label-arrow:before {color: black;}#sk-container-id-6 div.sk-toggleable__content {max-height: 0;max-width: 0;overflow: hidden;text-align: left;background-color: #f0f8ff;}#sk-container-id-6 div.sk-toggleable__content pre {margin: 0.2em;color: black;border-radius: 0.25em;background-color: #f0f8ff;}#sk-container-id-6 input.sk-toggleable__control:checked~div.sk-toggleable__content {max-height: 200px;max-width: 100%;overflow: auto;}#sk-container-id-6 input.sk-toggleable__control:checked~label.sk-toggleable__label-arrow:before {content: \"▾\";}#sk-container-id-6 div.sk-estimator input.sk-toggleable__control:checked~label.sk-toggleable__label {background-color: #d4ebff;}#sk-container-id-6 div.sk-label input.sk-toggleable__control:checked~label.sk-toggleable__label {background-color: #d4ebff;}#sk-container-id-6 input.sk-hidden--visually {border: 0;clip: rect(1px 1px 1px 1px);clip: rect(1px, 1px, 1px, 1px);height: 1px;margin: -1px;overflow: hidden;padding: 0;position: absolute;width: 1px;}#sk-container-id-6 div.sk-estimator {font-family: monospace;background-color: #f0f8ff;border: 1px dotted black;border-radius: 0.25em;box-sizing: border-box;margin-bottom: 0.5em;}#sk-container-id-6 div.sk-estimator:hover {background-color: #d4ebff;}#sk-container-id-6 div.sk-parallel-item::after {content: \"\";width: 100%;border-bottom: 1px solid gray;flex-grow: 1;}#sk-container-id-6 div.sk-label:hover label.sk-toggleable__label {background-color: #d4ebff;}#sk-container-id-6 div.sk-serial::before {content: \"\";position: absolute;border-left: 1px solid gray;box-sizing: border-box;top: 0;bottom: 0;left: 50%;z-index: 0;}#sk-container-id-6 div.sk-serial {display: flex;flex-direction: column;align-items: center;background-color: white;padding-right: 0.2em;padding-left: 0.2em;position: relative;}#sk-container-id-6 div.sk-item {position: relative;z-index: 1;}#sk-container-id-6 div.sk-parallel {display: flex;align-items: stretch;justify-content: center;background-color: white;position: relative;}#sk-container-id-6 div.sk-item::before, #sk-container-id-6 div.sk-parallel-item::before {content: \"\";position: absolute;border-left: 1px solid gray;box-sizing: border-box;top: 0;bottom: 0;left: 50%;z-index: -1;}#sk-container-id-6 div.sk-parallel-item {display: flex;flex-direction: column;z-index: 1;position: relative;background-color: white;}#sk-container-id-6 div.sk-parallel-item:first-child::after {align-self: flex-end;width: 50%;}#sk-container-id-6 div.sk-parallel-item:last-child::after {align-self: flex-start;width: 50%;}#sk-container-id-6 div.sk-parallel-item:only-child::after {width: 0;}#sk-container-id-6 div.sk-dashed-wrapped {border: 1px dashed gray;margin: 0 0.4em 0.5em 0.4em;box-sizing: border-box;padding-bottom: 0.4em;background-color: white;}#sk-container-id-6 div.sk-label label {font-family: monospace;font-weight: bold;display: inline-block;line-height: 1.2em;}#sk-container-id-6 div.sk-label-container {text-align: center;}#sk-container-id-6 div.sk-container {/* jupyter's `normalize.less` sets `[hidden] { display: none; }` but bootstrap.min.css set `[hidden] { display: none !important; }` so we also need the `!important` here to be able to override the default hidden behavior on the sphinx rendered scikit-learn.org. See: https://github.com/scikit-learn/scikit-learn/issues/21755 */display: inline-block !important;position: relative;}#sk-container-id-6 div.sk-text-repr-fallback {display: none;}</style><div id=\"sk-container-id-6\" class=\"sk-top-container\"><div class=\"sk-text-repr-fallback\"><pre>SVC()</pre><b>In a Jupyter environment, please rerun this cell to show the HTML representation or trust the notebook. <br />On GitHub, the HTML representation is unable to render, please try loading this page with nbviewer.org.</b></div><div class=\"sk-container\" hidden><div class=\"sk-item\"><div class=\"sk-estimator sk-toggleable\"><input class=\"sk-toggleable__control sk-hidden--visually\" id=\"sk-estimator-id-6\" type=\"checkbox\" checked><label for=\"sk-estimator-id-6\" class=\"sk-toggleable__label sk-toggleable__label-arrow\">SVC</label><div class=\"sk-toggleable__content\"><pre>SVC()</pre></div></div></div></div></div>"
      ],
      "text/plain": [
       "SVC()"
      ]
     },
     "execution_count": 86,
     "metadata": {},
     "output_type": "execute_result"
    }
   ],
   "source": [
    "# Create and train the SVM classifier\n",
    "svm_classifier_2 = SVC(kernel='rbf', C=1.0)\n",
    "svm_classifier_2.fit(X_train, y_train)"
   ]
  },
  {
   "cell_type": "code",
   "execution_count": 88,
   "id": "9cc4db56",
   "metadata": {},
   "outputs": [
    {
     "data": {
      "text/plain": [
       "['model.pkl']"
      ]
     },
     "execution_count": 88,
     "metadata": {},
     "output_type": "execute_result"
    }
   ],
   "source": [
    "# Testing the SVM model on unseen data (test data)\n",
    "pred_SVM = svm_classifier_2.predict(X_test)\n",
    "import joblib\n",
    "\n",
    "joblib.dump(svm_classifier_2, 'model.pkl')\n"
   ]
  },
  {
   "cell_type": "code",
   "execution_count": 89,
   "id": "2b78d522",
   "metadata": {},
   "outputs": [
    {
     "data": {
      "text/plain": [
       "0.6753246753246753"
      ]
     },
     "execution_count": 89,
     "metadata": {},
     "output_type": "execute_result"
    }
   ],
   "source": [
    "accuracy_score(y_test, pred_SVM)"
   ]
  },
  {
   "cell_type": "code",
   "execution_count": 90,
   "id": "411c2747",
   "metadata": {},
   "outputs": [
    {
     "data": {
      "text/html": [
       "<div>\n",
       "<style scoped>\n",
       "    .dataframe tbody tr th:only-of-type {\n",
       "        vertical-align: middle;\n",
       "    }\n",
       "\n",
       "    .dataframe tbody tr th {\n",
       "        vertical-align: top;\n",
       "    }\n",
       "\n",
       "    .dataframe thead th {\n",
       "        text-align: right;\n",
       "    }\n",
       "</style>\n",
       "<table border=\"1\" class=\"dataframe\">\n",
       "  <thead>\n",
       "    <tr style=\"text-align: right;\">\n",
       "      <th></th>\n",
       "      <th>Sexe</th>\n",
       "      <th>Etio</th>\n",
       "      <th>CV</th>\n",
       "      <th>Age</th>\n",
       "      <th>Esterman</th>\n",
       "      <th>ST</th>\n",
       "      <th>DT_centrale</th>\n",
       "      <th>DT_quadsupd</th>\n",
       "      <th>DT_quadsupg</th>\n",
       "      <th>DT_quadinfg</th>\n",
       "      <th>DT_quadinfd</th>\n",
       "      <th>DT_dis_Centrale</th>\n",
       "      <th>DT_dis_quadinfg</th>\n",
       "      <th>DT_dis_quadinfd</th>\n",
       "      <th>DT_dis_quadsupg</th>\n",
       "      <th>DT_dis_quadsupd</th>\n",
       "    </tr>\n",
       "  </thead>\n",
       "  <tbody>\n",
       "    <tr>\n",
       "      <th>100</th>\n",
       "      <td>0</td>\n",
       "      <td>3</td>\n",
       "      <td>2</td>\n",
       "      <td>55</td>\n",
       "      <td>1</td>\n",
       "      <td>0</td>\n",
       "      <td>5</td>\n",
       "      <td>0</td>\n",
       "      <td>0</td>\n",
       "      <td>0</td>\n",
       "      <td>0</td>\n",
       "      <td>4</td>\n",
       "      <td>1</td>\n",
       "      <td>1.000000</td>\n",
       "      <td>3</td>\n",
       "      <td>1</td>\n",
       "    </tr>\n",
       "    <tr>\n",
       "      <th>46</th>\n",
       "      <td>1</td>\n",
       "      <td>3</td>\n",
       "      <td>2</td>\n",
       "      <td>62</td>\n",
       "      <td>0</td>\n",
       "      <td>0</td>\n",
       "      <td>1</td>\n",
       "      <td>0</td>\n",
       "      <td>1</td>\n",
       "      <td>0</td>\n",
       "      <td>0</td>\n",
       "      <td>4</td>\n",
       "      <td>3</td>\n",
       "      <td>1.000000</td>\n",
       "      <td>1</td>\n",
       "      <td>1</td>\n",
       "    </tr>\n",
       "    <tr>\n",
       "      <th>117</th>\n",
       "      <td>1</td>\n",
       "      <td>0</td>\n",
       "      <td>2</td>\n",
       "      <td>38</td>\n",
       "      <td>0</td>\n",
       "      <td>0</td>\n",
       "      <td>8</td>\n",
       "      <td>1</td>\n",
       "      <td>1</td>\n",
       "      <td>0</td>\n",
       "      <td>0</td>\n",
       "      <td>3</td>\n",
       "      <td>3</td>\n",
       "      <td>0.000000</td>\n",
       "      <td>1</td>\n",
       "      <td>0</td>\n",
       "    </tr>\n",
       "    <tr>\n",
       "      <th>139</th>\n",
       "      <td>1</td>\n",
       "      <td>3</td>\n",
       "      <td>2</td>\n",
       "      <td>49</td>\n",
       "      <td>5</td>\n",
       "      <td>3</td>\n",
       "      <td>10</td>\n",
       "      <td>5</td>\n",
       "      <td>1</td>\n",
       "      <td>5</td>\n",
       "      <td>1</td>\n",
       "      <td>6</td>\n",
       "      <td>7</td>\n",
       "      <td>10.000000</td>\n",
       "      <td>6</td>\n",
       "      <td>7</td>\n",
       "    </tr>\n",
       "    <tr>\n",
       "      <th>95</th>\n",
       "      <td>1</td>\n",
       "      <td>2</td>\n",
       "      <td>2</td>\n",
       "      <td>55</td>\n",
       "      <td>0</td>\n",
       "      <td>1</td>\n",
       "      <td>4</td>\n",
       "      <td>0</td>\n",
       "      <td>1</td>\n",
       "      <td>0</td>\n",
       "      <td>1</td>\n",
       "      <td>2</td>\n",
       "      <td>1</td>\n",
       "      <td>1.000000</td>\n",
       "      <td>0</td>\n",
       "      <td>2</td>\n",
       "    </tr>\n",
       "    <tr>\n",
       "      <th>...</th>\n",
       "      <td>...</td>\n",
       "      <td>...</td>\n",
       "      <td>...</td>\n",
       "      <td>...</td>\n",
       "      <td>...</td>\n",
       "      <td>...</td>\n",
       "      <td>...</td>\n",
       "      <td>...</td>\n",
       "      <td>...</td>\n",
       "      <td>...</td>\n",
       "      <td>...</td>\n",
       "      <td>...</td>\n",
       "      <td>...</td>\n",
       "      <td>...</td>\n",
       "      <td>...</td>\n",
       "      <td>...</td>\n",
       "    </tr>\n",
       "    <tr>\n",
       "      <th>332</th>\n",
       "      <td>0</td>\n",
       "      <td>3</td>\n",
       "      <td>2</td>\n",
       "      <td>63</td>\n",
       "      <td>0</td>\n",
       "      <td>0</td>\n",
       "      <td>3</td>\n",
       "      <td>0</td>\n",
       "      <td>0</td>\n",
       "      <td>0</td>\n",
       "      <td>0</td>\n",
       "      <td>3</td>\n",
       "      <td>1</td>\n",
       "      <td>1.907566</td>\n",
       "      <td>1</td>\n",
       "      <td>0</td>\n",
       "    </tr>\n",
       "    <tr>\n",
       "      <th>114</th>\n",
       "      <td>0</td>\n",
       "      <td>0</td>\n",
       "      <td>2</td>\n",
       "      <td>21</td>\n",
       "      <td>1</td>\n",
       "      <td>2</td>\n",
       "      <td>1</td>\n",
       "      <td>0</td>\n",
       "      <td>0</td>\n",
       "      <td>0</td>\n",
       "      <td>0</td>\n",
       "      <td>2</td>\n",
       "      <td>2</td>\n",
       "      <td>4.000000</td>\n",
       "      <td>3</td>\n",
       "      <td>2</td>\n",
       "    </tr>\n",
       "    <tr>\n",
       "      <th>230</th>\n",
       "      <td>1</td>\n",
       "      <td>3</td>\n",
       "      <td>8</td>\n",
       "      <td>63</td>\n",
       "      <td>22</td>\n",
       "      <td>0</td>\n",
       "      <td>13</td>\n",
       "      <td>2</td>\n",
       "      <td>3</td>\n",
       "      <td>9</td>\n",
       "      <td>3</td>\n",
       "      <td>16</td>\n",
       "      <td>14</td>\n",
       "      <td>6.000000</td>\n",
       "      <td>9</td>\n",
       "      <td>4</td>\n",
       "    </tr>\n",
       "    <tr>\n",
       "      <th>19</th>\n",
       "      <td>0</td>\n",
       "      <td>2</td>\n",
       "      <td>0</td>\n",
       "      <td>53</td>\n",
       "      <td>34</td>\n",
       "      <td>0</td>\n",
       "      <td>4</td>\n",
       "      <td>13</td>\n",
       "      <td>3</td>\n",
       "      <td>1</td>\n",
       "      <td>5</td>\n",
       "      <td>3</td>\n",
       "      <td>3</td>\n",
       "      <td>8.000000</td>\n",
       "      <td>3</td>\n",
       "      <td>14</td>\n",
       "    </tr>\n",
       "    <tr>\n",
       "      <th>364</th>\n",
       "      <td>0</td>\n",
       "      <td>1</td>\n",
       "      <td>4</td>\n",
       "      <td>25</td>\n",
       "      <td>7</td>\n",
       "      <td>0</td>\n",
       "      <td>1</td>\n",
       "      <td>0</td>\n",
       "      <td>3</td>\n",
       "      <td>0</td>\n",
       "      <td>0</td>\n",
       "      <td>3</td>\n",
       "      <td>2</td>\n",
       "      <td>3.481209</td>\n",
       "      <td>2</td>\n",
       "      <td>2</td>\n",
       "    </tr>\n",
       "  </tbody>\n",
       "</table>\n",
       "<p>230 rows × 16 columns</p>\n",
       "</div>"
      ],
      "text/plain": [
       "     Sexe  Etio  CV  Age  Esterman  ST  DT_centrale  DT_quadsupd  DT_quadsupg  \\\n",
       "100     0     3   2   55         1   0            5            0            0   \n",
       "46      1     3   2   62         0   0            1            0            1   \n",
       "117     1     0   2   38         0   0            8            1            1   \n",
       "139     1     3   2   49         5   3           10            5            1   \n",
       "95      1     2   2   55         0   1            4            0            1   \n",
       "..    ...   ...  ..  ...       ...  ..          ...          ...          ...   \n",
       "332     0     3   2   63         0   0            3            0            0   \n",
       "114     0     0   2   21         1   2            1            0            0   \n",
       "230     1     3   8   63        22   0           13            2            3   \n",
       "19      0     2   0   53        34   0            4           13            3   \n",
       "364     0     1   4   25         7   0            1            0            3   \n",
       "\n",
       "     DT_quadinfg  DT_quadinfd  DT_dis_Centrale  DT_dis_quadinfg  \\\n",
       "100            0            0                4                1   \n",
       "46             0            0                4                3   \n",
       "117            0            0                3                3   \n",
       "139            5            1                6                7   \n",
       "95             0            1                2                1   \n",
       "..           ...          ...              ...              ...   \n",
       "332            0            0                3                1   \n",
       "114            0            0                2                2   \n",
       "230            9            3               16               14   \n",
       "19             1            5                3                3   \n",
       "364            0            0                3                2   \n",
       "\n",
       "     DT_dis_quadinfd  DT_dis_quadsupg  DT_dis_quadsupd  \n",
       "100         1.000000                3                1  \n",
       "46          1.000000                1                1  \n",
       "117         0.000000                1                0  \n",
       "139        10.000000                6                7  \n",
       "95          1.000000                0                2  \n",
       "..               ...              ...              ...  \n",
       "332         1.907566                1                0  \n",
       "114         4.000000                3                2  \n",
       "230         6.000000                9                4  \n",
       "19          8.000000                3               14  \n",
       "364         3.481209                2                2  \n",
       "\n",
       "[230 rows x 16 columns]"
      ]
     },
     "execution_count": 90,
     "metadata": {},
     "output_type": "execute_result"
    }
   ],
   "source": [
    "X_train"
   ]
  },
  {
   "cell_type": "code",
   "execution_count": null,
   "id": "758d875d",
   "metadata": {},
   "outputs": [],
   "source": []
  }
 ],
 "metadata": {
  "kernelspec": {
   "display_name": "Python 3 (ipykernel)",
   "language": "python",
   "name": "python3"
  },
  "language_info": {
   "codemirror_mode": {
    "name": "ipython",
    "version": 3
   },
   "file_extension": ".py",
   "mimetype": "text/x-python",
   "name": "python",
   "nbconvert_exporter": "python",
   "pygments_lexer": "ipython3",
   "version": "3.11.4"
  }
 },
 "nbformat": 4,
 "nbformat_minor": 5
}
