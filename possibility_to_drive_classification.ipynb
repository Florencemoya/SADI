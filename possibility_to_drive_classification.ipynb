{
 "cells": [
  {
   "cell_type": "markdown",
   "id": "7267ebc0",
   "metadata": {},
   "source": [
    "# Importing Libraries and Dataste"
   ]
  },
  {
   "cell_type": "code",
   "execution_count": 5,
   "id": "267e9eb4",
   "metadata": {},
   "outputs": [
    {
     "name": "stdout",
     "output_type": "stream",
     "text": [
      "Requirement already satisfied: imblearn in c:\\users\\moya\\anaconda3\\lib\\site-packages (0.0)\n",
      "Requirement already satisfied: imbalanced-learn in c:\\users\\moya\\anaconda3\\lib\\site-packages (from imblearn) (0.11.0)\n",
      "Requirement already satisfied: numpy>=1.17.3 in c:\\users\\moya\\anaconda3\\lib\\site-packages (from imbalanced-learn->imblearn) (1.24.3)\n",
      "Requirement already satisfied: scipy>=1.5.0 in c:\\users\\moya\\anaconda3\\lib\\site-packages (from imbalanced-learn->imblearn) (1.10.1)\n",
      "Requirement already satisfied: scikit-learn>=1.0.2 in c:\\users\\moya\\anaconda3\\lib\\site-packages (from imbalanced-learn->imblearn) (1.3.0)\n",
      "Requirement already satisfied: joblib>=1.1.1 in c:\\users\\moya\\anaconda3\\lib\\site-packages (from imbalanced-learn->imblearn) (1.2.0)\n",
      "Requirement already satisfied: threadpoolctl>=2.0.0 in c:\\users\\moya\\anaconda3\\lib\\site-packages (from imbalanced-learn->imblearn) (2.2.0)\n"
     ]
    }
   ],
   "source": [
    "!pip install imblearn\n"
   ]
  },
  {
   "cell_type": "code",
   "execution_count": 6,
   "id": "c032f22a",
   "metadata": {},
   "outputs": [
    {
     "name": "stdout",
     "output_type": "stream",
     "text": [
      "Requirement already satisfied: scikit-learn in c:\\users\\moya\\anaconda3\\lib\\site-packages (1.3.0)\n",
      "Requirement already satisfied: imbalanced-learn in c:\\users\\moya\\anaconda3\\lib\\site-packages (0.11.0)\n",
      "Requirement already satisfied: numpy>=1.17.3 in c:\\users\\moya\\anaconda3\\lib\\site-packages (from scikit-learn) (1.24.3)\n",
      "Requirement already satisfied: scipy>=1.5.0 in c:\\users\\moya\\anaconda3\\lib\\site-packages (from scikit-learn) (1.10.1)\n",
      "Requirement already satisfied: joblib>=1.1.1 in c:\\users\\moya\\anaconda3\\lib\\site-packages (from scikit-learn) (1.2.0)\n",
      "Requirement already satisfied: threadpoolctl>=2.0.0 in c:\\users\\moya\\anaconda3\\lib\\site-packages (from scikit-learn) (2.2.0)\n",
      "Requirement already satisfied: imbalanced-learn in c:\\users\\moya\\anaconda3\\lib\\site-packages (0.11.0)\n",
      "Requirement already satisfied: numpy>=1.17.3 in c:\\users\\moya\\anaconda3\\lib\\site-packages (from imbalanced-learn) (1.24.3)\n",
      "Requirement already satisfied: scipy>=1.5.0 in c:\\users\\moya\\anaconda3\\lib\\site-packages (from imbalanced-learn) (1.10.1)\n",
      "Requirement already satisfied: scikit-learn>=1.0.2 in c:\\users\\moya\\anaconda3\\lib\\site-packages (from imbalanced-learn) (1.3.0)\n",
      "Requirement already satisfied: joblib>=1.1.1 in c:\\users\\moya\\anaconda3\\lib\\site-packages (from imbalanced-learn) (1.2.0)\n",
      "Requirement already satisfied: threadpoolctl>=2.0.0 in c:\\users\\moya\\anaconda3\\lib\\site-packages (from imbalanced-learn) (2.2.0)\n"
     ]
    }
   ],
   "source": [
    "!pip install -U scikit-learn imbalanced-learn\n",
    "!pip install -U imbalanced-learn"
   ]
  },
  {
   "cell_type": "code",
   "execution_count": 7,
   "id": "50ebbdee",
   "metadata": {},
   "outputs": [],
   "source": [
    "# Importing libraries\n",
    "import pandas as pd\n",
    "import numpy as np\n",
    "import matplotlib.pyplot as plt\n",
    "from sklearn.linear_model import LogisticRegression\n",
    "from sklearn.metrics import accuracy_score, confusion_matrix, recall_score, precision_score, f1_score\n",
    "from sklearn.model_selection import train_test_split\n",
    "import seaborn as sns\n",
    "from sklearn.tree import DecisionTreeClassifier\n",
    "from sklearn.ensemble import GradientBoostingClassifier\n",
    "from sklearn.model_selection import KFold\n",
    "from sklearn.preprocessing import LabelEncoder\n",
    "from sklearn import metrics\n",
    "from sklearn.svm import SVC\n",
    "from IPython.display import display\n",
    "from imblearn.over_sampling import SMOTE\n",
    "from collections import Counter"
   ]
  },
  {
   "cell_type": "code",
   "execution_count": 8,
   "id": "ce428501",
   "metadata": {},
   "outputs": [],
   "source": [
    "# Importing dataset\n",
    "df = pd.read_excel(\"dataset.xlsx\")"
   ]
  },
  {
   "cell_type": "code",
   "execution_count": 9,
   "id": "927f630f",
   "metadata": {},
   "outputs": [
    {
     "data": {
      "text/html": [
       "<div>\n",
       "<style scoped>\n",
       "    .dataframe tbody tr th:only-of-type {\n",
       "        vertical-align: middle;\n",
       "    }\n",
       "\n",
       "    .dataframe tbody tr th {\n",
       "        vertical-align: top;\n",
       "    }\n",
       "\n",
       "    .dataframe thead th {\n",
       "        text-align: right;\n",
       "    }\n",
       "</style>\n",
       "<table border=\"1\" class=\"dataframe\">\n",
       "  <thead>\n",
       "    <tr style=\"text-align: right;\">\n",
       "      <th></th>\n",
       "      <th>Sexe</th>\n",
       "      <th>Decision</th>\n",
       "      <th>Age</th>\n",
       "      <th>Etio</th>\n",
       "      <th>CV</th>\n",
       "      <th>Esterman</th>\n",
       "      <th>ST</th>\n",
       "      <th>DT_centrale</th>\n",
       "      <th>DT_laterales</th>\n",
       "      <th>DT_quadsupg</th>\n",
       "      <th>...</th>\n",
       "      <th>DT_dis_quadsupd</th>\n",
       "      <th>DT_dis_quadinfg</th>\n",
       "      <th>DT_dis_quadinfd</th>\n",
       "      <th>DT_dis_Gauche</th>\n",
       "      <th>DT_dis_Droite</th>\n",
       "      <th>Resultat ST</th>\n",
       "      <th>Resultat DT Central</th>\n",
       "      <th>Résultat DT latéral</th>\n",
       "      <th>Resultat Dis_Centrale</th>\n",
       "      <th>Resultat dis_laterales</th>\n",
       "    </tr>\n",
       "  </thead>\n",
       "  <tbody>\n",
       "    <tr>\n",
       "      <th>0</th>\n",
       "      <td>F</td>\n",
       "      <td>Non</td>\n",
       "      <td>33</td>\n",
       "      <td>Vas</td>\n",
       "      <td>HLH_D</td>\n",
       "      <td>45</td>\n",
       "      <td>0</td>\n",
       "      <td>3</td>\n",
       "      <td>36</td>\n",
       "      <td>3</td>\n",
       "      <td>...</td>\n",
       "      <td>12</td>\n",
       "      <td>10</td>\n",
       "      <td>17.0</td>\n",
       "      <td>20</td>\n",
       "      <td>29</td>\n",
       "      <td>1</td>\n",
       "      <td>1</td>\n",
       "      <td>0</td>\n",
       "      <td>1</td>\n",
       "      <td>0</td>\n",
       "    </tr>\n",
       "    <tr>\n",
       "      <th>1</th>\n",
       "      <td>F</td>\n",
       "      <td>Oui</td>\n",
       "      <td>40</td>\n",
       "      <td>Vas</td>\n",
       "      <td>HLH_D</td>\n",
       "      <td>48</td>\n",
       "      <td>1</td>\n",
       "      <td>3</td>\n",
       "      <td>2</td>\n",
       "      <td>0</td>\n",
       "      <td>...</td>\n",
       "      <td>2</td>\n",
       "      <td>4</td>\n",
       "      <td>5.0</td>\n",
       "      <td>5</td>\n",
       "      <td>7</td>\n",
       "      <td>1</td>\n",
       "      <td>1</td>\n",
       "      <td>1</td>\n",
       "      <td>0</td>\n",
       "      <td>1</td>\n",
       "    </tr>\n",
       "    <tr>\n",
       "      <th>2</th>\n",
       "      <td>H</td>\n",
       "      <td>Simulateur</td>\n",
       "      <td>52</td>\n",
       "      <td>Tum</td>\n",
       "      <td>HLH_D</td>\n",
       "      <td>42</td>\n",
       "      <td>0</td>\n",
       "      <td>3</td>\n",
       "      <td>14</td>\n",
       "      <td>1</td>\n",
       "      <td>...</td>\n",
       "      <td>3</td>\n",
       "      <td>5</td>\n",
       "      <td>10.0</td>\n",
       "      <td>8</td>\n",
       "      <td>13</td>\n",
       "      <td>1</td>\n",
       "      <td>1</td>\n",
       "      <td>0</td>\n",
       "      <td>1</td>\n",
       "      <td>0</td>\n",
       "    </tr>\n",
       "    <tr>\n",
       "      <th>3</th>\n",
       "      <td>H</td>\n",
       "      <td>Non</td>\n",
       "      <td>37</td>\n",
       "      <td>Vas</td>\n",
       "      <td>HLH_D</td>\n",
       "      <td>40</td>\n",
       "      <td>1</td>\n",
       "      <td>1</td>\n",
       "      <td>19</td>\n",
       "      <td>1</td>\n",
       "      <td>...</td>\n",
       "      <td>11</td>\n",
       "      <td>6</td>\n",
       "      <td>10.0</td>\n",
       "      <td>8</td>\n",
       "      <td>21</td>\n",
       "      <td>1</td>\n",
       "      <td>1</td>\n",
       "      <td>0</td>\n",
       "      <td>1</td>\n",
       "      <td>0</td>\n",
       "    </tr>\n",
       "    <tr>\n",
       "      <th>4</th>\n",
       "      <td>H</td>\n",
       "      <td>Non</td>\n",
       "      <td>39</td>\n",
       "      <td>TC</td>\n",
       "      <td>HLH_G</td>\n",
       "      <td>47</td>\n",
       "      <td>0</td>\n",
       "      <td>1</td>\n",
       "      <td>23</td>\n",
       "      <td>13</td>\n",
       "      <td>...</td>\n",
       "      <td>1</td>\n",
       "      <td>10</td>\n",
       "      <td>1.0</td>\n",
       "      <td>17</td>\n",
       "      <td>2</td>\n",
       "      <td>1</td>\n",
       "      <td>1</td>\n",
       "      <td>0</td>\n",
       "      <td>1</td>\n",
       "      <td>0</td>\n",
       "    </tr>\n",
       "    <tr>\n",
       "      <th>...</th>\n",
       "      <td>...</td>\n",
       "      <td>...</td>\n",
       "      <td>...</td>\n",
       "      <td>...</td>\n",
       "      <td>...</td>\n",
       "      <td>...</td>\n",
       "      <td>...</td>\n",
       "      <td>...</td>\n",
       "      <td>...</td>\n",
       "      <td>...</td>\n",
       "      <td>...</td>\n",
       "      <td>...</td>\n",
       "      <td>...</td>\n",
       "      <td>...</td>\n",
       "      <td>...</td>\n",
       "      <td>...</td>\n",
       "      <td>...</td>\n",
       "      <td>...</td>\n",
       "      <td>...</td>\n",
       "      <td>...</td>\n",
       "      <td>...</td>\n",
       "    </tr>\n",
       "    <tr>\n",
       "      <th>249</th>\n",
       "      <td>H</td>\n",
       "      <td>Oui</td>\n",
       "      <td>55</td>\n",
       "      <td>Vas</td>\n",
       "      <td>Scotome_D</td>\n",
       "      <td>1</td>\n",
       "      <td>1</td>\n",
       "      <td>4</td>\n",
       "      <td>1</td>\n",
       "      <td>1</td>\n",
       "      <td>...</td>\n",
       "      <td>0</td>\n",
       "      <td>1</td>\n",
       "      <td>1.0</td>\n",
       "      <td>1</td>\n",
       "      <td>1</td>\n",
       "      <td>1</td>\n",
       "      <td>1</td>\n",
       "      <td>1</td>\n",
       "      <td>1</td>\n",
       "      <td>1</td>\n",
       "    </tr>\n",
       "    <tr>\n",
       "      <th>250</th>\n",
       "      <td>F</td>\n",
       "      <td>Non</td>\n",
       "      <td>66</td>\n",
       "      <td>Tum</td>\n",
       "      <td>Scotome_G</td>\n",
       "      <td>0</td>\n",
       "      <td>0</td>\n",
       "      <td>1</td>\n",
       "      <td>3</td>\n",
       "      <td>1</td>\n",
       "      <td>...</td>\n",
       "      <td>4</td>\n",
       "      <td>6</td>\n",
       "      <td>6.0</td>\n",
       "      <td>10</td>\n",
       "      <td>10</td>\n",
       "      <td>1</td>\n",
       "      <td>1</td>\n",
       "      <td>1</td>\n",
       "      <td>1</td>\n",
       "      <td>0</td>\n",
       "    </tr>\n",
       "    <tr>\n",
       "      <th>251</th>\n",
       "      <td>H</td>\n",
       "      <td>Oui</td>\n",
       "      <td>46</td>\n",
       "      <td>Vas</td>\n",
       "      <td>Scotome_G</td>\n",
       "      <td>1</td>\n",
       "      <td>0</td>\n",
       "      <td>2</td>\n",
       "      <td>3</td>\n",
       "      <td>2</td>\n",
       "      <td>...</td>\n",
       "      <td>0</td>\n",
       "      <td>1</td>\n",
       "      <td>0.0</td>\n",
       "      <td>2</td>\n",
       "      <td>0</td>\n",
       "      <td>1</td>\n",
       "      <td>1</td>\n",
       "      <td>1</td>\n",
       "      <td>1</td>\n",
       "      <td>1</td>\n",
       "    </tr>\n",
       "    <tr>\n",
       "      <th>252</th>\n",
       "      <td>F</td>\n",
       "      <td>Non</td>\n",
       "      <td>63</td>\n",
       "      <td>Vas</td>\n",
       "      <td>Scotome_G</td>\n",
       "      <td>27</td>\n",
       "      <td>1</td>\n",
       "      <td>2</td>\n",
       "      <td>8</td>\n",
       "      <td>8</td>\n",
       "      <td>...</td>\n",
       "      <td>1</td>\n",
       "      <td>4</td>\n",
       "      <td>3.0</td>\n",
       "      <td>9</td>\n",
       "      <td>4</td>\n",
       "      <td>1</td>\n",
       "      <td>1</td>\n",
       "      <td>0</td>\n",
       "      <td>1</td>\n",
       "      <td>0</td>\n",
       "    </tr>\n",
       "    <tr>\n",
       "      <th>253</th>\n",
       "      <td>H</td>\n",
       "      <td>Non</td>\n",
       "      <td>58</td>\n",
       "      <td>Vas</td>\n",
       "      <td>Scotome_G</td>\n",
       "      <td>15</td>\n",
       "      <td>5</td>\n",
       "      <td>19</td>\n",
       "      <td>16</td>\n",
       "      <td>6</td>\n",
       "      <td>...</td>\n",
       "      <td>2</td>\n",
       "      <td>3</td>\n",
       "      <td>5.0</td>\n",
       "      <td>15</td>\n",
       "      <td>7</td>\n",
       "      <td>0</td>\n",
       "      <td>0</td>\n",
       "      <td>0</td>\n",
       "      <td>0</td>\n",
       "      <td>0</td>\n",
       "    </tr>\n",
       "  </tbody>\n",
       "</table>\n",
       "<p>254 rows × 28 columns</p>\n",
       "</div>"
      ],
      "text/plain": [
       "    Sexe    Decision  Age Etio         CV  Esterman  ST  DT_centrale  \\\n",
       "0      F         Non   33  Vas      HLH_D        45   0            3   \n",
       "1      F         Oui   40  Vas      HLH_D        48   1            3   \n",
       "2      H  Simulateur   52  Tum      HLH_D        42   0            3   \n",
       "3      H         Non   37  Vas      HLH_D        40   1            1   \n",
       "4      H         Non   39   TC      HLH_G        47   0            1   \n",
       "..   ...         ...  ...  ...        ...       ...  ..          ...   \n",
       "249    H         Oui   55  Vas  Scotome_D         1   1            4   \n",
       "250    F         Non   66  Tum  Scotome_G         0   0            1   \n",
       "251    H         Oui   46  Vas  Scotome_G         1   0            2   \n",
       "252    F         Non   63  Vas  Scotome_G        27   1            2   \n",
       "253    H         Non   58  Vas  Scotome_G        15   5           19   \n",
       "\n",
       "     DT_laterales  DT_quadsupg  ...  DT_dis_quadsupd  DT_dis_quadinfg  \\\n",
       "0              36            3  ...               12               10   \n",
       "1               2            0  ...                2                4   \n",
       "2              14            1  ...                3                5   \n",
       "3              19            1  ...               11                6   \n",
       "4              23           13  ...                1               10   \n",
       "..            ...          ...  ...              ...              ...   \n",
       "249             1            1  ...                0                1   \n",
       "250             3            1  ...                4                6   \n",
       "251             3            2  ...                0                1   \n",
       "252             8            8  ...                1                4   \n",
       "253            16            6  ...                2                3   \n",
       "\n",
       "     DT_dis_quadinfd  DT_dis_Gauche  DT_dis_Droite  Resultat ST  \\\n",
       "0               17.0             20             29            1   \n",
       "1                5.0              5              7            1   \n",
       "2               10.0              8             13            1   \n",
       "3               10.0              8             21            1   \n",
       "4                1.0             17              2            1   \n",
       "..               ...            ...            ...          ...   \n",
       "249              1.0              1              1            1   \n",
       "250              6.0             10             10            1   \n",
       "251              0.0              2              0            1   \n",
       "252              3.0              9              4            1   \n",
       "253              5.0             15              7            0   \n",
       "\n",
       "     Resultat DT Central  Résultat DT latéral  Resultat Dis_Centrale  \\\n",
       "0                      1                    0                      1   \n",
       "1                      1                    1                      0   \n",
       "2                      1                    0                      1   \n",
       "3                      1                    0                      1   \n",
       "4                      1                    0                      1   \n",
       "..                   ...                  ...                    ...   \n",
       "249                    1                    1                      1   \n",
       "250                    1                    1                      1   \n",
       "251                    1                    1                      1   \n",
       "252                    1                    0                      1   \n",
       "253                    0                    0                      0   \n",
       "\n",
       "     Resultat dis_laterales  \n",
       "0                         0  \n",
       "1                         1  \n",
       "2                         0  \n",
       "3                         0  \n",
       "4                         0  \n",
       "..                      ...  \n",
       "249                       1  \n",
       "250                       0  \n",
       "251                       1  \n",
       "252                       0  \n",
       "253                       0  \n",
       "\n",
       "[254 rows x 28 columns]"
      ]
     },
     "execution_count": 9,
     "metadata": {},
     "output_type": "execute_result"
    }
   ],
   "source": [
    "df"
   ]
  },
  {
   "cell_type": "code",
   "execution_count": 10,
   "id": "2ce03389",
   "metadata": {},
   "outputs": [
    {
     "data": {
      "text/plain": [
       "Index(['Sexe', 'Decision', 'Age', 'Etio', 'CV', 'Esterman', 'ST',\n",
       "       'DT_centrale', 'DT_laterales', 'DT_quadsupg', 'DT_quadsupd',\n",
       "       'DT_quadinfg', 'DT_quadinfd', 'DT_Gauche', 'DT_Droite',\n",
       "       'DT_dis_Centrale', 'DT_dis_laterales', 'DT_dis_quadsupg',\n",
       "       'DT_dis_quadsupd', 'DT_dis_quadinfg', 'DT_dis_quadinfd',\n",
       "       'DT_dis_Gauche', 'DT_dis_Droite', 'Resultat ST', 'Resultat DT Central',\n",
       "       'Résultat DT latéral', 'Resultat Dis_Centrale',\n",
       "       'Resultat dis_laterales'],\n",
       "      dtype='object')"
      ]
     },
     "execution_count": 10,
     "metadata": {},
     "output_type": "execute_result"
    }
   ],
   "source": [
    "df.columns"
   ]
  },
  {
   "cell_type": "markdown",
   "id": "1087b75f",
   "metadata": {},
   "source": [
    "# Data Pre-processing"
   ]
  },
  {
   "cell_type": "code",
   "execution_count": 11,
   "id": "fcba8aa5",
   "metadata": {},
   "outputs": [
    {
     "data": {
      "text/html": [
       "<div>\n",
       "<style scoped>\n",
       "    .dataframe tbody tr th:only-of-type {\n",
       "        vertical-align: middle;\n",
       "    }\n",
       "\n",
       "    .dataframe tbody tr th {\n",
       "        vertical-align: top;\n",
       "    }\n",
       "\n",
       "    .dataframe thead th {\n",
       "        text-align: right;\n",
       "    }\n",
       "</style>\n",
       "<table border=\"1\" class=\"dataframe\">\n",
       "  <thead>\n",
       "    <tr style=\"text-align: right;\">\n",
       "      <th></th>\n",
       "      <th>Age</th>\n",
       "      <th>Esterman</th>\n",
       "      <th>ST</th>\n",
       "      <th>DT_centrale</th>\n",
       "      <th>DT_laterales</th>\n",
       "      <th>DT_quadsupg</th>\n",
       "      <th>DT_quadsupd</th>\n",
       "      <th>DT_quadinfg</th>\n",
       "      <th>DT_quadinfd</th>\n",
       "      <th>DT_Gauche</th>\n",
       "      <th>...</th>\n",
       "      <th>DT_dis_quadsupd</th>\n",
       "      <th>DT_dis_quadinfg</th>\n",
       "      <th>DT_dis_quadinfd</th>\n",
       "      <th>DT_dis_Gauche</th>\n",
       "      <th>DT_dis_Droite</th>\n",
       "      <th>Resultat ST</th>\n",
       "      <th>Resultat DT Central</th>\n",
       "      <th>Résultat DT latéral</th>\n",
       "      <th>Resultat Dis_Centrale</th>\n",
       "      <th>Resultat dis_laterales</th>\n",
       "    </tr>\n",
       "  </thead>\n",
       "  <tbody>\n",
       "    <tr>\n",
       "      <th>count</th>\n",
       "      <td>254.000000</td>\n",
       "      <td>254.000000</td>\n",
       "      <td>254.000000</td>\n",
       "      <td>254.000000</td>\n",
       "      <td>254.000000</td>\n",
       "      <td>254.000000</td>\n",
       "      <td>254.000000</td>\n",
       "      <td>254.000000</td>\n",
       "      <td>254.000000</td>\n",
       "      <td>254.000000</td>\n",
       "      <td>...</td>\n",
       "      <td>254.000000</td>\n",
       "      <td>254.000000</td>\n",
       "      <td>253.000000</td>\n",
       "      <td>254.000000</td>\n",
       "      <td>254.000000</td>\n",
       "      <td>254.000000</td>\n",
       "      <td>254.000000</td>\n",
       "      <td>254.000000</td>\n",
       "      <td>254.000000</td>\n",
       "      <td>254.000000</td>\n",
       "    </tr>\n",
       "    <tr>\n",
       "      <th>mean</th>\n",
       "      <td>50.031496</td>\n",
       "      <td>13.854331</td>\n",
       "      <td>0.688976</td>\n",
       "      <td>4.039370</td>\n",
       "      <td>10.023622</td>\n",
       "      <td>2.649606</td>\n",
       "      <td>2.488189</td>\n",
       "      <td>2.492126</td>\n",
       "      <td>2.330709</td>\n",
       "      <td>5.141732</td>\n",
       "      <td>...</td>\n",
       "      <td>4.318898</td>\n",
       "      <td>5.173228</td>\n",
       "      <td>5.102767</td>\n",
       "      <td>9.842520</td>\n",
       "      <td>9.401575</td>\n",
       "      <td>0.944882</td>\n",
       "      <td>0.913386</td>\n",
       "      <td>0.535433</td>\n",
       "      <td>0.783465</td>\n",
       "      <td>0.460630</td>\n",
       "    </tr>\n",
       "    <tr>\n",
       "      <th>std</th>\n",
       "      <td>15.629068</td>\n",
       "      <td>15.932864</td>\n",
       "      <td>0.941845</td>\n",
       "      <td>3.655959</td>\n",
       "      <td>10.472599</td>\n",
       "      <td>4.010764</td>\n",
       "      <td>3.704214</td>\n",
       "      <td>4.198383</td>\n",
       "      <td>4.349467</td>\n",
       "      <td>7.232693</td>\n",
       "      <td>...</td>\n",
       "      <td>4.428246</td>\n",
       "      <td>4.584894</td>\n",
       "      <td>5.041624</td>\n",
       "      <td>8.450671</td>\n",
       "      <td>8.665282</td>\n",
       "      <td>0.228661</td>\n",
       "      <td>0.281824</td>\n",
       "      <td>0.499728</td>\n",
       "      <td>0.412696</td>\n",
       "      <td>0.499432</td>\n",
       "    </tr>\n",
       "    <tr>\n",
       "      <th>min</th>\n",
       "      <td>18.000000</td>\n",
       "      <td>0.000000</td>\n",
       "      <td>0.000000</td>\n",
       "      <td>0.000000</td>\n",
       "      <td>0.000000</td>\n",
       "      <td>0.000000</td>\n",
       "      <td>0.000000</td>\n",
       "      <td>0.000000</td>\n",
       "      <td>0.000000</td>\n",
       "      <td>0.000000</td>\n",
       "      <td>...</td>\n",
       "      <td>0.000000</td>\n",
       "      <td>0.000000</td>\n",
       "      <td>0.000000</td>\n",
       "      <td>0.000000</td>\n",
       "      <td>0.000000</td>\n",
       "      <td>0.000000</td>\n",
       "      <td>0.000000</td>\n",
       "      <td>0.000000</td>\n",
       "      <td>0.000000</td>\n",
       "      <td>0.000000</td>\n",
       "    </tr>\n",
       "    <tr>\n",
       "      <th>25%</th>\n",
       "      <td>38.000000</td>\n",
       "      <td>1.000000</td>\n",
       "      <td>0.000000</td>\n",
       "      <td>2.000000</td>\n",
       "      <td>2.000000</td>\n",
       "      <td>0.000000</td>\n",
       "      <td>0.000000</td>\n",
       "      <td>0.000000</td>\n",
       "      <td>0.000000</td>\n",
       "      <td>1.000000</td>\n",
       "      <td>...</td>\n",
       "      <td>1.000000</td>\n",
       "      <td>2.000000</td>\n",
       "      <td>1.000000</td>\n",
       "      <td>3.000000</td>\n",
       "      <td>2.000000</td>\n",
       "      <td>1.000000</td>\n",
       "      <td>1.000000</td>\n",
       "      <td>0.000000</td>\n",
       "      <td>1.000000</td>\n",
       "      <td>0.000000</td>\n",
       "    </tr>\n",
       "    <tr>\n",
       "      <th>50%</th>\n",
       "      <td>50.000000</td>\n",
       "      <td>8.000000</td>\n",
       "      <td>0.000000</td>\n",
       "      <td>3.000000</td>\n",
       "      <td>6.500000</td>\n",
       "      <td>1.000000</td>\n",
       "      <td>1.000000</td>\n",
       "      <td>1.000000</td>\n",
       "      <td>0.000000</td>\n",
       "      <td>2.500000</td>\n",
       "      <td>...</td>\n",
       "      <td>2.500000</td>\n",
       "      <td>4.000000</td>\n",
       "      <td>3.000000</td>\n",
       "      <td>7.000000</td>\n",
       "      <td>7.000000</td>\n",
       "      <td>1.000000</td>\n",
       "      <td>1.000000</td>\n",
       "      <td>1.000000</td>\n",
       "      <td>1.000000</td>\n",
       "      <td>0.000000</td>\n",
       "    </tr>\n",
       "    <tr>\n",
       "      <th>75%</th>\n",
       "      <td>62.000000</td>\n",
       "      <td>23.000000</td>\n",
       "      <td>1.000000</td>\n",
       "      <td>5.000000</td>\n",
       "      <td>14.000000</td>\n",
       "      <td>3.000000</td>\n",
       "      <td>3.000000</td>\n",
       "      <td>3.000000</td>\n",
       "      <td>2.000000</td>\n",
       "      <td>6.000000</td>\n",
       "      <td>...</td>\n",
       "      <td>7.000000</td>\n",
       "      <td>8.000000</td>\n",
       "      <td>8.000000</td>\n",
       "      <td>16.000000</td>\n",
       "      <td>14.000000</td>\n",
       "      <td>1.000000</td>\n",
       "      <td>1.000000</td>\n",
       "      <td>1.000000</td>\n",
       "      <td>1.000000</td>\n",
       "      <td>1.000000</td>\n",
       "    </tr>\n",
       "    <tr>\n",
       "      <th>max</th>\n",
       "      <td>85.000000</td>\n",
       "      <td>71.000000</td>\n",
       "      <td>5.000000</td>\n",
       "      <td>23.000000</td>\n",
       "      <td>52.000000</td>\n",
       "      <td>18.000000</td>\n",
       "      <td>17.000000</td>\n",
       "      <td>18.000000</td>\n",
       "      <td>18.000000</td>\n",
       "      <td>36.000000</td>\n",
       "      <td>...</td>\n",
       "      <td>18.000000</td>\n",
       "      <td>18.000000</td>\n",
       "      <td>18.000000</td>\n",
       "      <td>36.000000</td>\n",
       "      <td>36.000000</td>\n",
       "      <td>1.000000</td>\n",
       "      <td>1.000000</td>\n",
       "      <td>1.000000</td>\n",
       "      <td>1.000000</td>\n",
       "      <td>1.000000</td>\n",
       "    </tr>\n",
       "  </tbody>\n",
       "</table>\n",
       "<p>8 rows × 24 columns</p>\n",
       "</div>"
      ],
      "text/plain": [
       "              Age    Esterman          ST  DT_centrale  DT_laterales  \\\n",
       "count  254.000000  254.000000  254.000000   254.000000    254.000000   \n",
       "mean    50.031496   13.854331    0.688976     4.039370     10.023622   \n",
       "std     15.629068   15.932864    0.941845     3.655959     10.472599   \n",
       "min     18.000000    0.000000    0.000000     0.000000      0.000000   \n",
       "25%     38.000000    1.000000    0.000000     2.000000      2.000000   \n",
       "50%     50.000000    8.000000    0.000000     3.000000      6.500000   \n",
       "75%     62.000000   23.000000    1.000000     5.000000     14.000000   \n",
       "max     85.000000   71.000000    5.000000    23.000000     52.000000   \n",
       "\n",
       "       DT_quadsupg  DT_quadsupd  DT_quadinfg  DT_quadinfd   DT_Gauche  ...  \\\n",
       "count   254.000000   254.000000   254.000000   254.000000  254.000000  ...   \n",
       "mean      2.649606     2.488189     2.492126     2.330709    5.141732  ...   \n",
       "std       4.010764     3.704214     4.198383     4.349467    7.232693  ...   \n",
       "min       0.000000     0.000000     0.000000     0.000000    0.000000  ...   \n",
       "25%       0.000000     0.000000     0.000000     0.000000    1.000000  ...   \n",
       "50%       1.000000     1.000000     1.000000     0.000000    2.500000  ...   \n",
       "75%       3.000000     3.000000     3.000000     2.000000    6.000000  ...   \n",
       "max      18.000000    17.000000    18.000000    18.000000   36.000000  ...   \n",
       "\n",
       "       DT_dis_quadsupd  DT_dis_quadinfg  DT_dis_quadinfd  DT_dis_Gauche  \\\n",
       "count       254.000000       254.000000       253.000000     254.000000   \n",
       "mean          4.318898         5.173228         5.102767       9.842520   \n",
       "std           4.428246         4.584894         5.041624       8.450671   \n",
       "min           0.000000         0.000000         0.000000       0.000000   \n",
       "25%           1.000000         2.000000         1.000000       3.000000   \n",
       "50%           2.500000         4.000000         3.000000       7.000000   \n",
       "75%           7.000000         8.000000         8.000000      16.000000   \n",
       "max          18.000000        18.000000        18.000000      36.000000   \n",
       "\n",
       "       DT_dis_Droite  Resultat ST  Resultat DT Central  Résultat DT latéral  \\\n",
       "count     254.000000   254.000000           254.000000           254.000000   \n",
       "mean        9.401575     0.944882             0.913386             0.535433   \n",
       "std         8.665282     0.228661             0.281824             0.499728   \n",
       "min         0.000000     0.000000             0.000000             0.000000   \n",
       "25%         2.000000     1.000000             1.000000             0.000000   \n",
       "50%         7.000000     1.000000             1.000000             1.000000   \n",
       "75%        14.000000     1.000000             1.000000             1.000000   \n",
       "max        36.000000     1.000000             1.000000             1.000000   \n",
       "\n",
       "       Resultat Dis_Centrale  Resultat dis_laterales  \n",
       "count             254.000000              254.000000  \n",
       "mean                0.783465                0.460630  \n",
       "std                 0.412696                0.499432  \n",
       "min                 0.000000                0.000000  \n",
       "25%                 1.000000                0.000000  \n",
       "50%                 1.000000                0.000000  \n",
       "75%                 1.000000                1.000000  \n",
       "max                 1.000000                1.000000  \n",
       "\n",
       "[8 rows x 24 columns]"
      ]
     },
     "execution_count": 11,
     "metadata": {},
     "output_type": "execute_result"
    }
   ],
   "source": [
    "df.describe()"
   ]
  },
  {
   "cell_type": "code",
   "execution_count": 12,
   "id": "80e363ff",
   "metadata": {
    "scrolled": true
   },
   "outputs": [
    {
     "name": "stdout",
     "output_type": "stream",
     "text": [
      "<class 'pandas.core.frame.DataFrame'>\n",
      "RangeIndex: 254 entries, 0 to 253\n",
      "Data columns (total 28 columns):\n",
      " #   Column                  Non-Null Count  Dtype  \n",
      "---  ------                  --------------  -----  \n",
      " 0   Sexe                    254 non-null    object \n",
      " 1   Decision                244 non-null    object \n",
      " 2   Age                     254 non-null    int64  \n",
      " 3   Etio                    254 non-null    object \n",
      " 4   CV                      254 non-null    object \n",
      " 5   Esterman                254 non-null    int64  \n",
      " 6   ST                      254 non-null    int64  \n",
      " 7   DT_centrale             254 non-null    int64  \n",
      " 8   DT_laterales            254 non-null    int64  \n",
      " 9   DT_quadsupg             254 non-null    int64  \n",
      " 10  DT_quadsupd             254 non-null    int64  \n",
      " 11  DT_quadinfg             254 non-null    int64  \n",
      " 12  DT_quadinfd             254 non-null    int64  \n",
      " 13  DT_Gauche               254 non-null    int64  \n",
      " 14  DT_Droite               254 non-null    int64  \n",
      " 15  DT_dis_Centrale         254 non-null    int64  \n",
      " 16  DT_dis_laterales        254 non-null    int64  \n",
      " 17  DT_dis_quadsupg         254 non-null    int64  \n",
      " 18  DT_dis_quadsupd         254 non-null    int64  \n",
      " 19  DT_dis_quadinfg         254 non-null    int64  \n",
      " 20  DT_dis_quadinfd         253 non-null    float64\n",
      " 21  DT_dis_Gauche           254 non-null    int64  \n",
      " 22  DT_dis_Droite           254 non-null    int64  \n",
      " 23  Resultat ST             254 non-null    int64  \n",
      " 24  Resultat DT Central     254 non-null    int64  \n",
      " 25  Résultat DT latéral     254 non-null    int64  \n",
      " 26  Resultat Dis_Centrale   254 non-null    int64  \n",
      " 27  Resultat dis_laterales  254 non-null    int64  \n",
      "dtypes: float64(1), int64(23), object(4)\n",
      "memory usage: 55.7+ KB\n"
     ]
    }
   ],
   "source": [
    "df.info()"
   ]
  },
  {
   "cell_type": "code",
   "execution_count": 13,
   "id": "d79f0109",
   "metadata": {},
   "outputs": [
    {
     "data": {
      "text/plain": [
       "Non           128\n",
       "Oui            91\n",
       "Simulateur     25\n",
       "Name: Decision, dtype: int64"
      ]
     },
     "execution_count": 13,
     "metadata": {},
     "output_type": "execute_result"
    }
   ],
   "source": [
    "df.Decision.value_counts()"
   ]
  },
  {
   "cell_type": "code",
   "execution_count": 14,
   "id": "f62da8db",
   "metadata": {},
   "outputs": [],
   "source": [
    "## Checking for NaN or Null values in the dataset\n",
    "nan_col_vals = df.isnull().sum()"
   ]
  },
  {
   "cell_type": "code",
   "execution_count": 15,
   "id": "102c27de",
   "metadata": {
    "scrolled": true
   },
   "outputs": [
    {
     "data": {
      "text/plain": [
       "Sexe                       0\n",
       "Decision                  10\n",
       "Age                        0\n",
       "Etio                       0\n",
       "CV                         0\n",
       "Esterman                   0\n",
       "ST                         0\n",
       "DT_centrale                0\n",
       "DT_laterales               0\n",
       "DT_quadsupg                0\n",
       "DT_quadsupd                0\n",
       "DT_quadinfg                0\n",
       "DT_quadinfd                0\n",
       "DT_Gauche                  0\n",
       "DT_Droite                  0\n",
       "DT_dis_Centrale            0\n",
       "DT_dis_laterales           0\n",
       "DT_dis_quadsupg            0\n",
       "DT_dis_quadsupd            0\n",
       "DT_dis_quadinfg            0\n",
       "DT_dis_quadinfd            1\n",
       "DT_dis_Gauche              0\n",
       "DT_dis_Droite              0\n",
       "Resultat ST                0\n",
       "Resultat DT Central        0\n",
       "Résultat DT latéral        0\n",
       "Resultat Dis_Centrale      0\n",
       "Resultat dis_laterales     0\n",
       "dtype: int64"
      ]
     },
     "execution_count": 15,
     "metadata": {},
     "output_type": "execute_result"
    }
   ],
   "source": [
    "# Counting NaN values for each column\n",
    "nan_col_vals"
   ]
  },
  {
   "cell_type": "code",
   "execution_count": 16,
   "id": "8dc247f0",
   "metadata": {},
   "outputs": [
    {
     "data": {
      "text/html": [
       "<div>\n",
       "<style scoped>\n",
       "    .dataframe tbody tr th:only-of-type {\n",
       "        vertical-align: middle;\n",
       "    }\n",
       "\n",
       "    .dataframe tbody tr th {\n",
       "        vertical-align: top;\n",
       "    }\n",
       "\n",
       "    .dataframe thead th {\n",
       "        text-align: right;\n",
       "    }\n",
       "</style>\n",
       "<table border=\"1\" class=\"dataframe\">\n",
       "  <thead>\n",
       "    <tr style=\"text-align: right;\">\n",
       "      <th></th>\n",
       "      <th>Sexe</th>\n",
       "      <th>Decision</th>\n",
       "      <th>Age</th>\n",
       "      <th>Etio</th>\n",
       "      <th>CV</th>\n",
       "      <th>Esterman</th>\n",
       "      <th>ST</th>\n",
       "      <th>DT_centrale</th>\n",
       "      <th>DT_laterales</th>\n",
       "      <th>DT_quadsupg</th>\n",
       "      <th>...</th>\n",
       "      <th>DT_dis_quadsupd</th>\n",
       "      <th>DT_dis_quadinfg</th>\n",
       "      <th>DT_dis_quadinfd</th>\n",
       "      <th>DT_dis_Gauche</th>\n",
       "      <th>DT_dis_Droite</th>\n",
       "      <th>Resultat ST</th>\n",
       "      <th>Resultat DT Central</th>\n",
       "      <th>Résultat DT latéral</th>\n",
       "      <th>Resultat Dis_Centrale</th>\n",
       "      <th>Resultat dis_laterales</th>\n",
       "    </tr>\n",
       "  </thead>\n",
       "  <tbody>\n",
       "    <tr>\n",
       "      <th>119</th>\n",
       "      <td>F</td>\n",
       "      <td>Oui</td>\n",
       "      <td>68</td>\n",
       "      <td>Vas</td>\n",
       "      <td>N</td>\n",
       "      <td>0</td>\n",
       "      <td>0</td>\n",
       "      <td>4</td>\n",
       "      <td>1</td>\n",
       "      <td>0</td>\n",
       "      <td>...</td>\n",
       "      <td>1</td>\n",
       "      <td>2</td>\n",
       "      <td>NaN</td>\n",
       "      <td>4</td>\n",
       "      <td>1</td>\n",
       "      <td>1</td>\n",
       "      <td>1</td>\n",
       "      <td>1</td>\n",
       "      <td>1</td>\n",
       "      <td>1</td>\n",
       "    </tr>\n",
       "  </tbody>\n",
       "</table>\n",
       "<p>1 rows × 28 columns</p>\n",
       "</div>"
      ],
      "text/plain": [
       "    Sexe Decision  Age Etio CV  Esterman  ST  DT_centrale  DT_laterales  \\\n",
       "119    F      Oui   68  Vas  N         0   0            4             1   \n",
       "\n",
       "     DT_quadsupg  ...  DT_dis_quadsupd  DT_dis_quadinfg  DT_dis_quadinfd  \\\n",
       "119            0  ...                1                2              NaN   \n",
       "\n",
       "     DT_dis_Gauche  DT_dis_Droite  Resultat ST  Resultat DT Central  \\\n",
       "119              4              1            1                    1   \n",
       "\n",
       "     Résultat DT latéral  Resultat Dis_Centrale  Resultat dis_laterales  \n",
       "119                    1                      1                       1  \n",
       "\n",
       "[1 rows x 28 columns]"
      ]
     },
     "execution_count": 16,
     "metadata": {},
     "output_type": "execute_result"
    }
   ],
   "source": [
    "df.loc[ df.DT_dis_quadinfd.isna() ]"
   ]
  },
  {
   "cell_type": "code",
   "execution_count": 17,
   "id": "a28bfed6",
   "metadata": {},
   "outputs": [],
   "source": [
    "# At the moment, let's consider dropping all the lines with NaN vals\n",
    "df.dropna(inplace = True)\n",
    "df.reset_index(drop=True, inplace=True)"
   ]
  },
  {
   "cell_type": "code",
   "execution_count": 18,
   "id": "c22c2476",
   "metadata": {
    "scrolled": true
   },
   "outputs": [
    {
     "data": {
      "text/plain": [
       "Sexe                      0\n",
       "Decision                  0\n",
       "Age                       0\n",
       "Etio                      0\n",
       "CV                        0\n",
       "Esterman                  0\n",
       "ST                        0\n",
       "DT_centrale               0\n",
       "DT_laterales              0\n",
       "DT_quadsupg               0\n",
       "DT_quadsupd               0\n",
       "DT_quadinfg               0\n",
       "DT_quadinfd               0\n",
       "DT_Gauche                 0\n",
       "DT_Droite                 0\n",
       "DT_dis_Centrale           0\n",
       "DT_dis_laterales          0\n",
       "DT_dis_quadsupg           0\n",
       "DT_dis_quadsupd           0\n",
       "DT_dis_quadinfg           0\n",
       "DT_dis_quadinfd           0\n",
       "DT_dis_Gauche             0\n",
       "DT_dis_Droite             0\n",
       "Resultat ST               0\n",
       "Resultat DT Central       0\n",
       "Résultat DT latéral       0\n",
       "Resultat Dis_Centrale     0\n",
       "Resultat dis_laterales    0\n",
       "dtype: int64"
      ]
     },
     "execution_count": 18,
     "metadata": {},
     "output_type": "execute_result"
    }
   ],
   "source": [
    "df.isna().sum()"
   ]
  },
  {
   "cell_type": "code",
   "execution_count": 19,
   "id": "cf1c60c1",
   "metadata": {},
   "outputs": [
    {
     "data": {
      "text/plain": [
       "Index(['Sexe', 'Decision', 'Age', 'Etio', 'CV', 'Esterman', 'ST',\n",
       "       'DT_centrale', 'DT_laterales', 'DT_quadsupg', 'DT_quadsupd',\n",
       "       'DT_quadinfg', 'DT_quadinfd', 'DT_Gauche', 'DT_Droite',\n",
       "       'DT_dis_Centrale', 'DT_dis_laterales', 'DT_dis_quadsupg',\n",
       "       'DT_dis_quadsupd', 'DT_dis_quadinfg', 'DT_dis_quadinfd',\n",
       "       'DT_dis_Gauche', 'DT_dis_Droite', 'Resultat ST', 'Resultat DT Central',\n",
       "       'Résultat DT latéral', 'Resultat Dis_Centrale',\n",
       "       'Resultat dis_laterales'],\n",
       "      dtype='object')"
      ]
     },
     "execution_count": 19,
     "metadata": {},
     "output_type": "execute_result"
    }
   ],
   "source": [
    "# Listing all the columns in the dataframe\n",
    "df.columns"
   ]
  },
  {
   "cell_type": "code",
   "execution_count": 20,
   "id": "66ba23b0",
   "metadata": {},
   "outputs": [
    {
     "data": {
      "text/plain": [
       "Vas        160\n",
       "TC          41\n",
       "Tum         27\n",
       "Vas          6\n",
       "TC_Vas       4\n",
       "TC           3\n",
       "Tum          1\n",
       "Vas_Tum      1\n",
       "Name: Etio, dtype: int64"
      ]
     },
     "execution_count": 20,
     "metadata": {},
     "output_type": "execute_result"
    }
   ],
   "source": [
    "'''\n",
    "    There is a problem with the values of some categorical features where a charcter '\\xa0' is added to the end of them!\n",
    "    Example: Etio column\n",
    "'''\n",
    "# Etio column\n",
    "df.Etio.value_counts()"
   ]
  },
  {
   "cell_type": "code",
   "execution_count": 21,
   "id": "a51ea6fb",
   "metadata": {},
   "outputs": [],
   "source": [
    "'''\n",
    "    We solve this for all the values in the columns of the dataset as follows:\n",
    "'''\n",
    "df.replace(u'\\xa0', u'', regex=True, inplace = True)"
   ]
  },
  {
   "cell_type": "code",
   "execution_count": 22,
   "id": "720865e0",
   "metadata": {},
   "outputs": [
    {
     "data": {
      "text/plain": [
       "Vas        166\n",
       "TC          44\n",
       "Tum         28\n",
       "TC_Vas       4\n",
       "Vas_Tum      1\n",
       "Name: Etio, dtype: int64"
      ]
     },
     "execution_count": 22,
     "metadata": {},
     "output_type": "execute_result"
    }
   ],
   "source": [
    "# Etio Column after removing the character '\\xa0'\n",
    "df.Etio.value_counts()"
   ]
  },
  {
   "cell_type": "code",
   "execution_count": 23,
   "id": "4b7ed9a2",
   "metadata": {},
   "outputs": [
    {
     "data": {
      "text/plain": [
       "N               111\n",
       "HLH_D            21\n",
       "HLH_G            21\n",
       "Quadra_inf_D     20\n",
       "Quadra_sup_D     19\n",
       "Quadra_sup_G     17\n",
       "Scotome_D        12\n",
       "Quadra_inf_G     11\n",
       "Scotome_G         9\n",
       "Quadra sup D      1\n",
       "Scotomel_G        1\n",
       "Name: CV, dtype: int64"
      ]
     },
     "execution_count": 23,
     "metadata": {},
     "output_type": "execute_result"
    }
   ],
   "source": [
    "# CV Column\n",
    "df.CV.value_counts()"
   ]
  },
  {
   "cell_type": "code",
   "execution_count": 24,
   "id": "239f4bc9",
   "metadata": {},
   "outputs": [],
   "source": [
    "# Fixing the problem with some categories of CV column\n",
    "df.loc[ (df.CV == 'Scotomel_G'), 'CV'] = 'Scotome_G'\n",
    "df.loc[ (df.CV == 'Quadra sup D'), 'CV'] = 'Quadra_sup_D'"
   ]
  },
  {
   "cell_type": "code",
   "execution_count": 25,
   "id": "7af40246",
   "metadata": {},
   "outputs": [
    {
     "data": {
      "text/plain": [
       "Series([], Name: CV, dtype: object)"
      ]
     },
     "execution_count": 25,
     "metadata": {},
     "output_type": "execute_result"
    }
   ],
   "source": [
    "df.loc[ df.CV == 'Quadra sup D' ].CV"
   ]
  },
  {
   "cell_type": "code",
   "execution_count": 26,
   "id": "cc087152",
   "metadata": {},
   "outputs": [
    {
     "data": {
      "text/plain": [
       "N               111\n",
       "HLH_D            21\n",
       "HLH_G            21\n",
       "Quadra_inf_D     20\n",
       "Quadra_sup_D     20\n",
       "Quadra_sup_G     17\n",
       "Scotome_D        12\n",
       "Quadra_inf_G     11\n",
       "Scotome_G        10\n",
       "Name: CV, dtype: int64"
      ]
     },
     "execution_count": 26,
     "metadata": {},
     "output_type": "execute_result"
    }
   ],
   "source": [
    "# CV Column\n",
    "df.CV.value_counts()"
   ]
  },
  {
   "cell_type": "code",
   "execution_count": 27,
   "id": "9de52fed",
   "metadata": {},
   "outputs": [
    {
     "data": {
      "text/plain": [
       "H    145\n",
       "F     98\n",
       "Name: Sexe, dtype: int64"
      ]
     },
     "execution_count": 27,
     "metadata": {},
     "output_type": "execute_result"
    }
   ],
   "source": [
    "# Sexe Column\n",
    "df.Sexe.value_counts()"
   ]
  },
  {
   "cell_type": "code",
   "execution_count": 28,
   "id": "356e03b7",
   "metadata": {},
   "outputs": [
    {
     "data": {
      "text/plain": [
       "array([<Axes: title={'center': 'F'}>, <Axes: title={'center': 'H'}>],\n",
       "      dtype=object)"
      ]
     },
     "execution_count": 28,
     "metadata": {},
     "output_type": "execute_result"
    },
    {
     "data": {
      "image/png": "[encoded data removed]",
      "text/plain": [
       "<Figure size 640x480 with 2 Axes>"
      ]
     },
     "metadata": {},
     "output_type": "display_data"
    }
   ],
   "source": [
    "df.Decision.hist(by = df.Sexe)"
   ]
  },
  {
   "cell_type": "code",
   "execution_count": 29,
   "id": "3c4952ae",
   "metadata": {},
   "outputs": [
    {
     "data": {
      "text/plain": [
       "Non           128\n",
       "Oui            90\n",
       "Simulateur     25\n",
       "Name: Decision, dtype: int64"
      ]
     },
     "execution_count": 29,
     "metadata": {},
     "output_type": "execute_result"
    }
   ],
   "source": [
    "# Decision Column\n",
    "df.Decision.value_counts()"
   ]
  },
  {
   "cell_type": "code",
   "execution_count": 30,
   "id": "c5b9ab91",
   "metadata": {
    "scrolled": true
   },
   "outputs": [
    {
     "data": {
      "image/png": "[encoded data removed]",
      "text/plain": [
       "<Figure size 640x480 with 1 Axes>"
      ]
     },
     "metadata": {},
     "output_type": "display_data"
    },
    {
     "data": {
      "image/png": "[encoded data removed]",
      "text/plain": [
       "<Figure size 640x480 with 1 Axes>"
      ]
     },
     "metadata": {},
     "output_type": "display_data"
    }
   ],
   "source": [
    "# Age Column\n",
    "df.Age.hist()\n",
    "plt.show()\n",
    "sns.boxplot(x = df.Age)\n",
    "plt.show()"
   ]
  },
  {
   "cell_type": "code",
   "execution_count": 31,
   "id": "963ddfb7",
   "metadata": {
    "scrolled": true
   },
   "outputs": [
    {
     "data": {
      "image/png": "[encoded data removed]",
      "text/plain": [
       "<Figure size 640x480 with 1 Axes>"
      ]
     },
     "metadata": {},
     "output_type": "display_data"
    },
    {
     "data": {
      "image/png": "[encoded data removed]",
      "text/plain": [
       "<Figure size 640x480 with 1 Axes>"
      ]
     },
     "metadata": {},
     "output_type": "display_data"
    }
   ],
   "source": [
    "# Esterman Column\n",
    "df.Esterman.hist()\n",
    "plt.show()\n",
    "sns.boxplot(x = df.Esterman)\n",
    "plt.show()"
   ]
  },
  {
   "cell_type": "code",
   "execution_count": 32,
   "id": "1e166a4f",
   "metadata": {},
   "outputs": [
    {
     "data": {
      "text/plain": [
       "0    131\n",
       "1     77\n",
       "2     22\n",
       "3     10\n",
       "5      2\n",
       "4      1\n",
       "Name: ST, dtype: int64"
      ]
     },
     "execution_count": 32,
     "metadata": {},
     "output_type": "execute_result"
    }
   ],
   "source": [
    "# ST Column\n",
    "df.ST.value_counts()"
   ]
  },
  {
   "cell_type": "code",
   "execution_count": 33,
   "id": "d4908aad",
   "metadata": {},
   "outputs": [
    {
     "data": {
      "text/plain": [
       "<Axes: >"
      ]
     },
     "execution_count": 33,
     "metadata": {},
     "output_type": "execute_result"
    },
    {
     "data": {
      "image/png": "[encoded data removed]",
      "text/plain": [
       "<Figure size 640x480 with 1 Axes>"
      ]
     },
     "metadata": {},
     "output_type": "display_data"
    }
   ],
   "source": [
    "# ST Column\n",
    "sns.barplot(x = df.ST.value_counts().index, y = df.ST.value_counts().values)"
   ]
  },
  {
   "cell_type": "code",
   "execution_count": 34,
   "id": "727a6217",
   "metadata": {},
   "outputs": [
    {
     "data": {
      "text/plain": [
       "<Axes: >"
      ]
     },
     "execution_count": 34,
     "metadata": {},
     "output_type": "execute_result"
    },
    {
     "data": {
      "image/png": "[encoded data removed]",
      "text/plain": [
       "<Figure size 640x480 with 1 Axes>"
      ]
     },
     "metadata": {},
     "output_type": "display_data"
    }
   ],
   "source": [
    "# DT_centrale Column\n",
    "sns.barplot(x = df.DT_centrale.value_counts().index, y = df.DT_centrale.value_counts().values)"
   ]
  },
  {
   "cell_type": "code",
   "execution_count": 35,
   "id": "2cc0475c",
   "metadata": {},
   "outputs": [
    {
     "data": {
      "image/png": "[encoded data removed]",
      "text/plain": [
       "<Figure size 640x480 with 1 Axes>"
      ]
     },
     "metadata": {},
     "output_type": "display_data"
    }
   ],
   "source": [
    "# DT_laterales Column\n",
    "sns.histplot(df.DT_laterales)\n",
    "plt.show()"
   ]
  },
  {
   "cell_type": "code",
   "execution_count": 36,
   "id": "4fddfa59",
   "metadata": {},
   "outputs": [
    {
     "name": "stdout",
     "output_type": "stream",
     "text": [
      "Histogram plot:  DT_quadsupg\n"
     ]
    },
    {
     "data": {
      "image/png": "[encoded data removed]",
      "text/plain": [
       "<Figure size 640x480 with 1 Axes>"
      ]
     },
     "metadata": {},
     "output_type": "display_data"
    },
    {
     "name": "stdout",
     "output_type": "stream",
     "text": [
      "Histogram plot:  DT_quadsupd\n"
     ]
    },
    {
     "data": {
      "image/png": "[encoded data removed]",
      "text/plain": [
       "<Figure size 640x480 with 1 Axes>"
      ]
     },
     "metadata": {},
     "output_type": "display_data"
    },
    {
     "name": "stdout",
     "output_type": "stream",
     "text": [
      "Histogram plot:  DT_quadinfg\n"
     ]
    },
    {
     "data": {
      "image/png": "[encoded data removed]",
      "text/plain": [
       "<Figure size 640x480 with 1 Axes>"
      ]
     },
     "metadata": {},
     "output_type": "display_data"
    },
    {
     "name": "stdout",
     "output_type": "stream",
     "text": [
      "Histogram plot:  DT_quadinfd\n"
     ]
    },
    {
     "data": {
      "image/png": "[encoded data removed]",
      "text/plain": [
       "<Figure size 640x480 with 1 Axes>"
      ]
     },
     "metadata": {},
     "output_type": "display_data"
    },
    {
     "name": "stdout",
     "output_type": "stream",
     "text": [
      "Histogram plot:  DT_Gauche\n"
     ]
    },
    {
     "data": {
      "image/png": "[encoded data removed]",
      "text/plain": [
       "<Figure size 640x480 with 1 Axes>"
      ]
     },
     "metadata": {},
     "output_type": "display_data"
    },
    {
     "name": "stdout",
     "output_type": "stream",
     "text": [
      "Histogram plot:  DT_Droite\n"
     ]
    },
    {
     "data": {
      "image/png": "[encoded data removed]",
      "text/plain": [
       "<Figure size 640x480 with 1 Axes>"
      ]
     },
     "metadata": {},
     "output_type": "display_data"
    },
    {
     "name": "stdout",
     "output_type": "stream",
     "text": [
      "Histogram plot:  DT_dis_Centrale\n"
     ]
    },
    {
     "data": {
      "image/png": "[encoded data removed]",
      "text/plain": [
       "<Figure size 640x480 with 1 Axes>"
      ]
     },
     "metadata": {},
     "output_type": "display_data"
    },
    {
     "name": "stdout",
     "output_type": "stream",
     "text": [
      "Histogram plot:  DT_dis_laterales\n"
     ]
    },
    {
     "data": {
      "image/png": "[encoded data removed]",
      "text/plain": [
       "<Figure size 640x480 with 1 Axes>"
      ]
     },
     "metadata": {},
     "output_type": "display_data"
    },
    {
     "name": "stdout",
     "output_type": "stream",
     "text": [
      "Histogram plot:  DT_dis_quadsupg\n"
     ]
    },
    {
     "data": {
      "image/png": "[encoded data removed]",
      "text/plain": [
       "<Figure size 640x480 with 1 Axes>"
      ]
     },
     "metadata": {},
     "output_type": "display_data"
    },
    {
     "name": "stdout",
     "output_type": "stream",
     "text": [
      "Histogram plot:  DT_dis_quadsupd\n"
     ]
    },
    {
     "data": {
      "image/png": "[encoded data removed]",
      "text/plain": [
       "<Figure size 640x480 with 1 Axes>"
      ]
     },
     "metadata": {},
     "output_type": "display_data"
    },
    {
     "name": "stdout",
     "output_type": "stream",
     "text": [
      "Histogram plot:  DT_dis_quadinfg\n"
     ]
    },
    {
     "data": {
      "image/png": "[encoded data removed]",
      "text/plain": [
       "<Figure size 640x480 with 1 Axes>"
      ]
     },
     "metadata": {},
     "output_type": "display_data"
    },
    {
     "name": "stdout",
     "output_type": "stream",
     "text": [
      "Histogram plot:  DT_dis_quadinfd\n"
     ]
    },
    {
     "data": {
      "image/png": "[encoded data removed]",
      "text/plain": [
       "<Figure size 640x480 with 1 Axes>"
      ]
     },
     "metadata": {},
     "output_type": "display_data"
    },
    {
     "name": "stdout",
     "output_type": "stream",
     "text": [
      "Histogram plot:  DT_dis_Gauche\n"
     ]
    },
    {
     "data": {
      "image/png": "[encoded data removed]",
      "text/plain": [
       "<Figure size 640x480 with 1 Axes>"
      ]
     },
     "metadata": {},
     "output_type": "display_data"
    },
    {
     "name": "stdout",
     "output_type": "stream",
     "text": [
      "Histogram plot:  DT_dis_Droite\n"
     ]
    },
    {
     "data": {
      "image/png": "[encoded data removed]",
      "text/plain": [
       "<Figure size 640x480 with 1 Axes>"
      ]
     },
     "metadata": {},
     "output_type": "display_data"
    },
    {
     "name": "stdout",
     "output_type": "stream",
     "text": [
      "Histogram plot:  Resultat ST\n"
     ]
    },
    {
     "data": {
      "image/png": "[encoded data removed]",
      "text/plain": [
       "<Figure size 640x480 with 1 Axes>"
      ]
     },
     "metadata": {},
     "output_type": "display_data"
    },
    {
     "name": "stdout",
     "output_type": "stream",
     "text": [
      "Histogram plot:  Resultat DT Central\n"
     ]
    },
    {
     "data": {
      "image/png": "[encoded data removed]",
      "text/plain": [
       "<Figure size 640x480 with 1 Axes>"
      ]
     },
     "metadata": {},
     "output_type": "display_data"
    },
    {
     "name": "stdout",
     "output_type": "stream",
     "text": [
      "Histogram plot:  Résultat DT latéral\n"
     ]
    },
    {
     "data": {
      "image/png": "[encoded data removed]",
      "text/plain": [
       "<Figure size 640x480 with 1 Axes>"
      ]
     },
     "metadata": {},
     "output_type": "display_data"
    },
    {
     "name": "stdout",
     "output_type": "stream",
     "text": [
      "Histogram plot:  Resultat Dis_Centrale\n"
     ]
    },
    {
     "data": {
      "image/png": "[encoded data removed]",
      "text/plain": [
       "<Figure size 640x480 with 1 Axes>"
      ]
     },
     "metadata": {},
     "output_type": "display_data"
    },
    {
     "name": "stdout",
     "output_type": "stream",
     "text": [
      "Histogram plot:  Resultat dis_laterales\n"
     ]
    },
    {
     "data": {
      "image/png": "[encoded data removed]",
      "text/plain": [
       "<Figure size 640x480 with 1 Axes>"
      ]
     },
     "metadata": {},
     "output_type": "display_data"
    }
   ],
   "source": [
    "# Remaining Columns\n",
    "rem_cols = ['DT_quadsupg', 'DT_quadsupd',\n",
    "       'DT_quadinfg', 'DT_quadinfd', 'DT_Gauche', 'DT_Droite',\n",
    "       'DT_dis_Centrale', 'DT_dis_laterales', 'DT_dis_quadsupg',\n",
    "       'DT_dis_quadsupd', 'DT_dis_quadinfg', 'DT_dis_quadinfd',\n",
    "       'DT_dis_Gauche', 'DT_dis_Droite', 'Resultat ST', 'Resultat DT Central',\n",
    "       'Résultat DT latéral', 'Resultat Dis_Centrale',\n",
    "       'Resultat dis_laterales']\n",
    "for col in rem_cols:\n",
    "    print(\"Histogram plot: \", col)\n",
    "    sns.histplot(df[col], bins = 15)\n",
    "    plt.show()"
   ]
  },
  {
   "cell_type": "markdown",
   "id": "74db5a45",
   "metadata": {},
   "source": [
    "## Features Engineering"
   ]
  },
  {
   "cell_type": "code",
   "execution_count": 37,
   "id": "e63f5f10",
   "metadata": {},
   "outputs": [],
   "source": [
    "# Creating new dataframe called \"cleaned_df\" to included the cleaned version of the main dataframe/dataset\n",
    "cleaned_df = pd.DataFrame()"
   ]
  },
  {
   "cell_type": "code",
   "execution_count": 38,
   "id": "489785da",
   "metadata": {},
   "outputs": [],
   "source": [
    "# Encoding the categorical column 'Sexe' where 'F' = 0 and 'H' = 1\n",
    "cleaned_df['Sexe'] = pd.get_dummies(df.Sexe, drop_first = True)"
   ]
  },
  {
   "cell_type": "code",
   "execution_count": 122,
   "id": "0f4e6e35",
   "metadata": {},
   "outputs": [
    {
     "data": {
      "text/plain": [
       "['etio_encoder.pkl']"
      ]
     },
     "execution_count": 122,
     "metadata": {},
     "output_type": "execute_result"
    }
   ],
   "source": [
    "import joblib\n",
    "# Encoding the categorical column 'Etio'\n",
    "le = LabelEncoder()\n",
    "cleaned_df['Etio'] = le.fit_transform(df.Etio)\n",
    "joblib.dump(le, 'etio_encoder.pkl')"
   ]
  },
  {
   "cell_type": "code",
   "execution_count": 123,
   "id": "67476b78",
   "metadata": {},
   "outputs": [
    {
     "data": {
      "text/plain": [
       "['cv_encoder.pkl']"
      ]
     },
     "execution_count": 123,
     "metadata": {},
     "output_type": "execute_result"
    }
   ],
   "source": [
    "# Encoding the categorical column 'CV'\n",
    "le = LabelEncoder()\n",
    "cleaned_df['CV'] = le.fit_transform(df.CV)\n",
    "joblib.dump(le, 'cv_encoder.pkl')"
   ]
  },
  {
   "cell_type": "code",
   "execution_count": 41,
   "id": "ec4c73de",
   "metadata": {},
   "outputs": [],
   "source": [
    "# Adding other columns from df dataframe to cleaned_df dataframe\n",
    "cleaned_df['Age'] = df['Age']\n",
    "cleaned_df['Esterman'] = df['Esterman']\n",
    "cleaned_df['ST'] = df['ST']\n",
    "cleaned_df[['DT_centrale','DT_quadsupd','DT_quadsupg','DT_quadinfg',\n",
    "            'DT_quadinfd','DT_dis_Centrale','DT_dis_quadinfg',\n",
    "            'DT_dis_quadinfd','DT_dis_quadsupg','DT_dis_quadsupd']] = df[['DT_centrale','DT_quadsupd','DT_quadsupg','DT_quadinfg',\n",
    "            'DT_quadinfd','DT_dis_Centrale','DT_dis_quadinfg',\n",
    "            'DT_dis_quadinfd','DT_dis_quadsupg','DT_dis_quadsupd']]\n",
    "cleaned_df['Decision'] = df['Decision']"
   ]
  },
  {
   "cell_type": "code",
   "execution_count": 42,
   "id": "23bf1b49",
   "metadata": {},
   "outputs": [
    {
     "data": {
      "text/plain": [
       "Index(['Sexe', 'Etio', 'CV', 'Age', 'Esterman', 'ST', 'DT_centrale',\n",
       "       'DT_quadsupd', 'DT_quadsupg', 'DT_quadinfg', 'DT_quadinfd',\n",
       "       'DT_dis_Centrale', 'DT_dis_quadinfg', 'DT_dis_quadinfd',\n",
       "       'DT_dis_quadsupg', 'DT_dis_quadsupd', 'Decision'],\n",
       "      dtype='object')"
      ]
     },
     "execution_count": 42,
     "metadata": {},
     "output_type": "execute_result"
    }
   ],
   "source": [
    "cleaned_df.columns"
   ]
  },
  {
   "cell_type": "code",
   "execution_count": 43,
   "id": "1a8563be",
   "metadata": {},
   "outputs": [
    {
     "data": {
      "text/plain": [
       "17"
      ]
     },
     "execution_count": 43,
     "metadata": {},
     "output_type": "execute_result"
    }
   ],
   "source": [
    "len(cleaned_df.columns)"
   ]
  },
  {
   "cell_type": "code",
   "execution_count": 44,
   "id": "c9c50841",
   "metadata": {},
   "outputs": [
    {
     "data": {
      "text/html": [
       "<div>\n",
       "<style scoped>\n",
       "    .dataframe tbody tr th:only-of-type {\n",
       "        vertical-align: middle;\n",
       "    }\n",
       "\n",
       "    .dataframe tbody tr th {\n",
       "        vertical-align: top;\n",
       "    }\n",
       "\n",
       "    .dataframe thead th {\n",
       "        text-align: right;\n",
       "    }\n",
       "</style>\n",
       "<table border=\"1\" class=\"dataframe\">\n",
       "  <thead>\n",
       "    <tr style=\"text-align: right;\">\n",
       "      <th></th>\n",
       "      <th>Sexe</th>\n",
       "      <th>Etio</th>\n",
       "      <th>CV</th>\n",
       "      <th>Age</th>\n",
       "      <th>Esterman</th>\n",
       "      <th>ST</th>\n",
       "      <th>DT_centrale</th>\n",
       "      <th>DT_quadsupd</th>\n",
       "      <th>DT_quadsupg</th>\n",
       "      <th>DT_quadinfg</th>\n",
       "      <th>DT_quadinfd</th>\n",
       "      <th>DT_dis_Centrale</th>\n",
       "      <th>DT_dis_quadinfg</th>\n",
       "      <th>DT_dis_quadinfd</th>\n",
       "      <th>DT_dis_quadsupg</th>\n",
       "      <th>DT_dis_quadsupd</th>\n",
       "      <th>Decision</th>\n",
       "    </tr>\n",
       "  </thead>\n",
       "  <tbody>\n",
       "    <tr>\n",
       "      <th>195</th>\n",
       "      <td>1</td>\n",
       "      <td>3</td>\n",
       "      <td>5</td>\n",
       "      <td>59</td>\n",
       "      <td>23</td>\n",
       "      <td>1</td>\n",
       "      <td>5</td>\n",
       "      <td>16</td>\n",
       "      <td>0</td>\n",
       "      <td>1</td>\n",
       "      <td>0</td>\n",
       "      <td>6</td>\n",
       "      <td>0</td>\n",
       "      <td>0.0</td>\n",
       "      <td>0</td>\n",
       "      <td>17</td>\n",
       "      <td>Non</td>\n",
       "    </tr>\n",
       "    <tr>\n",
       "      <th>144</th>\n",
       "      <td>1</td>\n",
       "      <td>3</td>\n",
       "      <td>2</td>\n",
       "      <td>54</td>\n",
       "      <td>1</td>\n",
       "      <td>0</td>\n",
       "      <td>1</td>\n",
       "      <td>0</td>\n",
       "      <td>2</td>\n",
       "      <td>1</td>\n",
       "      <td>0</td>\n",
       "      <td>1</td>\n",
       "      <td>4</td>\n",
       "      <td>2.0</td>\n",
       "      <td>2</td>\n",
       "      <td>3</td>\n",
       "      <td>Oui</td>\n",
       "    </tr>\n",
       "    <tr>\n",
       "      <th>203</th>\n",
       "      <td>1</td>\n",
       "      <td>3</td>\n",
       "      <td>6</td>\n",
       "      <td>78</td>\n",
       "      <td>18</td>\n",
       "      <td>0</td>\n",
       "      <td>3</td>\n",
       "      <td>1</td>\n",
       "      <td>9</td>\n",
       "      <td>0</td>\n",
       "      <td>0</td>\n",
       "      <td>4</td>\n",
       "      <td>10</td>\n",
       "      <td>1.0</td>\n",
       "      <td>9</td>\n",
       "      <td>2</td>\n",
       "      <td>Non</td>\n",
       "    </tr>\n",
       "    <tr>\n",
       "      <th>91</th>\n",
       "      <td>1</td>\n",
       "      <td>0</td>\n",
       "      <td>2</td>\n",
       "      <td>34</td>\n",
       "      <td>0</td>\n",
       "      <td>1</td>\n",
       "      <td>6</td>\n",
       "      <td>2</td>\n",
       "      <td>7</td>\n",
       "      <td>2</td>\n",
       "      <td>0</td>\n",
       "      <td>14</td>\n",
       "      <td>3</td>\n",
       "      <td>1.0</td>\n",
       "      <td>2</td>\n",
       "      <td>2</td>\n",
       "      <td>Non</td>\n",
       "    </tr>\n",
       "    <tr>\n",
       "      <th>111</th>\n",
       "      <td>1</td>\n",
       "      <td>3</td>\n",
       "      <td>2</td>\n",
       "      <td>74</td>\n",
       "      <td>0</td>\n",
       "      <td>1</td>\n",
       "      <td>12</td>\n",
       "      <td>0</td>\n",
       "      <td>0</td>\n",
       "      <td>0</td>\n",
       "      <td>0</td>\n",
       "      <td>7</td>\n",
       "      <td>3</td>\n",
       "      <td>1.0</td>\n",
       "      <td>0</td>\n",
       "      <td>0</td>\n",
       "      <td>Oui</td>\n",
       "    </tr>\n",
       "    <tr>\n",
       "      <th>42</th>\n",
       "      <td>1</td>\n",
       "      <td>3</td>\n",
       "      <td>1</td>\n",
       "      <td>57</td>\n",
       "      <td>42</td>\n",
       "      <td>1</td>\n",
       "      <td>3</td>\n",
       "      <td>0</td>\n",
       "      <td>9</td>\n",
       "      <td>5</td>\n",
       "      <td>0</td>\n",
       "      <td>5</td>\n",
       "      <td>4</td>\n",
       "      <td>0.0</td>\n",
       "      <td>18</td>\n",
       "      <td>2</td>\n",
       "      <td>Non</td>\n",
       "    </tr>\n",
       "    <tr>\n",
       "      <th>174</th>\n",
       "      <td>0</td>\n",
       "      <td>2</td>\n",
       "      <td>4</td>\n",
       "      <td>50</td>\n",
       "      <td>27</td>\n",
       "      <td>1</td>\n",
       "      <td>6</td>\n",
       "      <td>3</td>\n",
       "      <td>2</td>\n",
       "      <td>10</td>\n",
       "      <td>4</td>\n",
       "      <td>9</td>\n",
       "      <td>13</td>\n",
       "      <td>5.0</td>\n",
       "      <td>14</td>\n",
       "      <td>3</td>\n",
       "      <td>Non</td>\n",
       "    </tr>\n",
       "    <tr>\n",
       "      <th>65</th>\n",
       "      <td>1</td>\n",
       "      <td>0</td>\n",
       "      <td>2</td>\n",
       "      <td>41</td>\n",
       "      <td>0</td>\n",
       "      <td>0</td>\n",
       "      <td>2</td>\n",
       "      <td>0</td>\n",
       "      <td>0</td>\n",
       "      <td>0</td>\n",
       "      <td>0</td>\n",
       "      <td>2</td>\n",
       "      <td>1</td>\n",
       "      <td>0.0</td>\n",
       "      <td>0</td>\n",
       "      <td>0</td>\n",
       "      <td>Oui</td>\n",
       "    </tr>\n",
       "    <tr>\n",
       "      <th>18</th>\n",
       "      <td>1</td>\n",
       "      <td>0</td>\n",
       "      <td>0</td>\n",
       "      <td>20</td>\n",
       "      <td>40</td>\n",
       "      <td>2</td>\n",
       "      <td>2</td>\n",
       "      <td>3</td>\n",
       "      <td>0</td>\n",
       "      <td>0</td>\n",
       "      <td>13</td>\n",
       "      <td>3</td>\n",
       "      <td>7</td>\n",
       "      <td>12.0</td>\n",
       "      <td>5</td>\n",
       "      <td>10</td>\n",
       "      <td>Non</td>\n",
       "    </tr>\n",
       "    <tr>\n",
       "      <th>152</th>\n",
       "      <td>0</td>\n",
       "      <td>2</td>\n",
       "      <td>3</td>\n",
       "      <td>38</td>\n",
       "      <td>28</td>\n",
       "      <td>0</td>\n",
       "      <td>3</td>\n",
       "      <td>3</td>\n",
       "      <td>0</td>\n",
       "      <td>0</td>\n",
       "      <td>14</td>\n",
       "      <td>3</td>\n",
       "      <td>4</td>\n",
       "      <td>12.0</td>\n",
       "      <td>2</td>\n",
       "      <td>7</td>\n",
       "      <td>Non</td>\n",
       "    </tr>\n",
       "  </tbody>\n",
       "</table>\n",
       "</div>"
      ],
      "text/plain": [
       "     Sexe  Etio  CV  Age  Esterman  ST  DT_centrale  DT_quadsupd  DT_quadsupg  \\\n",
       "195     1     3   5   59        23   1            5           16            0   \n",
       "144     1     3   2   54         1   0            1            0            2   \n",
       "203     1     3   6   78        18   0            3            1            9   \n",
       "91      1     0   2   34         0   1            6            2            7   \n",
       "111     1     3   2   74         0   1           12            0            0   \n",
       "42      1     3   1   57        42   1            3            0            9   \n",
       "174     0     2   4   50        27   1            6            3            2   \n",
       "65      1     0   2   41         0   0            2            0            0   \n",
       "18      1     0   0   20        40   2            2            3            0   \n",
       "152     0     2   3   38        28   0            3            3            0   \n",
       "\n",
       "     DT_quadinfg  DT_quadinfd  DT_dis_Centrale  DT_dis_quadinfg  \\\n",
       "195            1            0                6                0   \n",
       "144            1            0                1                4   \n",
       "203            0            0                4               10   \n",
       "91             2            0               14                3   \n",
       "111            0            0                7                3   \n",
       "42             5            0                5                4   \n",
       "174           10            4                9               13   \n",
       "65             0            0                2                1   \n",
       "18             0           13                3                7   \n",
       "152            0           14                3                4   \n",
       "\n",
       "     DT_dis_quadinfd  DT_dis_quadsupg  DT_dis_quadsupd Decision  \n",
       "195              0.0                0               17      Non  \n",
       "144              2.0                2                3      Oui  \n",
       "203              1.0                9                2      Non  \n",
       "91               1.0                2                2      Non  \n",
       "111              1.0                0                0      Oui  \n",
       "42               0.0               18                2      Non  \n",
       "174              5.0               14                3      Non  \n",
       "65               0.0                0                0      Oui  \n",
       "18              12.0                5               10      Non  \n",
       "152             12.0                2                7      Non  "
      ]
     },
     "execution_count": 44,
     "metadata": {},
     "output_type": "execute_result"
    }
   ],
   "source": [
    "# Printing the cleaned_df dataframe\n",
    "cleaned_df.sample(10)"
   ]
  },
  {
   "cell_type": "code",
   "execution_count": 45,
   "id": "21a51b9f",
   "metadata": {},
   "outputs": [
    {
     "data": {
      "text/html": [
       "<div>\n",
       "<style scoped>\n",
       "    .dataframe tbody tr th:only-of-type {\n",
       "        vertical-align: middle;\n",
       "    }\n",
       "\n",
       "    .dataframe tbody tr th {\n",
       "        vertical-align: top;\n",
       "    }\n",
       "\n",
       "    .dataframe thead th {\n",
       "        text-align: right;\n",
       "    }\n",
       "</style>\n",
       "<table border=\"1\" class=\"dataframe\">\n",
       "  <thead>\n",
       "    <tr style=\"text-align: right;\">\n",
       "      <th></th>\n",
       "      <th>Sexe</th>\n",
       "      <th>Etio</th>\n",
       "      <th>CV</th>\n",
       "      <th>Age</th>\n",
       "      <th>Esterman</th>\n",
       "      <th>ST</th>\n",
       "      <th>DT_centrale</th>\n",
       "      <th>DT_quadsupd</th>\n",
       "      <th>DT_quadsupg</th>\n",
       "      <th>DT_quadinfg</th>\n",
       "      <th>DT_quadinfd</th>\n",
       "      <th>DT_dis_Centrale</th>\n",
       "      <th>DT_dis_quadinfg</th>\n",
       "      <th>DT_dis_quadinfd</th>\n",
       "      <th>DT_dis_quadsupg</th>\n",
       "      <th>DT_dis_quadsupd</th>\n",
       "    </tr>\n",
       "  </thead>\n",
       "  <tbody>\n",
       "    <tr>\n",
       "      <th>count</th>\n",
       "      <td>243.000000</td>\n",
       "      <td>243.000000</td>\n",
       "      <td>243.000000</td>\n",
       "      <td>243.000000</td>\n",
       "      <td>243.000000</td>\n",
       "      <td>243.000000</td>\n",
       "      <td>243.000000</td>\n",
       "      <td>243.000000</td>\n",
       "      <td>243.000000</td>\n",
       "      <td>243.000000</td>\n",
       "      <td>243.000000</td>\n",
       "      <td>243.000000</td>\n",
       "      <td>243.000000</td>\n",
       "      <td>243.000000</td>\n",
       "      <td>243.000000</td>\n",
       "      <td>243.000000</td>\n",
       "    </tr>\n",
       "    <tr>\n",
       "      <th>mean</th>\n",
       "      <td>0.596708</td>\n",
       "      <td>2.312757</td>\n",
       "      <td>2.934156</td>\n",
       "      <td>49.806584</td>\n",
       "      <td>13.736626</td>\n",
       "      <td>0.679012</td>\n",
       "      <td>3.975309</td>\n",
       "      <td>2.423868</td>\n",
       "      <td>2.617284</td>\n",
       "      <td>2.473251</td>\n",
       "      <td>2.267490</td>\n",
       "      <td>4.691358</td>\n",
       "      <td>5.102881</td>\n",
       "      <td>5.028807</td>\n",
       "      <td>4.637860</td>\n",
       "      <td>4.259259</td>\n",
       "    </tr>\n",
       "    <tr>\n",
       "      <th>std</th>\n",
       "      <td>0.491571</td>\n",
       "      <td>1.161060</td>\n",
       "      <td>2.101698</td>\n",
       "      <td>15.575451</td>\n",
       "      <td>15.952039</td>\n",
       "      <td>0.929238</td>\n",
       "      <td>3.689303</td>\n",
       "      <td>3.602881</td>\n",
       "      <td>3.963369</td>\n",
       "      <td>4.253621</td>\n",
       "      <td>4.211168</td>\n",
       "      <td>4.356932</td>\n",
       "      <td>4.589076</td>\n",
       "      <td>4.974646</td>\n",
       "      <td>4.540967</td>\n",
       "      <td>4.315390</td>\n",
       "    </tr>\n",
       "    <tr>\n",
       "      <th>min</th>\n",
       "      <td>0.000000</td>\n",
       "      <td>0.000000</td>\n",
       "      <td>0.000000</td>\n",
       "      <td>18.000000</td>\n",
       "      <td>0.000000</td>\n",
       "      <td>0.000000</td>\n",
       "      <td>0.000000</td>\n",
       "      <td>0.000000</td>\n",
       "      <td>0.000000</td>\n",
       "      <td>0.000000</td>\n",
       "      <td>0.000000</td>\n",
       "      <td>0.000000</td>\n",
       "      <td>0.000000</td>\n",
       "      <td>0.000000</td>\n",
       "      <td>0.000000</td>\n",
       "      <td>0.000000</td>\n",
       "    </tr>\n",
       "    <tr>\n",
       "      <th>25%</th>\n",
       "      <td>0.000000</td>\n",
       "      <td>2.000000</td>\n",
       "      <td>2.000000</td>\n",
       "      <td>38.000000</td>\n",
       "      <td>1.000000</td>\n",
       "      <td>0.000000</td>\n",
       "      <td>2.000000</td>\n",
       "      <td>0.000000</td>\n",
       "      <td>0.000000</td>\n",
       "      <td>0.000000</td>\n",
       "      <td>0.000000</td>\n",
       "      <td>2.000000</td>\n",
       "      <td>2.000000</td>\n",
       "      <td>1.000000</td>\n",
       "      <td>1.000000</td>\n",
       "      <td>1.000000</td>\n",
       "    </tr>\n",
       "    <tr>\n",
       "      <th>50%</th>\n",
       "      <td>1.000000</td>\n",
       "      <td>3.000000</td>\n",
       "      <td>2.000000</td>\n",
       "      <td>50.000000</td>\n",
       "      <td>8.000000</td>\n",
       "      <td>0.000000</td>\n",
       "      <td>3.000000</td>\n",
       "      <td>1.000000</td>\n",
       "      <td>1.000000</td>\n",
       "      <td>1.000000</td>\n",
       "      <td>0.000000</td>\n",
       "      <td>3.000000</td>\n",
       "      <td>4.000000</td>\n",
       "      <td>3.000000</td>\n",
       "      <td>3.000000</td>\n",
       "      <td>2.000000</td>\n",
       "    </tr>\n",
       "    <tr>\n",
       "      <th>75%</th>\n",
       "      <td>1.000000</td>\n",
       "      <td>3.000000</td>\n",
       "      <td>4.000000</td>\n",
       "      <td>62.000000</td>\n",
       "      <td>23.000000</td>\n",
       "      <td>1.000000</td>\n",
       "      <td>5.000000</td>\n",
       "      <td>3.000000</td>\n",
       "      <td>3.000000</td>\n",
       "      <td>2.500000</td>\n",
       "      <td>2.000000</td>\n",
       "      <td>6.000000</td>\n",
       "      <td>8.000000</td>\n",
       "      <td>8.000000</td>\n",
       "      <td>7.000000</td>\n",
       "      <td>7.000000</td>\n",
       "    </tr>\n",
       "    <tr>\n",
       "      <th>max</th>\n",
       "      <td>1.000000</td>\n",
       "      <td>4.000000</td>\n",
       "      <td>8.000000</td>\n",
       "      <td>85.000000</td>\n",
       "      <td>71.000000</td>\n",
       "      <td>5.000000</td>\n",
       "      <td>23.000000</td>\n",
       "      <td>17.000000</td>\n",
       "      <td>18.000000</td>\n",
       "      <td>18.000000</td>\n",
       "      <td>18.000000</td>\n",
       "      <td>35.000000</td>\n",
       "      <td>18.000000</td>\n",
       "      <td>18.000000</td>\n",
       "      <td>18.000000</td>\n",
       "      <td>18.000000</td>\n",
       "    </tr>\n",
       "  </tbody>\n",
       "</table>\n",
       "</div>"
      ],
      "text/plain": [
       "             Sexe        Etio          CV         Age    Esterman          ST  \\\n",
       "count  243.000000  243.000000  243.000000  243.000000  243.000000  243.000000   \n",
       "mean     0.596708    2.312757    2.934156   49.806584   13.736626    0.679012   \n",
       "std      0.491571    1.161060    2.101698   15.575451   15.952039    0.929238   \n",
       "min      0.000000    0.000000    0.000000   18.000000    0.000000    0.000000   \n",
       "25%      0.000000    2.000000    2.000000   38.000000    1.000000    0.000000   \n",
       "50%      1.000000    3.000000    2.000000   50.000000    8.000000    0.000000   \n",
       "75%      1.000000    3.000000    4.000000   62.000000   23.000000    1.000000   \n",
       "max      1.000000    4.000000    8.000000   85.000000   71.000000    5.000000   \n",
       "\n",
       "       DT_centrale  DT_quadsupd  DT_quadsupg  DT_quadinfg  DT_quadinfd  \\\n",
       "count   243.000000   243.000000   243.000000   243.000000   243.000000   \n",
       "mean      3.975309     2.423868     2.617284     2.473251     2.267490   \n",
       "std       3.689303     3.602881     3.963369     4.253621     4.211168   \n",
       "min       0.000000     0.000000     0.000000     0.000000     0.000000   \n",
       "25%       2.000000     0.000000     0.000000     0.000000     0.000000   \n",
       "50%       3.000000     1.000000     1.000000     1.000000     0.000000   \n",
       "75%       5.000000     3.000000     3.000000     2.500000     2.000000   \n",
       "max      23.000000    17.000000    18.000000    18.000000    18.000000   \n",
       "\n",
       "       DT_dis_Centrale  DT_dis_quadinfg  DT_dis_quadinfd  DT_dis_quadsupg  \\\n",
       "count       243.000000       243.000000       243.000000       243.000000   \n",
       "mean          4.691358         5.102881         5.028807         4.637860   \n",
       "std           4.356932         4.589076         4.974646         4.540967   \n",
       "min           0.000000         0.000000         0.000000         0.000000   \n",
       "25%           2.000000         2.000000         1.000000         1.000000   \n",
       "50%           3.000000         4.000000         3.000000         3.000000   \n",
       "75%           6.000000         8.000000         8.000000         7.000000   \n",
       "max          35.000000        18.000000        18.000000        18.000000   \n",
       "\n",
       "       DT_dis_quadsupd  \n",
       "count       243.000000  \n",
       "mean          4.259259  \n",
       "std           4.315390  \n",
       "min           0.000000  \n",
       "25%           1.000000  \n",
       "50%           2.000000  \n",
       "75%           7.000000  \n",
       "max          18.000000  "
      ]
     },
     "execution_count": 45,
     "metadata": {},
     "output_type": "execute_result"
    }
   ],
   "source": [
    "cleaned_df.describe()"
   ]
  },
  {
   "cell_type": "code",
   "execution_count": 46,
   "id": "8a2d4a16",
   "metadata": {},
   "outputs": [
    {
     "data": {
      "text/plain": [
       "Non           128\n",
       "Oui            90\n",
       "Simulateur     25\n",
       "Name: Decision, dtype: int64"
      ]
     },
     "execution_count": 46,
     "metadata": {},
     "output_type": "execute_result"
    }
   ],
   "source": [
    "# Checking the output column 'Decision' values\n",
    "cleaned_df.Decision.value_counts()"
   ]
  },
  {
   "cell_type": "code",
   "execution_count": 47,
   "id": "851cc722",
   "metadata": {},
   "outputs": [
    {
     "data": {
      "image/png": "[encoded data removed]",
      "text/plain": [
       "<Figure size 640x480 with 1 Axes>"
      ]
     },
     "metadata": {},
     "output_type": "display_data"
    }
   ],
   "source": [
    "# Plotting target column 'Effect' percentage per class\n",
    "ax = sns.barplot(x = cleaned_df['Decision'].value_counts().index, y = list(cleaned_df['Decision'].value_counts()/len(df.Decision)))\n",
    "ax.bar_label(ax.containers[0])\n",
    "plt.title('Decision Classes')\n",
    "plt.xlabel('Classes')\n",
    "plt.ylabel('Frequency')\n",
    "plt.show()"
   ]
  },
  {
   "cell_type": "code",
   "execution_count": 48,
   "id": "43498662",
   "metadata": {},
   "outputs": [],
   "source": [
    "# Encoding the output column 'Decision' as follows:\n",
    "cleaned_df['Decision'] = cleaned_df['Decision'].replace({'Non': 0, 'Oui': 1, 'Simulateur': 2})"
   ]
  },
  {
   "cell_type": "code",
   "execution_count": 49,
   "id": "1fda078d",
   "metadata": {},
   "outputs": [
    {
     "data": {
      "text/plain": [
       "<Axes: >"
      ]
     },
     "execution_count": 49,
     "metadata": {},
     "output_type": "execute_result"
    },
    {
     "data": {
      "image/png": "[encoded data removed]",
      "text/plain": [
       "<Figure size 2000x1000 with 2 Axes>"
      ]
     },
     "metadata": {},
     "output_type": "display_data"
    }
   ],
   "source": [
    "# Checking the correlation of the columns \n",
    "plt.figure(figsize=(20,10))\n",
    "sns.heatmap(cleaned_df.corr().abs()[['Decision']].sort_values(by = 'Decision'), annot = True)"
   ]
  },
  {
   "cell_type": "markdown",
   "id": "31a119b6",
   "metadata": {},
   "source": [
    "# Building ML Classifcation Models without considering oversampling techniques"
   ]
  },
  {
   "cell_type": "code",
   "execution_count": 50,
   "id": "c24b3904",
   "metadata": {},
   "outputs": [],
   "source": [
    "# Defining the features and target\n",
    "features = cleaned_df.drop(columns = ['Decision'])\n",
    "target = cleaned_df['Decision']"
   ]
  },
  {
   "cell_type": "code",
   "execution_count": 51,
   "id": "caa1ae16",
   "metadata": {},
   "outputs": [],
   "source": [
    "# Splitting the data to training and test sets\n",
    "X_train, X_test, y_train, y_test = train_test_split(features, target, test_size = 0.4)"
   ]
  },
  {
   "cell_type": "markdown",
   "id": "6621884c",
   "metadata": {},
   "source": [
    "## Logistic Regression"
   ]
  },
  {
   "cell_type": "code",
   "execution_count": 52,
   "id": "2098c7a0",
   "metadata": {},
   "outputs": [],
   "source": [
    "# Initializing the model LR\n",
    "mdl_LR = LogisticRegression(max_iter = 3000)"
   ]
  },
  {
   "cell_type": "code",
   "execution_count": 53,
   "id": "50f04f16",
   "metadata": {},
   "outputs": [
    {
     "data": {
      "text/html": [
       "<style>#sk-container-id-1 {color: black;}#sk-container-id-1 pre{padding: 0;}#sk-container-id-1 div.sk-toggleable {background-color: white;}#sk-container-id-1 label.sk-toggleable__label {cursor: pointer;display: block;width: 100%;margin-bottom: 0;padding: 0.3em;box-sizing: border-box;text-align: center;}#sk-container-id-1 label.sk-toggleable__label-arrow:before {content: \"▸\";float: left;margin-right: 0.25em;color: #696969;}#sk-container-id-1 label.sk-toggleable__label-arrow:hover:before {color: black;}#sk-container-id-1 div.sk-estimator:hover label.sk-toggleable__label-arrow:before {color: black;}#sk-container-id-1 div.sk-toggleable__content {max-height: 0;max-width: 0;overflow: hidden;text-align: left;background-color: #f0f8ff;}#sk-container-id-1 div.sk-toggleable__content pre {margin: 0.2em;color: black;border-radius: 0.25em;background-color: #f0f8ff;}#sk-container-id-1 input.sk-toggleable__control:checked~div.sk-toggleable__content {max-height: 200px;max-width: 100%;overflow: auto;}#sk-container-id-1 input.sk-toggleable__control:checked~label.sk-toggleable__label-arrow:before {content: \"▾\";}#sk-container-id-1 div.sk-estimator input.sk-toggleable__control:checked~label.sk-toggleable__label {background-color: #d4ebff;}#sk-container-id-1 div.sk-label input.sk-toggleable__control:checked~label.sk-toggleable__label {background-color: #d4ebff;}#sk-container-id-1 input.sk-hidden--visually {border: 0;clip: rect(1px 1px 1px 1px);clip: rect(1px, 1px, 1px, 1px);height: 1px;margin: -1px;overflow: hidden;padding: 0;position: absolute;width: 1px;}#sk-container-id-1 div.sk-estimator {font-family: monospace;background-color: #f0f8ff;border: 1px dotted black;border-radius: 0.25em;box-sizing: border-box;margin-bottom: 0.5em;}#sk-container-id-1 div.sk-estimator:hover {background-color: #d4ebff;}#sk-container-id-1 div.sk-parallel-item::after {content: \"\";width: 100%;border-bottom: 1px solid gray;flex-grow: 1;}#sk-container-id-1 div.sk-label:hover label.sk-toggleable__label {background-color: #d4ebff;}#sk-container-id-1 div.sk-serial::before {content: \"\";position: absolute;border-left: 1px solid gray;box-sizing: border-box;top: 0;bottom: 0;left: 50%;z-index: 0;}#sk-container-id-1 div.sk-serial {display: flex;flex-direction: column;align-items: center;background-color: white;padding-right: 0.2em;padding-left: 0.2em;position: relative;}#sk-container-id-1 div.sk-item {position: relative;z-index: 1;}#sk-container-id-1 div.sk-parallel {display: flex;align-items: stretch;justify-content: center;background-color: white;position: relative;}#sk-container-id-1 div.sk-item::before, #sk-container-id-1 div.sk-parallel-item::before {content: \"\";position: absolute;border-left: 1px solid gray;box-sizing: border-box;top: 0;bottom: 0;left: 50%;z-index: -1;}#sk-container-id-1 div.sk-parallel-item {display: flex;flex-direction: column;z-index: 1;position: relative;background-color: white;}#sk-container-id-1 div.sk-parallel-item:first-child::after {align-self: flex-end;width: 50%;}#sk-container-id-1 div.sk-parallel-item:last-child::after {align-self: flex-start;width: 50%;}#sk-container-id-1 div.sk-parallel-item:only-child::after {width: 0;}#sk-container-id-1 div.sk-dashed-wrapped {border: 1px dashed gray;margin: 0 0.4em 0.5em 0.4em;box-sizing: border-box;padding-bottom: 0.4em;background-color: white;}#sk-container-id-1 div.sk-label label {font-family: monospace;font-weight: bold;display: inline-block;line-height: 1.2em;}#sk-container-id-1 div.sk-label-container {text-align: center;}#sk-container-id-1 div.sk-container {/* jupyter's `normalize.less` sets `[hidden] { display: none; }` but bootstrap.min.css set `[hidden] { display: none !important; }` so we also need the `!important` here to be able to override the default hidden behavior on the sphinx rendered scikit-learn.org. See: https://github.com/scikit-learn/scikit-learn/issues/21755 */display: inline-block !important;position: relative;}#sk-container-id-1 div.sk-text-repr-fallback {display: none;}</style><div id=\"sk-container-id-1\" class=\"sk-top-container\"><div class=\"sk-text-repr-fallback\"><pre>LogisticRegression(max_iter=3000)</pre><b>In a Jupyter environment, please rerun this cell to show the HTML representation or trust the notebook. <br />On GitHub, the HTML representation is unable to render, please try loading this page with nbviewer.org.</b></div><div class=\"sk-container\" hidden><div class=\"sk-item\"><div class=\"sk-estimator sk-toggleable\"><input class=\"sk-toggleable__control sk-hidden--visually\" id=\"sk-estimator-id-1\" type=\"checkbox\" checked><label for=\"sk-estimator-id-1\" class=\"sk-toggleable__label sk-toggleable__label-arrow\">LogisticRegression</label><div class=\"sk-toggleable__content\"><pre>LogisticRegression(max_iter=3000)</pre></div></div></div></div></div>"
      ],
      "text/plain": [
       "LogisticRegression(max_iter=3000)"
      ]
     },
     "execution_count": 53,
     "metadata": {},
     "output_type": "execute_result"
    }
   ],
   "source": [
    "# Fitting the training data to the LR model\n",
    "mdl_LR.fit(X_train, y_train)"
   ]
  },
  {
   "cell_type": "code",
   "execution_count": 54,
   "id": "8ceaa6a3",
   "metadata": {},
   "outputs": [
    {
     "data": {
      "text/plain": [
       "(array([-0.9559471 ,  2.66123847, -1.70529136]),\n",
       " array([[-0.4596501 ,  0.0167914 , -0.0099415 , -0.00521433,  0.00346898,\n",
       "         -0.30082166,  0.17613426,  0.19230175,  0.04881839, -0.00460067,\n",
       "          0.09178857,  0.05226397,  0.14533351,  0.04859009,  0.02175301,\n",
       "         -0.01000654],\n",
       "        [ 0.14006649, -0.04473079, -0.26410234,  0.01476118, -0.01817676,\n",
       "          0.10173862, -0.04365852, -0.14931771,  0.04044884, -0.04654876,\n",
       "          0.09075681, -0.11670365, -0.16821203, -0.09455957, -0.07383761,\n",
       "         -0.05420421],\n",
       "        [ 0.31958361,  0.02793939,  0.27404384, -0.00954685,  0.01470778,\n",
       "          0.19908305, -0.13247574, -0.04298404, -0.08926722,  0.05114943,\n",
       "         -0.18254538,  0.06443968,  0.02287851,  0.04596948,  0.05208459,\n",
       "          0.06421075]]))"
      ]
     },
     "execution_count": 54,
     "metadata": {},
     "output_type": "execute_result"
    }
   ],
   "source": [
    "# Getting the intercept and coeffecients values of the LR model\n",
    "mdl_LR.intercept_, mdl_LR.coef_"
   ]
  },
  {
   "cell_type": "code",
   "execution_count": 55,
   "id": "ae8bf6a4",
   "metadata": {},
   "outputs": [],
   "source": [
    "# Testing the LR model on unseen data (test data)\n",
    "pred_LR = mdl_LR.predict(X_test)"
   ]
  },
  {
   "cell_type": "code",
   "execution_count": 56,
   "id": "15b1363f",
   "metadata": {},
   "outputs": [
    {
     "data": {
      "text/plain": [
       "0.7448979591836735"
      ]
     },
     "execution_count": 56,
     "metadata": {},
     "output_type": "execute_result"
    }
   ],
   "source": [
    "# Accuracy score of LR model\n",
    "accuracy_score(y_test, pred_LR)"
   ]
  },
  {
   "cell_type": "code",
   "execution_count": 57,
   "id": "353941df",
   "metadata": {},
   "outputs": [
    {
     "data": {
      "text/plain": [
       "<Axes: >"
      ]
     },
     "execution_count": 57,
     "metadata": {},
     "output_type": "execute_result"
    },
    {
     "data": {
      "image/png": "[encoded data removed]",
      "text/plain": [
       "<Figure size 640x480 with 2 Axes>"
      ]
     },
     "metadata": {},
     "output_type": "display_data"
    }
   ],
   "source": [
    "# Confusion matirx of the LR predictions\n",
    "sns.heatmap(confusion_matrix(y_test, pred_LR), annot = True)"
   ]
  },
  {
   "cell_type": "code",
   "execution_count": 58,
   "id": "a8d2bda6",
   "metadata": {},
   "outputs": [
    {
     "name": "stdout",
     "output_type": "stream",
     "text": [
      "              precision    recall  f1-score   support\n",
      "\n",
      "           0       0.78      0.85      0.81        54\n",
      "           1       0.81      0.74      0.78        35\n",
      "           2       0.14      0.11      0.12         9\n",
      "\n",
      "    accuracy                           0.74        98\n",
      "   macro avg       0.58      0.57      0.57        98\n",
      "weighted avg       0.73      0.74      0.74        98\n",
      "\n"
     ]
    }
   ],
   "source": [
    "print(metrics.classification_report(y_test, pred_LR))"
   ]
  },
  {
   "cell_type": "markdown",
   "id": "f47ccfa1",
   "metadata": {},
   "source": [
    "## Decision Tree Classifier"
   ]
  },
  {
   "cell_type": "code",
   "execution_count": 59,
   "id": "1aaab21b",
   "metadata": {},
   "outputs": [],
   "source": [
    "# Intializing the decision tree classifier model\n",
    "mdl_DT = DecisionTreeClassifier(criterion='entropy')"
   ]
  },
  {
   "cell_type": "code",
   "execution_count": 60,
   "id": "229fb3d4",
   "metadata": {},
   "outputs": [
    {
     "data": {
      "text/html": [
       "<style>#sk-container-id-2 {color: black;}#sk-container-id-2 pre{padding: 0;}#sk-container-id-2 div.sk-toggleable {background-color: white;}#sk-container-id-2 label.sk-toggleable__label {cursor: pointer;display: block;width: 100%;margin-bottom: 0;padding: 0.3em;box-sizing: border-box;text-align: center;}#sk-container-id-2 label.sk-toggleable__label-arrow:before {content: \"▸\";float: left;margin-right: 0.25em;color: #696969;}#sk-container-id-2 label.sk-toggleable__label-arrow:hover:before {color: black;}#sk-container-id-2 div.sk-estimator:hover label.sk-toggleable__label-arrow:before {color: black;}#sk-container-id-2 div.sk-toggleable__content {max-height: 0;max-width: 0;overflow: hidden;text-align: left;background-color: #f0f8ff;}#sk-container-id-2 div.sk-toggleable__content pre {margin: 0.2em;color: black;border-radius: 0.25em;background-color: #f0f8ff;}#sk-container-id-2 input.sk-toggleable__control:checked~div.sk-toggleable__content {max-height: 200px;max-width: 100%;overflow: auto;}#sk-container-id-2 input.sk-toggleable__control:checked~label.sk-toggleable__label-arrow:before {content: \"▾\";}#sk-container-id-2 div.sk-estimator input.sk-toggleable__control:checked~label.sk-toggleable__label {background-color: #d4ebff;}#sk-container-id-2 div.sk-label input.sk-toggleable__control:checked~label.sk-toggleable__label {background-color: #d4ebff;}#sk-container-id-2 input.sk-hidden--visually {border: 0;clip: rect(1px 1px 1px 1px);clip: rect(1px, 1px, 1px, 1px);height: 1px;margin: -1px;overflow: hidden;padding: 0;position: absolute;width: 1px;}#sk-container-id-2 div.sk-estimator {font-family: monospace;background-color: #f0f8ff;border: 1px dotted black;border-radius: 0.25em;box-sizing: border-box;margin-bottom: 0.5em;}#sk-container-id-2 div.sk-estimator:hover {background-color: #d4ebff;}#sk-container-id-2 div.sk-parallel-item::after {content: \"\";width: 100%;border-bottom: 1px solid gray;flex-grow: 1;}#sk-container-id-2 div.sk-label:hover label.sk-toggleable__label {background-color: #d4ebff;}#sk-container-id-2 div.sk-serial::before {content: \"\";position: absolute;border-left: 1px solid gray;box-sizing: border-box;top: 0;bottom: 0;left: 50%;z-index: 0;}#sk-container-id-2 div.sk-serial {display: flex;flex-direction: column;align-items: center;background-color: white;padding-right: 0.2em;padding-left: 0.2em;position: relative;}#sk-container-id-2 div.sk-item {position: relative;z-index: 1;}#sk-container-id-2 div.sk-parallel {display: flex;align-items: stretch;justify-content: center;background-color: white;position: relative;}#sk-container-id-2 div.sk-item::before, #sk-container-id-2 div.sk-parallel-item::before {content: \"\";position: absolute;border-left: 1px solid gray;box-sizing: border-box;top: 0;bottom: 0;left: 50%;z-index: -1;}#sk-container-id-2 div.sk-parallel-item {display: flex;flex-direction: column;z-index: 1;position: relative;background-color: white;}#sk-container-id-2 div.sk-parallel-item:first-child::after {align-self: flex-end;width: 50%;}#sk-container-id-2 div.sk-parallel-item:last-child::after {align-self: flex-start;width: 50%;}#sk-container-id-2 div.sk-parallel-item:only-child::after {width: 0;}#sk-container-id-2 div.sk-dashed-wrapped {border: 1px dashed gray;margin: 0 0.4em 0.5em 0.4em;box-sizing: border-box;padding-bottom: 0.4em;background-color: white;}#sk-container-id-2 div.sk-label label {font-family: monospace;font-weight: bold;display: inline-block;line-height: 1.2em;}#sk-container-id-2 div.sk-label-container {text-align: center;}#sk-container-id-2 div.sk-container {/* jupyter's `normalize.less` sets `[hidden] { display: none; }` but bootstrap.min.css set `[hidden] { display: none !important; }` so we also need the `!important` here to be able to override the default hidden behavior on the sphinx rendered scikit-learn.org. See: https://github.com/scikit-learn/scikit-learn/issues/21755 */display: inline-block !important;position: relative;}#sk-container-id-2 div.sk-text-repr-fallback {display: none;}</style><div id=\"sk-container-id-2\" class=\"sk-top-container\"><div class=\"sk-text-repr-fallback\"><pre>DecisionTreeClassifier(criterion=&#x27;entropy&#x27;)</pre><b>In a Jupyter environment, please rerun this cell to show the HTML representation or trust the notebook. <br />On GitHub, the HTML representation is unable to render, please try loading this page with nbviewer.org.</b></div><div class=\"sk-container\" hidden><div class=\"sk-item\"><div class=\"sk-estimator sk-toggleable\"><input class=\"sk-toggleable__control sk-hidden--visually\" id=\"sk-estimator-id-2\" type=\"checkbox\" checked><label for=\"sk-estimator-id-2\" class=\"sk-toggleable__label sk-toggleable__label-arrow\">DecisionTreeClassifier</label><div class=\"sk-toggleable__content\"><pre>DecisionTreeClassifier(criterion=&#x27;entropy&#x27;)</pre></div></div></div></div></div>"
      ],
      "text/plain": [
       "DecisionTreeClassifier(criterion='entropy')"
      ]
     },
     "execution_count": 60,
     "metadata": {},
     "output_type": "execute_result"
    }
   ],
   "source": [
    "# Fitting the training data to the DT model\n",
    "mdl_DT.fit(X_train, y_train)"
   ]
  },
  {
   "cell_type": "code",
   "execution_count": 61,
   "id": "0257fee0",
   "metadata": {},
   "outputs": [],
   "source": [
    "# Testing the DT model on unseen data (test data)\n",
    "pred_DT = mdl_DT.predict(X_test)"
   ]
  },
  {
   "cell_type": "code",
   "execution_count": 62,
   "id": "5109cd1d",
   "metadata": {},
   "outputs": [
    {
     "data": {
      "text/plain": [
       "0.6530612244897959"
      ]
     },
     "execution_count": 62,
     "metadata": {},
     "output_type": "execute_result"
    }
   ],
   "source": [
    "# Accuracy score of DT model\n",
    "accuracy_score(y_test, pred_DT)"
   ]
  },
  {
   "cell_type": "code",
   "execution_count": 63,
   "id": "e05d4747",
   "metadata": {},
   "outputs": [
    {
     "data": {
      "text/plain": [
       "<Axes: >"
      ]
     },
     "execution_count": 63,
     "metadata": {},
     "output_type": "execute_result"
    },
    {
     "data": {
      "image/png": "[encoded data removed]",
      "text/plain": [
       "<Figure size 640x480 with 2 Axes>"
      ]
     },
     "metadata": {},
     "output_type": "display_data"
    }
   ],
   "source": [
    "# Confusion matirx of the DT predictions\n",
    "sns.heatmap(confusion_matrix(y_test, pred_DT), annot = True)"
   ]
  },
  {
   "cell_type": "code",
   "execution_count": 64,
   "id": "d7c86cb6",
   "metadata": {},
   "outputs": [
    {
     "name": "stdout",
     "output_type": "stream",
     "text": [
      "              precision    recall  f1-score   support\n",
      "\n",
      "           0       0.75      0.70      0.72        54\n",
      "           1       0.67      0.74      0.70        35\n",
      "           2       0.00      0.00      0.00         9\n",
      "\n",
      "    accuracy                           0.65        98\n",
      "   macro avg       0.47      0.48      0.48        98\n",
      "weighted avg       0.65      0.65      0.65        98\n",
      "\n"
     ]
    }
   ],
   "source": [
    "print(metrics.classification_report(y_test, pred_DT))"
   ]
  },
  {
   "cell_type": "code",
   "execution_count": 65,
   "id": "40acdd48",
   "metadata": {},
   "outputs": [
    {
     "data": {
      "image/png": "[encoded data removed]",
      "text/plain": [
       "<Figure size 640x480 with 1 Axes>"
      ]
     },
     "metadata": {},
     "output_type": "display_data"
    }
   ],
   "source": [
    "# Getting and plotting feature importance\n",
    "features_importance = pd.DataFrame(data = mdl_DT.feature_importances_,\n",
    "             index = mdl_DT.feature_names_in_,\n",
    "             columns = ['importance'])\n",
    "features_importance.sort_values('importance').plot(kind='barh', title='Feature Importance')\n",
    "plt.show()"
   ]
  },
  {
   "cell_type": "markdown",
   "id": "e13bdf81",
   "metadata": {},
   "source": [
    "## XGBOOST"
   ]
  },
  {
   "cell_type": "code",
   "execution_count": 66,
   "id": "7f8766a0",
   "metadata": {},
   "outputs": [],
   "source": [
    "clf_xgb = GradientBoostingClassifier(n_estimators=100, learning_rate=0.1,max_depth=3, random_state=0)"
   ]
  },
  {
   "cell_type": "code",
   "execution_count": 67,
   "id": "091e2d0c",
   "metadata": {},
   "outputs": [
    {
     "data": {
      "text/html": [
       "<style>#sk-container-id-3 {color: black;}#sk-container-id-3 pre{padding: 0;}#sk-container-id-3 div.sk-toggleable {background-color: white;}#sk-container-id-3 label.sk-toggleable__label {cursor: pointer;display: block;width: 100%;margin-bottom: 0;padding: 0.3em;box-sizing: border-box;text-align: center;}#sk-container-id-3 label.sk-toggleable__label-arrow:before {content: \"▸\";float: left;margin-right: 0.25em;color: #696969;}#sk-container-id-3 label.sk-toggleable__label-arrow:hover:before {color: black;}#sk-container-id-3 div.sk-estimator:hover label.sk-toggleable__label-arrow:before {color: black;}#sk-container-id-3 div.sk-toggleable__content {max-height: 0;max-width: 0;overflow: hidden;text-align: left;background-color: #f0f8ff;}#sk-container-id-3 div.sk-toggleable__content pre {margin: 0.2em;color: black;border-radius: 0.25em;background-color: #f0f8ff;}#sk-container-id-3 input.sk-toggleable__control:checked~div.sk-toggleable__content {max-height: 200px;max-width: 100%;overflow: auto;}#sk-container-id-3 input.sk-toggleable__control:checked~label.sk-toggleable__label-arrow:before {content: \"▾\";}#sk-container-id-3 div.sk-estimator input.sk-toggleable__control:checked~label.sk-toggleable__label {background-color: #d4ebff;}#sk-container-id-3 div.sk-label input.sk-toggleable__control:checked~label.sk-toggleable__label {background-color: #d4ebff;}#sk-container-id-3 input.sk-hidden--visually {border: 0;clip: rect(1px 1px 1px 1px);clip: rect(1px, 1px, 1px, 1px);height: 1px;margin: -1px;overflow: hidden;padding: 0;position: absolute;width: 1px;}#sk-container-id-3 div.sk-estimator {font-family: monospace;background-color: #f0f8ff;border: 1px dotted black;border-radius: 0.25em;box-sizing: border-box;margin-bottom: 0.5em;}#sk-container-id-3 div.sk-estimator:hover {background-color: #d4ebff;}#sk-container-id-3 div.sk-parallel-item::after {content: \"\";width: 100%;border-bottom: 1px solid gray;flex-grow: 1;}#sk-container-id-3 div.sk-label:hover label.sk-toggleable__label {background-color: #d4ebff;}#sk-container-id-3 div.sk-serial::before {content: \"\";position: absolute;border-left: 1px solid gray;box-sizing: border-box;top: 0;bottom: 0;left: 50%;z-index: 0;}#sk-container-id-3 div.sk-serial {display: flex;flex-direction: column;align-items: center;background-color: white;padding-right: 0.2em;padding-left: 0.2em;position: relative;}#sk-container-id-3 div.sk-item {position: relative;z-index: 1;}#sk-container-id-3 div.sk-parallel {display: flex;align-items: stretch;justify-content: center;background-color: white;position: relative;}#sk-container-id-3 div.sk-item::before, #sk-container-id-3 div.sk-parallel-item::before {content: \"\";position: absolute;border-left: 1px solid gray;box-sizing: border-box;top: 0;bottom: 0;left: 50%;z-index: -1;}#sk-container-id-3 div.sk-parallel-item {display: flex;flex-direction: column;z-index: 1;position: relative;background-color: white;}#sk-container-id-3 div.sk-parallel-item:first-child::after {align-self: flex-end;width: 50%;}#sk-container-id-3 div.sk-parallel-item:last-child::after {align-self: flex-start;width: 50%;}#sk-container-id-3 div.sk-parallel-item:only-child::after {width: 0;}#sk-container-id-3 div.sk-dashed-wrapped {border: 1px dashed gray;margin: 0 0.4em 0.5em 0.4em;box-sizing: border-box;padding-bottom: 0.4em;background-color: white;}#sk-container-id-3 div.sk-label label {font-family: monospace;font-weight: bold;display: inline-block;line-height: 1.2em;}#sk-container-id-3 div.sk-label-container {text-align: center;}#sk-container-id-3 div.sk-container {/* jupyter's `normalize.less` sets `[hidden] { display: none; }` but bootstrap.min.css set `[hidden] { display: none !important; }` so we also need the `!important` here to be able to override the default hidden behavior on the sphinx rendered scikit-learn.org. See: https://github.com/scikit-learn/scikit-learn/issues/21755 */display: inline-block !important;position: relative;}#sk-container-id-3 div.sk-text-repr-fallback {display: none;}</style><div id=\"sk-container-id-3\" class=\"sk-top-container\"><div class=\"sk-text-repr-fallback\"><pre>GradientBoostingClassifier(random_state=0)</pre><b>In a Jupyter environment, please rerun this cell to show the HTML representation or trust the notebook. <br />On GitHub, the HTML representation is unable to render, please try loading this page with nbviewer.org.</b></div><div class=\"sk-container\" hidden><div class=\"sk-item\"><div class=\"sk-estimator sk-toggleable\"><input class=\"sk-toggleable__control sk-hidden--visually\" id=\"sk-estimator-id-3\" type=\"checkbox\" checked><label for=\"sk-estimator-id-3\" class=\"sk-toggleable__label sk-toggleable__label-arrow\">GradientBoostingClassifier</label><div class=\"sk-toggleable__content\"><pre>GradientBoostingClassifier(random_state=0)</pre></div></div></div></div></div>"
      ],
      "text/plain": [
       "GradientBoostingClassifier(random_state=0)"
      ]
     },
     "execution_count": 67,
     "metadata": {},
     "output_type": "execute_result"
    }
   ],
   "source": [
    "clf_xgb.fit(X_train, y_train)"
   ]
  },
  {
   "cell_type": "code",
   "execution_count": 68,
   "id": "a540a5b2",
   "metadata": {},
   "outputs": [],
   "source": [
    "y_pred_xgb = clf_xgb.predict(X_test)"
   ]
  },
  {
   "cell_type": "code",
   "execution_count": 69,
   "id": "d2b14ec9",
   "metadata": {},
   "outputs": [
    {
     "data": {
      "text/plain": [
       "0.7346938775510204"
      ]
     },
     "execution_count": 69,
     "metadata": {},
     "output_type": "execute_result"
    }
   ],
   "source": [
    "accuracy_score(y_test, y_pred_xgb)"
   ]
  },
  {
   "cell_type": "code",
   "execution_count": 70,
   "id": "8241b764",
   "metadata": {},
   "outputs": [
    {
     "data": {
      "text/plain": [
       "<Axes: >"
      ]
     },
     "execution_count": 70,
     "metadata": {},
     "output_type": "execute_result"
    },
    {
     "data": {
      "image/png": "[encoded data removed]",
      "text/plain": [
       "<Figure size 640x480 with 2 Axes>"
      ]
     },
     "metadata": {},
     "output_type": "display_data"
    }
   ],
   "source": [
    "# Confusion matirx of the XGB predictions\n",
    "sns.heatmap(confusion_matrix(y_test, y_pred_xgb), annot = True)"
   ]
  },
  {
   "cell_type": "code",
   "execution_count": 71,
   "id": "21ce376d",
   "metadata": {},
   "outputs": [
    {
     "name": "stdout",
     "output_type": "stream",
     "text": [
      "              precision    recall  f1-score   support\n",
      "\n",
      "           0       0.78      0.83      0.80        54\n",
      "           1       0.79      0.74      0.76        35\n",
      "           2       0.14      0.11      0.12         9\n",
      "\n",
      "    accuracy                           0.73        98\n",
      "   macro avg       0.57      0.56      0.56        98\n",
      "weighted avg       0.72      0.73      0.73        98\n",
      "\n"
     ]
    }
   ],
   "source": [
    "print(metrics.classification_report(y_test, y_pred_xgb))"
   ]
  },
  {
   "cell_type": "code",
   "execution_count": 72,
   "id": "623398cc",
   "metadata": {},
   "outputs": [
    {
     "data": {
      "image/png": "[encoded data removed]",
      "text/plain": [
       "<Figure size 640x480 with 1 Axes>"
      ]
     },
     "metadata": {},
     "output_type": "display_data"
    }
   ],
   "source": [
    "# Getting and plotting feature importance\n",
    "features_importance = pd.DataFrame(data = clf_xgb.feature_importances_,\n",
    "             index = clf_xgb.feature_names_in_,\n",
    "             columns = ['importance'])\n",
    "features_importance.sort_values('importance').plot(kind='barh', title='Feature Importance')\n",
    "plt.show()"
   ]
  },
  {
   "cell_type": "markdown",
   "id": "c036cdf3",
   "metadata": {},
   "source": [
    "## SVM"
   ]
  },
  {
   "cell_type": "code",
   "execution_count": 73,
   "id": "8d6dbf17",
   "metadata": {},
   "outputs": [
    {
     "data": {
      "text/html": [
       "<style>#sk-container-id-4 {color: black;}#sk-container-id-4 pre{padding: 0;}#sk-container-id-4 div.sk-toggleable {background-color: white;}#sk-container-id-4 label.sk-toggleable__label {cursor: pointer;display: block;width: 100%;margin-bottom: 0;padding: 0.3em;box-sizing: border-box;text-align: center;}#sk-container-id-4 label.sk-toggleable__label-arrow:before {content: \"▸\";float: left;margin-right: 0.25em;color: #696969;}#sk-container-id-4 label.sk-toggleable__label-arrow:hover:before {color: black;}#sk-container-id-4 div.sk-estimator:hover label.sk-toggleable__label-arrow:before {color: black;}#sk-container-id-4 div.sk-toggleable__content {max-height: 0;max-width: 0;overflow: hidden;text-align: left;background-color: #f0f8ff;}#sk-container-id-4 div.sk-toggleable__content pre {margin: 0.2em;color: black;border-radius: 0.25em;background-color: #f0f8ff;}#sk-container-id-4 input.sk-toggleable__control:checked~div.sk-toggleable__content {max-height: 200px;max-width: 100%;overflow: auto;}#sk-container-id-4 input.sk-toggleable__control:checked~label.sk-toggleable__label-arrow:before {content: \"▾\";}#sk-container-id-4 div.sk-estimator input.sk-toggleable__control:checked~label.sk-toggleable__label {background-color: #d4ebff;}#sk-container-id-4 div.sk-label input.sk-toggleable__control:checked~label.sk-toggleable__label {background-color: #d4ebff;}#sk-container-id-4 input.sk-hidden--visually {border: 0;clip: rect(1px 1px 1px 1px);clip: rect(1px, 1px, 1px, 1px);height: 1px;margin: -1px;overflow: hidden;padding: 0;position: absolute;width: 1px;}#sk-container-id-4 div.sk-estimator {font-family: monospace;background-color: #f0f8ff;border: 1px dotted black;border-radius: 0.25em;box-sizing: border-box;margin-bottom: 0.5em;}#sk-container-id-4 div.sk-estimator:hover {background-color: #d4ebff;}#sk-container-id-4 div.sk-parallel-item::after {content: \"\";width: 100%;border-bottom: 1px solid gray;flex-grow: 1;}#sk-container-id-4 div.sk-label:hover label.sk-toggleable__label {background-color: #d4ebff;}#sk-container-id-4 div.sk-serial::before {content: \"\";position: absolute;border-left: 1px solid gray;box-sizing: border-box;top: 0;bottom: 0;left: 50%;z-index: 0;}#sk-container-id-4 div.sk-serial {display: flex;flex-direction: column;align-items: center;background-color: white;padding-right: 0.2em;padding-left: 0.2em;position: relative;}#sk-container-id-4 div.sk-item {position: relative;z-index: 1;}#sk-container-id-4 div.sk-parallel {display: flex;align-items: stretch;justify-content: center;background-color: white;position: relative;}#sk-container-id-4 div.sk-item::before, #sk-container-id-4 div.sk-parallel-item::before {content: \"\";position: absolute;border-left: 1px solid gray;box-sizing: border-box;top: 0;bottom: 0;left: 50%;z-index: -1;}#sk-container-id-4 div.sk-parallel-item {display: flex;flex-direction: column;z-index: 1;position: relative;background-color: white;}#sk-container-id-4 div.sk-parallel-item:first-child::after {align-self: flex-end;width: 50%;}#sk-container-id-4 div.sk-parallel-item:last-child::after {align-self: flex-start;width: 50%;}#sk-container-id-4 div.sk-parallel-item:only-child::after {width: 0;}#sk-container-id-4 div.sk-dashed-wrapped {border: 1px dashed gray;margin: 0 0.4em 0.5em 0.4em;box-sizing: border-box;padding-bottom: 0.4em;background-color: white;}#sk-container-id-4 div.sk-label label {font-family: monospace;font-weight: bold;display: inline-block;line-height: 1.2em;}#sk-container-id-4 div.sk-label-container {text-align: center;}#sk-container-id-4 div.sk-container {/* jupyter's `normalize.less` sets `[hidden] { display: none; }` but bootstrap.min.css set `[hidden] { display: none !important; }` so we also need the `!important` here to be able to override the default hidden behavior on the sphinx rendered scikit-learn.org. See: https://github.com/scikit-learn/scikit-learn/issues/21755 */display: inline-block !important;position: relative;}#sk-container-id-4 div.sk-text-repr-fallback {display: none;}</style><div id=\"sk-container-id-4\" class=\"sk-top-container\"><div class=\"sk-text-repr-fallback\"><pre>SVC()</pre><b>In a Jupyter environment, please rerun this cell to show the HTML representation or trust the notebook. <br />On GitHub, the HTML representation is unable to render, please try loading this page with nbviewer.org.</b></div><div class=\"sk-container\" hidden><div class=\"sk-item\"><div class=\"sk-estimator sk-toggleable\"><input class=\"sk-toggleable__control sk-hidden--visually\" id=\"sk-estimator-id-4\" type=\"checkbox\" checked><label for=\"sk-estimator-id-4\" class=\"sk-toggleable__label sk-toggleable__label-arrow\">SVC</label><div class=\"sk-toggleable__content\"><pre>SVC()</pre></div></div></div></div></div>"
      ],
      "text/plain": [
       "SVC()"
      ]
     },
     "execution_count": 73,
     "metadata": {},
     "output_type": "execute_result"
    }
   ],
   "source": [
    "# Create and train the SVM classifier\n",
    "svm_classifier = SVC(kernel='rbf', C=1.0)\n",
    "svm_classifier.fit(X_train, y_train)"
   ]
  },
  {
   "cell_type": "code",
   "execution_count": 74,
   "id": "82299abc",
   "metadata": {},
   "outputs": [],
   "source": [
    "# Testing the SVM model on unseen data (test data)\n",
    "pred_SVM = svm_classifier.predict(X_test)"
   ]
  },
  {
   "cell_type": "code",
   "execution_count": 75,
   "id": "8e331055",
   "metadata": {},
   "outputs": [
    {
     "data": {
      "text/plain": [
       "0.7857142857142857"
      ]
     },
     "execution_count": 75,
     "metadata": {},
     "output_type": "execute_result"
    }
   ],
   "source": [
    "accuracy_score(y_test, pred_SVM)"
   ]
  },
  {
   "cell_type": "code",
   "execution_count": 76,
   "id": "ea4304c6",
   "metadata": {},
   "outputs": [
    {
     "data": {
      "text/plain": [
       "<Axes: >"
      ]
     },
     "execution_count": 76,
     "metadata": {},
     "output_type": "execute_result"
    },
    {
     "data": {
      "image/png": "[encoded data removed]",
      "text/plain": [
       "<Figure size 640x480 with 2 Axes>"
      ]
     },
     "metadata": {},
     "output_type": "display_data"
    }
   ],
   "source": [
    "# Confusion matirx of the XGB predictions\n",
    "sns.heatmap(confusion_matrix(y_test, pred_SVM), annot = True)"
   ]
  },
  {
   "cell_type": "code",
   "execution_count": 77,
   "id": "09b9a59e",
   "metadata": {},
   "outputs": [
    {
     "name": "stdout",
     "output_type": "stream",
     "text": [
      "              precision    recall  f1-score   support\n",
      "\n",
      "           0       0.80      0.89      0.84        54\n",
      "           1       0.76      0.83      0.79        35\n",
      "           2       0.00      0.00      0.00         9\n",
      "\n",
      "    accuracy                           0.79        98\n",
      "   macro avg       0.52      0.57      0.55        98\n",
      "weighted avg       0.71      0.79      0.75        98\n",
      "\n"
     ]
    }
   ],
   "source": [
    "print(metrics.classification_report(y_test, pred_SVM, zero_division=0))"
   ]
  },
  {
   "cell_type": "code",
   "execution_count": null,
   "id": "d20a4bd3",
   "metadata": {},
   "outputs": [],
   "source": []
  },
  {
   "cell_type": "markdown",
   "id": "8fdd7066",
   "metadata": {},
   "source": [
    "## KFOLD CROSS VALIDATION"
   ]
  },
  {
   "cell_type": "code",
   "execution_count": 78,
   "id": "d11eede5",
   "metadata": {},
   "outputs": [],
   "source": [
    "def KFold_cv(model_):\n",
    "    \n",
    "    kf = KFold(n_splits = 5, shuffle = True)\n",
    "    \n",
    "    for train, test in kf.split(cleaned_df):\n",
    "\n",
    "        train_df = cleaned_df.loc[train]\n",
    "        test_df = cleaned_df.loc[test]\n",
    "        \n",
    "\n",
    "        model_.fit(train_df[list(features.columns)], train_df['Decision'])\n",
    "\n",
    "\n",
    "        y_predictions = model_.predict(test_df[list(features.columns)])\n",
    "\n",
    "        print(metrics.classification_report(test_df['Decision'], y_predictions, zero_division=0))"
   ]
  },
  {
   "cell_type": "code",
   "execution_count": 79,
   "id": "740a237d",
   "metadata": {},
   "outputs": [
    {
     "name": "stdout",
     "output_type": "stream",
     "text": [
      "========================================\n",
      "MODEL == >  LogisticRegression(max_iter=3000)\n",
      "              precision    recall  f1-score   support\n",
      "\n",
      "           0       0.87      0.77      0.82        26\n",
      "           1       0.76      0.86      0.81        22\n",
      "           2       0.00      0.00      0.00         1\n",
      "\n",
      "    accuracy                           0.80        49\n",
      "   macro avg       0.54      0.54      0.54        49\n",
      "weighted avg       0.80      0.80      0.80        49\n",
      "\n"
     ]
    },
    {
     "name": "stdout",
     "output_type": "stream",
     "text": [
      "              precision    recall  f1-score   support\n",
      "\n",
      "           0       0.79      0.73      0.76        30\n",
      "           1       0.60      0.86      0.71        14\n",
      "           2       0.00      0.00      0.00         5\n",
      "\n",
      "    accuracy                           0.69        49\n",
      "   macro avg       0.46      0.53      0.49        49\n",
      "weighted avg       0.65      0.69      0.67        49\n",
      "\n",
      "              precision    recall  f1-score   support\n",
      "\n",
      "           0       0.68      0.71      0.69        24\n",
      "           1       0.75      0.71      0.73        21\n",
      "           2       0.25      0.25      0.25         4\n",
      "\n",
      "    accuracy                           0.67        49\n",
      "   macro avg       0.56      0.56      0.56        49\n",
      "weighted avg       0.67      0.67      0.67        49\n",
      "\n",
      "              precision    recall  f1-score   support\n",
      "\n",
      "           0       0.67      0.88      0.76        25\n",
      "           1       0.67      0.77      0.71        13\n",
      "           2       0.00      0.00      0.00        10\n",
      "\n",
      "    accuracy                           0.67        48\n",
      "   macro avg       0.44      0.55      0.49        48\n",
      "weighted avg       0.53      0.67      0.59        48\n",
      "\n",
      "              precision    recall  f1-score   support\n",
      "\n",
      "           0       0.74      0.87      0.80        23\n",
      "           1       0.80      0.80      0.80        20\n",
      "           2       0.00      0.00      0.00         5\n",
      "\n",
      "    accuracy                           0.75        48\n",
      "   macro avg       0.51      0.56      0.53        48\n",
      "weighted avg       0.69      0.75      0.72        48\n",
      "\n",
      "========================================\n",
      "========================================\n",
      "MODEL == >  DecisionTreeClassifier(criterion='entropy')\n",
      "              precision    recall  f1-score   support\n",
      "\n",
      "           0       0.77      0.67      0.71        30\n",
      "           1       0.58      0.65      0.61        17\n",
      "           2       0.00      0.00      0.00         2\n",
      "\n",
      "    accuracy                           0.63        49\n",
      "   macro avg       0.45      0.44      0.44        49\n",
      "weighted avg       0.67      0.63      0.65        49\n",
      "\n",
      "              precision    recall  f1-score   support\n",
      "\n",
      "           0       0.63      0.71      0.67        24\n",
      "           1       0.76      0.72      0.74        18\n",
      "           2       0.20      0.14      0.17         7\n",
      "\n",
      "    accuracy                           0.63        49\n",
      "   macro avg       0.53      0.52      0.53        49\n",
      "weighted avg       0.62      0.63      0.62        49\n",
      "\n",
      "              precision    recall  f1-score   support\n",
      "\n",
      "           0       0.88      0.81      0.84        26\n",
      "           1       0.70      0.94      0.80        17\n",
      "           2       0.00      0.00      0.00         6\n",
      "\n",
      "    accuracy                           0.76        49\n",
      "   macro avg       0.52      0.58      0.55        49\n",
      "weighted avg       0.71      0.76      0.72        49\n",
      "\n",
      "              precision    recall  f1-score   support\n",
      "\n",
      "           0       0.75      0.65      0.70        23\n",
      "           1       0.74      0.81      0.77        21\n",
      "           2       0.20      0.25      0.22         4\n",
      "\n",
      "    accuracy                           0.69        48\n",
      "   macro avg       0.56      0.57      0.56        48\n",
      "weighted avg       0.70      0.69      0.69        48\n",
      "\n",
      "              precision    recall  f1-score   support\n",
      "\n",
      "           0       0.77      0.80      0.78        25\n",
      "           1       0.72      0.76      0.74        17\n",
      "           2       0.00      0.00      0.00         6\n",
      "\n",
      "    accuracy                           0.69        48\n",
      "   macro avg       0.50      0.52      0.51        48\n",
      "weighted avg       0.66      0.69      0.67        48\n",
      "\n",
      "========================================\n",
      "========================================\n",
      "MODEL == >  GradientBoostingClassifier(random_state=0)\n",
      "              precision    recall  f1-score   support\n",
      "\n",
      "           0       0.77      0.89      0.83        27\n",
      "           1       0.82      0.88      0.85        16\n",
      "           2       0.00      0.00      0.00         6\n",
      "\n",
      "    accuracy                           0.78        49\n",
      "   macro avg       0.53      0.59      0.56        49\n",
      "weighted avg       0.70      0.78      0.73        49\n",
      "\n",
      "              precision    recall  f1-score   support\n",
      "\n",
      "           0       0.68      0.90      0.78        21\n",
      "           1       0.81      0.71      0.76        24\n",
      "           2       0.00      0.00      0.00         4\n",
      "\n",
      "    accuracy                           0.73        49\n",
      "   macro avg       0.50      0.54      0.51        49\n",
      "weighted avg       0.69      0.73      0.70        49\n",
      "\n",
      "              precision    recall  f1-score   support\n",
      "\n",
      "           0       0.82      0.72      0.77        32\n",
      "           1       0.64      0.64      0.64        14\n",
      "           2       0.00      0.00      0.00         3\n",
      "\n",
      "    accuracy                           0.65        49\n",
      "   macro avg       0.49      0.45      0.47        49\n",
      "weighted avg       0.72      0.65      0.68        49\n",
      "\n",
      "              precision    recall  f1-score   support\n",
      "\n",
      "           0       0.83      0.80      0.81        30\n",
      "           1       0.41      0.88      0.56         8\n",
      "           2       0.50      0.10      0.17        10\n",
      "\n",
      "    accuracy                           0.67        48\n",
      "   macro avg       0.58      0.59      0.51        48\n",
      "weighted avg       0.69      0.67      0.64        48\n",
      "\n",
      "              precision    recall  f1-score   support\n",
      "\n",
      "           0       0.71      0.67      0.69        18\n",
      "           1       0.84      0.75      0.79        28\n",
      "           2       0.17      0.50      0.25         2\n",
      "\n",
      "    accuracy                           0.71        48\n",
      "   macro avg       0.57      0.64      0.58        48\n",
      "weighted avg       0.76      0.71      0.73        48\n",
      "\n",
      "========================================\n",
      "========================================\n",
      "MODEL == >  SVC()\n",
      "              precision    recall  f1-score   support\n",
      "\n",
      "           0       0.70      0.84      0.76        25\n",
      "           1       0.79      0.79      0.79        19\n",
      "           2       0.00      0.00      0.00         5\n",
      "\n",
      "    accuracy                           0.73        49\n",
      "   macro avg       0.50      0.54      0.52        49\n",
      "weighted avg       0.66      0.73      0.70        49\n",
      "\n",
      "              precision    recall  f1-score   support\n",
      "\n",
      "           0       0.78      0.89      0.83        28\n",
      "           1       0.76      0.76      0.76        17\n",
      "           2       0.00      0.00      0.00         4\n",
      "\n",
      "    accuracy                           0.78        49\n",
      "   macro avg       0.52      0.55      0.53        49\n",
      "weighted avg       0.71      0.78      0.74        49\n",
      "\n",
      "              precision    recall  f1-score   support\n",
      "\n",
      "           0       0.88      0.81      0.85        27\n",
      "           1       0.67      0.94      0.78        17\n",
      "           2       0.00      0.00      0.00         5\n",
      "\n",
      "    accuracy                           0.78        49\n",
      "   macro avg       0.52      0.59      0.54        49\n",
      "weighted avg       0.72      0.78      0.74        49\n",
      "\n",
      "              precision    recall  f1-score   support\n",
      "\n",
      "           0       0.71      0.94      0.81        18\n",
      "           1       0.83      0.87      0.85        23\n",
      "           2       0.00      0.00      0.00         7\n",
      "\n",
      "    accuracy                           0.77        48\n",
      "   macro avg       0.51      0.60      0.55        48\n",
      "weighted avg       0.66      0.77      0.71        48\n",
      "\n",
      "              precision    recall  f1-score   support\n",
      "\n",
      "           0       0.90      0.87      0.88        30\n",
      "           1       0.74      1.00      0.85        14\n",
      "           2       0.00      0.00      0.00         4\n",
      "\n",
      "    accuracy                           0.83        48\n",
      "   macro avg       0.54      0.62      0.58        48\n",
      "weighted avg       0.78      0.83      0.80        48\n",
      "\n",
      "========================================\n"
     ]
    }
   ],
   "source": [
    "#Cross Validation Score\n",
    "\n",
    "# Initializing the model LR\n",
    "mdl_LR = LogisticRegression(max_iter = 3000)\n",
    "\n",
    "# Intializing the decision tree classifier model\n",
    "mdl_DT = DecisionTreeClassifier(criterion='entropy')\n",
    "\n",
    "# Intializing the XGBoost classifier model\n",
    "clf_xgb = GradientBoostingClassifier(n_estimators=100, learning_rate=0.1,max_depth=3, random_state=0)\n",
    "\n",
    "# Create and train the SVM classifier\n",
    "svm_classifier = SVC(kernel='rbf', C=1.0)\n",
    "\n",
    "list_models = [mdl_LR, mdl_DT, clf_xgb, svm_classifier]\n",
    "\n",
    "for mdl in list_models:\n",
    "    print(\"========================================\")\n",
    "    print(\"MODEL == > \", mdl )\n",
    "    KFold_cv(mdl)\n",
    "    print(\"========================================\")"
   ]
  },
  {
   "cell_type": "markdown",
   "id": "c6e8672d",
   "metadata": {},
   "source": [
    "# Building ML Classifcation Models with SMOTE technique"
   ]
  },
  {
   "cell_type": "code",
   "execution_count": 80,
   "id": "7fb2ce94",
   "metadata": {},
   "outputs": [
    {
     "data": {
      "text/plain": [
       "(145, 145, 98, 98)"
      ]
     },
     "execution_count": 80,
     "metadata": {},
     "output_type": "execute_result"
    }
   ],
   "source": [
    "len(X_train), len(y_train), len(X_test), len(y_test)"
   ]
  },
  {
   "cell_type": "code",
   "execution_count": 81,
   "id": "f921b35b",
   "metadata": {
    "scrolled": true
   },
   "outputs": [
    {
     "name": "stdout",
     "output_type": "stream",
     "text": [
      "Resampled class distribution: Counter({0: 128, 1: 128, 2: 128})\n"
     ]
    }
   ],
   "source": [
    "\n",
    "# Apply SMOTE to the training data\n",
    "smote = SMOTE(random_state=42)\n",
    "X_resampled, y_resampled = smote.fit_resample(features, target)\n",
    "\n",
    "print(\"Resampled class distribution:\", Counter(y_resampled))"
   ]
  },
  {
   "cell_type": "code",
   "execution_count": 82,
   "id": "70b52df7",
   "metadata": {
    "scrolled": true
   },
   "outputs": [
    {
     "data": {
      "text/html": [
       "<div>\n",
       "<style scoped>\n",
       "    .dataframe tbody tr th:only-of-type {\n",
       "        vertical-align: middle;\n",
       "    }\n",
       "\n",
       "    .dataframe tbody tr th {\n",
       "        vertical-align: top;\n",
       "    }\n",
       "\n",
       "    .dataframe thead th {\n",
       "        text-align: right;\n",
       "    }\n",
       "</style>\n",
       "<table border=\"1\" class=\"dataframe\">\n",
       "  <thead>\n",
       "    <tr style=\"text-align: right;\">\n",
       "      <th></th>\n",
       "      <th>Sexe</th>\n",
       "      <th>Etio</th>\n",
       "      <th>CV</th>\n",
       "      <th>Age</th>\n",
       "      <th>Esterman</th>\n",
       "      <th>ST</th>\n",
       "      <th>DT_centrale</th>\n",
       "      <th>DT_quadsupd</th>\n",
       "      <th>DT_quadsupg</th>\n",
       "      <th>DT_quadinfg</th>\n",
       "      <th>DT_quadinfd</th>\n",
       "      <th>DT_dis_Centrale</th>\n",
       "      <th>DT_dis_quadinfg</th>\n",
       "      <th>DT_dis_quadinfd</th>\n",
       "      <th>DT_dis_quadsupg</th>\n",
       "      <th>DT_dis_quadsupd</th>\n",
       "    </tr>\n",
       "  </thead>\n",
       "  <tbody>\n",
       "    <tr>\n",
       "      <th>count</th>\n",
       "      <td>384.000000</td>\n",
       "      <td>384.000000</td>\n",
       "      <td>384.000000</td>\n",
       "      <td>384.000000</td>\n",
       "      <td>384.000000</td>\n",
       "      <td>384.000000</td>\n",
       "      <td>384.000000</td>\n",
       "      <td>384.000000</td>\n",
       "      <td>384.000000</td>\n",
       "      <td>384.000000</td>\n",
       "      <td>384.000000</td>\n",
       "      <td>384.000000</td>\n",
       "      <td>384.000000</td>\n",
       "      <td>384.000000</td>\n",
       "      <td>384.00000</td>\n",
       "      <td>384.000000</td>\n",
       "    </tr>\n",
       "    <tr>\n",
       "      <th>mean</th>\n",
       "      <td>0.520833</td>\n",
       "      <td>2.203125</td>\n",
       "      <td>3.127604</td>\n",
       "      <td>49.341146</td>\n",
       "      <td>11.807292</td>\n",
       "      <td>0.580729</td>\n",
       "      <td>3.406250</td>\n",
       "      <td>2.070312</td>\n",
       "      <td>2.192708</td>\n",
       "      <td>1.773438</td>\n",
       "      <td>1.695312</td>\n",
       "      <td>4.093750</td>\n",
       "      <td>4.125000</td>\n",
       "      <td>4.581103</td>\n",
       "      <td>4.09375</td>\n",
       "      <td>3.661458</td>\n",
       "    </tr>\n",
       "    <tr>\n",
       "      <th>std</th>\n",
       "      <td>0.500218</td>\n",
       "      <td>1.145038</td>\n",
       "      <td>1.972889</td>\n",
       "      <td>14.824148</td>\n",
       "      <td>14.227335</td>\n",
       "      <td>0.819949</td>\n",
       "      <td>3.198655</td>\n",
       "      <td>3.207816</td>\n",
       "      <td>3.501488</td>\n",
       "      <td>3.564141</td>\n",
       "      <td>3.573675</td>\n",
       "      <td>3.763444</td>\n",
       "      <td>4.043497</td>\n",
       "      <td>4.392719</td>\n",
       "      <td>4.16081</td>\n",
       "      <td>3.786050</td>\n",
       "    </tr>\n",
       "    <tr>\n",
       "      <th>min</th>\n",
       "      <td>0.000000</td>\n",
       "      <td>0.000000</td>\n",
       "      <td>0.000000</td>\n",
       "      <td>18.000000</td>\n",
       "      <td>0.000000</td>\n",
       "      <td>0.000000</td>\n",
       "      <td>0.000000</td>\n",
       "      <td>0.000000</td>\n",
       "      <td>0.000000</td>\n",
       "      <td>0.000000</td>\n",
       "      <td>0.000000</td>\n",
       "      <td>0.000000</td>\n",
       "      <td>0.000000</td>\n",
       "      <td>0.000000</td>\n",
       "      <td>0.00000</td>\n",
       "      <td>0.000000</td>\n",
       "    </tr>\n",
       "    <tr>\n",
       "      <th>25%</th>\n",
       "      <td>0.000000</td>\n",
       "      <td>2.000000</td>\n",
       "      <td>2.000000</td>\n",
       "      <td>38.000000</td>\n",
       "      <td>1.000000</td>\n",
       "      <td>0.000000</td>\n",
       "      <td>1.000000</td>\n",
       "      <td>0.000000</td>\n",
       "      <td>0.000000</td>\n",
       "      <td>0.000000</td>\n",
       "      <td>0.000000</td>\n",
       "      <td>2.000000</td>\n",
       "      <td>1.000000</td>\n",
       "      <td>1.000000</td>\n",
       "      <td>1.00000</td>\n",
       "      <td>1.000000</td>\n",
       "    </tr>\n",
       "    <tr>\n",
       "      <th>50%</th>\n",
       "      <td>1.000000</td>\n",
       "      <td>3.000000</td>\n",
       "      <td>2.000000</td>\n",
       "      <td>50.000000</td>\n",
       "      <td>7.000000</td>\n",
       "      <td>0.000000</td>\n",
       "      <td>3.000000</td>\n",
       "      <td>1.000000</td>\n",
       "      <td>1.000000</td>\n",
       "      <td>0.000000</td>\n",
       "      <td>0.000000</td>\n",
       "      <td>3.000000</td>\n",
       "      <td>3.000000</td>\n",
       "      <td>3.007175</td>\n",
       "      <td>3.00000</td>\n",
       "      <td>2.000000</td>\n",
       "    </tr>\n",
       "    <tr>\n",
       "      <th>75%</th>\n",
       "      <td>1.000000</td>\n",
       "      <td>3.000000</td>\n",
       "      <td>5.000000</td>\n",
       "      <td>61.000000</td>\n",
       "      <td>18.000000</td>\n",
       "      <td>1.000000</td>\n",
       "      <td>4.000000</td>\n",
       "      <td>3.000000</td>\n",
       "      <td>3.000000</td>\n",
       "      <td>2.000000</td>\n",
       "      <td>1.000000</td>\n",
       "      <td>5.000000</td>\n",
       "      <td>6.000000</td>\n",
       "      <td>6.572504</td>\n",
       "      <td>6.00000</td>\n",
       "      <td>6.000000</td>\n",
       "    </tr>\n",
       "    <tr>\n",
       "      <th>max</th>\n",
       "      <td>1.000000</td>\n",
       "      <td>4.000000</td>\n",
       "      <td>8.000000</td>\n",
       "      <td>85.000000</td>\n",
       "      <td>71.000000</td>\n",
       "      <td>5.000000</td>\n",
       "      <td>23.000000</td>\n",
       "      <td>17.000000</td>\n",
       "      <td>18.000000</td>\n",
       "      <td>18.000000</td>\n",
       "      <td>18.000000</td>\n",
       "      <td>35.000000</td>\n",
       "      <td>18.000000</td>\n",
       "      <td>18.000000</td>\n",
       "      <td>18.00000</td>\n",
       "      <td>18.000000</td>\n",
       "    </tr>\n",
       "  </tbody>\n",
       "</table>\n",
       "</div>"
      ],
      "text/plain": [
       "             Sexe        Etio          CV         Age    Esterman          ST  \\\n",
       "count  384.000000  384.000000  384.000000  384.000000  384.000000  384.000000   \n",
       "mean     0.520833    2.203125    3.127604   49.341146   11.807292    0.580729   \n",
       "std      0.500218    1.145038    1.972889   14.824148   14.227335    0.819949   \n",
       "min      0.000000    0.000000    0.000000   18.000000    0.000000    0.000000   \n",
       "25%      0.000000    2.000000    2.000000   38.000000    1.000000    0.000000   \n",
       "50%      1.000000    3.000000    2.000000   50.000000    7.000000    0.000000   \n",
       "75%      1.000000    3.000000    5.000000   61.000000   18.000000    1.000000   \n",
       "max      1.000000    4.000000    8.000000   85.000000   71.000000    5.000000   \n",
       "\n",
       "       DT_centrale  DT_quadsupd  DT_quadsupg  DT_quadinfg  DT_quadinfd  \\\n",
       "count   384.000000   384.000000   384.000000   384.000000   384.000000   \n",
       "mean      3.406250     2.070312     2.192708     1.773438     1.695312   \n",
       "std       3.198655     3.207816     3.501488     3.564141     3.573675   \n",
       "min       0.000000     0.000000     0.000000     0.000000     0.000000   \n",
       "25%       1.000000     0.000000     0.000000     0.000000     0.000000   \n",
       "50%       3.000000     1.000000     1.000000     0.000000     0.000000   \n",
       "75%       4.000000     3.000000     3.000000     2.000000     1.000000   \n",
       "max      23.000000    17.000000    18.000000    18.000000    18.000000   \n",
       "\n",
       "       DT_dis_Centrale  DT_dis_quadinfg  DT_dis_quadinfd  DT_dis_quadsupg  \\\n",
       "count       384.000000       384.000000       384.000000        384.00000   \n",
       "mean          4.093750         4.125000         4.581103          4.09375   \n",
       "std           3.763444         4.043497         4.392719          4.16081   \n",
       "min           0.000000         0.000000         0.000000          0.00000   \n",
       "25%           2.000000         1.000000         1.000000          1.00000   \n",
       "50%           3.000000         3.000000         3.007175          3.00000   \n",
       "75%           5.000000         6.000000         6.572504          6.00000   \n",
       "max          35.000000        18.000000        18.000000         18.00000   \n",
       "\n",
       "       DT_dis_quadsupd  \n",
       "count       384.000000  \n",
       "mean          3.661458  \n",
       "std           3.786050  \n",
       "min           0.000000  \n",
       "25%           1.000000  \n",
       "50%           2.000000  \n",
       "75%           6.000000  \n",
       "max          18.000000  "
      ]
     },
     "execution_count": 82,
     "metadata": {},
     "output_type": "execute_result"
    }
   ],
   "source": [
    "X_resampled.describe()"
   ]
  },
  {
   "cell_type": "code",
   "execution_count": 83,
   "id": "d3479d72",
   "metadata": {},
   "outputs": [],
   "source": [
    "# Utiliser get_dummies pour le one-hot encoding de la colonne binaire\n",
    "X_resampled_n = pd.get_dummies(X_resampled, columns=['Sexe'], prefix=['Sexe'])"
   ]
  },
  {
   "cell_type": "code",
   "execution_count": 84,
   "id": "e20d3eb6",
   "metadata": {},
   "outputs": [
    {
     "data": {
      "text/plain": [
       "Etio                 int32\n",
       "CV                   int32\n",
       "Age                  int64\n",
       "Esterman             int64\n",
       "ST                   int64\n",
       "DT_centrale          int64\n",
       "DT_quadsupd          int64\n",
       "DT_quadsupg          int64\n",
       "DT_quadinfg          int64\n",
       "DT_quadinfd          int64\n",
       "DT_dis_Centrale      int64\n",
       "DT_dis_quadinfg      int64\n",
       "DT_dis_quadinfd    float64\n",
       "DT_dis_quadsupg      int64\n",
       "DT_dis_quadsupd      int64\n",
       "Sexe_0               uint8\n",
       "Sexe_1               uint8\n",
       "dtype: object"
      ]
     },
     "execution_count": 84,
     "metadata": {},
     "output_type": "execute_result"
    }
   ],
   "source": [
    "X_resampled_n.dtypes"
   ]
  },
  {
   "cell_type": "code",
   "execution_count": 85,
   "id": "a457a791",
   "metadata": {},
   "outputs": [
    {
     "data": {
      "text/html": [
       "<div>\n",
       "<style scoped>\n",
       "    .dataframe tbody tr th:only-of-type {\n",
       "        vertical-align: middle;\n",
       "    }\n",
       "\n",
       "    .dataframe tbody tr th {\n",
       "        vertical-align: top;\n",
       "    }\n",
       "\n",
       "    .dataframe thead th {\n",
       "        text-align: right;\n",
       "    }\n",
       "</style>\n",
       "<table border=\"1\" class=\"dataframe\">\n",
       "  <thead>\n",
       "    <tr style=\"text-align: right;\">\n",
       "      <th></th>\n",
       "      <th>Etio</th>\n",
       "      <th>CV</th>\n",
       "      <th>Age</th>\n",
       "      <th>Esterman</th>\n",
       "      <th>ST</th>\n",
       "      <th>DT_centrale</th>\n",
       "      <th>DT_quadsupd</th>\n",
       "      <th>DT_quadsupg</th>\n",
       "      <th>DT_quadinfg</th>\n",
       "      <th>DT_quadinfd</th>\n",
       "      <th>DT_dis_Centrale</th>\n",
       "      <th>DT_dis_quadinfg</th>\n",
       "      <th>DT_dis_quadinfd</th>\n",
       "      <th>DT_dis_quadsupg</th>\n",
       "      <th>DT_dis_quadsupd</th>\n",
       "      <th>Sexe_0</th>\n",
       "      <th>Sexe_1</th>\n",
       "    </tr>\n",
       "  </thead>\n",
       "  <tbody>\n",
       "    <tr>\n",
       "      <th>count</th>\n",
       "      <td>384.000000</td>\n",
       "      <td>384.000000</td>\n",
       "      <td>384.000000</td>\n",
       "      <td>384.000000</td>\n",
       "      <td>384.000000</td>\n",
       "      <td>384.000000</td>\n",
       "      <td>384.000000</td>\n",
       "      <td>384.000000</td>\n",
       "      <td>384.000000</td>\n",
       "      <td>384.000000</td>\n",
       "      <td>384.000000</td>\n",
       "      <td>384.000000</td>\n",
       "      <td>384.000000</td>\n",
       "      <td>384.00000</td>\n",
       "      <td>384.000000</td>\n",
       "      <td>384.000000</td>\n",
       "      <td>384.000000</td>\n",
       "    </tr>\n",
       "    <tr>\n",
       "      <th>mean</th>\n",
       "      <td>2.203125</td>\n",
       "      <td>3.127604</td>\n",
       "      <td>49.341146</td>\n",
       "      <td>11.807292</td>\n",
       "      <td>0.580729</td>\n",
       "      <td>3.406250</td>\n",
       "      <td>2.070312</td>\n",
       "      <td>2.192708</td>\n",
       "      <td>1.773438</td>\n",
       "      <td>1.695312</td>\n",
       "      <td>4.093750</td>\n",
       "      <td>4.125000</td>\n",
       "      <td>4.581103</td>\n",
       "      <td>4.09375</td>\n",
       "      <td>3.661458</td>\n",
       "      <td>0.479167</td>\n",
       "      <td>0.520833</td>\n",
       "    </tr>\n",
       "    <tr>\n",
       "      <th>std</th>\n",
       "      <td>1.145038</td>\n",
       "      <td>1.972889</td>\n",
       "      <td>14.824148</td>\n",
       "      <td>14.227335</td>\n",
       "      <td>0.819949</td>\n",
       "      <td>3.198655</td>\n",
       "      <td>3.207816</td>\n",
       "      <td>3.501488</td>\n",
       "      <td>3.564141</td>\n",
       "      <td>3.573675</td>\n",
       "      <td>3.763444</td>\n",
       "      <td>4.043497</td>\n",
       "      <td>4.392719</td>\n",
       "      <td>4.16081</td>\n",
       "      <td>3.786050</td>\n",
       "      <td>0.500218</td>\n",
       "      <td>0.500218</td>\n",
       "    </tr>\n",
       "    <tr>\n",
       "      <th>min</th>\n",
       "      <td>0.000000</td>\n",
       "      <td>0.000000</td>\n",
       "      <td>18.000000</td>\n",
       "      <td>0.000000</td>\n",
       "      <td>0.000000</td>\n",
       "      <td>0.000000</td>\n",
       "      <td>0.000000</td>\n",
       "      <td>0.000000</td>\n",
       "      <td>0.000000</td>\n",
       "      <td>0.000000</td>\n",
       "      <td>0.000000</td>\n",
       "      <td>0.000000</td>\n",
       "      <td>0.000000</td>\n",
       "      <td>0.00000</td>\n",
       "      <td>0.000000</td>\n",
       "      <td>0.000000</td>\n",
       "      <td>0.000000</td>\n",
       "    </tr>\n",
       "    <tr>\n",
       "      <th>25%</th>\n",
       "      <td>2.000000</td>\n",
       "      <td>2.000000</td>\n",
       "      <td>38.000000</td>\n",
       "      <td>1.000000</td>\n",
       "      <td>0.000000</td>\n",
       "      <td>1.000000</td>\n",
       "      <td>0.000000</td>\n",
       "      <td>0.000000</td>\n",
       "      <td>0.000000</td>\n",
       "      <td>0.000000</td>\n",
       "      <td>2.000000</td>\n",
       "      <td>1.000000</td>\n",
       "      <td>1.000000</td>\n",
       "      <td>1.00000</td>\n",
       "      <td>1.000000</td>\n",
       "      <td>0.000000</td>\n",
       "      <td>0.000000</td>\n",
       "    </tr>\n",
       "    <tr>\n",
       "      <th>50%</th>\n",
       "      <td>3.000000</td>\n",
       "      <td>2.000000</td>\n",
       "      <td>50.000000</td>\n",
       "      <td>7.000000</td>\n",
       "      <td>0.000000</td>\n",
       "      <td>3.000000</td>\n",
       "      <td>1.000000</td>\n",
       "      <td>1.000000</td>\n",
       "      <td>0.000000</td>\n",
       "      <td>0.000000</td>\n",
       "      <td>3.000000</td>\n",
       "      <td>3.000000</td>\n",
       "      <td>3.007175</td>\n",
       "      <td>3.00000</td>\n",
       "      <td>2.000000</td>\n",
       "      <td>0.000000</td>\n",
       "      <td>1.000000</td>\n",
       "    </tr>\n",
       "    <tr>\n",
       "      <th>75%</th>\n",
       "      <td>3.000000</td>\n",
       "      <td>5.000000</td>\n",
       "      <td>61.000000</td>\n",
       "      <td>18.000000</td>\n",
       "      <td>1.000000</td>\n",
       "      <td>4.000000</td>\n",
       "      <td>3.000000</td>\n",
       "      <td>3.000000</td>\n",
       "      <td>2.000000</td>\n",
       "      <td>1.000000</td>\n",
       "      <td>5.000000</td>\n",
       "      <td>6.000000</td>\n",
       "      <td>6.572504</td>\n",
       "      <td>6.00000</td>\n",
       "      <td>6.000000</td>\n",
       "      <td>1.000000</td>\n",
       "      <td>1.000000</td>\n",
       "    </tr>\n",
       "    <tr>\n",
       "      <th>max</th>\n",
       "      <td>4.000000</td>\n",
       "      <td>8.000000</td>\n",
       "      <td>85.000000</td>\n",
       "      <td>71.000000</td>\n",
       "      <td>5.000000</td>\n",
       "      <td>23.000000</td>\n",
       "      <td>17.000000</td>\n",
       "      <td>18.000000</td>\n",
       "      <td>18.000000</td>\n",
       "      <td>18.000000</td>\n",
       "      <td>35.000000</td>\n",
       "      <td>18.000000</td>\n",
       "      <td>18.000000</td>\n",
       "      <td>18.00000</td>\n",
       "      <td>18.000000</td>\n",
       "      <td>1.000000</td>\n",
       "      <td>1.000000</td>\n",
       "    </tr>\n",
       "  </tbody>\n",
       "</table>\n",
       "</div>"
      ],
      "text/plain": [
       "             Etio          CV         Age    Esterman          ST  \\\n",
       "count  384.000000  384.000000  384.000000  384.000000  384.000000   \n",
       "mean     2.203125    3.127604   49.341146   11.807292    0.580729   \n",
       "std      1.145038    1.972889   14.824148   14.227335    0.819949   \n",
       "min      0.000000    0.000000   18.000000    0.000000    0.000000   \n",
       "25%      2.000000    2.000000   38.000000    1.000000    0.000000   \n",
       "50%      3.000000    2.000000   50.000000    7.000000    0.000000   \n",
       "75%      3.000000    5.000000   61.000000   18.000000    1.000000   \n",
       "max      4.000000    8.000000   85.000000   71.000000    5.000000   \n",
       "\n",
       "       DT_centrale  DT_quadsupd  DT_quadsupg  DT_quadinfg  DT_quadinfd  \\\n",
       "count   384.000000   384.000000   384.000000   384.000000   384.000000   \n",
       "mean      3.406250     2.070312     2.192708     1.773438     1.695312   \n",
       "std       3.198655     3.207816     3.501488     3.564141     3.573675   \n",
       "min       0.000000     0.000000     0.000000     0.000000     0.000000   \n",
       "25%       1.000000     0.000000     0.000000     0.000000     0.000000   \n",
       "50%       3.000000     1.000000     1.000000     0.000000     0.000000   \n",
       "75%       4.000000     3.000000     3.000000     2.000000     1.000000   \n",
       "max      23.000000    17.000000    18.000000    18.000000    18.000000   \n",
       "\n",
       "       DT_dis_Centrale  DT_dis_quadinfg  DT_dis_quadinfd  DT_dis_quadsupg  \\\n",
       "count       384.000000       384.000000       384.000000        384.00000   \n",
       "mean          4.093750         4.125000         4.581103          4.09375   \n",
       "std           3.763444         4.043497         4.392719          4.16081   \n",
       "min           0.000000         0.000000         0.000000          0.00000   \n",
       "25%           2.000000         1.000000         1.000000          1.00000   \n",
       "50%           3.000000         3.000000         3.007175          3.00000   \n",
       "75%           5.000000         6.000000         6.572504          6.00000   \n",
       "max          35.000000        18.000000        18.000000         18.00000   \n",
       "\n",
       "       DT_dis_quadsupd      Sexe_0      Sexe_1  \n",
       "count       384.000000  384.000000  384.000000  \n",
       "mean          3.661458    0.479167    0.520833  \n",
       "std           3.786050    0.500218    0.500218  \n",
       "min           0.000000    0.000000    0.000000  \n",
       "25%           1.000000    0.000000    0.000000  \n",
       "50%           2.000000    0.000000    1.000000  \n",
       "75%           6.000000    1.000000    1.000000  \n",
       "max          18.000000    1.000000    1.000000  "
      ]
     },
     "execution_count": 85,
     "metadata": {},
     "output_type": "execute_result"
    }
   ],
   "source": [
    "X_resampled_n.describe()"
   ]
  },
  {
   "cell_type": "code",
   "execution_count": 86,
   "id": "8ccf7e53",
   "metadata": {},
   "outputs": [],
   "source": [
    "# Splitting the data to training and test sets\n",
    "X_train, X_test, y_train, y_test = train_test_split(X_resampled_n, y_resampled, test_size = 0.3)"
   ]
  },
  {
   "cell_type": "code",
   "execution_count": 87,
   "id": "03aaed31",
   "metadata": {},
   "outputs": [],
   "source": [
    "from sklearn.preprocessing import MinMaxScaler\n",
    "import pandas as pd\n",
    "\n",
    "# Initialiser le MinMaxScaler\n",
    "scaler = MinMaxScaler()\n",
    "\n",
    "# Normaliser les colonnes du DataFrame\n",
    "X_train_normalized = pd.DataFrame(scaler.fit_transform(X_train), columns=X_train.columns)\n"
   ]
  },
  {
   "cell_type": "code",
   "execution_count": 88,
   "id": "9a7eb3a6",
   "metadata": {},
   "outputs": [
    {
     "data": {
      "text/html": [
       "<div>\n",
       "<style scoped>\n",
       "    .dataframe tbody tr th:only-of-type {\n",
       "        vertical-align: middle;\n",
       "    }\n",
       "\n",
       "    .dataframe tbody tr th {\n",
       "        vertical-align: top;\n",
       "    }\n",
       "\n",
       "    .dataframe thead th {\n",
       "        text-align: right;\n",
       "    }\n",
       "</style>\n",
       "<table border=\"1\" class=\"dataframe\">\n",
       "  <thead>\n",
       "    <tr style=\"text-align: right;\">\n",
       "      <th></th>\n",
       "      <th>Etio</th>\n",
       "      <th>CV</th>\n",
       "      <th>Age</th>\n",
       "      <th>Esterman</th>\n",
       "      <th>ST</th>\n",
       "      <th>DT_centrale</th>\n",
       "      <th>DT_quadsupd</th>\n",
       "      <th>DT_quadsupg</th>\n",
       "      <th>DT_quadinfg</th>\n",
       "      <th>DT_quadinfd</th>\n",
       "      <th>DT_dis_Centrale</th>\n",
       "      <th>DT_dis_quadinfg</th>\n",
       "      <th>DT_dis_quadinfd</th>\n",
       "      <th>DT_dis_quadsupg</th>\n",
       "      <th>DT_dis_quadsupd</th>\n",
       "      <th>Sexe_0</th>\n",
       "      <th>Sexe_1</th>\n",
       "    </tr>\n",
       "  </thead>\n",
       "  <tbody>\n",
       "    <tr>\n",
       "      <th>count</th>\n",
       "      <td>268.000000</td>\n",
       "      <td>268.000000</td>\n",
       "      <td>268.000000</td>\n",
       "      <td>268.000000</td>\n",
       "      <td>268.000000</td>\n",
       "      <td>268.000000</td>\n",
       "      <td>268.000000</td>\n",
       "      <td>268.000000</td>\n",
       "      <td>268.000000</td>\n",
       "      <td>268.000000</td>\n",
       "      <td>268.000000</td>\n",
       "      <td>268.000000</td>\n",
       "      <td>268.000000</td>\n",
       "      <td>268.000000</td>\n",
       "      <td>268.000000</td>\n",
       "      <td>268.000000</td>\n",
       "      <td>268.000000</td>\n",
       "    </tr>\n",
       "    <tr>\n",
       "      <th>mean</th>\n",
       "      <td>0.716418</td>\n",
       "      <td>0.385728</td>\n",
       "      <td>0.466251</td>\n",
       "      <td>0.175741</td>\n",
       "      <td>0.117164</td>\n",
       "      <td>0.146820</td>\n",
       "      <td>0.122915</td>\n",
       "      <td>0.139511</td>\n",
       "      <td>0.099088</td>\n",
       "      <td>0.100954</td>\n",
       "      <td>0.118550</td>\n",
       "      <td>0.226575</td>\n",
       "      <td>0.264988</td>\n",
       "      <td>0.233209</td>\n",
       "      <td>0.211809</td>\n",
       "      <td>0.503731</td>\n",
       "      <td>0.496269</td>\n",
       "    </tr>\n",
       "    <tr>\n",
       "      <th>std</th>\n",
       "      <td>0.383834</td>\n",
       "      <td>0.248005</td>\n",
       "      <td>0.225218</td>\n",
       "      <td>0.208724</td>\n",
       "      <td>0.168281</td>\n",
       "      <td>0.133650</td>\n",
       "      <td>0.186707</td>\n",
       "      <td>0.217356</td>\n",
       "      <td>0.196476</td>\n",
       "      <td>0.206700</td>\n",
       "      <td>0.110283</td>\n",
       "      <td>0.221893</td>\n",
       "      <td>0.248668</td>\n",
       "      <td>0.235470</td>\n",
       "      <td>0.208184</td>\n",
       "      <td>0.500922</td>\n",
       "      <td>0.500922</td>\n",
       "    </tr>\n",
       "    <tr>\n",
       "      <th>min</th>\n",
       "      <td>0.000000</td>\n",
       "      <td>0.000000</td>\n",
       "      <td>0.000000</td>\n",
       "      <td>0.000000</td>\n",
       "      <td>0.000000</td>\n",
       "      <td>0.000000</td>\n",
       "      <td>0.000000</td>\n",
       "      <td>0.000000</td>\n",
       "      <td>0.000000</td>\n",
       "      <td>0.000000</td>\n",
       "      <td>0.000000</td>\n",
       "      <td>0.000000</td>\n",
       "      <td>0.000000</td>\n",
       "      <td>0.000000</td>\n",
       "      <td>0.000000</td>\n",
       "      <td>0.000000</td>\n",
       "      <td>0.000000</td>\n",
       "    </tr>\n",
       "    <tr>\n",
       "      <th>25%</th>\n",
       "      <td>0.666667</td>\n",
       "      <td>0.250000</td>\n",
       "      <td>0.294776</td>\n",
       "      <td>0.014085</td>\n",
       "      <td>0.000000</td>\n",
       "      <td>0.086957</td>\n",
       "      <td>0.000000</td>\n",
       "      <td>0.000000</td>\n",
       "      <td>0.000000</td>\n",
       "      <td>0.000000</td>\n",
       "      <td>0.057143</td>\n",
       "      <td>0.055556</td>\n",
       "      <td>0.055556</td>\n",
       "      <td>0.055556</td>\n",
       "      <td>0.058824</td>\n",
       "      <td>0.000000</td>\n",
       "      <td>0.000000</td>\n",
       "    </tr>\n",
       "    <tr>\n",
       "      <th>50%</th>\n",
       "      <td>1.000000</td>\n",
       "      <td>0.250000</td>\n",
       "      <td>0.477612</td>\n",
       "      <td>0.098592</td>\n",
       "      <td>0.000000</td>\n",
       "      <td>0.130435</td>\n",
       "      <td>0.058824</td>\n",
       "      <td>0.055556</td>\n",
       "      <td>0.000000</td>\n",
       "      <td>0.000000</td>\n",
       "      <td>0.085714</td>\n",
       "      <td>0.166667</td>\n",
       "      <td>0.171859</td>\n",
       "      <td>0.166667</td>\n",
       "      <td>0.117647</td>\n",
       "      <td>1.000000</td>\n",
       "      <td>0.000000</td>\n",
       "    </tr>\n",
       "    <tr>\n",
       "      <th>75%</th>\n",
       "      <td>1.000000</td>\n",
       "      <td>0.625000</td>\n",
       "      <td>0.630597</td>\n",
       "      <td>0.260563</td>\n",
       "      <td>0.200000</td>\n",
       "      <td>0.173913</td>\n",
       "      <td>0.176471</td>\n",
       "      <td>0.166667</td>\n",
       "      <td>0.111111</td>\n",
       "      <td>0.055556</td>\n",
       "      <td>0.142857</td>\n",
       "      <td>0.333333</td>\n",
       "      <td>0.388889</td>\n",
       "      <td>0.333333</td>\n",
       "      <td>0.352941</td>\n",
       "      <td>1.000000</td>\n",
       "      <td>1.000000</td>\n",
       "    </tr>\n",
       "    <tr>\n",
       "      <th>max</th>\n",
       "      <td>1.000000</td>\n",
       "      <td>1.000000</td>\n",
       "      <td>1.000000</td>\n",
       "      <td>1.000000</td>\n",
       "      <td>1.000000</td>\n",
       "      <td>1.000000</td>\n",
       "      <td>1.000000</td>\n",
       "      <td>1.000000</td>\n",
       "      <td>1.000000</td>\n",
       "      <td>1.000000</td>\n",
       "      <td>1.000000</td>\n",
       "      <td>1.000000</td>\n",
       "      <td>1.000000</td>\n",
       "      <td>1.000000</td>\n",
       "      <td>1.000000</td>\n",
       "      <td>1.000000</td>\n",
       "      <td>1.000000</td>\n",
       "    </tr>\n",
       "  </tbody>\n",
       "</table>\n",
       "</div>"
      ],
      "text/plain": [
       "             Etio          CV         Age    Esterman          ST  \\\n",
       "count  268.000000  268.000000  268.000000  268.000000  268.000000   \n",
       "mean     0.716418    0.385728    0.466251    0.175741    0.117164   \n",
       "std      0.383834    0.248005    0.225218    0.208724    0.168281   \n",
       "min      0.000000    0.000000    0.000000    0.000000    0.000000   \n",
       "25%      0.666667    0.250000    0.294776    0.014085    0.000000   \n",
       "50%      1.000000    0.250000    0.477612    0.098592    0.000000   \n",
       "75%      1.000000    0.625000    0.630597    0.260563    0.200000   \n",
       "max      1.000000    1.000000    1.000000    1.000000    1.000000   \n",
       "\n",
       "       DT_centrale  DT_quadsupd  DT_quadsupg  DT_quadinfg  DT_quadinfd  \\\n",
       "count   268.000000   268.000000   268.000000   268.000000   268.000000   \n",
       "mean      0.146820     0.122915     0.139511     0.099088     0.100954   \n",
       "std       0.133650     0.186707     0.217356     0.196476     0.206700   \n",
       "min       0.000000     0.000000     0.000000     0.000000     0.000000   \n",
       "25%       0.086957     0.000000     0.000000     0.000000     0.000000   \n",
       "50%       0.130435     0.058824     0.055556     0.000000     0.000000   \n",
       "75%       0.173913     0.176471     0.166667     0.111111     0.055556   \n",
       "max       1.000000     1.000000     1.000000     1.000000     1.000000   \n",
       "\n",
       "       DT_dis_Centrale  DT_dis_quadinfg  DT_dis_quadinfd  DT_dis_quadsupg  \\\n",
       "count       268.000000       268.000000       268.000000       268.000000   \n",
       "mean          0.118550         0.226575         0.264988         0.233209   \n",
       "std           0.110283         0.221893         0.248668         0.235470   \n",
       "min           0.000000         0.000000         0.000000         0.000000   \n",
       "25%           0.057143         0.055556         0.055556         0.055556   \n",
       "50%           0.085714         0.166667         0.171859         0.166667   \n",
       "75%           0.142857         0.333333         0.388889         0.333333   \n",
       "max           1.000000         1.000000         1.000000         1.000000   \n",
       "\n",
       "       DT_dis_quadsupd      Sexe_0      Sexe_1  \n",
       "count       268.000000  268.000000  268.000000  \n",
       "mean          0.211809    0.503731    0.496269  \n",
       "std           0.208184    0.500922    0.500922  \n",
       "min           0.000000    0.000000    0.000000  \n",
       "25%           0.058824    0.000000    0.000000  \n",
       "50%           0.117647    1.000000    0.000000  \n",
       "75%           0.352941    1.000000    1.000000  \n",
       "max           1.000000    1.000000    1.000000  "
      ]
     },
     "execution_count": 88,
     "metadata": {},
     "output_type": "execute_result"
    }
   ],
   "source": [
    "X_train_normalized.describe()"
   ]
  },
  {
   "cell_type": "code",
   "execution_count": 89,
   "id": "2abd5c8d",
   "metadata": {},
   "outputs": [
    {
     "data": {
      "text/html": [
       "<div>\n",
       "<style scoped>\n",
       "    .dataframe tbody tr th:only-of-type {\n",
       "        vertical-align: middle;\n",
       "    }\n",
       "\n",
       "    .dataframe tbody tr th {\n",
       "        vertical-align: top;\n",
       "    }\n",
       "\n",
       "    .dataframe thead th {\n",
       "        text-align: right;\n",
       "    }\n",
       "</style>\n",
       "<table border=\"1\" class=\"dataframe\">\n",
       "  <thead>\n",
       "    <tr style=\"text-align: right;\">\n",
       "      <th></th>\n",
       "      <th>Etio</th>\n",
       "      <th>CV</th>\n",
       "      <th>Age</th>\n",
       "      <th>Esterman</th>\n",
       "      <th>ST</th>\n",
       "      <th>DT_centrale</th>\n",
       "      <th>DT_quadsupd</th>\n",
       "      <th>DT_quadsupg</th>\n",
       "      <th>DT_quadinfg</th>\n",
       "      <th>DT_quadinfd</th>\n",
       "      <th>DT_dis_Centrale</th>\n",
       "      <th>DT_dis_quadinfg</th>\n",
       "      <th>DT_dis_quadinfd</th>\n",
       "      <th>DT_dis_quadsupg</th>\n",
       "      <th>DT_dis_quadsupd</th>\n",
       "      <th>Sexe_0</th>\n",
       "      <th>Sexe_1</th>\n",
       "    </tr>\n",
       "  </thead>\n",
       "  <tbody>\n",
       "    <tr>\n",
       "      <th>0</th>\n",
       "      <td>0.333333</td>\n",
       "      <td>0.500</td>\n",
       "      <td>0.149254</td>\n",
       "      <td>0.154930</td>\n",
       "      <td>0.0</td>\n",
       "      <td>0.086957</td>\n",
       "      <td>0.000000</td>\n",
       "      <td>0.166667</td>\n",
       "      <td>0.000000</td>\n",
       "      <td>0.055556</td>\n",
       "      <td>0.142857</td>\n",
       "      <td>0.166667</td>\n",
       "      <td>0.385080</td>\n",
       "      <td>0.111111</td>\n",
       "      <td>0.117647</td>\n",
       "      <td>1.0</td>\n",
       "      <td>0.0</td>\n",
       "    </tr>\n",
       "    <tr>\n",
       "      <th>1</th>\n",
       "      <td>0.666667</td>\n",
       "      <td>0.250</td>\n",
       "      <td>0.492537</td>\n",
       "      <td>0.042254</td>\n",
       "      <td>0.0</td>\n",
       "      <td>0.217391</td>\n",
       "      <td>0.000000</td>\n",
       "      <td>0.055556</td>\n",
       "      <td>0.000000</td>\n",
       "      <td>0.000000</td>\n",
       "      <td>0.085714</td>\n",
       "      <td>0.166667</td>\n",
       "      <td>0.417808</td>\n",
       "      <td>0.111111</td>\n",
       "      <td>0.176471</td>\n",
       "      <td>0.0</td>\n",
       "      <td>1.0</td>\n",
       "    </tr>\n",
       "    <tr>\n",
       "      <th>2</th>\n",
       "      <td>0.666667</td>\n",
       "      <td>0.250</td>\n",
       "      <td>0.313433</td>\n",
       "      <td>0.014085</td>\n",
       "      <td>0.2</td>\n",
       "      <td>0.478261</td>\n",
       "      <td>0.117647</td>\n",
       "      <td>0.111111</td>\n",
       "      <td>0.055556</td>\n",
       "      <td>0.000000</td>\n",
       "      <td>0.085714</td>\n",
       "      <td>0.166667</td>\n",
       "      <td>0.000000</td>\n",
       "      <td>0.055556</td>\n",
       "      <td>0.058824</td>\n",
       "      <td>0.0</td>\n",
       "      <td>1.0</td>\n",
       "    </tr>\n",
       "    <tr>\n",
       "      <th>3</th>\n",
       "      <td>0.000000</td>\n",
       "      <td>0.000</td>\n",
       "      <td>0.029851</td>\n",
       "      <td>0.563380</td>\n",
       "      <td>0.4</td>\n",
       "      <td>0.086957</td>\n",
       "      <td>0.176471</td>\n",
       "      <td>0.000000</td>\n",
       "      <td>0.000000</td>\n",
       "      <td>0.722222</td>\n",
       "      <td>0.085714</td>\n",
       "      <td>0.388889</td>\n",
       "      <td>0.666667</td>\n",
       "      <td>0.277778</td>\n",
       "      <td>0.588235</td>\n",
       "      <td>0.0</td>\n",
       "      <td>1.0</td>\n",
       "    </tr>\n",
       "    <tr>\n",
       "      <th>4</th>\n",
       "      <td>1.000000</td>\n",
       "      <td>0.000</td>\n",
       "      <td>0.716418</td>\n",
       "      <td>0.633803</td>\n",
       "      <td>0.2</td>\n",
       "      <td>0.086957</td>\n",
       "      <td>0.705882</td>\n",
       "      <td>0.166667</td>\n",
       "      <td>0.111111</td>\n",
       "      <td>0.777778</td>\n",
       "      <td>0.142857</td>\n",
       "      <td>0.666667</td>\n",
       "      <td>0.777778</td>\n",
       "      <td>0.111111</td>\n",
       "      <td>0.705882</td>\n",
       "      <td>0.0</td>\n",
       "      <td>1.0</td>\n",
       "    </tr>\n",
       "    <tr>\n",
       "      <th>...</th>\n",
       "      <td>...</td>\n",
       "      <td>...</td>\n",
       "      <td>...</td>\n",
       "      <td>...</td>\n",
       "      <td>...</td>\n",
       "      <td>...</td>\n",
       "      <td>...</td>\n",
       "      <td>...</td>\n",
       "      <td>...</td>\n",
       "      <td>...</td>\n",
       "      <td>...</td>\n",
       "      <td>...</td>\n",
       "      <td>...</td>\n",
       "      <td>...</td>\n",
       "      <td>...</td>\n",
       "      <td>...</td>\n",
       "      <td>...</td>\n",
       "    </tr>\n",
       "    <tr>\n",
       "      <th>263</th>\n",
       "      <td>1.000000</td>\n",
       "      <td>0.500</td>\n",
       "      <td>0.417910</td>\n",
       "      <td>0.070423</td>\n",
       "      <td>0.0</td>\n",
       "      <td>0.086957</td>\n",
       "      <td>0.000000</td>\n",
       "      <td>0.000000</td>\n",
       "      <td>0.055556</td>\n",
       "      <td>0.055556</td>\n",
       "      <td>0.171429</td>\n",
       "      <td>0.055556</td>\n",
       "      <td>0.144624</td>\n",
       "      <td>0.166667</td>\n",
       "      <td>0.117647</td>\n",
       "      <td>0.0</td>\n",
       "      <td>1.0</td>\n",
       "    </tr>\n",
       "    <tr>\n",
       "      <th>264</th>\n",
       "      <td>0.666667</td>\n",
       "      <td>0.250</td>\n",
       "      <td>0.014925</td>\n",
       "      <td>0.000000</td>\n",
       "      <td>0.6</td>\n",
       "      <td>0.347826</td>\n",
       "      <td>0.235294</td>\n",
       "      <td>0.166667</td>\n",
       "      <td>0.222222</td>\n",
       "      <td>0.111111</td>\n",
       "      <td>0.228571</td>\n",
       "      <td>0.055556</td>\n",
       "      <td>0.111111</td>\n",
       "      <td>0.000000</td>\n",
       "      <td>0.117647</td>\n",
       "      <td>0.0</td>\n",
       "      <td>1.0</td>\n",
       "    </tr>\n",
       "    <tr>\n",
       "      <th>265</th>\n",
       "      <td>1.000000</td>\n",
       "      <td>0.000</td>\n",
       "      <td>0.283582</td>\n",
       "      <td>0.563380</td>\n",
       "      <td>0.2</td>\n",
       "      <td>0.043478</td>\n",
       "      <td>0.470588</td>\n",
       "      <td>0.055556</td>\n",
       "      <td>0.000000</td>\n",
       "      <td>0.555556</td>\n",
       "      <td>0.085714</td>\n",
       "      <td>0.333333</td>\n",
       "      <td>0.555556</td>\n",
       "      <td>0.111111</td>\n",
       "      <td>0.647059</td>\n",
       "      <td>0.0</td>\n",
       "      <td>1.0</td>\n",
       "    </tr>\n",
       "    <tr>\n",
       "      <th>266</th>\n",
       "      <td>0.333333</td>\n",
       "      <td>0.625</td>\n",
       "      <td>0.298507</td>\n",
       "      <td>0.169014</td>\n",
       "      <td>0.0</td>\n",
       "      <td>0.043478</td>\n",
       "      <td>0.294118</td>\n",
       "      <td>0.055556</td>\n",
       "      <td>0.055556</td>\n",
       "      <td>0.000000</td>\n",
       "      <td>0.142857</td>\n",
       "      <td>0.166667</td>\n",
       "      <td>0.222222</td>\n",
       "      <td>0.166667</td>\n",
       "      <td>0.352941</td>\n",
       "      <td>1.0</td>\n",
       "      <td>0.0</td>\n",
       "    </tr>\n",
       "    <tr>\n",
       "      <th>267</th>\n",
       "      <td>0.666667</td>\n",
       "      <td>0.625</td>\n",
       "      <td>0.000000</td>\n",
       "      <td>0.169014</td>\n",
       "      <td>0.0</td>\n",
       "      <td>0.000000</td>\n",
       "      <td>0.235294</td>\n",
       "      <td>0.000000</td>\n",
       "      <td>0.000000</td>\n",
       "      <td>0.000000</td>\n",
       "      <td>0.057143</td>\n",
       "      <td>0.111111</td>\n",
       "      <td>0.277778</td>\n",
       "      <td>0.055556</td>\n",
       "      <td>0.235294</td>\n",
       "      <td>1.0</td>\n",
       "      <td>0.0</td>\n",
       "    </tr>\n",
       "  </tbody>\n",
       "</table>\n",
       "<p>268 rows × 17 columns</p>\n",
       "</div>"
      ],
      "text/plain": [
       "         Etio     CV       Age  Esterman   ST  DT_centrale  DT_quadsupd  \\\n",
       "0    0.333333  0.500  0.149254  0.154930  0.0     0.086957     0.000000   \n",
       "1    0.666667  0.250  0.492537  0.042254  0.0     0.217391     0.000000   \n",
       "2    0.666667  0.250  0.313433  0.014085  0.2     0.478261     0.117647   \n",
       "3    0.000000  0.000  0.029851  0.563380  0.4     0.086957     0.176471   \n",
       "4    1.000000  0.000  0.716418  0.633803  0.2     0.086957     0.705882   \n",
       "..        ...    ...       ...       ...  ...          ...          ...   \n",
       "263  1.000000  0.500  0.417910  0.070423  0.0     0.086957     0.000000   \n",
       "264  0.666667  0.250  0.014925  0.000000  0.6     0.347826     0.235294   \n",
       "265  1.000000  0.000  0.283582  0.563380  0.2     0.043478     0.470588   \n",
       "266  0.333333  0.625  0.298507  0.169014  0.0     0.043478     0.294118   \n",
       "267  0.666667  0.625  0.000000  0.169014  0.0     0.000000     0.235294   \n",
       "\n",
       "     DT_quadsupg  DT_quadinfg  DT_quadinfd  DT_dis_Centrale  DT_dis_quadinfg  \\\n",
       "0       0.166667     0.000000     0.055556         0.142857         0.166667   \n",
       "1       0.055556     0.000000     0.000000         0.085714         0.166667   \n",
       "2       0.111111     0.055556     0.000000         0.085714         0.166667   \n",
       "3       0.000000     0.000000     0.722222         0.085714         0.388889   \n",
       "4       0.166667     0.111111     0.777778         0.142857         0.666667   \n",
       "..           ...          ...          ...              ...              ...   \n",
       "263     0.000000     0.055556     0.055556         0.171429         0.055556   \n",
       "264     0.166667     0.222222     0.111111         0.228571         0.055556   \n",
       "265     0.055556     0.000000     0.555556         0.085714         0.333333   \n",
       "266     0.055556     0.055556     0.000000         0.142857         0.166667   \n",
       "267     0.000000     0.000000     0.000000         0.057143         0.111111   \n",
       "\n",
       "     DT_dis_quadinfd  DT_dis_quadsupg  DT_dis_quadsupd  Sexe_0  Sexe_1  \n",
       "0           0.385080         0.111111         0.117647     1.0     0.0  \n",
       "1           0.417808         0.111111         0.176471     0.0     1.0  \n",
       "2           0.000000         0.055556         0.058824     0.0     1.0  \n",
       "3           0.666667         0.277778         0.588235     0.0     1.0  \n",
       "4           0.777778         0.111111         0.705882     0.0     1.0  \n",
       "..               ...              ...              ...     ...     ...  \n",
       "263         0.144624         0.166667         0.117647     0.0     1.0  \n",
       "264         0.111111         0.000000         0.117647     0.0     1.0  \n",
       "265         0.555556         0.111111         0.647059     0.0     1.0  \n",
       "266         0.222222         0.166667         0.352941     1.0     0.0  \n",
       "267         0.277778         0.055556         0.235294     1.0     0.0  \n",
       "\n",
       "[268 rows x 17 columns]"
      ]
     },
     "execution_count": 89,
     "metadata": {},
     "output_type": "execute_result"
    }
   ],
   "source": [
    "X_train_normalized"
   ]
  },
  {
   "cell_type": "markdown",
   "id": "1af3f965",
   "metadata": {},
   "source": [
    "## Logistic Regression"
   ]
  },
  {
   "cell_type": "code",
   "execution_count": 90,
   "id": "993b667a",
   "metadata": {},
   "outputs": [],
   "source": [
    "# Créer le modèle de régression logistique avec gestion des poids des classes\n",
    "mdl_LR_2 = LogisticRegression(max_iter=3000, class_weight='balanced')"
   ]
  },
  {
   "cell_type": "code",
   "execution_count": 91,
   "id": "a3b9a810",
   "metadata": {},
   "outputs": [
    {
     "data": {
      "text/html": [
       "<style>#sk-container-id-5 {color: black;}#sk-container-id-5 pre{padding: 0;}#sk-container-id-5 div.sk-toggleable {background-color: white;}#sk-container-id-5 label.sk-toggleable__label {cursor: pointer;display: block;width: 100%;margin-bottom: 0;padding: 0.3em;box-sizing: border-box;text-align: center;}#sk-container-id-5 label.sk-toggleable__label-arrow:before {content: \"▸\";float: left;margin-right: 0.25em;color: #696969;}#sk-container-id-5 label.sk-toggleable__label-arrow:hover:before {color: black;}#sk-container-id-5 div.sk-estimator:hover label.sk-toggleable__label-arrow:before {color: black;}#sk-container-id-5 div.sk-toggleable__content {max-height: 0;max-width: 0;overflow: hidden;text-align: left;background-color: #f0f8ff;}#sk-container-id-5 div.sk-toggleable__content pre {margin: 0.2em;color: black;border-radius: 0.25em;background-color: #f0f8ff;}#sk-container-id-5 input.sk-toggleable__control:checked~div.sk-toggleable__content {max-height: 200px;max-width: 100%;overflow: auto;}#sk-container-id-5 input.sk-toggleable__control:checked~label.sk-toggleable__label-arrow:before {content: \"▾\";}#sk-container-id-5 div.sk-estimator input.sk-toggleable__control:checked~label.sk-toggleable__label {background-color: #d4ebff;}#sk-container-id-5 div.sk-label input.sk-toggleable__control:checked~label.sk-toggleable__label {background-color: #d4ebff;}#sk-container-id-5 input.sk-hidden--visually {border: 0;clip: rect(1px 1px 1px 1px);clip: rect(1px, 1px, 1px, 1px);height: 1px;margin: -1px;overflow: hidden;padding: 0;position: absolute;width: 1px;}#sk-container-id-5 div.sk-estimator {font-family: monospace;background-color: #f0f8ff;border: 1px dotted black;border-radius: 0.25em;box-sizing: border-box;margin-bottom: 0.5em;}#sk-container-id-5 div.sk-estimator:hover {background-color: #d4ebff;}#sk-container-id-5 div.sk-parallel-item::after {content: \"\";width: 100%;border-bottom: 1px solid gray;flex-grow: 1;}#sk-container-id-5 div.sk-label:hover label.sk-toggleable__label {background-color: #d4ebff;}#sk-container-id-5 div.sk-serial::before {content: \"\";position: absolute;border-left: 1px solid gray;box-sizing: border-box;top: 0;bottom: 0;left: 50%;z-index: 0;}#sk-container-id-5 div.sk-serial {display: flex;flex-direction: column;align-items: center;background-color: white;padding-right: 0.2em;padding-left: 0.2em;position: relative;}#sk-container-id-5 div.sk-item {position: relative;z-index: 1;}#sk-container-id-5 div.sk-parallel {display: flex;align-items: stretch;justify-content: center;background-color: white;position: relative;}#sk-container-id-5 div.sk-item::before, #sk-container-id-5 div.sk-parallel-item::before {content: \"\";position: absolute;border-left: 1px solid gray;box-sizing: border-box;top: 0;bottom: 0;left: 50%;z-index: -1;}#sk-container-id-5 div.sk-parallel-item {display: flex;flex-direction: column;z-index: 1;position: relative;background-color: white;}#sk-container-id-5 div.sk-parallel-item:first-child::after {align-self: flex-end;width: 50%;}#sk-container-id-5 div.sk-parallel-item:last-child::after {align-self: flex-start;width: 50%;}#sk-container-id-5 div.sk-parallel-item:only-child::after {width: 0;}#sk-container-id-5 div.sk-dashed-wrapped {border: 1px dashed gray;margin: 0 0.4em 0.5em 0.4em;box-sizing: border-box;padding-bottom: 0.4em;background-color: white;}#sk-container-id-5 div.sk-label label {font-family: monospace;font-weight: bold;display: inline-block;line-height: 1.2em;}#sk-container-id-5 div.sk-label-container {text-align: center;}#sk-container-id-5 div.sk-container {/* jupyter's `normalize.less` sets `[hidden] { display: none; }` but bootstrap.min.css set `[hidden] { display: none !important; }` so we also need the `!important` here to be able to override the default hidden behavior on the sphinx rendered scikit-learn.org. See: https://github.com/scikit-learn/scikit-learn/issues/21755 */display: inline-block !important;position: relative;}#sk-container-id-5 div.sk-text-repr-fallback {display: none;}</style><div id=\"sk-container-id-5\" class=\"sk-top-container\"><div class=\"sk-text-repr-fallback\"><pre>LogisticRegression(class_weight=&#x27;balanced&#x27;, max_iter=3000)</pre><b>In a Jupyter environment, please rerun this cell to show the HTML representation or trust the notebook. <br />On GitHub, the HTML representation is unable to render, please try loading this page with nbviewer.org.</b></div><div class=\"sk-container\" hidden><div class=\"sk-item\"><div class=\"sk-estimator sk-toggleable\"><input class=\"sk-toggleable__control sk-hidden--visually\" id=\"sk-estimator-id-5\" type=\"checkbox\" checked><label for=\"sk-estimator-id-5\" class=\"sk-toggleable__label sk-toggleable__label-arrow\">LogisticRegression</label><div class=\"sk-toggleable__content\"><pre>LogisticRegression(class_weight=&#x27;balanced&#x27;, max_iter=3000)</pre></div></div></div></div></div>"
      ],
      "text/plain": [
       "LogisticRegression(class_weight='balanced', max_iter=3000)"
      ]
     },
     "execution_count": 91,
     "metadata": {},
     "output_type": "execute_result"
    }
   ],
   "source": [
    "# Fitting the training data to the LR model\n",
    "mdl_LR_2.fit(X_train_normalized, y_train)"
   ]
  },
  {
   "cell_type": "code",
   "execution_count": 92,
   "id": "5666325f",
   "metadata": {},
   "outputs": [
    {
     "data": {
      "text/plain": [
       "(array([-2.15165915,  2.27513218, -0.12347304]),\n",
       " array([[ 0.36139631,  0.05090043, -0.10889116,  0.02261899,  0.70477833,\n",
       "          0.81880897,  0.88159626,  1.52489217,  0.82335425,  1.06000668,\n",
       "          0.92692179,  1.98060164,  0.58459596,  0.60717049,  1.72397293,\n",
       "         -0.21936381,  0.21868451],\n",
       "        [ 0.00536016, -1.10690723, -0.37205817, -0.26794743, -0.93935881,\n",
       "         -0.58114053, -1.07157257, -0.82547895, -0.57557963, -0.04440128,\n",
       "         -0.93529042, -1.20667311, -1.78824101, -0.96084113, -1.50269927,\n",
       "          0.00330806, -0.00383365],\n",
       "        [-0.36675647,  1.0560068 ,  0.48094933,  0.24532844,  0.23458047,\n",
       "         -0.23766844,  0.18997631, -0.69941323, -0.24777462, -1.0156054 ,\n",
       "          0.00836863, -0.77392853,  1.20364505,  0.35367064, -0.22127366,\n",
       "          0.21605575, -0.21485085]]))"
      ]
     },
     "execution_count": 92,
     "metadata": {},
     "output_type": "execute_result"
    }
   ],
   "source": [
    "# Getting the intercept and coeffecients values of the LR model\n",
    "mdl_LR_2.intercept_, mdl_LR_2.coef_"
   ]
  },
  {
   "cell_type": "code",
   "execution_count": 93,
   "id": "cfcdefbe",
   "metadata": {},
   "outputs": [],
   "source": [
    "# Normaliser les colonnes du DataFrame\n",
    "X_test_normalized = pd.DataFrame(scaler.fit_transform(X_test), columns=X_test.columns)\n"
   ]
  },
  {
   "cell_type": "code",
   "execution_count": 94,
   "id": "7cf846c2",
   "metadata": {},
   "outputs": [],
   "source": [
    "# Testing the LR model on unseen data (test data)\n",
    "pred_LR = mdl_LR_2.predict(X_test_normalized)"
   ]
  },
  {
   "cell_type": "code",
   "execution_count": 95,
   "id": "e8145a0c",
   "metadata": {},
   "outputs": [
    {
     "data": {
      "text/plain": [
       "0.7327586206896551"
      ]
     },
     "execution_count": 95,
     "metadata": {},
     "output_type": "execute_result"
    }
   ],
   "source": [
    "# Accuracy score of LR model\n",
    "accuracy_score(y_test, pred_LR)"
   ]
  },
  {
   "cell_type": "code",
   "execution_count": 96,
   "id": "01a32392",
   "metadata": {},
   "outputs": [
    {
     "data": {
      "text/plain": [
       "(116, 116)"
      ]
     },
     "execution_count": 96,
     "metadata": {},
     "output_type": "execute_result"
    }
   ],
   "source": [
    "len(y_test), len(pred_LR)"
   ]
  },
  {
   "cell_type": "code",
   "execution_count": 97,
   "id": "eb47da56",
   "metadata": {},
   "outputs": [
    {
     "data": {
      "text/plain": [
       "<Axes: >"
      ]
     },
     "execution_count": 97,
     "metadata": {},
     "output_type": "execute_result"
    },
    {
     "data": {
      "image/png": "[encoded data removed]",
      "text/plain": [
       "<Figure size 640x480 with 2 Axes>"
      ]
     },
     "metadata": {},
     "output_type": "display_data"
    }
   ],
   "source": [
    "# Confusion matirx of the LR predictions\n",
    "sns.heatmap(confusion_matrix(y_test, pred_LR), annot = True)"
   ]
  },
  {
   "cell_type": "code",
   "execution_count": 98,
   "id": "4728fbcf",
   "metadata": {},
   "outputs": [
    {
     "name": "stdout",
     "output_type": "stream",
     "text": [
      "              precision    recall  f1-score   support\n",
      "\n",
      "           0       0.86      0.70      0.77        43\n",
      "           1       0.77      0.79      0.78        43\n",
      "           2       0.57      0.70      0.63        30\n",
      "\n",
      "    accuracy                           0.73       116\n",
      "   macro avg       0.73      0.73      0.73       116\n",
      "weighted avg       0.75      0.73      0.74       116\n",
      "\n"
     ]
    }
   ],
   "source": [
    "print(metrics.classification_report(y_test, pred_LR))"
   ]
  },
  {
   "cell_type": "code",
   "execution_count": 99,
   "id": "a6058a82",
   "metadata": {},
   "outputs": [
    {
     "name": "stdout",
     "output_type": "stream",
     "text": [
      "RMSE: 0.7599909255356617\n"
     ]
    }
   ],
   "source": [
    "from sklearn.metrics import mean_squared_error\n",
    "\n",
    "# y_true : les vraies valeurs\n",
    "# y_pred : les prédictions du modèle\n",
    "rmse = np.sqrt(mean_squared_error(y_test, pred_LR))\n",
    "print(\"RMSE:\", rmse)"
   ]
  },
  {
   "cell_type": "markdown",
   "id": "1d17d919",
   "metadata": {},
   "source": [
    "# Decision Tree Classifier "
   ]
  },
  {
   "cell_type": "code",
   "execution_count": 100,
   "id": "1cde02f3",
   "metadata": {},
   "outputs": [],
   "source": [
    "# Intializing the decision tree classifier model\n",
    "mdl_DT_2 = DecisionTreeClassifier(criterion='entropy')"
   ]
  },
  {
   "cell_type": "code",
   "execution_count": 101,
   "id": "c8e7934d",
   "metadata": {},
   "outputs": [
    {
     "data": {
      "text/html": [
       "<style>#sk-container-id-6 {color: black;}#sk-container-id-6 pre{padding: 0;}#sk-container-id-6 div.sk-toggleable {background-color: white;}#sk-container-id-6 label.sk-toggleable__label {cursor: pointer;display: block;width: 100%;margin-bottom: 0;padding: 0.3em;box-sizing: border-box;text-align: center;}#sk-container-id-6 label.sk-toggleable__label-arrow:before {content: \"▸\";float: left;margin-right: 0.25em;color: #696969;}#sk-container-id-6 label.sk-toggleable__label-arrow:hover:before {color: black;}#sk-container-id-6 div.sk-estimator:hover label.sk-toggleable__label-arrow:before {color: black;}#sk-container-id-6 div.sk-toggleable__content {max-height: 0;max-width: 0;overflow: hidden;text-align: left;background-color: #f0f8ff;}#sk-container-id-6 div.sk-toggleable__content pre {margin: 0.2em;color: black;border-radius: 0.25em;background-color: #f0f8ff;}#sk-container-id-6 input.sk-toggleable__control:checked~div.sk-toggleable__content {max-height: 200px;max-width: 100%;overflow: auto;}#sk-container-id-6 input.sk-toggleable__control:checked~label.sk-toggleable__label-arrow:before {content: \"▾\";}#sk-container-id-6 div.sk-estimator input.sk-toggleable__control:checked~label.sk-toggleable__label {background-color: #d4ebff;}#sk-container-id-6 div.sk-label input.sk-toggleable__control:checked~label.sk-toggleable__label {background-color: #d4ebff;}#sk-container-id-6 input.sk-hidden--visually {border: 0;clip: rect(1px 1px 1px 1px);clip: rect(1px, 1px, 1px, 1px);height: 1px;margin: -1px;overflow: hidden;padding: 0;position: absolute;width: 1px;}#sk-container-id-6 div.sk-estimator {font-family: monospace;background-color: #f0f8ff;border: 1px dotted black;border-radius: 0.25em;box-sizing: border-box;margin-bottom: 0.5em;}#sk-container-id-6 div.sk-estimator:hover {background-color: #d4ebff;}#sk-container-id-6 div.sk-parallel-item::after {content: \"\";width: 100%;border-bottom: 1px solid gray;flex-grow: 1;}#sk-container-id-6 div.sk-label:hover label.sk-toggleable__label {background-color: #d4ebff;}#sk-container-id-6 div.sk-serial::before {content: \"\";position: absolute;border-left: 1px solid gray;box-sizing: border-box;top: 0;bottom: 0;left: 50%;z-index: 0;}#sk-container-id-6 div.sk-serial {display: flex;flex-direction: column;align-items: center;background-color: white;padding-right: 0.2em;padding-left: 0.2em;position: relative;}#sk-container-id-6 div.sk-item {position: relative;z-index: 1;}#sk-container-id-6 div.sk-parallel {display: flex;align-items: stretch;justify-content: center;background-color: white;position: relative;}#sk-container-id-6 div.sk-item::before, #sk-container-id-6 div.sk-parallel-item::before {content: \"\";position: absolute;border-left: 1px solid gray;box-sizing: border-box;top: 0;bottom: 0;left: 50%;z-index: -1;}#sk-container-id-6 div.sk-parallel-item {display: flex;flex-direction: column;z-index: 1;position: relative;background-color: white;}#sk-container-id-6 div.sk-parallel-item:first-child::after {align-self: flex-end;width: 50%;}#sk-container-id-6 div.sk-parallel-item:last-child::after {align-self: flex-start;width: 50%;}#sk-container-id-6 div.sk-parallel-item:only-child::after {width: 0;}#sk-container-id-6 div.sk-dashed-wrapped {border: 1px dashed gray;margin: 0 0.4em 0.5em 0.4em;box-sizing: border-box;padding-bottom: 0.4em;background-color: white;}#sk-container-id-6 div.sk-label label {font-family: monospace;font-weight: bold;display: inline-block;line-height: 1.2em;}#sk-container-id-6 div.sk-label-container {text-align: center;}#sk-container-id-6 div.sk-container {/* jupyter's `normalize.less` sets `[hidden] { display: none; }` but bootstrap.min.css set `[hidden] { display: none !important; }` so we also need the `!important` here to be able to override the default hidden behavior on the sphinx rendered scikit-learn.org. See: https://github.com/scikit-learn/scikit-learn/issues/21755 */display: inline-block !important;position: relative;}#sk-container-id-6 div.sk-text-repr-fallback {display: none;}</style><div id=\"sk-container-id-6\" class=\"sk-top-container\"><div class=\"sk-text-repr-fallback\"><pre>DecisionTreeClassifier(criterion=&#x27;entropy&#x27;)</pre><b>In a Jupyter environment, please rerun this cell to show the HTML representation or trust the notebook. <br />On GitHub, the HTML representation is unable to render, please try loading this page with nbviewer.org.</b></div><div class=\"sk-container\" hidden><div class=\"sk-item\"><div class=\"sk-estimator sk-toggleable\"><input class=\"sk-toggleable__control sk-hidden--visually\" id=\"sk-estimator-id-6\" type=\"checkbox\" checked><label for=\"sk-estimator-id-6\" class=\"sk-toggleable__label sk-toggleable__label-arrow\">DecisionTreeClassifier</label><div class=\"sk-toggleable__content\"><pre>DecisionTreeClassifier(criterion=&#x27;entropy&#x27;)</pre></div></div></div></div></div>"
      ],
      "text/plain": [
       "DecisionTreeClassifier(criterion='entropy')"
      ]
     },
     "execution_count": 101,
     "metadata": {},
     "output_type": "execute_result"
    }
   ],
   "source": [
    "# Fitting the training data to the DT model\n",
    "mdl_DT_2.fit(X_train_normalized, y_train)"
   ]
  },
  {
   "cell_type": "code",
   "execution_count": 102,
   "id": "5428be8f",
   "metadata": {},
   "outputs": [],
   "source": [
    "# Testing the DT model on unseen data (test data)\n",
    "pred_DT = mdl_DT_2.predict(X_test_normalized)"
   ]
  },
  {
   "cell_type": "code",
   "execution_count": 103,
   "id": "905b1c0b",
   "metadata": {},
   "outputs": [
    {
     "data": {
      "text/plain": [
       "0.5775862068965517"
      ]
     },
     "execution_count": 103,
     "metadata": {},
     "output_type": "execute_result"
    }
   ],
   "source": [
    "# Accuracy score of DT model\n",
    "accuracy_score(y_test, pred_DT)"
   ]
  },
  {
   "cell_type": "code",
   "execution_count": 104,
   "id": "79b11596",
   "metadata": {},
   "outputs": [
    {
     "data": {
      "text/plain": [
       "<Axes: >"
      ]
     },
     "execution_count": 104,
     "metadata": {},
     "output_type": "execute_result"
    },
    {
     "data": {
      "image/png": "[encoded data removed]",
      "text/plain": [
       "<Figure size 640x480 with 2 Axes>"
      ]
     },
     "metadata": {},
     "output_type": "display_data"
    }
   ],
   "source": [
    "# Confusion matirx of the DT predictions\n",
    "sns.heatmap(confusion_matrix(y_test, pred_DT), annot = True)"
   ]
  },
  {
   "cell_type": "code",
   "execution_count": 105,
   "id": "d3aeb061",
   "metadata": {},
   "outputs": [
    {
     "name": "stdout",
     "output_type": "stream",
     "text": [
      "              precision    recall  f1-score   support\n",
      "\n",
      "           0       0.56      0.72      0.63        43\n",
      "           1       0.70      0.49      0.58        43\n",
      "           2       0.48      0.50      0.49        30\n",
      "\n",
      "    accuracy                           0.58       116\n",
      "   macro avg       0.58      0.57      0.57       116\n",
      "weighted avg       0.59      0.58      0.57       116\n",
      "\n"
     ]
    }
   ],
   "source": [
    "print(metrics.classification_report(y_test, pred_DT))"
   ]
  },
  {
   "cell_type": "code",
   "execution_count": 106,
   "id": "c5e0052a",
   "metadata": {},
   "outputs": [
    {
     "data": {
      "image/png": "[encoded data removed]",
      "text/plain": [
       "<Figure size 640x480 with 1 Axes>"
      ]
     },
     "metadata": {},
     "output_type": "display_data"
    }
   ],
   "source": [
    "# Getting and plotting feature importance\n",
    "features_importance = pd.DataFrame(data = mdl_DT.feature_importances_,\n",
    "             index = mdl_DT.feature_names_in_,\n",
    "             columns = ['importance'])\n",
    "features_importance.sort_values('importance').plot(kind='barh', title='Feature Importance')\n",
    "plt.show()"
   ]
  },
  {
   "cell_type": "code",
   "execution_count": 107,
   "id": "b0dee3ab",
   "metadata": {},
   "outputs": [
    {
     "name": "stdout",
     "output_type": "stream",
     "text": [
      "RMSE: 0.9423009256510144\n"
     ]
    }
   ],
   "source": [
    "from sklearn.metrics import mean_squared_error\n",
    "\n",
    "# y_true : les vraies valeurs\n",
    "# y_pred : les prédictions du modèle\n",
    "rmse = np.sqrt(mean_squared_error(y_test, pred_DT))\n",
    "print(\"RMSE:\", rmse)"
   ]
  },
  {
   "cell_type": "markdown",
   "id": "3f4b9de5",
   "metadata": {},
   "source": [
    "## XGBOOST"
   ]
  },
  {
   "cell_type": "code",
   "execution_count": 108,
   "id": "94cf66a3",
   "metadata": {},
   "outputs": [],
   "source": [
    "clf_xgb_2 = GradientBoostingClassifier(n_estimators=100, learning_rate=0.1,max_depth=3, random_state=0)"
   ]
  },
  {
   "cell_type": "code",
   "execution_count": 109,
   "id": "b37e189c",
   "metadata": {},
   "outputs": [
    {
     "data": {
      "text/html": [
       "<style>#sk-container-id-7 {color: black;}#sk-container-id-7 pre{padding: 0;}#sk-container-id-7 div.sk-toggleable {background-color: white;}#sk-container-id-7 label.sk-toggleable__label {cursor: pointer;display: block;width: 100%;margin-bottom: 0;padding: 0.3em;box-sizing: border-box;text-align: center;}#sk-container-id-7 label.sk-toggleable__label-arrow:before {content: \"▸\";float: left;margin-right: 0.25em;color: #696969;}#sk-container-id-7 label.sk-toggleable__label-arrow:hover:before {color: black;}#sk-container-id-7 div.sk-estimator:hover label.sk-toggleable__label-arrow:before {color: black;}#sk-container-id-7 div.sk-toggleable__content {max-height: 0;max-width: 0;overflow: hidden;text-align: left;background-color: #f0f8ff;}#sk-container-id-7 div.sk-toggleable__content pre {margin: 0.2em;color: black;border-radius: 0.25em;background-color: #f0f8ff;}#sk-container-id-7 input.sk-toggleable__control:checked~div.sk-toggleable__content {max-height: 200px;max-width: 100%;overflow: auto;}#sk-container-id-7 input.sk-toggleable__control:checked~label.sk-toggleable__label-arrow:before {content: \"▾\";}#sk-container-id-7 div.sk-estimator input.sk-toggleable__control:checked~label.sk-toggleable__label {background-color: #d4ebff;}#sk-container-id-7 div.sk-label input.sk-toggleable__control:checked~label.sk-toggleable__label {background-color: #d4ebff;}#sk-container-id-7 input.sk-hidden--visually {border: 0;clip: rect(1px 1px 1px 1px);clip: rect(1px, 1px, 1px, 1px);height: 1px;margin: -1px;overflow: hidden;padding: 0;position: absolute;width: 1px;}#sk-container-id-7 div.sk-estimator {font-family: monospace;background-color: #f0f8ff;border: 1px dotted black;border-radius: 0.25em;box-sizing: border-box;margin-bottom: 0.5em;}#sk-container-id-7 div.sk-estimator:hover {background-color: #d4ebff;}#sk-container-id-7 div.sk-parallel-item::after {content: \"\";width: 100%;border-bottom: 1px solid gray;flex-grow: 1;}#sk-container-id-7 div.sk-label:hover label.sk-toggleable__label {background-color: #d4ebff;}#sk-container-id-7 div.sk-serial::before {content: \"\";position: absolute;border-left: 1px solid gray;box-sizing: border-box;top: 0;bottom: 0;left: 50%;z-index: 0;}#sk-container-id-7 div.sk-serial {display: flex;flex-direction: column;align-items: center;background-color: white;padding-right: 0.2em;padding-left: 0.2em;position: relative;}#sk-container-id-7 div.sk-item {position: relative;z-index: 1;}#sk-container-id-7 div.sk-parallel {display: flex;align-items: stretch;justify-content: center;background-color: white;position: relative;}#sk-container-id-7 div.sk-item::before, #sk-container-id-7 div.sk-parallel-item::before {content: \"\";position: absolute;border-left: 1px solid gray;box-sizing: border-box;top: 0;bottom: 0;left: 50%;z-index: -1;}#sk-container-id-7 div.sk-parallel-item {display: flex;flex-direction: column;z-index: 1;position: relative;background-color: white;}#sk-container-id-7 div.sk-parallel-item:first-child::after {align-self: flex-end;width: 50%;}#sk-container-id-7 div.sk-parallel-item:last-child::after {align-self: flex-start;width: 50%;}#sk-container-id-7 div.sk-parallel-item:only-child::after {width: 0;}#sk-container-id-7 div.sk-dashed-wrapped {border: 1px dashed gray;margin: 0 0.4em 0.5em 0.4em;box-sizing: border-box;padding-bottom: 0.4em;background-color: white;}#sk-container-id-7 div.sk-label label {font-family: monospace;font-weight: bold;display: inline-block;line-height: 1.2em;}#sk-container-id-7 div.sk-label-container {text-align: center;}#sk-container-id-7 div.sk-container {/* jupyter's `normalize.less` sets `[hidden] { display: none; }` but bootstrap.min.css set `[hidden] { display: none !important; }` so we also need the `!important` here to be able to override the default hidden behavior on the sphinx rendered scikit-learn.org. See: https://github.com/scikit-learn/scikit-learn/issues/21755 */display: inline-block !important;position: relative;}#sk-container-id-7 div.sk-text-repr-fallback {display: none;}</style><div id=\"sk-container-id-7\" class=\"sk-top-container\"><div class=\"sk-text-repr-fallback\"><pre>GradientBoostingClassifier(random_state=0)</pre><b>In a Jupyter environment, please rerun this cell to show the HTML representation or trust the notebook. <br />On GitHub, the HTML representation is unable to render, please try loading this page with nbviewer.org.</b></div><div class=\"sk-container\" hidden><div class=\"sk-item\"><div class=\"sk-estimator sk-toggleable\"><input class=\"sk-toggleable__control sk-hidden--visually\" id=\"sk-estimator-id-7\" type=\"checkbox\" checked><label for=\"sk-estimator-id-7\" class=\"sk-toggleable__label sk-toggleable__label-arrow\">GradientBoostingClassifier</label><div class=\"sk-toggleable__content\"><pre>GradientBoostingClassifier(random_state=0)</pre></div></div></div></div></div>"
      ],
      "text/plain": [
       "GradientBoostingClassifier(random_state=0)"
      ]
     },
     "execution_count": 109,
     "metadata": {},
     "output_type": "execute_result"
    }
   ],
   "source": [
    "clf_xgb_2.fit(X_train_normalized, y_train)"
   ]
  },
  {
   "cell_type": "code",
   "execution_count": 110,
   "id": "45ba6b94",
   "metadata": {},
   "outputs": [],
   "source": [
    "y_pred_xgb = clf_xgb_2.predict(X_test_normalized)"
   ]
  },
  {
   "cell_type": "code",
   "execution_count": 111,
   "id": "78781799",
   "metadata": {},
   "outputs": [
    {
     "data": {
      "text/plain": [
       "0.7327586206896551"
      ]
     },
     "execution_count": 111,
     "metadata": {},
     "output_type": "execute_result"
    }
   ],
   "source": [
    "accuracy_score(y_test, y_pred_xgb)"
   ]
  },
  {
   "cell_type": "code",
   "execution_count": 112,
   "id": "1f4bcac4",
   "metadata": {},
   "outputs": [
    {
     "name": "stdout",
     "output_type": "stream",
     "text": [
      "              precision    recall  f1-score   support\n",
      "\n",
      "           0       0.76      0.72      0.74        43\n",
      "           1       0.82      0.77      0.80        43\n",
      "           2       0.60      0.70      0.65        30\n",
      "\n",
      "    accuracy                           0.73       116\n",
      "   macro avg       0.73      0.73      0.73       116\n",
      "weighted avg       0.74      0.73      0.74       116\n",
      "\n"
     ]
    }
   ],
   "source": [
    "print(metrics.classification_report(y_test, y_pred_xgb))"
   ]
  },
  {
   "cell_type": "code",
   "execution_count": 113,
   "id": "c18e062a",
   "metadata": {},
   "outputs": [
    {
     "data": {
      "image/png": "[encoded data removed]",
      "text/plain": [
       "<Figure size 640x480 with 1 Axes>"
      ]
     },
     "metadata": {},
     "output_type": "display_data"
    }
   ],
   "source": [
    "# Getting and plotting feature importance\n",
    "features_importance = pd.DataFrame(data = clf_xgb.feature_importances_,\n",
    "             index = clf_xgb.feature_names_in_,\n",
    "             columns = ['importance'])\n",
    "features_importance.sort_values('importance').plot(kind='barh', title='Feature Importance')\n",
    "plt.show()"
   ]
  },
  {
   "cell_type": "code",
   "execution_count": 114,
   "id": "d8648390",
   "metadata": {},
   "outputs": [
    {
     "name": "stdout",
     "output_type": "stream",
     "text": [
      "RMSE: 0.7932908324363683\n"
     ]
    }
   ],
   "source": [
    "from sklearn.metrics import mean_squared_error\n",
    "\n",
    "# y_true : les vraies valeurs\n",
    "# y_pred : les prédictions du modèle\n",
    "rmse = np.sqrt(mean_squared_error(y_test, y_pred_xgb))\n",
    "print(\"RMSE:\", rmse)"
   ]
  },
  {
   "cell_type": "markdown",
   "id": "632e356a",
   "metadata": {},
   "source": [
    "## SVM"
   ]
  },
  {
   "cell_type": "code",
   "execution_count": 126,
   "id": "71b44434",
   "metadata": {},
   "outputs": [
    {
     "data": {
      "text/html": [
       "<style>#sk-container-id-9 {color: black;}#sk-container-id-9 pre{padding: 0;}#sk-container-id-9 div.sk-toggleable {background-color: white;}#sk-container-id-9 label.sk-toggleable__label {cursor: pointer;display: block;width: 100%;margin-bottom: 0;padding: 0.3em;box-sizing: border-box;text-align: center;}#sk-container-id-9 label.sk-toggleable__label-arrow:before {content: \"▸\";float: left;margin-right: 0.25em;color: #696969;}#sk-container-id-9 label.sk-toggleable__label-arrow:hover:before {color: black;}#sk-container-id-9 div.sk-estimator:hover label.sk-toggleable__label-arrow:before {color: black;}#sk-container-id-9 div.sk-toggleable__content {max-height: 0;max-width: 0;overflow: hidden;text-align: left;background-color: #f0f8ff;}#sk-container-id-9 div.sk-toggleable__content pre {margin: 0.2em;color: black;border-radius: 0.25em;background-color: #f0f8ff;}#sk-container-id-9 input.sk-toggleable__control:checked~div.sk-toggleable__content {max-height: 200px;max-width: 100%;overflow: auto;}#sk-container-id-9 input.sk-toggleable__control:checked~label.sk-toggleable__label-arrow:before {content: \"▾\";}#sk-container-id-9 div.sk-estimator input.sk-toggleable__control:checked~label.sk-toggleable__label {background-color: #d4ebff;}#sk-container-id-9 div.sk-label input.sk-toggleable__control:checked~label.sk-toggleable__label {background-color: #d4ebff;}#sk-container-id-9 input.sk-hidden--visually {border: 0;clip: rect(1px 1px 1px 1px);clip: rect(1px, 1px, 1px, 1px);height: 1px;margin: -1px;overflow: hidden;padding: 0;position: absolute;width: 1px;}#sk-container-id-9 div.sk-estimator {font-family: monospace;background-color: #f0f8ff;border: 1px dotted black;border-radius: 0.25em;box-sizing: border-box;margin-bottom: 0.5em;}#sk-container-id-9 div.sk-estimator:hover {background-color: #d4ebff;}#sk-container-id-9 div.sk-parallel-item::after {content: \"\";width: 100%;border-bottom: 1px solid gray;flex-grow: 1;}#sk-container-id-9 div.sk-label:hover label.sk-toggleable__label {background-color: #d4ebff;}#sk-container-id-9 div.sk-serial::before {content: \"\";position: absolute;border-left: 1px solid gray;box-sizing: border-box;top: 0;bottom: 0;left: 50%;z-index: 0;}#sk-container-id-9 div.sk-serial {display: flex;flex-direction: column;align-items: center;background-color: white;padding-right: 0.2em;padding-left: 0.2em;position: relative;}#sk-container-id-9 div.sk-item {position: relative;z-index: 1;}#sk-container-id-9 div.sk-parallel {display: flex;align-items: stretch;justify-content: center;background-color: white;position: relative;}#sk-container-id-9 div.sk-item::before, #sk-container-id-9 div.sk-parallel-item::before {content: \"\";position: absolute;border-left: 1px solid gray;box-sizing: border-box;top: 0;bottom: 0;left: 50%;z-index: -1;}#sk-container-id-9 div.sk-parallel-item {display: flex;flex-direction: column;z-index: 1;position: relative;background-color: white;}#sk-container-id-9 div.sk-parallel-item:first-child::after {align-self: flex-end;width: 50%;}#sk-container-id-9 div.sk-parallel-item:last-child::after {align-self: flex-start;width: 50%;}#sk-container-id-9 div.sk-parallel-item:only-child::after {width: 0;}#sk-container-id-9 div.sk-dashed-wrapped {border: 1px dashed gray;margin: 0 0.4em 0.5em 0.4em;box-sizing: border-box;padding-bottom: 0.4em;background-color: white;}#sk-container-id-9 div.sk-label label {font-family: monospace;font-weight: bold;display: inline-block;line-height: 1.2em;}#sk-container-id-9 div.sk-label-container {text-align: center;}#sk-container-id-9 div.sk-container {/* jupyter's `normalize.less` sets `[hidden] { display: none; }` but bootstrap.min.css set `[hidden] { display: none !important; }` so we also need the `!important` here to be able to override the default hidden behavior on the sphinx rendered scikit-learn.org. See: https://github.com/scikit-learn/scikit-learn/issues/21755 */display: inline-block !important;position: relative;}#sk-container-id-9 div.sk-text-repr-fallback {display: none;}</style><div id=\"sk-container-id-9\" class=\"sk-top-container\"><div class=\"sk-text-repr-fallback\"><pre>SVC()</pre><b>In a Jupyter environment, please rerun this cell to show the HTML representation or trust the notebook. <br />On GitHub, the HTML representation is unable to render, please try loading this page with nbviewer.org.</b></div><div class=\"sk-container\" hidden><div class=\"sk-item\"><div class=\"sk-estimator sk-toggleable\"><input class=\"sk-toggleable__control sk-hidden--visually\" id=\"sk-estimator-id-9\" type=\"checkbox\" checked><label for=\"sk-estimator-id-9\" class=\"sk-toggleable__label sk-toggleable__label-arrow\">SVC</label><div class=\"sk-toggleable__content\"><pre>SVC()</pre></div></div></div></div></div>"
      ],
      "text/plain": [
       "SVC()"
      ]
     },
     "execution_count": 126,
     "metadata": {},
     "output_type": "execute_result"
    }
   ],
   "source": [
    "# Create and train the SVM classifier\n",
    "svm_classifier_2 = SVC(kernel='rbf', C=1.0)\n",
    "svm_classifier_2.fit(X_train, y_train)\n",
    "#"
   ]
  },
  {
   "cell_type": "code",
   "execution_count": 131,
   "id": "61cd4b2d",
   "metadata": {},
   "outputs": [
    {
     "data": {
      "text/html": [
       "<div>\n",
       "<style scoped>\n",
       "    .dataframe tbody tr th:only-of-type {\n",
       "        vertical-align: middle;\n",
       "    }\n",
       "\n",
       "    .dataframe tbody tr th {\n",
       "        vertical-align: top;\n",
       "    }\n",
       "\n",
       "    .dataframe thead th {\n",
       "        text-align: right;\n",
       "    }\n",
       "</style>\n",
       "<table border=\"1\" class=\"dataframe\">\n",
       "  <thead>\n",
       "    <tr style=\"text-align: right;\">\n",
       "      <th></th>\n",
       "      <th>Etio</th>\n",
       "      <th>CV</th>\n",
       "      <th>Age</th>\n",
       "      <th>Esterman</th>\n",
       "      <th>ST</th>\n",
       "      <th>DT_centrale</th>\n",
       "      <th>DT_quadsupd</th>\n",
       "      <th>DT_quadsupg</th>\n",
       "      <th>DT_quadinfg</th>\n",
       "      <th>DT_quadinfd</th>\n",
       "      <th>DT_dis_Centrale</th>\n",
       "      <th>DT_dis_quadinfg</th>\n",
       "      <th>DT_dis_quadinfd</th>\n",
       "      <th>DT_dis_quadsupg</th>\n",
       "      <th>DT_dis_quadsupd</th>\n",
       "      <th>Sexe_0</th>\n",
       "      <th>Sexe_1</th>\n",
       "    </tr>\n",
       "  </thead>\n",
       "  <tbody>\n",
       "    <tr>\n",
       "      <th>331</th>\n",
       "      <td>1</td>\n",
       "      <td>4</td>\n",
       "      <td>28</td>\n",
       "      <td>11</td>\n",
       "      <td>0</td>\n",
       "      <td>2</td>\n",
       "      <td>0</td>\n",
       "      <td>3</td>\n",
       "      <td>0</td>\n",
       "      <td>1</td>\n",
       "      <td>5</td>\n",
       "      <td>3</td>\n",
       "      <td>6.931434</td>\n",
       "      <td>2</td>\n",
       "      <td>2</td>\n",
       "      <td>1</td>\n",
       "      <td>0</td>\n",
       "    </tr>\n",
       "    <tr>\n",
       "      <th>360</th>\n",
       "      <td>2</td>\n",
       "      <td>2</td>\n",
       "      <td>51</td>\n",
       "      <td>3</td>\n",
       "      <td>0</td>\n",
       "      <td>5</td>\n",
       "      <td>0</td>\n",
       "      <td>1</td>\n",
       "      <td>0</td>\n",
       "      <td>0</td>\n",
       "      <td>3</td>\n",
       "      <td>3</td>\n",
       "      <td>7.520539</td>\n",
       "      <td>2</td>\n",
       "      <td>3</td>\n",
       "      <td>0</td>\n",
       "      <td>1</td>\n",
       "    </tr>\n",
       "    <tr>\n",
       "      <th>58</th>\n",
       "      <td>2</td>\n",
       "      <td>2</td>\n",
       "      <td>39</td>\n",
       "      <td>1</td>\n",
       "      <td>1</td>\n",
       "      <td>11</td>\n",
       "      <td>2</td>\n",
       "      <td>2</td>\n",
       "      <td>1</td>\n",
       "      <td>0</td>\n",
       "      <td>3</td>\n",
       "      <td>3</td>\n",
       "      <td>0.000000</td>\n",
       "      <td>1</td>\n",
       "      <td>1</td>\n",
       "      <td>0</td>\n",
       "      <td>1</td>\n",
       "    </tr>\n",
       "    <tr>\n",
       "      <th>18</th>\n",
       "      <td>0</td>\n",
       "      <td>0</td>\n",
       "      <td>20</td>\n",
       "      <td>40</td>\n",
       "      <td>2</td>\n",
       "      <td>2</td>\n",
       "      <td>3</td>\n",
       "      <td>0</td>\n",
       "      <td>0</td>\n",
       "      <td>13</td>\n",
       "      <td>3</td>\n",
       "      <td>7</td>\n",
       "      <td>12.000000</td>\n",
       "      <td>5</td>\n",
       "      <td>10</td>\n",
       "      <td>0</td>\n",
       "      <td>1</td>\n",
       "    </tr>\n",
       "    <tr>\n",
       "      <th>10</th>\n",
       "      <td>3</td>\n",
       "      <td>0</td>\n",
       "      <td>66</td>\n",
       "      <td>45</td>\n",
       "      <td>1</td>\n",
       "      <td>2</td>\n",
       "      <td>12</td>\n",
       "      <td>3</td>\n",
       "      <td>2</td>\n",
       "      <td>14</td>\n",
       "      <td>5</td>\n",
       "      <td>12</td>\n",
       "      <td>14.000000</td>\n",
       "      <td>2</td>\n",
       "      <td>12</td>\n",
       "      <td>0</td>\n",
       "      <td>1</td>\n",
       "    </tr>\n",
       "    <tr>\n",
       "      <th>...</th>\n",
       "      <td>...</td>\n",
       "      <td>...</td>\n",
       "      <td>...</td>\n",
       "      <td>...</td>\n",
       "      <td>...</td>\n",
       "      <td>...</td>\n",
       "      <td>...</td>\n",
       "      <td>...</td>\n",
       "      <td>...</td>\n",
       "      <td>...</td>\n",
       "      <td>...</td>\n",
       "      <td>...</td>\n",
       "      <td>...</td>\n",
       "      <td>...</td>\n",
       "      <td>...</td>\n",
       "      <td>...</td>\n",
       "      <td>...</td>\n",
       "    </tr>\n",
       "    <tr>\n",
       "      <th>322</th>\n",
       "      <td>3</td>\n",
       "      <td>4</td>\n",
       "      <td>46</td>\n",
       "      <td>5</td>\n",
       "      <td>0</td>\n",
       "      <td>2</td>\n",
       "      <td>0</td>\n",
       "      <td>0</td>\n",
       "      <td>1</td>\n",
       "      <td>1</td>\n",
       "      <td>6</td>\n",
       "      <td>1</td>\n",
       "      <td>2.603230</td>\n",
       "      <td>3</td>\n",
       "      <td>2</td>\n",
       "      <td>0</td>\n",
       "      <td>1</td>\n",
       "    </tr>\n",
       "    <tr>\n",
       "      <th>127</th>\n",
       "      <td>2</td>\n",
       "      <td>2</td>\n",
       "      <td>19</td>\n",
       "      <td>0</td>\n",
       "      <td>3</td>\n",
       "      <td>8</td>\n",
       "      <td>4</td>\n",
       "      <td>3</td>\n",
       "      <td>4</td>\n",
       "      <td>2</td>\n",
       "      <td>8</td>\n",
       "      <td>1</td>\n",
       "      <td>2.000000</td>\n",
       "      <td>0</td>\n",
       "      <td>2</td>\n",
       "      <td>0</td>\n",
       "      <td>1</td>\n",
       "    </tr>\n",
       "    <tr>\n",
       "      <th>3</th>\n",
       "      <td>3</td>\n",
       "      <td>0</td>\n",
       "      <td>37</td>\n",
       "      <td>40</td>\n",
       "      <td>1</td>\n",
       "      <td>1</td>\n",
       "      <td>8</td>\n",
       "      <td>1</td>\n",
       "      <td>0</td>\n",
       "      <td>10</td>\n",
       "      <td>3</td>\n",
       "      <td>6</td>\n",
       "      <td>10.000000</td>\n",
       "      <td>2</td>\n",
       "      <td>11</td>\n",
       "      <td>0</td>\n",
       "      <td>1</td>\n",
       "    </tr>\n",
       "    <tr>\n",
       "      <th>287</th>\n",
       "      <td>1</td>\n",
       "      <td>5</td>\n",
       "      <td>38</td>\n",
       "      <td>12</td>\n",
       "      <td>0</td>\n",
       "      <td>1</td>\n",
       "      <td>5</td>\n",
       "      <td>1</td>\n",
       "      <td>1</td>\n",
       "      <td>0</td>\n",
       "      <td>5</td>\n",
       "      <td>3</td>\n",
       "      <td>4.000000</td>\n",
       "      <td>3</td>\n",
       "      <td>6</td>\n",
       "      <td>1</td>\n",
       "      <td>0</td>\n",
       "    </tr>\n",
       "    <tr>\n",
       "      <th>185</th>\n",
       "      <td>2</td>\n",
       "      <td>5</td>\n",
       "      <td>18</td>\n",
       "      <td>12</td>\n",
       "      <td>0</td>\n",
       "      <td>0</td>\n",
       "      <td>4</td>\n",
       "      <td>0</td>\n",
       "      <td>0</td>\n",
       "      <td>0</td>\n",
       "      <td>2</td>\n",
       "      <td>2</td>\n",
       "      <td>5.000000</td>\n",
       "      <td>1</td>\n",
       "      <td>4</td>\n",
       "      <td>1</td>\n",
       "      <td>0</td>\n",
       "    </tr>\n",
       "  </tbody>\n",
       "</table>\n",
       "<p>268 rows × 17 columns</p>\n",
       "</div>"
      ],
      "text/plain": [
       "     Etio  CV  Age  Esterman  ST  DT_centrale  DT_quadsupd  DT_quadsupg  \\\n",
       "331     1   4   28        11   0            2            0            3   \n",
       "360     2   2   51         3   0            5            0            1   \n",
       "58      2   2   39         1   1           11            2            2   \n",
       "18      0   0   20        40   2            2            3            0   \n",
       "10      3   0   66        45   1            2           12            3   \n",
       "..    ...  ..  ...       ...  ..          ...          ...          ...   \n",
       "322     3   4   46         5   0            2            0            0   \n",
       "127     2   2   19         0   3            8            4            3   \n",
       "3       3   0   37        40   1            1            8            1   \n",
       "287     1   5   38        12   0            1            5            1   \n",
       "185     2   5   18        12   0            0            4            0   \n",
       "\n",
       "     DT_quadinfg  DT_quadinfd  DT_dis_Centrale  DT_dis_quadinfg  \\\n",
       "331            0            1                5                3   \n",
       "360            0            0                3                3   \n",
       "58             1            0                3                3   \n",
       "18             0           13                3                7   \n",
       "10             2           14                5               12   \n",
       "..           ...          ...              ...              ...   \n",
       "322            1            1                6                1   \n",
       "127            4            2                8                1   \n",
       "3              0           10                3                6   \n",
       "287            1            0                5                3   \n",
       "185            0            0                2                2   \n",
       "\n",
       "     DT_dis_quadinfd  DT_dis_quadsupg  DT_dis_quadsupd  Sexe_0  Sexe_1  \n",
       "331         6.931434                2                2       1       0  \n",
       "360         7.520539                2                3       0       1  \n",
       "58          0.000000                1                1       0       1  \n",
       "18         12.000000                5               10       0       1  \n",
       "10         14.000000                2               12       0       1  \n",
       "..               ...              ...              ...     ...     ...  \n",
       "322         2.603230                3                2       0       1  \n",
       "127         2.000000                0                2       0       1  \n",
       "3          10.000000                2               11       0       1  \n",
       "287         4.000000                3                6       1       0  \n",
       "185         5.000000                1                4       1       0  \n",
       "\n",
       "[268 rows x 17 columns]"
      ]
     },
     "execution_count": 131,
     "metadata": {},
     "output_type": "execute_result"
    }
   ],
   "source": [
    "X_train"
   ]
  },
  {
   "cell_type": "code",
   "execution_count": 130,
   "id": "c1254ee1",
   "metadata": {},
   "outputs": [
    {
     "data": {
      "text/plain": [
       "['model.pkl']"
      ]
     },
     "execution_count": 130,
     "metadata": {},
     "output_type": "execute_result"
    }
   ],
   "source": [
    "# Testing the SVM model on unseen data (test data)\n",
    "pred_SVM = svm_classifier_2.predict(X_test)\n",
    "\n",
    "import joblib\n",
    "joblib.dump(svm_classifier_2, 'model.pkl')\n",
    "# Entraînez d'abord votre modèle\n",
    "# ...\n",
    "\n",
    "# Ensuite, sauvegardez-le\n",
    "\n"
   ]
  },
  {
   "cell_type": "code",
   "execution_count": 128,
   "id": "32a75856",
   "metadata": {},
   "outputs": [
    {
     "data": {
      "text/plain": [
       "0.75"
      ]
     },
     "execution_count": 128,
     "metadata": {},
     "output_type": "execute_result"
    }
   ],
   "source": [
    "accuracy_score(y_test, pred_SVM)"
   ]
  },
  {
   "cell_type": "code",
   "execution_count": 118,
   "id": "16d1764b",
   "metadata": {},
   "outputs": [
    {
     "data": {
      "text/plain": [
       "<Axes: >"
      ]
     },
     "execution_count": 118,
     "metadata": {},
     "output_type": "execute_result"
    },
    {
     "data": {
      "image/png": "[encoded data removed]",
      "text/plain": [
       "<Figure size 640x480 with 2 Axes>"
      ]
     },
     "metadata": {},
     "output_type": "display_data"
    }
   ],
   "source": [
    "# Confusion matirx of the XGB predictions\n",
    "sns.heatmap(confusion_matrix(y_test, pred_SVM), annot = True)"
   ]
  },
  {
   "cell_type": "code",
   "execution_count": 119,
   "id": "89ca7382",
   "metadata": {},
   "outputs": [
    {
     "name": "stdout",
     "output_type": "stream",
     "text": [
      "              precision    recall  f1-score   support\n",
      "\n",
      "           0       0.91      0.72      0.81        43\n",
      "           1       0.85      0.79      0.82        43\n",
      "           2       0.60      0.83      0.69        30\n",
      "\n",
      "    accuracy                           0.78       116\n",
      "   macro avg       0.79      0.78      0.77       116\n",
      "weighted avg       0.81      0.78      0.78       116\n",
      "\n"
     ]
    }
   ],
   "source": [
    "print(metrics.classification_report(y_test, pred_SVM, zero_division=0))"
   ]
  },
  {
   "cell_type": "code",
   "execution_count": null,
   "id": "da8c0dfc",
   "metadata": {},
   "outputs": [],
   "source": []
  },
  {
   "cell_type": "code",
   "execution_count": 120,
   "id": "632abc5c",
   "metadata": {},
   "outputs": [
    {
     "name": "stdout",
     "output_type": "stream",
     "text": [
      "RMSE: 0.7131764786188426\n"
     ]
    }
   ],
   "source": [
    "from sklearn.metrics import mean_squared_error\n",
    "\n",
    "# y_true : les vraies valeurs\n",
    "# y_pred : les prédictions du modèle\n",
    "rmse = np.sqrt(mean_squared_error(y_test, pred_SVM))\n",
    "print(\"RMSE:\", rmse)"
   ]
  },
  {
   "cell_type": "code",
   "execution_count": null,
   "id": "b4ac76b9",
   "metadata": {},
   "outputs": [],
   "source": []
  }
 ],
 "metadata": {
  "kernelspec": {
   "display_name": "Python 3 (ipykernel)",
   "language": "python",
   "name": "python3"
  },
  "language_info": {
   "codemirror_mode": {
    "name": "ipython",
    "version": 3
   },
   "file_extension": ".py",
   "mimetype": "text/x-python",
   "name": "python",
   "nbconvert_exporter": "python",
   "pygments_lexer": "ipython3",
   "version": "3.11.4"
  }
 },
 "nbformat": 4,
 "nbformat_minor": 5
}
